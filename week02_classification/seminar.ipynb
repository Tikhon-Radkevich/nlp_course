{
 "cells": [
  {
   "cell_type": "markdown",
   "metadata": {},
   "source": [
    "# Large scale text analysis with deep learning (3 points)"
   ]
  },
  {
   "cell_type": "markdown",
   "metadata": {},
   "source": [
    "In this assignment, you will develop a deep learning model to predict salaries based on resumes (credits to to [Oleg Vasilev](https://github.com/Omrigan/)). While we will begin this project during our seminar class, it will require additional effort on your part to finalize and submit it as homework.\n",
    "\n",
    "Following this, there is a supplementary task in another notebook titled homework_part2.ipynb. In this task, you are expected to conduct a more extensive study. This will involve testing various architectures to optimize prediction accuracy.\n",
    "\n",
    "To secure full marks for this assignment, ensure a consistent training process with an MSE loss falling below 0.10. If necessary, feel free to experiment with different parameters and model architectures. If you achieve the desired results in the homework_part2.ipynb, you can either replicate your solution here or reference it explicitly in the comments when you submit."
   ]
  },
  {
   "cell_type": "code",
   "metadata": {
    "ExecuteTime": {
     "end_time": "2024-12-22T13:20:01.072503Z",
     "start_time": "2024-12-22T13:20:00.111181Z"
    }
   },
   "source": [
    "import numpy as np\n",
    "import pandas as pd\n",
    "import matplotlib.pyplot as plt\n",
    "%matplotlib inline"
   ],
   "outputs": [],
   "execution_count": 1
  },
  {
   "cell_type": "markdown",
   "metadata": {},
   "source": [
    "### About the challenge\n",
    "For starters, let's download and unpack the data from \n",
    "1) Yandex-disk [yadisk url](https://yadi.sk/d/vVEOWPFY3NruT7), or\n",
    "2) the Kaggle ompetition [page](https://www.kaggle.com/c/job-salary-prediction/data) (pick `Train_rev1.*`)."
   ]
  },
  {
   "cell_type": "code",
   "metadata": {
    "ExecuteTime": {
     "end_time": "2024-12-22T13:20:08.392838Z",
     "start_time": "2024-12-22T13:20:01.074461Z"
    }
   },
   "source": [
    "data = pd.read_csv(\"./Train_rev1.zip\", compression='zip', index_col=None)\n",
    "data.shape"
   ],
   "outputs": [
    {
     "data": {
      "text/plain": [
       "(244768, 12)"
      ]
     },
     "execution_count": 2,
     "metadata": {},
     "output_type": "execute_result"
    }
   ],
   "execution_count": 2
  },
  {
   "cell_type": "code",
   "metadata": {
    "ExecuteTime": {
     "end_time": "2024-12-22T13:20:08.412849Z",
     "start_time": "2024-12-22T13:20:08.394114Z"
    }
   },
   "source": [
    "data.head()"
   ],
   "outputs": [
    {
     "data": {
      "text/plain": [
       "         Id                                              Title  \\\n",
       "0  12612628                        Engineering Systems Analyst   \n",
       "1  12612830                            Stress Engineer Glasgow   \n",
       "2  12612844                   Modelling and simulation analyst   \n",
       "3  12613049  Engineering Systems Analyst / Mathematical Mod...   \n",
       "4  12613647         Pioneer, Miser Engineering Systems Analyst   \n",
       "\n",
       "                                     FullDescription  \\\n",
       "0  Engineering Systems Analyst Dorking Surrey Sal...   \n",
       "1  Stress Engineer Glasgow Salary **** to **** We...   \n",
       "2  Mathematical Modeller / Simulation Analyst / O...   \n",
       "3  Engineering Systems Analyst / Mathematical Mod...   \n",
       "4  Pioneer, Miser  Engineering Systems Analyst Do...   \n",
       "\n",
       "                         LocationRaw LocationNormalized ContractType  \\\n",
       "0            Dorking, Surrey, Surrey            Dorking          NaN   \n",
       "1        Glasgow, Scotland, Scotland            Glasgow          NaN   \n",
       "2  Hampshire, South East, South East          Hampshire          NaN   \n",
       "3     Surrey, South East, South East             Surrey          NaN   \n",
       "4     Surrey, South East, South East             Surrey          NaN   \n",
       "\n",
       "  ContractTime                       Company          Category  \\\n",
       "0    permanent  Gregory Martin International  Engineering Jobs   \n",
       "1    permanent  Gregory Martin International  Engineering Jobs   \n",
       "2    permanent  Gregory Martin International  Engineering Jobs   \n",
       "3    permanent  Gregory Martin International  Engineering Jobs   \n",
       "4    permanent  Gregory Martin International  Engineering Jobs   \n",
       "\n",
       "                                SalaryRaw  SalaryNormalized        SourceName  \n",
       "0              20000 - 30000/annum 20-30K             25000  cv-library.co.uk  \n",
       "1              25000 - 35000/annum 25-35K             30000  cv-library.co.uk  \n",
       "2              20000 - 40000/annum 20-40K             30000  cv-library.co.uk  \n",
       "3  25000 - 30000/annum 25K-30K negotiable             27500  cv-library.co.uk  \n",
       "4              20000 - 30000/annum 20-30K             25000  cv-library.co.uk  "
      ],
      "text/html": [
       "<div>\n",
       "<style scoped>\n",
       "    .dataframe tbody tr th:only-of-type {\n",
       "        vertical-align: middle;\n",
       "    }\n",
       "\n",
       "    .dataframe tbody tr th {\n",
       "        vertical-align: top;\n",
       "    }\n",
       "\n",
       "    .dataframe thead th {\n",
       "        text-align: right;\n",
       "    }\n",
       "</style>\n",
       "<table border=\"1\" class=\"dataframe\">\n",
       "  <thead>\n",
       "    <tr style=\"text-align: right;\">\n",
       "      <th></th>\n",
       "      <th>Id</th>\n",
       "      <th>Title</th>\n",
       "      <th>FullDescription</th>\n",
       "      <th>LocationRaw</th>\n",
       "      <th>LocationNormalized</th>\n",
       "      <th>ContractType</th>\n",
       "      <th>ContractTime</th>\n",
       "      <th>Company</th>\n",
       "      <th>Category</th>\n",
       "      <th>SalaryRaw</th>\n",
       "      <th>SalaryNormalized</th>\n",
       "      <th>SourceName</th>\n",
       "    </tr>\n",
       "  </thead>\n",
       "  <tbody>\n",
       "    <tr>\n",
       "      <th>0</th>\n",
       "      <td>12612628</td>\n",
       "      <td>Engineering Systems Analyst</td>\n",
       "      <td>Engineering Systems Analyst Dorking Surrey Sal...</td>\n",
       "      <td>Dorking, Surrey, Surrey</td>\n",
       "      <td>Dorking</td>\n",
       "      <td>NaN</td>\n",
       "      <td>permanent</td>\n",
       "      <td>Gregory Martin International</td>\n",
       "      <td>Engineering Jobs</td>\n",
       "      <td>20000 - 30000/annum 20-30K</td>\n",
       "      <td>25000</td>\n",
       "      <td>cv-library.co.uk</td>\n",
       "    </tr>\n",
       "    <tr>\n",
       "      <th>1</th>\n",
       "      <td>12612830</td>\n",
       "      <td>Stress Engineer Glasgow</td>\n",
       "      <td>Stress Engineer Glasgow Salary **** to **** We...</td>\n",
       "      <td>Glasgow, Scotland, Scotland</td>\n",
       "      <td>Glasgow</td>\n",
       "      <td>NaN</td>\n",
       "      <td>permanent</td>\n",
       "      <td>Gregory Martin International</td>\n",
       "      <td>Engineering Jobs</td>\n",
       "      <td>25000 - 35000/annum 25-35K</td>\n",
       "      <td>30000</td>\n",
       "      <td>cv-library.co.uk</td>\n",
       "    </tr>\n",
       "    <tr>\n",
       "      <th>2</th>\n",
       "      <td>12612844</td>\n",
       "      <td>Modelling and simulation analyst</td>\n",
       "      <td>Mathematical Modeller / Simulation Analyst / O...</td>\n",
       "      <td>Hampshire, South East, South East</td>\n",
       "      <td>Hampshire</td>\n",
       "      <td>NaN</td>\n",
       "      <td>permanent</td>\n",
       "      <td>Gregory Martin International</td>\n",
       "      <td>Engineering Jobs</td>\n",
       "      <td>20000 - 40000/annum 20-40K</td>\n",
       "      <td>30000</td>\n",
       "      <td>cv-library.co.uk</td>\n",
       "    </tr>\n",
       "    <tr>\n",
       "      <th>3</th>\n",
       "      <td>12613049</td>\n",
       "      <td>Engineering Systems Analyst / Mathematical Mod...</td>\n",
       "      <td>Engineering Systems Analyst / Mathematical Mod...</td>\n",
       "      <td>Surrey, South East, South East</td>\n",
       "      <td>Surrey</td>\n",
       "      <td>NaN</td>\n",
       "      <td>permanent</td>\n",
       "      <td>Gregory Martin International</td>\n",
       "      <td>Engineering Jobs</td>\n",
       "      <td>25000 - 30000/annum 25K-30K negotiable</td>\n",
       "      <td>27500</td>\n",
       "      <td>cv-library.co.uk</td>\n",
       "    </tr>\n",
       "    <tr>\n",
       "      <th>4</th>\n",
       "      <td>12613647</td>\n",
       "      <td>Pioneer, Miser Engineering Systems Analyst</td>\n",
       "      <td>Pioneer, Miser  Engineering Systems Analyst Do...</td>\n",
       "      <td>Surrey, South East, South East</td>\n",
       "      <td>Surrey</td>\n",
       "      <td>NaN</td>\n",
       "      <td>permanent</td>\n",
       "      <td>Gregory Martin International</td>\n",
       "      <td>Engineering Jobs</td>\n",
       "      <td>20000 - 30000/annum 20-30K</td>\n",
       "      <td>25000</td>\n",
       "      <td>cv-library.co.uk</td>\n",
       "    </tr>\n",
       "  </tbody>\n",
       "</table>\n",
       "</div>"
      ]
     },
     "execution_count": 3,
     "metadata": {},
     "output_type": "execute_result"
    }
   ],
   "execution_count": 3
  },
  {
   "cell_type": "markdown",
   "metadata": {},
   "source": [
    "One problem with salary prediction is that it's oddly distributed: there are many people who are paid standard salaries and a few that get tons o money. The distribution is fat-tailed on the right side, which is inconvenient for MSE minimization.\n",
    "\n",
    "There are several techniques to combat this: using a different loss function, predicting log-target instead of raw target or even replacing targets with their percentiles among all salaries in the training set. We gonna use logarithm for now.\n",
    "\n",
    "_You can read more [in the official description](https://www.kaggle.com/c/job-salary-prediction#description)._"
   ]
  },
  {
   "cell_type": "code",
   "metadata": {
    "ExecuteTime": {
     "end_time": "2024-12-22T13:20:08.680091Z",
     "start_time": "2024-12-22T13:20:08.414808Z"
    }
   },
   "source": [
    "data['Log1pSalary'] = np.log1p(data['SalaryNormalized']).astype('float32')\n",
    "\n",
    "plt.figure(figsize=(8, 4))\n",
    "plt.subplot(1, 2, 1)\n",
    "plt.hist(data[\"SalaryNormalized\"], bins=20)\n",
    "\n",
    "plt.subplot(1, 2, 2)\n",
    "plt.hist(data['Log1pSalary'], bins=20);"
   ],
   "outputs": [
    {
     "data": {
      "text/plain": [
       "<Figure size 800x400 with 2 Axes>"
      ],
      "image/png": "[encoded data removed]"
     },
     "metadata": {},
     "output_type": "display_data"
    }
   ],
   "execution_count": 4
  },
  {
   "cell_type": "markdown",
   "metadata": {},
   "source": [
    "Our task is to predict one number, __Log1pSalary__.\n",
    "\n",
    "To do so, our model can access a number of features:\n",
    "* Free text: __`Title`__ and  __`FullDescription`__\n",
    "* Categorical: __`Category`__, __`Company`__, __`LocationNormalized`__, __`ContractType`__, and __`ContractTime`__."
   ]
  },
  {
   "cell_type": "code",
   "metadata": {
    "ExecuteTime": {
     "end_time": "2024-12-22T13:20:08.803104Z",
     "start_time": "2024-12-22T13:20:08.681421Z"
    }
   },
   "source": [
    "text_columns = [\"Title\", \"FullDescription\"]\n",
    "categorical_columns = [\"Category\", \"Company\", \"LocationNormalized\", \"ContractType\", \"ContractTime\"]\n",
    "TARGET_COLUMN = \"Log1pSalary\"\n",
    "\n",
    "data[categorical_columns] = data[categorical_columns].fillna('NaN') # cast missing values to string \"NaN\"\n",
    "\n",
    "data.sample(3)"
   ],
   "outputs": [
    {
     "data": {
      "text/plain": [
       "              Id                                              Title  \\\n",
       "32882   68101541  Pastry Chef  Luxury Hotel  ****AA Rosettes  Li...   \n",
       "160644  71186503          Senior Mechanical Design Engineer  Energy   \n",
       "105740  69585243  C ASPNet Web Applications Developer  Hull  Up ...   \n",
       "\n",
       "                                          FullDescription  \\\n",
       "32882   We are currently recruiting for a number of st...   \n",
       "160644  Senior Mechanical Design Engineer  Energy Sala...   \n",
       "105740  C ASP.Net Web Applications Developer  Hull  Up...   \n",
       "\n",
       "                              LocationRaw LocationNormalized ContractType  \\\n",
       "32882   Reading, Berkshire, UK, Berkshire            Reading          NaN   \n",
       "160644                                 UK                 UK          NaN   \n",
       "105740                 Kingston Upon Hull                 UK          NaN   \n",
       "\n",
       "       ContractTime                    Company                     Category  \\\n",
       "32882           NaN      Cherryred Recruitment  Hospitality & Catering Jobs   \n",
       "160644    permanent  Green Recruitment Company       Energy, Oil & Gas Jobs   \n",
       "105740    permanent                        NaN                      IT Jobs   \n",
       "\n",
       "                                               SalaryRaw  SalaryNormalized  \\\n",
       "32882   Upto 20,000 per annum PLUS Live-in and Overtime!             20000   \n",
       "160644                              Up to 55K + benefits             55000   \n",
       "105740                20000 - 30000 per annum + Benefits             25000   \n",
       "\n",
       "                            SourceName  Log1pSalary  \n",
       "32882   jobs.catererandhotelkeeper.com     9.903538  \n",
       "160644                   totaljobs.com    10.915107  \n",
       "105740             theitjobboard.co.uk    10.126671  "
      ],
      "text/html": [
       "<div>\n",
       "<style scoped>\n",
       "    .dataframe tbody tr th:only-of-type {\n",
       "        vertical-align: middle;\n",
       "    }\n",
       "\n",
       "    .dataframe tbody tr th {\n",
       "        vertical-align: top;\n",
       "    }\n",
       "\n",
       "    .dataframe thead th {\n",
       "        text-align: right;\n",
       "    }\n",
       "</style>\n",
       "<table border=\"1\" class=\"dataframe\">\n",
       "  <thead>\n",
       "    <tr style=\"text-align: right;\">\n",
       "      <th></th>\n",
       "      <th>Id</th>\n",
       "      <th>Title</th>\n",
       "      <th>FullDescription</th>\n",
       "      <th>LocationRaw</th>\n",
       "      <th>LocationNormalized</th>\n",
       "      <th>ContractType</th>\n",
       "      <th>ContractTime</th>\n",
       "      <th>Company</th>\n",
       "      <th>Category</th>\n",
       "      <th>SalaryRaw</th>\n",
       "      <th>SalaryNormalized</th>\n",
       "      <th>SourceName</th>\n",
       "      <th>Log1pSalary</th>\n",
       "    </tr>\n",
       "  </thead>\n",
       "  <tbody>\n",
       "    <tr>\n",
       "      <th>32882</th>\n",
       "      <td>68101541</td>\n",
       "      <td>Pastry Chef  Luxury Hotel  ****AA Rosettes  Li...</td>\n",
       "      <td>We are currently recruiting for a number of st...</td>\n",
       "      <td>Reading, Berkshire, UK, Berkshire</td>\n",
       "      <td>Reading</td>\n",
       "      <td>NaN</td>\n",
       "      <td>NaN</td>\n",
       "      <td>Cherryred Recruitment</td>\n",
       "      <td>Hospitality &amp; Catering Jobs</td>\n",
       "      <td>Upto 20,000 per annum PLUS Live-in and Overtime!</td>\n",
       "      <td>20000</td>\n",
       "      <td>jobs.catererandhotelkeeper.com</td>\n",
       "      <td>9.903538</td>\n",
       "    </tr>\n",
       "    <tr>\n",
       "      <th>160644</th>\n",
       "      <td>71186503</td>\n",
       "      <td>Senior Mechanical Design Engineer  Energy</td>\n",
       "      <td>Senior Mechanical Design Engineer  Energy Sala...</td>\n",
       "      <td>UK</td>\n",
       "      <td>UK</td>\n",
       "      <td>NaN</td>\n",
       "      <td>permanent</td>\n",
       "      <td>Green Recruitment Company</td>\n",
       "      <td>Energy, Oil &amp; Gas Jobs</td>\n",
       "      <td>Up to 55K + benefits</td>\n",
       "      <td>55000</td>\n",
       "      <td>totaljobs.com</td>\n",
       "      <td>10.915107</td>\n",
       "    </tr>\n",
       "    <tr>\n",
       "      <th>105740</th>\n",
       "      <td>69585243</td>\n",
       "      <td>C ASPNet Web Applications Developer  Hull  Up ...</td>\n",
       "      <td>C ASP.Net Web Applications Developer  Hull  Up...</td>\n",
       "      <td>Kingston Upon Hull</td>\n",
       "      <td>UK</td>\n",
       "      <td>NaN</td>\n",
       "      <td>permanent</td>\n",
       "      <td>NaN</td>\n",
       "      <td>IT Jobs</td>\n",
       "      <td>20000 - 30000 per annum + Benefits</td>\n",
       "      <td>25000</td>\n",
       "      <td>theitjobboard.co.uk</td>\n",
       "      <td>10.126671</td>\n",
       "    </tr>\n",
       "  </tbody>\n",
       "</table>\n",
       "</div>"
      ]
     },
     "execution_count": 5,
     "metadata": {},
     "output_type": "execute_result"
    }
   ],
   "execution_count": 5
  },
  {
   "cell_type": "markdown",
   "metadata": {},
   "source": [
    "### Preprocessing text data\n",
    "\n",
    "Just like last week, applying NLP to a problem begins from tokenization: splitting raw text into sequences of tokens (words, punctuation, etc).\n",
    "\n",
    "__Your task__ is to lowercase and tokenize all texts under `Title` and `FullDescription` columns. Store the tokenized data as a __space-separated__ string of tokens for performance reasons.\n",
    "\n",
    "It's okay to use nltk tokenizers. Assertions were designed for WordPunctTokenizer, slight deviations are okay."
   ]
  },
  {
   "cell_type": "code",
   "metadata": {
    "scrolled": true,
    "ExecuteTime": {
     "end_time": "2024-12-22T13:20:09.896726Z",
     "start_time": "2024-12-22T13:20:09.891729Z"
    }
   },
   "source": [
    "print(\"Raw text:\")\n",
    "print(data[\"FullDescription\"][2::100000])"
   ],
   "outputs": [
    {
     "name": "stdout",
     "output_type": "stream",
     "text": [
      "Raw text:\n",
      "2         Mathematical Modeller / Simulation Analyst / O...\n",
      "100002    A successful and high achieving specialist sch...\n",
      "200002    Web Designer  HTML, CSS, JavaScript, Photoshop...\n",
      "Name: FullDescription, dtype: object\n"
     ]
    }
   ],
   "execution_count": 6
  },
  {
   "metadata": {
    "ExecuteTime": {
     "end_time": "2024-12-22T13:20:10.448076Z",
     "start_time": "2024-12-22T13:20:10.421213Z"
    }
   },
   "cell_type": "code",
   "source": "data[\"Title\"] = data[\"Title\"].fillna(\"NaN\")",
   "outputs": [],
   "execution_count": 7
  },
  {
   "cell_type": "code",
   "metadata": {
    "ExecuteTime": {
     "end_time": "2024-12-22T13:20:36.340172Z",
     "start_time": "2024-12-22T13:20:10.859019Z"
    }
   },
   "source": [
    "import nltk\n",
    "#TODO YOUR CODE HERE\n",
    "\n",
    "tokenizer = nltk.tokenize.WordPunctTokenizer()\n",
    "data[\"FullDescription\"] = [\" \".join(tokenizer.tokenize(text)).lower() for text in data[\"FullDescription\"]]\n",
    "data[\"Title\"] = [\" \".join(tokenizer.tokenize(text)).lower() for text in data[\"Title\"]]"
   ],
   "outputs": [],
   "execution_count": 8
  },
  {
   "cell_type": "markdown",
   "metadata": {},
   "source": [
    "Now we can assume that our text is a space-separated list of tokens:"
   ]
  },
  {
   "cell_type": "code",
   "metadata": {
    "ExecuteTime": {
     "end_time": "2024-12-22T13:20:36.345047Z",
     "start_time": "2024-12-22T13:20:36.341554Z"
    }
   },
   "source": [
    "print(\"Tokenized:\")\n",
    "print(data[\"FullDescription\"][2::100000])\n",
    "assert data[\"FullDescription\"][2][:50] == 'mathematical modeller / simulation analyst / opera'\n",
    "assert data[\"Title\"][54321] == 'international digital account manager ( german )'"
   ],
   "outputs": [
    {
     "name": "stdout",
     "output_type": "stream",
     "text": [
      "Tokenized:\n",
      "2         mathematical modeller / simulation analyst / o...\n",
      "100002    a successful and high achieving specialist sch...\n",
      "200002    web designer html , css , javascript , photosh...\n",
      "Name: FullDescription, dtype: object\n"
     ]
    }
   ],
   "execution_count": 9
  },
  {
   "cell_type": "markdown",
   "metadata": {},
   "source": [
    "Not all words are equally useful. Some of them are typos or rare words that are only present a few times. \n",
    "\n",
    "Let's count how many times is each word present in the data so that we can build a \"white list\" of known words."
   ]
  },
  {
   "cell_type": "code",
   "metadata": {
    "ExecuteTime": {
     "end_time": "2024-12-22T13:20:51.575311Z",
     "start_time": "2024-12-22T13:20:36.346056Z"
    }
   },
   "source": [
    "from collections import Counter\n",
    "token_counts = Counter()\n",
    "\n",
    "def count_words(data_coll):\n",
    "    for text in data_coll.values:\n",
    "        for word in text.split():\n",
    "            token_counts[word] += 1\n",
    "            \n",
    "# Count how many times does each token occur in both \"Title\" and \"FullDescription\" in total\n",
    "#TODO <YOUR CODE>\n",
    "\n",
    "count_words(data[\"FullDescription\"])\n",
    "count_words(data[\"Title\"])"
   ],
   "outputs": [],
   "execution_count": 10
  },
  {
   "cell_type": "code",
   "metadata": {
    "ExecuteTime": {
     "end_time": "2024-12-22T13:20:51.730965Z",
     "start_time": "2024-12-22T13:20:51.577418Z"
    }
   },
   "source": [
    "print(\"Total unique tokens :\", len(token_counts))\n",
    "print('\\n'.join(map(str, token_counts.most_common(n=5))))\n",
    "print('...')\n",
    "print('\\n'.join(map(str, token_counts.most_common()[-3:])))\n",
    "\n",
    "assert token_counts.most_common(1)[0][1] in  range(2600000, 2700000)\n",
    "assert len(token_counts) in range(200000, 210000)\n",
    "print('Correct!')"
   ],
   "outputs": [
    {
     "name": "stdout",
     "output_type": "stream",
     "text": [
      "Total unique tokens : 202704\n",
      "('and', 2657388)\n",
      "('.', 2523216)\n",
      "(',', 2318606)\n",
      "('the', 2080994)\n",
      "('to', 2019884)\n",
      "...\n",
      "('improvemen', 1)\n",
      "('techniciancivil', 1)\n",
      "('mlnlycke', 1)\n",
      "Correct!\n"
     ]
    }
   ],
   "execution_count": 11
  },
  {
   "cell_type": "code",
   "metadata": {
    "ExecuteTime": {
     "end_time": "2024-12-22T13:20:52.646873Z",
     "start_time": "2024-12-22T13:20:51.732596Z"
    }
   },
   "source": [
    "# Let's see how many words are there for each count\n",
    "plt.hist(list(token_counts.values()), range=(0, 10**4), bins=50, log=True)\n",
    "plt.xlabel(\"Word counts\");"
   ],
   "outputs": [
    {
     "data": {
      "text/plain": [
       "<Figure size 640x480 with 1 Axes>"
      ],
      "image/png": "[encoded data removed]"
     },
     "metadata": {},
     "output_type": "display_data"
    }
   ],
   "execution_count": 12
  },
  {
   "cell_type": "markdown",
   "metadata": {},
   "source": [
    "__Task 1.1__ Get a list of all tokens that occur at least 10 times."
   ]
  },
  {
   "cell_type": "code",
   "metadata": {
    "ExecuteTime": {
     "end_time": "2024-12-22T13:20:52.686446Z",
     "start_time": "2024-12-22T13:20:52.648233Z"
    }
   },
   "source": [
    "min_count = 10\n",
    "\n",
    "# tokens from token_counts keys that had at least min_count occurrences throughout the dataset\n",
    "tokens = sorted(t for t, c in token_counts.items() if c > min_count)\n",
    "\n",
    "# Add a special tokens for unknown and empty words\n",
    "UNK, PAD = \"UNK\", \"PAD\"\n",
    "tokens = [UNK, PAD] + tokens"
   ],
   "outputs": [],
   "execution_count": 13
  },
  {
   "cell_type": "code",
   "metadata": {
    "ExecuteTime": {
     "end_time": "2024-12-22T13:20:52.695250Z",
     "start_time": "2024-12-22T13:20:52.687828Z"
    }
   },
   "source": [
    "print(\"Vocabulary size:\", len(tokens))\n",
    "assert type(tokens) == list\n",
    "assert len(tokens) in range(32000, 35000)\n",
    "assert 'me' in tokens\n",
    "assert UNK in tokens\n",
    "print(\"Correct!\")"
   ],
   "outputs": [
    {
     "name": "stdout",
     "output_type": "stream",
     "text": [
      "Vocabulary size: 32456\n",
      "Correct!\n"
     ]
    }
   ],
   "execution_count": 14
  },
  {
   "cell_type": "markdown",
   "metadata": {},
   "source": [
    "__Task 1.2__ Build an inverse token index: a dictionary from token(string) to it's index in `tokens` (int)"
   ]
  },
  {
   "cell_type": "code",
   "metadata": {
    "ExecuteTime": {
     "end_time": "2024-12-22T13:20:52.708390Z",
     "start_time": "2024-12-22T13:20:52.696657Z"
    }
   },
   "source": "token_to_id = {word: i for i, word in enumerate(tokens)}",
   "outputs": [],
   "execution_count": 15
  },
  {
   "cell_type": "code",
   "metadata": {
    "ExecuteTime": {
     "end_time": "2024-12-22T13:20:52.718861Z",
     "start_time": "2024-12-22T13:20:52.709618Z"
    }
   },
   "source": [
    "assert isinstance(token_to_id, dict)\n",
    "assert len(token_to_id) == len(tokens)\n",
    "for tok in tokens:\n",
    "    assert tokens[token_to_id[tok]] == tok\n",
    "\n",
    "print(\"Correct!\")"
   ],
   "outputs": [
    {
     "name": "stdout",
     "output_type": "stream",
     "text": [
      "Correct!\n"
     ]
    }
   ],
   "execution_count": 16
  },
  {
   "cell_type": "markdown",
   "metadata": {},
   "source": [
    "And finally, let's use the vocabulary you've built to map text lines into neural network-digestible matrices."
   ]
  },
  {
   "cell_type": "code",
   "metadata": {
    "ExecuteTime": {
     "end_time": "2024-12-22T13:20:52.724826Z",
     "start_time": "2024-12-22T13:20:52.720964Z"
    }
   },
   "source": [
    "UNK_IX, PAD_IX = map(token_to_id.get, [UNK, PAD])\n",
    "\n",
    "def as_matrix(sequences, max_len=None, min_len=0):\n",
    "    \"\"\" Convert a list of tokens into a matrix with padding \"\"\"\n",
    "    if isinstance(sequences[0], str):\n",
    "        sequences = list(map(str.split, sequences))\n",
    "        \n",
    "    max_len = min(max(map(len, sequences)), max_len or float('inf'))\n",
    "    max_len = max(max_len, min_len)\n",
    "    \n",
    "    matrix = np.full((len(sequences), max_len), np.int32(PAD_IX))\n",
    "    for i,seq in enumerate(sequences):\n",
    "        row_ix = [token_to_id.get(word, UNK_IX) for word in seq[:max_len]]\n",
    "        matrix[i, :len(row_ix)] = row_ix\n",
    "    \n",
    "    return matrix"
   ],
   "outputs": [],
   "execution_count": 17
  },
  {
   "cell_type": "code",
   "metadata": {
    "ExecuteTime": {
     "end_time": "2024-12-22T13:20:52.730236Z",
     "start_time": "2024-12-22T13:20:52.726032Z"
    }
   },
   "source": [
    "print(\"Lines:\")\n",
    "print('\\n'.join(data[\"Title\"][::100000].values), end='\\n\\n')\n",
    "print(\"Matrix:\")\n",
    "print(as_matrix(data[\"Title\"][::100000]))"
   ],
   "outputs": [
    {
     "name": "stdout",
     "output_type": "stream",
     "text": [
      "Lines:\n",
      "engineering systems analyst\n",
      "hr assistant\n",
      "senior ec & i engineer\n",
      "\n",
      "Matrix:\n",
      "[[10273 28655  2055     1     1]\n",
      " [14296  2700     1     1     1]\n",
      " [26272  9698    14 14484 10270]]\n"
     ]
    }
   ],
   "execution_count": 18
  },
  {
   "cell_type": "markdown",
   "metadata": {},
   "source": [
    "Now let's  encode the categirical data we have.\n",
    "\n",
    "As usual, we shall use one-hot encoding for simplicity. Kudos if you implement more advanced encodings: tf-idf, pseudo-time-series, etc."
   ]
  },
  {
   "cell_type": "code",
   "metadata": {
    "ExecuteTime": {
     "end_time": "2024-12-22T13:20:56.309389Z",
     "start_time": "2024-12-22T13:20:52.731472Z"
    }
   },
   "source": [
    "from sklearn.feature_extraction import DictVectorizer\n",
    "\n",
    "# we only consider top-1k most frequent companies to minimize memory usage\n",
    "top_companies, top_counts = zip(*Counter(data['Company']).most_common(1000))\n",
    "recognized_companies = set(top_companies)\n",
    "data[\"Company\"] = data[\"Company\"].apply(lambda comp: comp if comp in recognized_companies else \"Other\")\n",
    "\n",
    "categorical_vectorizer = DictVectorizer(dtype=np.float32, sparse=False)\n",
    "categorical_vectorizer.fit(data[categorical_columns].apply(dict, axis=1))"
   ],
   "outputs": [
    {
     "data": {
      "text/plain": [
       "DictVectorizer(dtype=<class 'numpy.float32'>, sparse=False)"
      ],
      "text/html": [
       "<style>#sk-container-id-1 {\n",
       "  /* Definition of color scheme common for light and dark mode */\n",
       "  --sklearn-color-text: #000;\n",
       "  --sklearn-color-text-muted: #666;\n",
       "  --sklearn-color-line: gray;\n",
       "  /* Definition of color scheme for unfitted estimators */\n",
       "  --sklearn-color-unfitted-level-0: #fff5e6;\n",
       "  --sklearn-color-unfitted-level-1: #f6e4d2;\n",
       "  --sklearn-color-unfitted-level-2: #ffe0b3;\n",
       "  --sklearn-color-unfitted-level-3: chocolate;\n",
       "  /* Definition of color scheme for fitted estimators */\n",
       "  --sklearn-color-fitted-level-0: #f0f8ff;\n",
       "  --sklearn-color-fitted-level-1: #d4ebff;\n",
       "  --sklearn-color-fitted-level-2: #b3dbfd;\n",
       "  --sklearn-color-fitted-level-3: cornflowerblue;\n",
       "\n",
       "  /* Specific color for light theme */\n",
       "  --sklearn-color-text-on-default-background: var(--sg-text-color, var(--theme-code-foreground, var(--jp-content-font-color1, black)));\n",
       "  --sklearn-color-background: var(--sg-background-color, var(--theme-background, var(--jp-layout-color0, white)));\n",
       "  --sklearn-color-border-box: var(--sg-text-color, var(--theme-code-foreground, var(--jp-content-font-color1, black)));\n",
       "  --sklearn-color-icon: #696969;\n",
       "\n",
       "  @media (prefers-color-scheme: dark) {\n",
       "    /* Redefinition of color scheme for dark theme */\n",
       "    --sklearn-color-text-on-default-background: var(--sg-text-color, var(--theme-code-foreground, var(--jp-content-font-color1, white)));\n",
       "    --sklearn-color-background: var(--sg-background-color, var(--theme-background, var(--jp-layout-color0, #111)));\n",
       "    --sklearn-color-border-box: var(--sg-text-color, var(--theme-code-foreground, var(--jp-content-font-color1, white)));\n",
       "    --sklearn-color-icon: #878787;\n",
       "  }\n",
       "}\n",
       "\n",
       "#sk-container-id-1 {\n",
       "  color: var(--sklearn-color-text);\n",
       "}\n",
       "\n",
       "#sk-container-id-1 pre {\n",
       "  padding: 0;\n",
       "}\n",
       "\n",
       "#sk-container-id-1 input.sk-hidden--visually {\n",
       "  border: 0;\n",
       "  clip: rect(1px 1px 1px 1px);\n",
       "  clip: rect(1px, 1px, 1px, 1px);\n",
       "  height: 1px;\n",
       "  margin: -1px;\n",
       "  overflow: hidden;\n",
       "  padding: 0;\n",
       "  position: absolute;\n",
       "  width: 1px;\n",
       "}\n",
       "\n",
       "#sk-container-id-1 div.sk-dashed-wrapped {\n",
       "  border: 1px dashed var(--sklearn-color-line);\n",
       "  margin: 0 0.4em 0.5em 0.4em;\n",
       "  box-sizing: border-box;\n",
       "  padding-bottom: 0.4em;\n",
       "  background-color: var(--sklearn-color-background);\n",
       "}\n",
       "\n",
       "#sk-container-id-1 div.sk-container {\n",
       "  /* jupyter's `normalize.less` sets `[hidden] { display: none; }`\n",
       "     but bootstrap.min.css set `[hidden] { display: none !important; }`\n",
       "     so we also need the `!important` here to be able to override the\n",
       "     default hidden behavior on the sphinx rendered scikit-learn.org.\n",
       "     See: https://github.com/scikit-learn/scikit-learn/issues/21755 */\n",
       "  display: inline-block !important;\n",
       "  position: relative;\n",
       "}\n",
       "\n",
       "#sk-container-id-1 div.sk-text-repr-fallback {\n",
       "  display: none;\n",
       "}\n",
       "\n",
       "div.sk-parallel-item,\n",
       "div.sk-serial,\n",
       "div.sk-item {\n",
       "  /* draw centered vertical line to link estimators */\n",
       "  background-image: linear-gradient(var(--sklearn-color-text-on-default-background), var(--sklearn-color-text-on-default-background));\n",
       "  background-size: 2px 100%;\n",
       "  background-repeat: no-repeat;\n",
       "  background-position: center center;\n",
       "}\n",
       "\n",
       "/* Parallel-specific style estimator block */\n",
       "\n",
       "#sk-container-id-1 div.sk-parallel-item::after {\n",
       "  content: \"\";\n",
       "  width: 100%;\n",
       "  border-bottom: 2px solid var(--sklearn-color-text-on-default-background);\n",
       "  flex-grow: 1;\n",
       "}\n",
       "\n",
       "#sk-container-id-1 div.sk-parallel {\n",
       "  display: flex;\n",
       "  align-items: stretch;\n",
       "  justify-content: center;\n",
       "  background-color: var(--sklearn-color-background);\n",
       "  position: relative;\n",
       "}\n",
       "\n",
       "#sk-container-id-1 div.sk-parallel-item {\n",
       "  display: flex;\n",
       "  flex-direction: column;\n",
       "}\n",
       "\n",
       "#sk-container-id-1 div.sk-parallel-item:first-child::after {\n",
       "  align-self: flex-end;\n",
       "  width: 50%;\n",
       "}\n",
       "\n",
       "#sk-container-id-1 div.sk-parallel-item:last-child::after {\n",
       "  align-self: flex-start;\n",
       "  width: 50%;\n",
       "}\n",
       "\n",
       "#sk-container-id-1 div.sk-parallel-item:only-child::after {\n",
       "  width: 0;\n",
       "}\n",
       "\n",
       "/* Serial-specific style estimator block */\n",
       "\n",
       "#sk-container-id-1 div.sk-serial {\n",
       "  display: flex;\n",
       "  flex-direction: column;\n",
       "  align-items: center;\n",
       "  background-color: var(--sklearn-color-background);\n",
       "  padding-right: 1em;\n",
       "  padding-left: 1em;\n",
       "}\n",
       "\n",
       "\n",
       "/* Toggleable style: style used for estimator/Pipeline/ColumnTransformer box that is\n",
       "clickable and can be expanded/collapsed.\n",
       "- Pipeline and ColumnTransformer use this feature and define the default style\n",
       "- Estimators will overwrite some part of the style using the `sk-estimator` class\n",
       "*/\n",
       "\n",
       "/* Pipeline and ColumnTransformer style (default) */\n",
       "\n",
       "#sk-container-id-1 div.sk-toggleable {\n",
       "  /* Default theme specific background. It is overwritten whether we have a\n",
       "  specific estimator or a Pipeline/ColumnTransformer */\n",
       "  background-color: var(--sklearn-color-background);\n",
       "}\n",
       "\n",
       "/* Toggleable label */\n",
       "#sk-container-id-1 label.sk-toggleable__label {\n",
       "  cursor: pointer;\n",
       "  display: flex;\n",
       "  width: 100%;\n",
       "  margin-bottom: 0;\n",
       "  padding: 0.5em;\n",
       "  box-sizing: border-box;\n",
       "  text-align: center;\n",
       "  align-items: start;\n",
       "  justify-content: space-between;\n",
       "  gap: 0.5em;\n",
       "}\n",
       "\n",
       "#sk-container-id-1 label.sk-toggleable__label .caption {\n",
       "  font-size: 0.6rem;\n",
       "  font-weight: lighter;\n",
       "  color: var(--sklearn-color-text-muted);\n",
       "}\n",
       "\n",
       "#sk-container-id-1 label.sk-toggleable__label-arrow:before {\n",
       "  /* Arrow on the left of the label */\n",
       "  content: \"▸\";\n",
       "  float: left;\n",
       "  margin-right: 0.25em;\n",
       "  color: var(--sklearn-color-icon);\n",
       "}\n",
       "\n",
       "#sk-container-id-1 label.sk-toggleable__label-arrow:hover:before {\n",
       "  color: var(--sklearn-color-text);\n",
       "}\n",
       "\n",
       "/* Toggleable content - dropdown */\n",
       "\n",
       "#sk-container-id-1 div.sk-toggleable__content {\n",
       "  max-height: 0;\n",
       "  max-width: 0;\n",
       "  overflow: hidden;\n",
       "  text-align: left;\n",
       "  /* unfitted */\n",
       "  background-color: var(--sklearn-color-unfitted-level-0);\n",
       "}\n",
       "\n",
       "#sk-container-id-1 div.sk-toggleable__content.fitted {\n",
       "  /* fitted */\n",
       "  background-color: var(--sklearn-color-fitted-level-0);\n",
       "}\n",
       "\n",
       "#sk-container-id-1 div.sk-toggleable__content pre {\n",
       "  margin: 0.2em;\n",
       "  border-radius: 0.25em;\n",
       "  color: var(--sklearn-color-text);\n",
       "  /* unfitted */\n",
       "  background-color: var(--sklearn-color-unfitted-level-0);\n",
       "}\n",
       "\n",
       "#sk-container-id-1 div.sk-toggleable__content.fitted pre {\n",
       "  /* unfitted */\n",
       "  background-color: var(--sklearn-color-fitted-level-0);\n",
       "}\n",
       "\n",
       "#sk-container-id-1 input.sk-toggleable__control:checked~div.sk-toggleable__content {\n",
       "  /* Expand drop-down */\n",
       "  max-height: 200px;\n",
       "  max-width: 100%;\n",
       "  overflow: auto;\n",
       "}\n",
       "\n",
       "#sk-container-id-1 input.sk-toggleable__control:checked~label.sk-toggleable__label-arrow:before {\n",
       "  content: \"▾\";\n",
       "}\n",
       "\n",
       "/* Pipeline/ColumnTransformer-specific style */\n",
       "\n",
       "#sk-container-id-1 div.sk-label input.sk-toggleable__control:checked~label.sk-toggleable__label {\n",
       "  color: var(--sklearn-color-text);\n",
       "  background-color: var(--sklearn-color-unfitted-level-2);\n",
       "}\n",
       "\n",
       "#sk-container-id-1 div.sk-label.fitted input.sk-toggleable__control:checked~label.sk-toggleable__label {\n",
       "  background-color: var(--sklearn-color-fitted-level-2);\n",
       "}\n",
       "\n",
       "/* Estimator-specific style */\n",
       "\n",
       "/* Colorize estimator box */\n",
       "#sk-container-id-1 div.sk-estimator input.sk-toggleable__control:checked~label.sk-toggleable__label {\n",
       "  /* unfitted */\n",
       "  background-color: var(--sklearn-color-unfitted-level-2);\n",
       "}\n",
       "\n",
       "#sk-container-id-1 div.sk-estimator.fitted input.sk-toggleable__control:checked~label.sk-toggleable__label {\n",
       "  /* fitted */\n",
       "  background-color: var(--sklearn-color-fitted-level-2);\n",
       "}\n",
       "\n",
       "#sk-container-id-1 div.sk-label label.sk-toggleable__label,\n",
       "#sk-container-id-1 div.sk-label label {\n",
       "  /* The background is the default theme color */\n",
       "  color: var(--sklearn-color-text-on-default-background);\n",
       "}\n",
       "\n",
       "/* On hover, darken the color of the background */\n",
       "#sk-container-id-1 div.sk-label:hover label.sk-toggleable__label {\n",
       "  color: var(--sklearn-color-text);\n",
       "  background-color: var(--sklearn-color-unfitted-level-2);\n",
       "}\n",
       "\n",
       "/* Label box, darken color on hover, fitted */\n",
       "#sk-container-id-1 div.sk-label.fitted:hover label.sk-toggleable__label.fitted {\n",
       "  color: var(--sklearn-color-text);\n",
       "  background-color: var(--sklearn-color-fitted-level-2);\n",
       "}\n",
       "\n",
       "/* Estimator label */\n",
       "\n",
       "#sk-container-id-1 div.sk-label label {\n",
       "  font-family: monospace;\n",
       "  font-weight: bold;\n",
       "  display: inline-block;\n",
       "  line-height: 1.2em;\n",
       "}\n",
       "\n",
       "#sk-container-id-1 div.sk-label-container {\n",
       "  text-align: center;\n",
       "}\n",
       "\n",
       "/* Estimator-specific */\n",
       "#sk-container-id-1 div.sk-estimator {\n",
       "  font-family: monospace;\n",
       "  border: 1px dotted var(--sklearn-color-border-box);\n",
       "  border-radius: 0.25em;\n",
       "  box-sizing: border-box;\n",
       "  margin-bottom: 0.5em;\n",
       "  /* unfitted */\n",
       "  background-color: var(--sklearn-color-unfitted-level-0);\n",
       "}\n",
       "\n",
       "#sk-container-id-1 div.sk-estimator.fitted {\n",
       "  /* fitted */\n",
       "  background-color: var(--sklearn-color-fitted-level-0);\n",
       "}\n",
       "\n",
       "/* on hover */\n",
       "#sk-container-id-1 div.sk-estimator:hover {\n",
       "  /* unfitted */\n",
       "  background-color: var(--sklearn-color-unfitted-level-2);\n",
       "}\n",
       "\n",
       "#sk-container-id-1 div.sk-estimator.fitted:hover {\n",
       "  /* fitted */\n",
       "  background-color: var(--sklearn-color-fitted-level-2);\n",
       "}\n",
       "\n",
       "/* Specification for estimator info (e.g. \"i\" and \"?\") */\n",
       "\n",
       "/* Common style for \"i\" and \"?\" */\n",
       "\n",
       ".sk-estimator-doc-link,\n",
       "a:link.sk-estimator-doc-link,\n",
       "a:visited.sk-estimator-doc-link {\n",
       "  float: right;\n",
       "  font-size: smaller;\n",
       "  line-height: 1em;\n",
       "  font-family: monospace;\n",
       "  background-color: var(--sklearn-color-background);\n",
       "  border-radius: 1em;\n",
       "  height: 1em;\n",
       "  width: 1em;\n",
       "  text-decoration: none !important;\n",
       "  margin-left: 0.5em;\n",
       "  text-align: center;\n",
       "  /* unfitted */\n",
       "  border: var(--sklearn-color-unfitted-level-1) 1pt solid;\n",
       "  color: var(--sklearn-color-unfitted-level-1);\n",
       "}\n",
       "\n",
       ".sk-estimator-doc-link.fitted,\n",
       "a:link.sk-estimator-doc-link.fitted,\n",
       "a:visited.sk-estimator-doc-link.fitted {\n",
       "  /* fitted */\n",
       "  border: var(--sklearn-color-fitted-level-1) 1pt solid;\n",
       "  color: var(--sklearn-color-fitted-level-1);\n",
       "}\n",
       "\n",
       "/* On hover */\n",
       "div.sk-estimator:hover .sk-estimator-doc-link:hover,\n",
       ".sk-estimator-doc-link:hover,\n",
       "div.sk-label-container:hover .sk-estimator-doc-link:hover,\n",
       ".sk-estimator-doc-link:hover {\n",
       "  /* unfitted */\n",
       "  background-color: var(--sklearn-color-unfitted-level-3);\n",
       "  color: var(--sklearn-color-background);\n",
       "  text-decoration: none;\n",
       "}\n",
       "\n",
       "div.sk-estimator.fitted:hover .sk-estimator-doc-link.fitted:hover,\n",
       ".sk-estimator-doc-link.fitted:hover,\n",
       "div.sk-label-container:hover .sk-estimator-doc-link.fitted:hover,\n",
       ".sk-estimator-doc-link.fitted:hover {\n",
       "  /* fitted */\n",
       "  background-color: var(--sklearn-color-fitted-level-3);\n",
       "  color: var(--sklearn-color-background);\n",
       "  text-decoration: none;\n",
       "}\n",
       "\n",
       "/* Span, style for the box shown on hovering the info icon */\n",
       ".sk-estimator-doc-link span {\n",
       "  display: none;\n",
       "  z-index: 9999;\n",
       "  position: relative;\n",
       "  font-weight: normal;\n",
       "  right: .2ex;\n",
       "  padding: .5ex;\n",
       "  margin: .5ex;\n",
       "  width: min-content;\n",
       "  min-width: 20ex;\n",
       "  max-width: 50ex;\n",
       "  color: var(--sklearn-color-text);\n",
       "  box-shadow: 2pt 2pt 4pt #999;\n",
       "  /* unfitted */\n",
       "  background: var(--sklearn-color-unfitted-level-0);\n",
       "  border: .5pt solid var(--sklearn-color-unfitted-level-3);\n",
       "}\n",
       "\n",
       ".sk-estimator-doc-link.fitted span {\n",
       "  /* fitted */\n",
       "  background: var(--sklearn-color-fitted-level-0);\n",
       "  border: var(--sklearn-color-fitted-level-3);\n",
       "}\n",
       "\n",
       ".sk-estimator-doc-link:hover span {\n",
       "  display: block;\n",
       "}\n",
       "\n",
       "/* \"?\"-specific style due to the `<a>` HTML tag */\n",
       "\n",
       "#sk-container-id-1 a.estimator_doc_link {\n",
       "  float: right;\n",
       "  font-size: 1rem;\n",
       "  line-height: 1em;\n",
       "  font-family: monospace;\n",
       "  background-color: var(--sklearn-color-background);\n",
       "  border-radius: 1rem;\n",
       "  height: 1rem;\n",
       "  width: 1rem;\n",
       "  text-decoration: none;\n",
       "  /* unfitted */\n",
       "  color: var(--sklearn-color-unfitted-level-1);\n",
       "  border: var(--sklearn-color-unfitted-level-1) 1pt solid;\n",
       "}\n",
       "\n",
       "#sk-container-id-1 a.estimator_doc_link.fitted {\n",
       "  /* fitted */\n",
       "  border: var(--sklearn-color-fitted-level-1) 1pt solid;\n",
       "  color: var(--sklearn-color-fitted-level-1);\n",
       "}\n",
       "\n",
       "/* On hover */\n",
       "#sk-container-id-1 a.estimator_doc_link:hover {\n",
       "  /* unfitted */\n",
       "  background-color: var(--sklearn-color-unfitted-level-3);\n",
       "  color: var(--sklearn-color-background);\n",
       "  text-decoration: none;\n",
       "}\n",
       "\n",
       "#sk-container-id-1 a.estimator_doc_link.fitted:hover {\n",
       "  /* fitted */\n",
       "  background-color: var(--sklearn-color-fitted-level-3);\n",
       "}\n",
       "</style><div id=\"sk-container-id-1\" class=\"sk-top-container\"><div class=\"sk-text-repr-fallback\"><pre>DictVectorizer(dtype=&lt;class &#x27;numpy.float32&#x27;&gt;, sparse=False)</pre><b>In a Jupyter environment, please rerun this cell to show the HTML representation or trust the notebook. <br />On GitHub, the HTML representation is unable to render, please try loading this page with nbviewer.org.</b></div><div class=\"sk-container\" hidden><div class=\"sk-item\"><div class=\"sk-estimator fitted sk-toggleable\"><input class=\"sk-toggleable__control sk-hidden--visually\" id=\"sk-estimator-id-1\" type=\"checkbox\" checked><label for=\"sk-estimator-id-1\" class=\"sk-toggleable__label fitted sk-toggleable__label-arrow\"><div><div>DictVectorizer</div></div><div><a class=\"sk-estimator-doc-link fitted\" rel=\"noreferrer\" target=\"_blank\" href=\"https://scikit-learn.org/1.6/modules/generated/sklearn.feature_extraction.DictVectorizer.html\">?<span>Documentation for DictVectorizer</span></a><span class=\"sk-estimator-doc-link fitted\">i<span>Fitted</span></span></div></label><div class=\"sk-toggleable__content fitted\"><pre>DictVectorizer(dtype=&lt;class &#x27;numpy.float32&#x27;&gt;, sparse=False)</pre></div> </div></div></div></div>"
      ]
     },
     "execution_count": 19,
     "metadata": {},
     "output_type": "execute_result"
    }
   ],
   "execution_count": 19
  },
  {
   "cell_type": "markdown",
   "metadata": {},
   "source": [
    "### The deep learning part\n",
    "\n",
    "Once we've learned to tokenize the data, let's design a machine learning experiment.\n",
    "\n",
    "As before, we won't focus too much on validation, opting for a simple train-test split.\n",
    "\n",
    "__To be completely rigorous,__ we've comitted a small crime here: we used the whole data for tokenization and vocabulary building. A more strict way would be to do that part on training set only. You may want to do that and measure the magnitude of changes."
   ]
  },
  {
   "cell_type": "code",
   "metadata": {
    "ExecuteTime": {
     "end_time": "2024-12-22T13:20:56.435923Z",
     "start_time": "2024-12-22T13:20:56.311139Z"
    }
   },
   "source": [
    "from sklearn.model_selection import train_test_split\n",
    "\n",
    "data_train, data_val = train_test_split(data, test_size=0.2, random_state=42)\n",
    "data_train.index = range(len(data_train))\n",
    "data_val.index = range(len(data_val))\n",
    "\n",
    "print(\"Train size = \", len(data_train))\n",
    "print(\"Validation size = \", len(data_val))"
   ],
   "outputs": [
    {
     "name": "stdout",
     "output_type": "stream",
     "text": [
      "Train size =  195814\n",
      "Validation size =  48954\n"
     ]
    }
   ],
   "execution_count": 20
  },
  {
   "cell_type": "code",
   "metadata": {
    "ExecuteTime": {
     "end_time": "2024-12-22T13:20:57.928431Z",
     "start_time": "2024-12-22T13:20:56.437159Z"
    }
   },
   "source": [
    "import torch\n",
    "import torch.nn as nn\n",
    "import torch.nn.functional as F\n",
    "\n",
    "\n",
    "device = 'cuda' if torch.cuda.is_available() else 'cpu'\n",
    "\n",
    "\n",
    "def to_tensors(batch, device):\n",
    "    batch_tensors = dict()\n",
    "    for key, arr in batch.items():\n",
    "        if key in [\"FullDescription\", \"Title\"]:\n",
    "            batch_tensors[key] = torch.tensor(arr, device=device, dtype=torch.int64)\n",
    "        else:\n",
    "            batch_tensors[key] = torch.tensor(arr, device=device)\n",
    "    return batch_tensors\n",
    "\n",
    "\n",
    "def make_batch(data, max_len=None, word_dropout=0, device=device, min_title_len=0, min_descr_len=0):\n",
    "    \"\"\"\n",
    "    Creates a keras-friendly dict from the batch data.\n",
    "    :param word_dropout: replaces token index with UNK_IX with this probability\n",
    "    :returns: a dict with {'title' : int64[batch, title_max_len]\n",
    "    \"\"\"\n",
    "    batch = {}\n",
    "    batch[\"Title\"] = as_matrix(data[\"Title\"].values, max_len, min_title_len)\n",
    "    batch[\"FullDescription\"] = as_matrix(data[\"FullDescription\"].values, max_len, min_descr_len)\n",
    "    batch['Categorical'] = categorical_vectorizer.transform(data[categorical_columns].apply(dict, axis=1))\n",
    "    \n",
    "    if word_dropout != 0:\n",
    "        batch[\"FullDescription\"] = apply_word_dropout(batch[\"FullDescription\"], 1. - word_dropout)\n",
    "    \n",
    "    if TARGET_COLUMN in data.columns:\n",
    "        batch[TARGET_COLUMN] = data[TARGET_COLUMN].values\n",
    "    \n",
    "    return to_tensors(batch, device)\n",
    "\n",
    "def apply_word_dropout(matrix, keep_prop, replace_with=UNK_IX, pad_ix=PAD_IX,):\n",
    "    dropout_mask = np.random.choice(2, np.shape(matrix), p=[keep_prop, 1 - keep_prop])\n",
    "    dropout_mask &= matrix != pad_ix\n",
    "    return np.choose(dropout_mask, [matrix, np.full_like(matrix, replace_with)])"
   ],
   "outputs": [],
   "execution_count": 21
  },
  {
   "cell_type": "code",
   "metadata": {
    "scrolled": true,
    "ExecuteTime": {
     "end_time": "2024-12-22T13:20:57.938494Z",
     "start_time": "2024-12-22T13:20:57.929398Z"
    }
   },
   "source": [
    "make_batch(data_train[:3], max_len=10)"
   ],
   "outputs": [
    {
     "data": {
      "text/plain": [
       "{'Title': tensor([[26272, 28401, 31999,     1,     1,     1,     1],\n",
       "         [27772,   187, 18227, 19056, 14801, 22008,  3848],\n",
       "         [10082, 28895, 16876,    31,  8281, 27695,    61]]),\n",
       " 'FullDescription': tensor([[26272, 28401, 31999, 31307,   909, 26272, 28401, 31999, 15662, 31307],\n",
       "         [27772,   187, 18227, 19056, 14801, 22008,  3848, 24230,   836,    77],\n",
       "         [29212, 20872, 19591,  6092, 15662,  7773, 26125,   909, 28895, 16876]]),\n",
       " 'Categorical': tensor([[0., 0., 0.,  ..., 0., 0., 0.],\n",
       "         [0., 0., 0.,  ..., 0., 0., 0.],\n",
       "         [0., 0., 0.,  ..., 0., 0., 0.]]),\n",
       " 'Log1pSalary': tensor([ 9.7115, 10.4631, 10.7144])}"
      ]
     },
     "execution_count": 22,
     "metadata": {},
     "output_type": "execute_result"
    }
   ],
   "execution_count": 22
  },
  {
   "metadata": {
    "ExecuteTime": {
     "end_time": "2024-12-22T13:20:57.943554Z",
     "start_time": "2024-12-22T13:20:57.939515Z"
    }
   },
   "cell_type": "code",
   "source": "\" \".join([tokens[i] for i in [26272, 28401, 31999, 31307,   909, 26272, 28401, 31999, 15662, 31307]])",
   "outputs": [
    {
     "data": {
      "text/plain": [
       "'senior support worker wanted a senior support worker is wanted'"
      ]
     },
     "execution_count": 23,
     "metadata": {},
     "output_type": "execute_result"
    }
   ],
   "execution_count": 23
  },
  {
   "cell_type": "markdown",
   "metadata": {},
   "source": [
    "#### Architecture\n",
    "\n",
    "Our basic model consists of three branches:\n",
    "* Title encoder\n",
    "* Description encoder\n",
    "* Categorical features encoder\n",
    "\n",
    "We will then feed all 3 branches into one common network that predicts salary.\n",
    "\n",
    "![scheme](https://github.com/yandexdataschool/nlp_course/raw/master/resources/w2_conv_arch.png)"
   ]
  },
  {
   "metadata": {
    "ExecuteTime": {
     "end_time": "2024-12-22T13:20:59.328826Z",
     "start_time": "2024-12-22T13:20:57.944864Z"
    }
   },
   "cell_type": "code",
   "source": [
    "import gensim.downloader as api\n",
    "\n",
    "api.info()[\"models\"].keys()"
   ],
   "outputs": [
    {
     "data": {
      "text/plain": [
       "dict_keys(['fasttext-wiki-news-subwords-300', 'conceptnet-numberbatch-17-06-300', 'word2vec-ruscorpora-300', 'word2vec-google-news-300', 'glove-wiki-gigaword-50', 'glove-wiki-gigaword-100', 'glove-wiki-gigaword-200', 'glove-wiki-gigaword-300', 'glove-twitter-25', 'glove-twitter-50', 'glove-twitter-100', 'glove-twitter-200', '__testing_word2vec-matrix-synopsis'])"
      ]
     },
     "execution_count": 24,
     "metadata": {},
     "output_type": "execute_result"
    }
   ],
   "execution_count": 24
  },
  {
   "metadata": {
    "ExecuteTime": {
     "end_time": "2024-12-22T13:20:59.332892Z",
     "start_time": "2024-12-22T13:20:59.329928Z"
    }
   },
   "cell_type": "code",
   "source": [
    "import os \n",
    "\n",
    "embeddings_dir_path = \"/home/tikhon/PycharmProjects/nlp_course/embeddings\"\n",
    "embeddings_file_name = \"fasttext-wiki-news-subwords-300.kv\"\n",
    "embeddings_file_path = os.path.join(embeddings_dir_path, embeddings_file_name)"
   ],
   "outputs": [],
   "execution_count": 25
  },
  {
   "metadata": {
    "ExecuteTime": {
     "end_time": "2024-12-22T13:21:00.867588Z",
     "start_time": "2024-12-22T13:20:59.334057Z"
    }
   },
   "cell_type": "code",
   "source": [
    "# embedding_model = api.load(\"fasttext-wiki-news-subwords-300\")\n",
    "# embedding_dim = embedding_model.vector_size\n",
    "from gensim.models import KeyedVectors\n",
    "\n",
    "embedding_model = KeyedVectors.load(embeddings_file_path)\n",
    "embedding_dim = embedding_model.vector_size"
   ],
   "outputs": [],
   "execution_count": 26
  },
  {
   "metadata": {
    "ExecuteTime": {
     "end_time": "2024-12-22T13:21:01.075391Z",
     "start_time": "2024-12-22T13:21:00.869377Z"
    }
   },
   "cell_type": "code",
   "source": [
    "vocab_size = len(tokens)\n",
    "embedding_matrix = np.empty((vocab_size, embedding_dim))\n",
    "\n",
    "for i, token in enumerate(tokens):\n",
    "    if token in embedding_model:\n",
    "        embedding_matrix[i] = embedding_model[token].copy()\n",
    "\n",
    "embedding_matrix = torch.tensor(embedding_matrix, dtype=torch.float32)"
   ],
   "outputs": [],
   "execution_count": 27
  },
  {
   "metadata": {
    "ExecuteTime": {
     "end_time": "2024-12-22T13:21:01.080266Z",
     "start_time": "2024-12-22T13:21:01.076557Z"
    }
   },
   "cell_type": "code",
   "source": "embedding_matrix.shape",
   "outputs": [
    {
     "data": {
      "text/plain": [
       "torch.Size([32456, 300])"
      ]
     },
     "execution_count": 28,
     "metadata": {},
     "output_type": "execute_result"
    }
   ],
   "execution_count": 28
  },
  {
   "cell_type": "code",
   "metadata": {
    "ExecuteTime": {
     "end_time": "2024-12-22T13:22:20.397871Z",
     "start_time": "2024-12-22T13:22:20.392036Z"
    }
   },
   "source": [
    "class SalaryPredictor(nn.Module):\n",
    "    def __init__(self, n_cat_features=len(categorical_vectorizer.vocabulary_), hid_size=156):\n",
    "        super().__init__()\n",
    "        self.embedding = nn.Embedding.from_pretrained(embedding_matrix, freeze=True)\n",
    "\n",
    "        self.description_conv1 = nn.Conv1d(embedding_dim, 128, kernel_size=3)\n",
    "\n",
    "        self.title_conv = nn.Conv1d(embedding_dim, 48, kernel_size=3)\n",
    "\n",
    "        self.hidden_layer1 = nn.Linear(n_cat_features + 128 + 48, hid_size, bias=True)\n",
    "        self.hidden_bn1 = nn.BatchNorm1d(hid_size)\n",
    "        self.dropout1 = nn.Dropout(0.1)\n",
    "\n",
    "        self.out = nn.Linear(hid_size, 1)\n",
    "\n",
    "    def _forward_description(self, description_batch):\n",
    "        x = self.embedding(description_batch).transpose(2, 1)\n",
    "        x = F.relu(self.description_conv1(x))\n",
    "        x = torch.max(x, dim=-1).values \n",
    "        return x\n",
    "\n",
    "    def _forward_title(self, title_batch):\n",
    "        x = self.embedding(title_batch).transpose(2, 1)\n",
    "        x = F.relu(self.title_conv(x))\n",
    "        x = torch.max(x, dim=-1).values \n",
    "        return x\n",
    "\n",
    "    def forward(self, batch):\n",
    "        title_max_pool = self._forward_title(batch[\"Title\"])\n",
    "        description_max_pool = self._forward_description(batch[\"FullDescription\"])\n",
    "\n",
    "        data_to_concat = [title_max_pool, description_max_pool, batch[\"Categorical\"]]\n",
    "        hidden_data = torch.concat(data_to_concat, dim=-1) \n",
    "\n",
    "        hidden_data = self.hidden_layer1(hidden_data)\n",
    "        hidden_data = self.hidden_bn1(hidden_data)\n",
    "        hidden_data = F.relu(hidden_data)\n",
    "        hidden_data = self.dropout1(hidden_data)\n",
    "\n",
    "        return self.out(hidden_data).flatten()\n"
   ],
   "outputs": [],
   "execution_count": 31
  },
  {
   "metadata": {
    "ExecuteTime": {
     "end_time": "2024-12-22T13:22:21.352337Z",
     "start_time": "2024-12-22T13:22:21.349917Z"
    }
   },
   "cell_type": "code",
   "source": [
    "MIN_TITLE_LEN = 3\n",
    "MIN_DESCR_LEN = 3"
   ],
   "outputs": [],
   "execution_count": 32
  },
  {
   "cell_type": "code",
   "metadata": {
    "ExecuteTime": {
     "end_time": "2024-12-22T13:22:21.960741Z",
     "start_time": "2024-12-22T13:22:21.950088Z"
    }
   },
   "source": [
    "model = SalaryPredictor()\n",
    "\n",
    "for name, param in model.named_parameters():\n",
    "    print(f\"Layer: {name}, Parameters: {param.numel()}\")\n",
    "\n",
    "total_params = sum(p.numel() for p in model.parameters())\n",
    "print(f\"\\nTotal parameters: {total_params}\")"
   ],
   "outputs": [
    {
     "name": "stdout",
     "output_type": "stream",
     "text": [
      "Layer: embedding.weight, Parameters: 9736800\n",
      "Layer: description_conv1.weight, Parameters: 115200\n",
      "Layer: description_conv1.bias, Parameters: 128\n",
      "Layer: title_conv.weight, Parameters: 43200\n",
      "Layer: title_conv.bias, Parameters: 48\n",
      "Layer: hidden_layer1.weight, Parameters: 615264\n",
      "Layer: hidden_layer1.bias, Parameters: 156\n",
      "Layer: hidden_bn1.weight, Parameters: 156\n",
      "Layer: hidden_bn1.bias, Parameters: 156\n",
      "Layer: out.weight, Parameters: 156\n",
      "Layer: out.bias, Parameters: 1\n",
      "\n",
      "Total parameters: 10511265\n"
     ]
    }
   ],
   "execution_count": 33
  },
  {
   "metadata": {
    "ExecuteTime": {
     "end_time": "2024-12-22T13:22:22.682597Z",
     "start_time": "2024-12-22T13:22:22.679398Z"
    }
   },
   "cell_type": "code",
   "source": [
    "print(\"Data length:\", len(tokens))\n",
    "print(\"N categorical features:\", len(categorical_vectorizer.vocabulary_))"
   ],
   "outputs": [
    {
     "name": "stdout",
     "output_type": "stream",
     "text": [
      "Data length: 32456\n",
      "N categorical features: 3768\n"
     ]
    }
   ],
   "execution_count": 34
  },
  {
   "cell_type": "code",
   "metadata": {
    "ExecuteTime": {
     "end_time": "2024-12-22T13:22:23.908043Z",
     "start_time": "2024-12-22T13:22:23.623136Z"
    }
   },
   "source": [
    "model = SalaryPredictor().to(device)\n",
    "batch = make_batch(data_train[:100], device=device)\n",
    "criterion = nn.MSELoss()\n",
    "\n",
    "dummy_pred = model(batch)\n",
    "dummy_loss = criterion(dummy_pred, batch[TARGET_COLUMN])\n",
    "assert dummy_pred.shape == torch.Size([100])\n",
    "assert len(torch.unique(dummy_pred)) > 20, \"model returns suspiciously few unique outputs. Check your initialization\"\n",
    "assert dummy_loss.ndim == 0 and 0. <= dummy_loss <= 250., \"make sure you minimize MSE\""
   ],
   "outputs": [],
   "execution_count": 35
  },
  {
   "cell_type": "markdown",
   "metadata": {},
   "source": [
    "#### Training and evaluation\n",
    "\n",
    "As usual, we gonna feed our monster with random minibatches of data. \n",
    "\n",
    "As we train, we want to monitor not only loss function, which is computed in log-space, but also the actual error measured in dollars."
   ]
  },
  {
   "cell_type": "code",
   "metadata": {
    "ExecuteTime": {
     "end_time": "2024-12-22T13:22:25.048080Z",
     "start_time": "2024-12-22T13:22:25.044535Z"
    }
   },
   "source": [
    "def iterate_minibatches(data, batch_size=256, shuffle=True, cycle=False, device=device, **kwargs):\n",
    "    \"\"\" iterates minibatches of data in random order \"\"\"\n",
    "    while True:\n",
    "        indices = np.arange(len(data))\n",
    "        if shuffle:\n",
    "            indices = np.random.permutation(indices)\n",
    "\n",
    "        for start in range(0, len(indices), batch_size):\n",
    "            batch = make_batch(data.iloc[indices[start : start + batch_size]], device=device, **kwargs)\n",
    "            yield batch\n",
    "        \n",
    "        if not cycle: break"
   ],
   "outputs": [],
   "execution_count": 36
  },
  {
   "cell_type": "markdown",
   "metadata": {},
   "source": [
    "### Model training\n",
    "\n",
    "We can now fit our model the usual minibatch way. The interesting part is that we train on an infinite stream of minibatches, produced by `iterate_minibatches` function."
   ]
  },
  {
   "cell_type": "code",
   "metadata": {
    "ExecuteTime": {
     "end_time": "2024-12-22T13:22:27.341201Z",
     "start_time": "2024-12-22T13:22:27.260656Z"
    }
   },
   "source": [
    "from tqdm.auto import tqdm\n",
    "\n",
    "BATCH_SIZE = 32\n",
    "EPOCHS = 5"
   ],
   "outputs": [],
   "execution_count": 37
  },
  {
   "cell_type": "code",
   "metadata": {
    "ExecuteTime": {
     "end_time": "2024-12-22T13:22:29.347851Z",
     "start_time": "2024-12-22T13:22:29.342559Z"
    }
   },
   "source": [
    "def print_metrics(model, data, batch_size=BATCH_SIZE, name=\"\", device=torch.device('cpu'), **kw):\n",
    "    squared_error = abs_error = num_samples = 0.0\n",
    "    model.eval()\n",
    "    with torch.no_grad():\n",
    "        for batch in iterate_minibatches(data, batch_size=batch_size, shuffle=False, device=device, **kw):\n",
    "            batch_pred = model(batch)\n",
    "            squared_error += torch.sum(torch.square(batch_pred - batch[TARGET_COLUMN]))\n",
    "            abs_error += torch.sum(torch.abs(batch_pred - batch[TARGET_COLUMN]))\n",
    "            num_samples += len(batch_pred)\n",
    "    mse = squared_error.detach().cpu().numpy() / num_samples\n",
    "    mae = abs_error.detach().cpu().numpy() / num_samples\n",
    "    print(\"%s results:\" % (name or \"\"))\n",
    "    print(\"Mean square error: %.5f\" % mse)\n",
    "    print(\"Mean absolute error: %.5f\" % mae)\n",
    "    return mse, mae\n"
   ],
   "outputs": [],
   "execution_count": 38
  },
  {
   "cell_type": "code",
   "metadata": {
    "ExecuteTime": {
     "end_time": "2024-12-22T13:58:48.213957Z",
     "start_time": "2024-12-22T13:22:31.870592Z"
    }
   },
   "source": [
    "np.random.seed = 88\n",
    "\n",
    "model = SalaryPredictor().to(device)\n",
    "criterion = nn.MSELoss(reduction='sum')\n",
    "optimizer = torch.optim.SGD(model.parameters(), lr=1e-4)\n",
    "\n",
    "for epoch in range(1, EPOCHS + 1):\n",
    "    print(f\"epoch: {epoch}\")\n",
    "    model.train()\n",
    "    \n",
    "    progress_bar = tqdm(enumerate(\n",
    "        iterate_minibatches(data_train, batch_size=BATCH_SIZE, device=device, min_title_len=MIN_TITLE_LEN, min_descr_len=MIN_DESCR_LEN)\n",
    "    ), total=len(data_train) // BATCH_SIZE, desc=\"Training\", leave=False)\n",
    "    \n",
    "    for i, batch in progress_bar:\n",
    "        pred = model(batch)\n",
    "        loss = criterion(pred, batch[TARGET_COLUMN])\n",
    "        optimizer.zero_grad()\n",
    "        loss.backward()\n",
    "        optimizer.step()\n",
    "        \n",
    "        progress_bar.set_description(f\"Training (loss: {loss.item():.4f})\")\n",
    "        \n",
    "    print_metrics(model, data_val, device=device)"
   ],
   "outputs": [
    {
     "name": "stdout",
     "output_type": "stream",
     "text": [
      "epoch: 1\n"
     ]
    },
    {
     "data": {
      "text/plain": [
       "Training:   0%|          | 0/6119 [00:00<?, ?it/s]"
      ],
      "application/vnd.jupyter.widget-view+json": {
       "version_major": 2,
       "version_minor": 0,
       "model_id": "61be180b408444e3a44224fdf0bd8af7"
      }
     },
     "metadata": {},
     "output_type": "display_data"
    },
    {
     "name": "stdout",
     "output_type": "stream",
     "text": [
      " results:\n",
      "Mean square error: 0.11685\n",
      "Mean absolute error: 0.26288\n",
      "epoch: 2\n"
     ]
    },
    {
     "data": {
      "text/plain": [
       "Training:   0%|          | 0/6119 [00:00<?, ?it/s]"
      ],
      "application/vnd.jupyter.widget-view+json": {
       "version_major": 2,
       "version_minor": 0,
       "model_id": "9b7859d97c18405ea5bb946cde0227e6"
      }
     },
     "metadata": {},
     "output_type": "display_data"
    },
    {
     "name": "stdout",
     "output_type": "stream",
     "text": [
      " results:\n",
      "Mean square error: 0.10099\n",
      "Mean absolute error: 0.24338\n",
      "epoch: 3\n"
     ]
    },
    {
     "data": {
      "text/plain": [
       "Training:   0%|          | 0/6119 [00:00<?, ?it/s]"
      ],
      "application/vnd.jupyter.widget-view+json": {
       "version_major": 2,
       "version_minor": 0,
       "model_id": "ab5518f67414460f912b44de7a7db56a"
      }
     },
     "metadata": {},
     "output_type": "display_data"
    },
    {
     "name": "stdout",
     "output_type": "stream",
     "text": [
      " results:\n",
      "Mean square error: 0.09734\n",
      "Mean absolute error: 0.23867\n",
      "epoch: 4\n"
     ]
    },
    {
     "data": {
      "text/plain": [
       "Training:   0%|          | 0/6119 [00:00<?, ?it/s]"
      ],
      "application/vnd.jupyter.widget-view+json": {
       "version_major": 2,
       "version_minor": 0,
       "model_id": "ba02ed46a241461f995fef0f3092fbd7"
      }
     },
     "metadata": {},
     "output_type": "display_data"
    },
    {
     "name": "stdout",
     "output_type": "stream",
     "text": [
      " results:\n",
      "Mean square error: 0.08398\n",
      "Mean absolute error: 0.21943\n",
      "epoch: 5\n"
     ]
    },
    {
     "data": {
      "text/plain": [
       "Training:   0%|          | 0/6119 [00:00<?, ?it/s]"
      ],
      "application/vnd.jupyter.widget-view+json": {
       "version_major": 2,
       "version_minor": 0,
       "model_id": "a3fc4b56defe4175bcda22d2b45d826c"
      }
     },
     "metadata": {},
     "output_type": "display_data"
    },
    {
     "name": "stdout",
     "output_type": "stream",
     "text": [
      " results:\n",
      "Mean square error: 0.08072\n",
      "Mean absolute error: 0.21492\n"
     ]
    }
   ],
   "execution_count": 39
  },
  {
   "cell_type": "markdown",
   "metadata": {},
   "source": [
    "### Bonus part: explaining model predictions\n",
    "\n",
    "It's usually a good idea to understand how your model works before you let it make actual decisions. It's simple for linear models: just see which words learned positive or negative weights. However, its much harder for neural networks that learn complex nonlinear dependencies.\n",
    "\n",
    "There are, however, some ways to look inside the black box:\n",
    "* Seeing how model responds to input perturbations\n",
    "* Finding inputs that maximize/minimize activation of some chosen neurons (_read more [on distill.pub](https://distill.pub/2018/building-blocks/)_)\n",
    "* Building local linear approximations to your neural network: [article](https://arxiv.org/abs/1602.04938), [eli5 library](https://github.com/TeamHG-Memex/eli5/tree/master/eli5/formatters)\n",
    "\n",
    "Today we gonna try the first method just because it's the simplest one."
   ]
  },
  {
   "cell_type": "code",
   "metadata": {
    "ExecuteTime": {
     "end_time": "2024-12-22T14:01:30.887573Z",
     "start_time": "2024-12-22T14:01:30.883720Z"
    }
   },
   "source": [
    "def explain(model, sample, col_name='Title'):\n",
    "    \"\"\" Computes the effect each word had on model predictions \"\"\"\n",
    "    sample = dict(sample)\n",
    "    sample_col_tokens = [tokens[token_to_id.get(tok, 0)] for tok in sample[col_name].split()]\n",
    "    data_drop_one_token = pd.DataFrame([sample] * (len(sample_col_tokens) + 1))\n",
    "    for drop_i in range(len(sample_col_tokens)):\n",
    "        data_drop_one_token.loc[drop_i, col_name] = ' '.join(UNK if i == drop_i else tok\n",
    "                                                   for i, tok in enumerate(sample_col_tokens)) \n",
    "    *predictions_drop_one_token, baseline_pred = model(\n",
    "        make_batch(data_drop_one_token, device=device, min_title_len=MIN_TITLE_LEN)\n",
    "    ).detach().cpu()\n",
    "    diffs = baseline_pred - torch.Tensor(predictions_drop_one_token)\n",
    "    return list(zip(sample_col_tokens, diffs))"
   ],
   "outputs": [],
   "execution_count": 60
  },
  {
   "cell_type": "code",
   "metadata": {
    "ExecuteTime": {
     "end_time": "2024-12-22T14:01:31.260455Z",
     "start_time": "2024-12-22T14:01:31.255294Z"
    }
   },
   "source": [
    "from IPython.display import HTML, display_html\n",
    "\n",
    "\n",
    "def draw_html(tokens_and_weights, cmap=plt.get_cmap(\"bwr\"), display=True,\n",
    "              token_template=\"\"\"<span style=\"background-color: {color_hex}\">{token}</span>\"\"\",\n",
    "              font_style=\"font-size:14px;\"\n",
    "             ):\n",
    "    \n",
    "    def get_color_hex(weight):\n",
    "        rgba = cmap(1. / (1 + np.exp(float(weight))), bytes=True)\n",
    "        return '#%02X%02X%02X' % rgba[:3]\n",
    "    \n",
    "    tokens_html = [\n",
    "        token_template.format(token=token, color_hex=get_color_hex(weight))\n",
    "        for token, weight in tokens_and_weights\n",
    "    ]\n",
    "    \n",
    "    \n",
    "    raw_html = \"\"\"<p style=\"{}\">{}</p>\"\"\".format(font_style, ' '.join(tokens_html))\n",
    "    if display:\n",
    "        display_html(HTML(raw_html))\n",
    "        \n",
    "    return raw_html\n",
    "    "
   ],
   "outputs": [],
   "execution_count": 61
  },
  {
   "metadata": {
    "ExecuteTime": {
     "end_time": "2024-12-22T14:01:31.741753Z",
     "start_time": "2024-12-22T14:01:31.735851Z"
    }
   },
   "cell_type": "code",
   "source": [
    "tokens_and_weights = [\n",
    "    (\"test\", -10),\n",
    "    (\"title\", 10),\n",
    "    (\"word\", 0)\n",
    "]\n",
    "draw_html([(tok, weight * 5) for tok, weight in tokens_and_weights], font_style='font-size:20px;');"
   ],
   "outputs": [
    {
     "data": {
      "text/html": [
       "<p style=\"font-size:20px;\"><span style=\"background-color: #FF0000\">test</span> <span style=\"background-color: #0000FF\">title</span> <span style=\"background-color: #FFFEFE\">word</span></p>"
      ]
     },
     "metadata": {},
     "output_type": "display_data"
    }
   ],
   "execution_count": 62
  },
  {
   "metadata": {
    "ExecuteTime": {
     "end_time": "2024-12-22T14:01:32.053936Z",
     "start_time": "2024-12-22T14:01:32.050636Z"
    }
   },
   "cell_type": "code",
   "source": [
    "def explain_test_sample(data_sample):\n",
    "    tokens_and_weights = explain(model, data_sample, \"Title\")\n",
    "    draw_html([(tok, weight * 5) for tok, weight in tokens_and_weights], font_style='font-size:20px;')\n",
    "    \n",
    "    tokens_and_weights = explain(model, data_sample, \"FullDescription\")\n",
    "    draw_html([(tok, weight * 10) for tok, weight in tokens_and_weights])"
   ],
   "outputs": [],
   "execution_count": 63
  },
  {
   "metadata": {
    "ExecuteTime": {
     "end_time": "2024-12-22T14:09:57.082542Z",
     "start_time": "2024-12-22T14:09:57.062102Z"
    }
   },
   "cell_type": "code",
   "source": [
    "test_sample: pd.Series = data.loc[0].copy()\n",
    "\n",
    "test_sample[\"Title\"] = \"senior python developer\"\n",
    "test_sample[\"FullDescription\"] = \"highly skilled python developer with 5 years of experience\"\n",
    "explain_test_sample(test_sample)"
   ],
   "outputs": [
    {
     "data": {
      "text/html": [
       "<p style=\"font-size:20px;\"><span style=\"background-color: #8C8CFF\">senior</span> <span style=\"background-color: #FF8A8A\">python</span> <span style=\"background-color: #E0E0FF\">developer</span></p>"
      ]
     },
     "metadata": {},
     "output_type": "display_data"
    },
    {
     "data": {
      "text/html": [
       "<p style=\"font-size:14px;\"><span style=\"background-color: #FFC2C2\">highly</span> <span style=\"background-color: #FFB8B8\">skilled</span> <span style=\"background-color: #C0C0FF\">python</span> <span style=\"background-color: #A0A0FF\">developer</span> <span style=\"background-color: #FFE6E6\">with</span> <span style=\"background-color: #7070FF\">5</span> <span style=\"background-color: #7171FF\">years</span> <span style=\"background-color: #DCDCFF\">of</span> <span style=\"background-color: #FFB3B3\">experience</span></p>"
      ]
     },
     "metadata": {},
     "output_type": "display_data"
    }
   ],
   "execution_count": 89
  },
  {
   "metadata": {
    "ExecuteTime": {
     "end_time": "2024-12-22T14:09:57.444355Z",
     "start_time": "2024-12-22T14:09:57.429563Z"
    }
   },
   "cell_type": "code",
   "source": [
    "test_sample[\"Title\"] = \"trainee python intern / part time\"\n",
    "test_sample[\"FullDescription\"] = \"low skilled python enthusiast\"\n",
    "explain_test_sample(test_sample)"
   ],
   "outputs": [
    {
     "data": {
      "text/html": [
       "<p style=\"font-size:20px;\"><span style=\"background-color: #FFCACA\">trainee</span> <span style=\"background-color: #BCBCFF\">python</span> <span style=\"background-color: #FF7474\">intern</span> <span style=\"background-color: #E2E2FF\">/</span> <span style=\"background-color: #FFEEEE\">part</span> <span style=\"background-color: #E6E6FF\">time</span></p>"
      ]
     },
     "metadata": {},
     "output_type": "display_data"
    },
    {
     "data": {
      "text/html": [
       "<p style=\"font-size:14px;\"><span style=\"background-color: #DEDEFF\">low</span> <span style=\"background-color: #B0B0FF\">skilled</span> <span style=\"background-color: #6161FF\">python</span> <span style=\"background-color: #ECECFF\">enthusiast</span></p>"
      ]
     },
     "metadata": {},
     "output_type": "display_data"
    }
   ],
   "execution_count": 90
  },
  {
   "metadata": {
    "ExecuteTime": {
     "end_time": "2024-12-22T14:09:57.808126Z",
     "start_time": "2024-12-22T14:09:57.794122Z"
    }
   },
   "cell_type": "code",
   "source": [
    "test_sample[\"Title\"] = \"head of python development\"\n",
    "test_sample[\"FullDescription\"] = \"manager of python developers\"\n",
    "explain_test_sample(test_sample)"
   ],
   "outputs": [
    {
     "data": {
      "text/html": [
       "<p style=\"font-size:20px;\"><span style=\"background-color: #4040FF\">head</span> <span style=\"background-color: #7979FF\">of</span> <span style=\"background-color: #FFBCBC\">python</span> <span style=\"background-color: #E0E0FF\">development</span></p>"
      ]
     },
     "metadata": {},
     "output_type": "display_data"
    },
    {
     "data": {
      "text/html": [
       "<p style=\"font-size:14px;\"><span style=\"background-color: #D3D3FF\">manager</span> <span style=\"background-color: #5656FF\">of</span> <span style=\"background-color: #9090FF\">python</span> <span style=\"background-color: #A3A3FF\">developers</span></p>"
      ]
     },
     "metadata": {},
     "output_type": "display_data"
    }
   ],
   "execution_count": 91
  },
  {
   "metadata": {
    "ExecuteTime": {
     "end_time": "2024-12-22T14:01:33.390281Z",
     "start_time": "2024-12-22T14:01:33.375941Z"
    }
   },
   "cell_type": "code",
   "source": [
    "test_sample[\"Title\"] = \"cleaning assistant\"\n",
    "test_sample[\"FullDescription\"] = \"simple job for students cleaning assistant\"\n",
    "explain_test_sample(test_sample)"
   ],
   "outputs": [
    {
     "data": {
      "text/html": [
       "<p style=\"font-size:20px;\"><span style=\"background-color: #FF9A9A\">cleaning</span> <span style=\"background-color: #FFB2B2\">assistant</span></p>"
      ]
     },
     "metadata": {},
     "output_type": "display_data"
    },
    {
     "data": {
      "text/html": [
       "<p style=\"font-size:14px;\"><span style=\"background-color: #ACACFF\">simple</span> <span style=\"background-color: #D6D6FF\">job</span> <span style=\"background-color: #9090FF\">for</span> <span style=\"background-color: #D3D3FF\">students</span> <span style=\"background-color: #FFC3C3\">cleaning</span> <span style=\"background-color: #FFF2F2\">assistant</span></p>"
      ]
     },
     "metadata": {},
     "output_type": "display_data"
    }
   ],
   "execution_count": 67
  },
  {
   "metadata": {
    "ExecuteTime": {
     "end_time": "2024-12-22T14:01:33.895740Z",
     "start_time": "2024-12-22T14:01:33.861195Z"
    }
   },
   "cell_type": "code",
   "source": [
    "test_sample[\"Title\"] = \"accounts assistant\"\n",
    "test_sample[\"FullDescription\"] = \"assistant in the accounts department / finance / accounts assistant\"\n",
    "explain_test_sample(test_sample)"
   ],
   "outputs": [
    {
     "data": {
      "text/html": [
       "<p style=\"font-size:20px;\"><span style=\"background-color: #FFD8D8\">accounts</span> <span style=\"background-color: #FF9292\">assistant</span></p>"
      ]
     },
     "metadata": {},
     "output_type": "display_data"
    },
    {
     "data": {
      "text/html": [
       "<p style=\"font-size:14px;\"><span style=\"background-color: #ECECFF\">assistant</span> <span style=\"background-color: #B3B3FF\">in</span> <span style=\"background-color: #E8E8FF\">the</span> <span style=\"background-color: #FFCACA\">accounts</span> <span style=\"background-color: #E8E8FF\">department</span> <span style=\"background-color: #FFF8F8\">/</span> <span style=\"background-color: #8282FF\">finance</span> <span style=\"background-color: #CCCCFF\">/</span> <span style=\"background-color: #FEFEFF\">accounts</span> <span style=\"background-color: #BABAFF\">assistant</span></p>"
      ]
     },
     "metadata": {},
     "output_type": "display_data"
    }
   ],
   "execution_count": 68
  },
  {
   "cell_type": "code",
   "metadata": {
    "ExecuteTime": {
     "end_time": "2024-12-22T14:01:36.575048Z",
     "start_time": "2024-12-22T14:01:36.152451Z"
    }
   },
   "source": [
    "i = 36605\n",
    "tokens_and_weights = explain(model, data.loc[i], \"Title\")\n",
    "draw_html([(tok, weight * 5) for tok, weight in tokens_and_weights], font_style='font-size:20px;')\n",
    "\n",
    "tokens_and_weights = explain(model, data.loc[i], \"FullDescription\")\n",
    "draw_html([(tok, weight * 10) for tok, weight in tokens_and_weights]);"
   ],
   "outputs": [
    {
     "data": {
      "text/html": [
       "<p style=\"font-size:20px;\"><span style=\"background-color: #F6F6FF\">sales</span> <span style=\"background-color: #FAFAFF\">specialist</span> <span style=\"background-color: #EEEEFF\">iv</span> <span style=\"background-color: #FFFCFC\">access</span> <span style=\"background-color: #FAFAFF\">and</span> <span style=\"background-color: #EEEEFF\">infusion</span></p>"
      ]
     },
     "metadata": {},
     "output_type": "display_data"
    },
    {
     "data": {
      "text/html": [
       "<p style=\"font-size:14px;\"><span style=\"background-color: #FFFEFE\">sales</span> <span style=\"background-color: #FFFEFE\">representative</span> <span style=\"background-color: #FEFEFF\">medical</span> <span style=\"background-color: #FFFEFE\">sales</span> <span style=\"background-color: #FFFEFE\">iv</span> <span style=\"background-color: #FFFEFE\">access</span> <span style=\"background-color: #FEFEFF\">and</span> <span style=\"background-color: #FFF8F8\">infusion</span> <span style=\"background-color: #FFE8E8\">an</span> <span style=\"background-color: #FCFCFF\">opportunity</span> <span style=\"background-color: #FFF6F6\">to</span> <span style=\"background-color: #FEFEFF\">work</span> <span style=\"background-color: #FFFEFE\">for</span> <span style=\"background-color: #FFFEFE\">the</span> <span style=\"background-color: #FFFEFE\">industry</span> <span style=\"background-color: #FFFEFE\">leading</span> <span style=\"background-color: #FFF4F4\">manufacturer</span> <span style=\"background-color: #FFF4F4\">of</span> <span style=\"background-color: #FFF8F8\">iv</span> <span style=\"background-color: #FFEAEA\">access</span> <span style=\"background-color: #FFFEFE\">and</span> <span style=\"background-color: #FFFEFE\">infusion</span> <span style=\"background-color: #FFFAFA\">solutions</span> <span style=\"background-color: #FFFEFE\">.</span> <span style=\"background-color: #FFFCFC\">formally</span> <span style=\"background-color: #FFFAFA\">recognised</span> <span style=\"background-color: #FFFEFE\">as</span> <span style=\"background-color: #FFFEFE\">the</span> <span style=\"background-color: #FFFEFE\">number</span> <span style=\"background-color: #FFFEFE\">****</span> <span style=\"background-color: #FEFEFF\">company</span> <span style=\"background-color: #FEFEFF\">in</span> <span style=\"background-color: #FEFEFF\">this</span> <span style=\"background-color: #FCFCFF\">market</span> <span style=\"background-color: #FFFAFA\">space</span> <span style=\"background-color: #FFFEFE\">,</span> <span style=\"background-color: #FFEEEE\">our</span> <span style=\"background-color: #F8F8FF\">client</span> <span style=\"background-color: #FFE4E4\">are</span> <span style=\"background-color: #FFE0E0\">an</span> <span style=\"background-color: #FFE4E4\">ethical</span> <span style=\"background-color: #FFFCFC\">and</span> <span style=\"background-color: #FFFEFE\">dynamic</span> <span style=\"background-color: #FFFEFE\">organisation</span> <span style=\"background-color: #FFFEFE\">absolutely</span> <span style=\"background-color: #FFFEFE\">committed</span> <span style=\"background-color: #FFFEFE\">to</span> <span style=\"background-color: #FFFEFE\">the</span> <span style=\"background-color: #FFFCFC\">advancement</span> <span style=\"background-color: #E6E6FF\">of</span> <span style=\"background-color: #E6E6FF\">innovative</span> <span style=\"background-color: #F3F3FF\">technologies</span> <span style=\"background-color: #FEFEFF\">.</span> <span style=\"background-color: #FFF4F4\">job</span> <span style=\"background-color: #FCFCFF\">title</span> <span style=\"background-color: #FCFCFF\">:</span> <span style=\"background-color: #FFF8F8\">sales</span> <span style=\"background-color: #F6F6FF\">specialist</span> <span style=\"background-color: #FFFEFE\">iv</span> <span style=\"background-color: #FFF4F4\">access</span> <span style=\"background-color: #FFFEFE\">and</span> <span style=\"background-color: #FFF8F8\">infusion</span> <span style=\"background-color: #FFFEFE\">selling</span> <span style=\"background-color: #FEFEFF\">:</span> <span style=\"background-color: #FFFEFE\">medication</span> <span style=\"background-color: #F8F8FF\">delivery</span> <span style=\"background-color: #FFFEFE\">solutions</span> <span style=\"background-color: #FEFEFF\">selling</span> <span style=\"background-color: #FAFAFF\">to</span> <span style=\"background-color: #FFE8E8\">:</span> <span style=\"background-color: #FFF8F8\">iv</span> <span style=\"background-color: #FFFAFA\">teams</span> <span style=\"background-color: #FFFEFE\">,</span> <span style=\"background-color: #FFFEFE\">infection</span> <span style=\"background-color: #FCFCFF\">control</span> <span style=\"background-color: #FFFEFE\">,</span> <span style=\"background-color: #FFFCFC\">lead</span> <span style=\"background-color: #F6F6FF\">intensive</span> <span style=\"background-color: #FFFEFE\">care</span> <span style=\"background-color: #FFFEFE\">nurse</span> <span style=\"background-color: #F6F6FF\">specialists</span> <span style=\"background-color: #FFFEFE\">,</span> <span style=\"background-color: #FFFEFE\">ward</span> <span style=\"background-color: #FFFAFA\">managers</span> <span style=\"background-color: #FEFEFF\">territory</span> <span style=\"background-color: #FFFEFE\">:</span> <span style=\"background-color: #FFFEFE\">east</span> <span style=\"background-color: #FFFEFE\">midlands</span> <span style=\"background-color: #FFFCFC\">location</span> <span style=\"background-color: #FFFCFC\">:</span> <span style=\"background-color: #FFFCFC\">east</span> <span style=\"background-color: #FFFCFC\">midlands</span> <span style=\"background-color: #FFFEFE\">package</span> <span style=\"background-color: #FFFEFE\">:</span> <span style=\"background-color: #FFFEFE\">basic</span> <span style=\"background-color: #F0F0FF\">:</span> <span style=\"background-color: #FFF4F4\">****</span> <span style=\"background-color: #FFF8F8\">k</span> <span style=\"background-color: #D3D3FF\">****</span> <span style=\"background-color: #D2D2FF\">k</span> <span style=\"background-color: #C8C8FF\">,</span> <span style=\"background-color: #FFFCFC\">uncapped</span> <span style=\"background-color: #FFFAFA\">bonus</span> <span style=\"background-color: #F6F6FF\">in</span> <span style=\"background-color: #FCFCFF\">addition</span> <span style=\"background-color: #FFFEFE\">,</span> <span style=\"background-color: #FFFEFE\">full</span> <span style=\"background-color: #FFFEFE\">corporate</span> <span style=\"background-color: #FFFEFE\">benefits</span> <span style=\"background-color: #FFFEFE\">company</span> <span style=\"background-color: #FFFEFE\">information</span> <span style=\"background-color: #FFFEFE\">hugely</span> <span style=\"background-color: #FFFEFE\">ethical</span> <span style=\"background-color: #FFFEFE\">and</span> <span style=\"background-color: #FFECEC\">professional</span> <span style=\"background-color: #EAEAFF\">global</span> <span style=\"background-color: #F8F8FF\">organisation</span> <span style=\"background-color: #FFFCFC\">extremely</span> <span style=\"background-color: #FFFEFE\">well</span> <span style=\"background-color: #FFFEFE\">established</span> <span style=\"background-color: #FFEEEE\">in</span> <span style=\"background-color: #FFE4E4\">the</span> <span style=\"background-color: #E6E6FF\">uk</span> <span style=\"background-color: #E2E2FF\">the</span> <span style=\"background-color: #FAFAFF\">market</span> <span style=\"background-color: #F6F6FF\">leader</span> <span style=\"background-color: #FFFEFE\">across</span> <span style=\"background-color: #FFFEFE\">all</span> <span style=\"background-color: #FFFEFE\">of</span> <span style=\"background-color: #FFFEFE\">their</span> <span style=\"background-color: #FFFEFE\">core</span> <span style=\"background-color: #FFFEFE\">business</span> <span style=\"background-color: #FCFCFF\">areas</span> <span style=\"background-color: #FCFCFF\">focus</span> <span style=\"background-color: #FCFCFF\">on</span> <span style=\"background-color: #FEFEFF\">providing</span> <span style=\"background-color: #FFF6F6\">cutting</span> <span style=\"background-color: #F3F3FF\">edge</span> <span style=\"background-color: #FFFEFE\">solutions</span> <span style=\"background-color: #F6F6FF\">along</span> <span style=\"background-color: #FFFEFE\">with</span> <span style=\"background-color: #FFFEFE\">outstanding</span> <span style=\"background-color: #FFFEFE\">service</span> <span style=\"background-color: #FFFEFE\">and</span> <span style=\"background-color: #FFFEFE\">support</span> <span style=\"background-color: #FFFEFE\">a</span> <span style=\"background-color: #FEFEFF\">business</span> <span style=\"background-color: #FEFEFF\">that</span> <span style=\"background-color: #FFF8F8\">retain</span> <span style=\"background-color: #FFFCFC\">talented</span> <span style=\"background-color: #F3F3FF\">personnel</span> <span style=\"background-color: #FFF0F0\">by</span> <span style=\"background-color: #FCFCFF\">offering</span> <span style=\"background-color: #FFFEFE\">a</span> <span style=\"background-color: #FFFEFE\">strong</span> <span style=\"background-color: #FFFEFE\">platform</span> <span style=\"background-color: #FFFEFE\">for</span> <span style=\"background-color: #FFFAFA\">career</span> <span style=\"background-color: #FFFEFE\">development</span> <span style=\"background-color: #FFFAFA\">sales</span> <span style=\"background-color: #FCFCFF\">specialist</span> <span style=\"background-color: #FFFEFE\">iv</span> <span style=\"background-color: #FFF4F4\">access</span> <span style=\"background-color: #FFFEFE\">and</span> <span style=\"background-color: #FFFCFC\">infusion</span> <span style=\"background-color: #FEFEFF\">you</span> <span style=\"background-color: #FFFCFC\">must</span> <span style=\"background-color: #FFFEFE\">have</span> <span style=\"background-color: #FFFEFE\">/</span> <span style=\"background-color: #FFFEFE\">be</span> <span style=\"background-color: #FCFCFF\">the</span> <span style=\"background-color: #FFFEFE\">following</span> <span style=\"background-color: #E8E8FF\">at</span> <span style=\"background-color: #FFEEEE\">least</span> <span style=\"background-color: #FFF6F6\">2</span> <span style=\"background-color: #FCFCFF\">years</span> <span style=\"background-color: #FFFEFE\">medical</span> <span style=\"background-color: #FFFEFE\">device</span> <span style=\"background-color: #FFFEFE\">sales</span> <span style=\"background-color: #FFF0F0\">experience</span> <span style=\"background-color: #FEFEFF\">.</span> <span style=\"background-color: #FFFCFC\">candidates</span> <span style=\"background-color: #F3F3FF\">who</span> <span style=\"background-color: #F8F8FF\">have</span> <span style=\"background-color: #F6F6FF\">sold</span> <span style=\"background-color: #FEFEFF\">disposables</span> <span style=\"background-color: #F8F8FF\">/</span> <span style=\"background-color: #FFFEFE\">consumables</span> <span style=\"background-color: #FFFEFE\">or</span> <span style=\"background-color: #FFFEFE\">similar</span> <span style=\"background-color: #FFFEFE\">into</span> <span style=\"background-color: #FFFCFC\">hospitals</span> <span style=\"background-color: #FFFEFE\">would</span> <span style=\"background-color: #ECECFF\">be</span> <span style=\"background-color: #EAEAFF\">of</span> <span style=\"background-color: #FFFEFE\">particular</span> <span style=\"background-color: #FFFAFA\">interest</span> <span style=\"background-color: #FEFEFF\">.</span> <span style=\"background-color: #FFFEFE\">candidates</span> <span style=\"background-color: #FFFEFE\">must</span> <span style=\"background-color: #FFFEFE\">have</span> <span style=\"background-color: #FFF4F4\">sold</span> <span style=\"background-color: #FFF4F4\">into</span> <span style=\"background-color: #FFFAFA\">hospitals</span> <span style=\"background-color: #FFFEFE\">demonstrable</span> <span style=\"background-color: #FFFEFE\">performance</span> <span style=\"background-color: #FFFEFE\">and</span> <span style=\"background-color: #FFFEFE\">achievements</span> <span style=\"background-color: #F8F8FF\">so</span> <span style=\"background-color: #FFF6F6\">far</span> <span style=\"background-color: #FEFEFF\">personable</span> <span style=\"background-color: #FFF8F8\">,</span> <span style=\"background-color: #FFFEFE\">adaptable</span> <span style=\"background-color: #FFFEFE\">and</span> <span style=\"background-color: #FFFEFE\">willing</span> <span style=\"background-color: #FFFEFE\">to</span> <span style=\"background-color: #E8E8FF\">learn</span> <span style=\"background-color: #FFF8F8\">keen</span> <span style=\"background-color: #FFFCFC\">and</span> <span style=\"background-color: #F3F3FF\">eager</span> <span style=\"background-color: #F8F8FF\">to</span> <span style=\"background-color: #F6F6FF\">be</span> <span style=\"background-color: #FFFCFC\">a</span> <span style=\"background-color: #FFF6F6\">success</span> <span style=\"background-color: #FAFAFF\">candidates</span> <span style=\"background-color: #FAFAFF\">must</span> <span style=\"background-color: #FEFEFF\">have</span> <span style=\"background-color: #FEFEFF\">a</span> <span style=\"background-color: #FFFEFE\">degree</span> <span style=\"background-color: #FEFEFF\">or</span> <span style=\"background-color: #FFFEFE\">at</span> <span style=\"background-color: #F8F8FF\">least</span> <span style=\"background-color: #FCFCFF\">be</span> <span style=\"background-color: #EEEEFF\">able</span> <span style=\"background-color: #FFFEFE\">to</span> <span style=\"background-color: #FAFAFF\">show</span> <span style=\"background-color: #FFFEFE\">a</span> <span style=\"background-color: #FFFEFE\">strong</span> <span style=\"background-color: #FAFAFF\">ability</span> <span style=\"background-color: #FFFEFE\">to</span> <span style=\"background-color: #FFFEFE\">learn</span> <span style=\"background-color: #FFFEFE\">role</span> <span style=\"background-color: #FFFEFE\">information</span> <span style=\"background-color: #FFFEFE\">managing</span> <span style=\"background-color: #FFFEFE\">the</span> <span style=\"background-color: #FFFEFE\">east</span> <span style=\"background-color: #FFFEFE\">midlands</span> <span style=\"background-color: #FFFEFE\">region</span> <span style=\"background-color: #FFFEFE\">selling</span> <span style=\"background-color: #FFFAFA\">across</span> <span style=\"background-color: #FFF8F8\">the</span> <span style=\"background-color: #FCFCFF\">company</span> <span style=\"background-color: #FFF2F2\">'</span> <span style=\"background-color: #FFF2F2\">s</span> <span style=\"background-color: #FFF4F4\">range</span> <span style=\"background-color: #FEFEFF\">of</span> <span style=\"background-color: #F6F6FF\">iv</span> <span style=\"background-color: #FFF4F4\">and</span> <span style=\"background-color: #FFFEFE\">infusion</span> <span style=\"background-color: #FFFEFE\">solutions</span> <span style=\"background-color: #FFFEFE\">portfolio</span> <span style=\"background-color: #FFFEFE\">selling</span> <span style=\"background-color: #FFFEFE\">into</span> <span style=\"background-color: #FFFEFE\">lead</span> <span style=\"background-color: #FFFEFE\">intensive</span> <span style=\"background-color: #FFFEFE\">care</span> <span style=\"background-color: #FFFEFE\">nurse</span> <span style=\"background-color: #F6F6FF\">specialists</span> <span style=\"background-color: #FFFEFE\">,</span> <span style=\"background-color: #FFFEFE\">ward</span> <span style=\"background-color: #FFFEFE\">managers</span> <span style=\"background-color: #F8F8FF\">,</span> <span style=\"background-color: #EEEEFF\">iv</span> <span style=\"background-color: #F3F3FF\">teams</span> <span style=\"background-color: #FFFEFE\">,</span> <span style=\"background-color: #FFFEFE\">infection</span> <span style=\"background-color: #FFFCFC\">control</span> <span style=\"background-color: #FFFEFE\">teams</span> <span style=\"background-color: #FEFEFF\">,</span> <span style=\"background-color: #FFFEFE\">procurement</span> <span style=\"background-color: #FFFCFC\">sales</span> <span style=\"background-color: #FCFCFF\">specialist</span> <span style=\"background-color: #FFFEFE\">iv</span> <span style=\"background-color: #FFF4F4\">access</span> <span style=\"background-color: #FFFEFE\">and</span> <span style=\"background-color: #FFFEFE\">infusion</span> <span style=\"background-color: #FFFEFE\">candidates</span> <span style=\"background-color: #FCFCFF\">must</span> <span style=\"background-color: #FFFAFA\">be</span> <span style=\"background-color: #EEEEFF\">eligible</span> <span style=\"background-color: #FFFAFA\">to</span> <span style=\"background-color: #FEFEFF\">work</span> <span style=\"background-color: #FFFEFE\">and</span> <span style=\"background-color: #FFFEFE\">live</span> <span style=\"background-color: #FFEEEE\">in</span> <span style=\"background-color: #FFF0F0\">the</span> <span style=\"background-color: #FFFAFA\">uk</span> <span style=\"background-color: #FEFEFF\">.</span> <span style=\"background-color: #FFF8F8\">please</span> <span style=\"background-color: #FFFEFE\">contact</span> <span style=\"background-color: #FFFEFE\">allan</span> <span style=\"background-color: #FFFEFE\">waller</span> <span style=\"background-color: #FFFEFE\">on</span> <span style=\"background-color: #FFF8F8\">****</span> <span style=\"background-color: #FFFCFC\">****</span> <span style=\"background-color: #FFFEFE\">****</span> <span style=\"background-color: #FFFEFE\">or</span> <span style=\"background-color: #FFFEFE\">please</span> <span style=\"background-color: #FFFEFE\">hit</span> <span style=\"background-color: #FFFEFE\">the</span> <span style=\"background-color: #FCFCFF\">apply</span> <span style=\"background-color: #FFF8F8\">button</span> <span style=\"background-color: #FFFCFC\">.</span> <span style=\"background-color: #FFFEFE\">this</span> <span style=\"background-color: #FEFEFF\">job</span> <span style=\"background-color: #FFFEFE\">was</span> <span style=\"background-color: #FEFEFF\">originally</span> <span style=\"background-color: #FFECEC\">posted</span> <span style=\"background-color: #FEFEFF\">as</span> <span style=\"background-color: #FCFCFF\">www</span> <span style=\"background-color: #FFFEFE\">.</span> <span style=\"background-color: #FCFCFF\">salestarget</span> <span style=\"background-color: #FAFAFF\">.</span> <span style=\"background-color: #FFE8E8\">co</span> <span style=\"background-color: #FFECEC\">.</span> <span style=\"background-color: #FFFAFA\">uk</span> <span style=\"background-color: #F6F6FF\">/</span> <span style=\"background-color: #F3F3FF\">jobseeking</span> <span style=\"background-color: #FFFCFC\">/</span> <span style=\"background-color: #FFFEFE\">UNK</span> <span style=\"background-color: #FEFEFF\">****</span></p>"
      ]
     },
     "metadata": {},
     "output_type": "display_data"
    }
   ],
   "execution_count": 69
  },
  {
   "cell_type": "code",
   "metadata": {
    "ExecuteTime": {
     "end_time": "2024-12-22T14:01:37.380981Z",
     "start_time": "2024-12-22T14:01:37.327599Z"
    }
   },
   "source": [
    "i = 12077\n",
    "tokens_and_weights = explain(model, data.loc[i], \"Title\")\n",
    "draw_html([(tok, weight * 5) for tok, weight in tokens_and_weights], font_style='font-size:20px;');\n",
    "\n",
    "tokens_and_weights = explain(model, data.loc[i], \"FullDescription\")\n",
    "draw_html([(tok, weight * 10) for tok, weight in tokens_and_weights]);"
   ],
   "outputs": [
    {
     "data": {
      "text/html": [
       "<p style=\"font-size:20px;\"><span style=\"background-color: #FF9A9A\">cleaning</span> <span style=\"background-color: #FFAAAA\">operative</span></p>"
      ]
     },
     "metadata": {},
     "output_type": "display_data"
    },
    {
     "data": {
      "text/html": [
       "<p style=\"font-size:14px;\"><span style=\"background-color: #FEFEFF\">12</span> <span style=\"background-color: #FFE8E8\">.</span> <span style=\"background-color: #D8D8FF\">5</span> <span style=\"background-color: #E3E3FF\">hours</span> <span style=\"background-color: #DADAFF\">per</span> <span style=\"background-color: #FCFCFF\">week</span> <span style=\"background-color: #FAFAFF\">monday</span> <span style=\"background-color: #F3F3FF\">friday</span> <span style=\"background-color: #E8E8FF\">9am</span> <span style=\"background-color: #FFE4E4\">11</span> <span style=\"background-color: #FFE6E6\">.</span> <span style=\"background-color: #FFB2B2\">30am</span> <span style=\"background-color: #FF9A9A\">duties</span> <span style=\"background-color: #F6F6FF\">to</span> <span style=\"background-color: #DEDEFF\">include</span> <span style=\"background-color: #E3E3FF\">sweeping</span> <span style=\"background-color: #CACAFF\">,</span> <span style=\"background-color: #FEFEFF\">mopping</span> <span style=\"background-color: #E6E6FF\">,</span> <span style=\"background-color: #FFFEFE\">vacuuming</span> <span style=\"background-color: #F6F6FF\">,</span> <span style=\"background-color: #FFFAFA\">buffing</span> <span style=\"background-color: #E2E2FF\">,</span> <span style=\"background-color: #FEFEFF\">cleaning</span> <span style=\"background-color: #EAEAFF\">staff</span> <span style=\"background-color: #FFFAFA\">toilets</span> <span style=\"background-color: #FCFCFF\">and</span> <span style=\"background-color: #F0F0FF\">rest</span> <span style=\"background-color: #FFE6E6\">room</span> <span style=\"background-color: #FFEEEE\">.</span> <span style=\"background-color: #FFFCFC\">must</span> <span style=\"background-color: #FEFEFF\">be</span> <span style=\"background-color: #EEEEFF\">able</span> <span style=\"background-color: #FFF2F2\">to</span> <span style=\"background-color: #FCFCFF\">read</span> <span style=\"background-color: #FFE8E8\">as</span> <span style=\"background-color: #FFFEFE\">they</span> <span style=\"background-color: #FEFEFF\">will</span> <span style=\"background-color: #FFFEFE\">be</span> <span style=\"background-color: #FEFEFF\">using</span> <span style=\"background-color: #FFFEFE\">UNK</span> <span style=\"background-color: #FFEEEE\">which</span> <span style=\"background-color: #FEFEFF\">need</span> <span style=\"background-color: #FFFEFE\">UNK</span> <span style=\"background-color: #FAFAFF\">as</span> <span style=\"background-color: #F0F0FF\">per</span> <span style=\"background-color: #ECECFF\">instructions</span> <span style=\"background-color: #F0F0FF\">on</span> <span style=\"background-color: #F8F8FF\">the</span> <span style=\"background-color: #FFD3D3\">containers</span> <span style=\"background-color: #FFF6F6\">.</span> <span style=\"background-color: #FFFEFE\">sucessfull</span> <span style=\"background-color: #FEFEFF\">applicants</span> <span style=\"background-color: #FAFAFF\">will</span> <span style=\"background-color: #FFFAFA\">be</span> <span style=\"background-color: #F6F6FF\">trained</span> <span style=\"background-color: #FEFEFF\">on</span> <span style=\"background-color: #FFF0F0\">all</span> <span style=\"background-color: #FFF0F0\">electrical</span> <span style=\"background-color: #FFF4F4\">appliances</span> <span style=\"background-color: #FCFCFF\">and</span> <span style=\"background-color: #FFFEFE\">UNK</span> <span style=\"background-color: #ECECFF\">of</span> <span style=\"background-color: #FEFEFF\">cleaning</span> <span style=\"background-color: #FAFAFF\">materials</span> <span style=\"background-color: #FEFEFF\">.</span></p>"
      ]
     },
     "metadata": {},
     "output_type": "display_data"
    }
   ],
   "execution_count": 70
  },
  {
   "cell_type": "code",
   "metadata": {
    "ExecuteTime": {
     "end_time": "2024-12-22T14:23:47.484065Z",
     "start_time": "2024-12-22T14:23:47.434061Z"
    }
   },
   "source": [
    "# i = np.random.randint(len(data))\n",
    "i = 12077\n",
    "print(\"Index:\", i)\n",
    "print(\"Salary (gbp):\", np.expm1(model(make_batch(data.iloc[i: i+1], device=device, min_title_len=MIN_TITLE_LEN)).detach().cpu()))\n",
    "print(\"True salary:\", data[\"SalaryNormalized\"].iloc[i])\n",
    "\n",
    "tokens_and_weights = explain(model, data.loc[i], \"Title\")\n",
    "draw_html([(tok, weight * 5) for tok, weight in tokens_and_weights], font_style='font-size:20px;')\n",
    "\n",
    "tokens_and_weights = explain(model, data.loc[i], \"FullDescription\")\n",
    "draw_html([(tok, weight * 10) for tok, weight in tokens_and_weights]);"
   ],
   "outputs": [
    {
     "name": "stdout",
     "output_type": "stream",
     "text": [
      "Index: 12077\n",
      "Salary (gbp): tensor([11133.4219])\n",
      "True salary: 11884\n"
     ]
    },
    {
     "data": {
      "text/html": [
       "<p style=\"font-size:20px;\"><span style=\"background-color: #FF9A9A\">cleaning</span> <span style=\"background-color: #FFAAAA\">operative</span></p>"
      ]
     },
     "metadata": {},
     "output_type": "display_data"
    },
    {
     "data": {
      "text/html": [
       "<p style=\"font-size:14px;\"><span style=\"background-color: #FEFEFF\">12</span> <span style=\"background-color: #FFE8E8\">.</span> <span style=\"background-color: #D8D8FF\">5</span> <span style=\"background-color: #E3E3FF\">hours</span> <span style=\"background-color: #DADAFF\">per</span> <span style=\"background-color: #FCFCFF\">week</span> <span style=\"background-color: #FAFAFF\">monday</span> <span style=\"background-color: #F3F3FF\">friday</span> <span style=\"background-color: #E8E8FF\">9am</span> <span style=\"background-color: #FFE4E4\">11</span> <span style=\"background-color: #FFE6E6\">.</span> <span style=\"background-color: #FFB2B2\">30am</span> <span style=\"background-color: #FF9A9A\">duties</span> <span style=\"background-color: #F6F6FF\">to</span> <span style=\"background-color: #DEDEFF\">include</span> <span style=\"background-color: #E3E3FF\">sweeping</span> <span style=\"background-color: #CACAFF\">,</span> <span style=\"background-color: #FEFEFF\">mopping</span> <span style=\"background-color: #E6E6FF\">,</span> <span style=\"background-color: #FFFEFE\">vacuuming</span> <span style=\"background-color: #F6F6FF\">,</span> <span style=\"background-color: #FFFAFA\">buffing</span> <span style=\"background-color: #E2E2FF\">,</span> <span style=\"background-color: #FEFEFF\">cleaning</span> <span style=\"background-color: #EAEAFF\">staff</span> <span style=\"background-color: #FFFAFA\">toilets</span> <span style=\"background-color: #FCFCFF\">and</span> <span style=\"background-color: #F0F0FF\">rest</span> <span style=\"background-color: #FFE6E6\">room</span> <span style=\"background-color: #FFEEEE\">.</span> <span style=\"background-color: #FFFCFC\">must</span> <span style=\"background-color: #FEFEFF\">be</span> <span style=\"background-color: #EEEEFF\">able</span> <span style=\"background-color: #FFF2F2\">to</span> <span style=\"background-color: #FCFCFF\">read</span> <span style=\"background-color: #FFE8E8\">as</span> <span style=\"background-color: #FFFEFE\">they</span> <span style=\"background-color: #FEFEFF\">will</span> <span style=\"background-color: #FFFEFE\">be</span> <span style=\"background-color: #FEFEFF\">using</span> <span style=\"background-color: #FFFEFE\">UNK</span> <span style=\"background-color: #FFEEEE\">which</span> <span style=\"background-color: #FEFEFF\">need</span> <span style=\"background-color: #FFFEFE\">UNK</span> <span style=\"background-color: #FAFAFF\">as</span> <span style=\"background-color: #F0F0FF\">per</span> <span style=\"background-color: #ECECFF\">instructions</span> <span style=\"background-color: #F0F0FF\">on</span> <span style=\"background-color: #F8F8FF\">the</span> <span style=\"background-color: #FFD3D3\">containers</span> <span style=\"background-color: #FFF6F6\">.</span> <span style=\"background-color: #FFFEFE\">sucessfull</span> <span style=\"background-color: #FEFEFF\">applicants</span> <span style=\"background-color: #FAFAFF\">will</span> <span style=\"background-color: #FFFAFA\">be</span> <span style=\"background-color: #F6F6FF\">trained</span> <span style=\"background-color: #FEFEFF\">on</span> <span style=\"background-color: #FFF0F0\">all</span> <span style=\"background-color: #FFF0F0\">electrical</span> <span style=\"background-color: #FFF4F4\">appliances</span> <span style=\"background-color: #FCFCFF\">and</span> <span style=\"background-color: #FFFEFE\">UNK</span> <span style=\"background-color: #ECECFF\">of</span> <span style=\"background-color: #FEFEFF\">cleaning</span> <span style=\"background-color: #FAFAFF\">materials</span> <span style=\"background-color: #FEFEFF\">.</span></p>"
      ]
     },
     "metadata": {},
     "output_type": "display_data"
    }
   ],
   "execution_count": 146
  },
  {
   "cell_type": "markdown",
   "metadata": {},
   "source": [
    "__Terrible start-up idea #1962:__ make a tool that automaticaly rephrases your job description (or CV) to meet salary expectations :)"
   ]
  },
  {
   "metadata": {
    "ExecuteTime": {
     "end_time": "2024-12-22T14:15:13.826677Z",
     "start_time": "2024-12-22T14:15:13.818968Z"
    }
   },
   "cell_type": "code",
   "source": [
    "def analyse_prediction(sample_example):\n",
    "    print(\"Salary:\", np.expm1(model(make_batch(sample_example, device=device, min_title_len=MIN_TITLE_LEN)).detach().cpu()))\n",
    "    \n",
    "    tokens_and_weights = explain(model, sample_example.loc[0], \"Title\")\n",
    "    draw_html([(tok, weight * 5) for tok, weight in tokens_and_weights], font_style='font-size:20px;')\n",
    "    \n",
    "    tokens_and_weights = explain(model, sample_example.loc[0], \"FullDescription\")\n",
    "    draw_html([(tok, weight * 10) for tok, weight in tokens_and_weights]);"
   ],
   "outputs": [],
   "execution_count": 100
  },
  {
   "metadata": {
    "ExecuteTime": {
     "end_time": "2024-12-22T14:15:30.536508Z",
     "start_time": "2024-12-22T14:15:30.533471Z"
    }
   },
   "cell_type": "code",
   "source": "sample_example = data.iloc[0: 1].copy()",
   "outputs": [],
   "execution_count": 101
  },
  {
   "metadata": {
    "ExecuteTime": {
     "end_time": "2024-12-22T14:15:44.162544Z",
     "start_time": "2024-12-22T14:15:44.143517Z"
    }
   },
   "cell_type": "code",
   "source": [
    "sample_example[\"Title\"] = \"head of python development\"\n",
    "sample_example[\"FullDescription\"] = \"manager of python developers\"\n",
    "\n",
    "analyse_prediction(sample_example)"
   ],
   "outputs": [
    {
     "name": "stdout",
     "output_type": "stream",
     "text": [
      "Salary: tensor([41769.4375])\n"
     ]
    },
    {
     "data": {
      "text/html": [
       "<p style=\"font-size:20px;\"><span style=\"background-color: #4040FF\">head</span> <span style=\"background-color: #7979FF\">of</span> <span style=\"background-color: #FFBCBC\">python</span> <span style=\"background-color: #E0E0FF\">development</span></p>"
      ]
     },
     "metadata": {},
     "output_type": "display_data"
    },
    {
     "data": {
      "text/html": [
       "<p style=\"font-size:14px;\"><span style=\"background-color: #D3D3FF\">manager</span> <span style=\"background-color: #5656FF\">of</span> <span style=\"background-color: #9090FF\">python</span> <span style=\"background-color: #A3A3FF\">developers</span></p>"
      ]
     },
     "metadata": {},
     "output_type": "display_data"
    }
   ],
   "execution_count": 102
  },
  {
   "metadata": {
    "ExecuteTime": {
     "end_time": "2024-12-22T14:16:00.352775Z",
     "start_time": "2024-12-22T14:16:00.336900Z"
    }
   },
   "cell_type": "code",
   "source": [
    "sample_example[\"Title\"] = \"python development\"\n",
    "\n",
    "analyse_prediction(sample_example)"
   ],
   "outputs": [
    {
     "name": "stdout",
     "output_type": "stream",
     "text": [
      "Salary: tensor([28890.7070])\n"
     ]
    },
    {
     "data": {
      "text/html": [
       "<p style=\"font-size:20px;\"><span style=\"background-color: #CECEFF\">python</span> <span style=\"background-color: #FFD0D0\">development</span></p>"
      ]
     },
     "metadata": {},
     "output_type": "display_data"
    },
    {
     "data": {
      "text/html": [
       "<p style=\"font-size:14px;\"><span style=\"background-color: #D8D8FF\">manager</span> <span style=\"background-color: #5C5CFF\">of</span> <span style=\"background-color: #9696FF\">python</span> <span style=\"background-color: #AAAAFF\">developers</span></p>"
      ]
     },
     "metadata": {},
     "output_type": "display_data"
    }
   ],
   "execution_count": 103
  },
  {
   "metadata": {
    "ExecuteTime": {
     "end_time": "2024-12-22T14:18:32.525496Z",
     "start_time": "2024-12-22T14:18:32.506381Z"
    }
   },
   "cell_type": "code",
   "source": [
    "sample_example[\"Title\"] = \"trainee python intern developer / part time\"\n",
    "sample_example[\"FullDescription\"] = \"low skilled python enthusiast\"\n",
    "\n",
    "analyse_prediction(sample_example)"
   ],
   "outputs": [
    {
     "name": "stdout",
     "output_type": "stream",
     "text": [
      "Salary: tensor([18219.0508])\n"
     ]
    },
    {
     "data": {
      "text/html": [
       "<p style=\"font-size:20px;\"><span style=\"background-color: #FFC8C8\">trainee</span> <span style=\"background-color: #ECECFF\">python</span> <span style=\"background-color: #FF9696\">intern</span> <span style=\"background-color: #DADAFF\">developer</span> <span style=\"background-color: #FFDADA\">/</span> <span style=\"background-color: #FFD3D3\">part</span> <span style=\"background-color: #E6E6FF\">time</span></p>"
      ]
     },
     "metadata": {},
     "output_type": "display_data"
    },
    {
     "data": {
      "text/html": [
       "<p style=\"font-size:14px;\"><span style=\"background-color: #DEDEFF\">low</span> <span style=\"background-color: #ACACFF\">skilled</span> <span style=\"background-color: #6161FF\">python</span> <span style=\"background-color: #ECECFF\">enthusiast</span></p>"
      ]
     },
     "metadata": {},
     "output_type": "display_data"
    }
   ],
   "execution_count": 106
  },
  {
   "metadata": {},
   "cell_type": "code",
   "outputs": [],
   "execution_count": null,
   "source": ""
  }
 ],
 "metadata": {
  "kernelspec": {
   "display_name": "Python 3 (ipykernel)",
   "language": "python",
   "name": "python3"
  },
  "language_info": {
   "codemirror_mode": {
    "name": "ipython",
    "version": 3
   },
   "file_extension": ".py",
   "mimetype": "text/x-python",
   "name": "python",
   "nbconvert_exporter": "python",
   "pygments_lexer": "ipython3",
   "version": "3.11.8"
  }
 },
 "nbformat": 4,
 "nbformat_minor": 4
}
