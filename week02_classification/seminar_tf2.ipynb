{
 "cells": [
  {
   "cell_type": "markdown",
   "metadata": {},
   "source": [
    "# Large scale text analysis with deep learning (3 points)\n",
    "\n",
    "Today we're gonna apply the newly learned tools for the task of predicting job salary.\n",
    "\n",
    "<img src=\"https://storage.googleapis.com/kaggle-competitions/kaggle/3342/media/salary%20prediction%20engine%20v2.png\" width=400px>\n",
    "\n",
    "_Special thanks to [Oleg Vasilev](https://github.com/Omrigan/) for the core assignment idea._"
   ]
  },
  {
   "cell_type": "code",
   "metadata": {
    "ExecuteTime": {
     "end_time": "2024-12-16T12:35:06.364293Z",
     "start_time": "2024-12-16T12:35:05.808265Z"
    }
   },
   "source": [
    "import numpy as np\n",
    "import pandas as pd\n",
    "import matplotlib.pyplot as plt\n",
    "%matplotlib inline"
   ],
   "outputs": [],
   "execution_count": 1
  },
  {
   "cell_type": "markdown",
   "metadata": {},
   "source": [
    "### About the challenge\n",
    "For starters, let's download and unpack the data from [here](https://www.dropbox.com/s/5msc5ix7ndyba10/Train_rev1.csv.tar.gz?dl=0). \n",
    "\n",
    "You can also get it from [yadisk url](https://yadi.sk/d/vVEOWPFY3NruT7) the competition [page](https://www.kaggle.com/c/job-salary-prediction/data) (pick `Train_rev1.*`)."
   ]
  },
  {
   "cell_type": "code",
   "metadata": {
    "ExecuteTime": {
     "end_time": "2024-12-16T12:35:31.699396Z",
     "start_time": "2024-12-16T12:35:06.979881Z"
    }
   },
   "source": [
    "!curl -L https://www.dropbox.com/s/5msc5ix7ndyba10/Train_rev1.csv.tar.gz?dl=1 -o Train_rev1.csv.tar.gz\n",
    "!tar -xvzf ./Train_rev1.csv.tar.gz\n",
    "data = pd.read_csv(\"./Train_rev1.csv\", index_col=None)\n",
    "\n",
    "# data = pd.read_csv(\"./Train_rev1.zip\", compression='zip', index_col=None)\n",
    "# data.shape"
   ],
   "outputs": [
    {
     "name": "stdout",
     "output_type": "stream",
     "text": [
      "  % Total    % Received % Xferd  Average Speed   Time    Time     Time  Current\r\n",
      "                                 Dload  Upload   Total   Spent    Left  Speed\r\n",
      "100   138  100   138    0     0    147      0 --:--:-- --:--:-- --:--:--   147\r\n",
      "100    17  100    17    0     0      9      0  0:00:01  0:00:01 --:--:--   377\r\n",
      "100   475    0   475    0     0    138      0 --:--:--  0:00:03 --:--:--     0\r\n",
      "100  119M  100  119M    0     0  7627k      0  0:00:16  0:00:16 --:--:-- 10.1M\r\n",
      "Train_rev1.csv\r\n"
     ]
    }
   ],
   "execution_count": 2
  },
  {
   "cell_type": "markdown",
   "metadata": {},
   "source": [
    "One problem with salary prediction is that it's oddly distributed: there are many people who are paid standard salaries and a few that get tons o money. The distribution is fat-tailed on the right side, which is inconvenient for MSE minimization.\n",
    "\n",
    "There are several techniques to combat this: using a different loss function, predicting log-target instead of raw target or even replacing targets with their percentiles among all salaries in the training set. We gonna use logarithm for now.\n",
    "\n",
    "_You can read more [in the official description](https://www.kaggle.com/c/job-salary-prediction#description)._"
   ]
  },
  {
   "cell_type": "code",
   "metadata": {
    "ExecuteTime": {
     "end_time": "2024-12-16T12:56:50.614178Z",
     "start_time": "2024-12-16T12:56:50.406668Z"
    }
   },
   "source": [
    "data['Log1pSalary'] = np.log1p(data['SalaryNormalized']).astype('float32')\n",
    "\n",
    "plt.figure(figsize=(8, 4))\n",
    "plt.subplot(1, 2, 1)\n",
    "plt.hist(data[\"SalaryNormalized\"], bins=20)\n",
    "\n",
    "plt.subplot(1, 2, 2)\n",
    "plt.hist(data['Log1pSalary'], bins=20);"
   ],
   "outputs": [
    {
     "data": {
      "text/plain": [
       "<Figure size 800x400 with 2 Axes>"
      ],
      "image/png": "[encoded data removed]"
     },
     "metadata": {},
     "output_type": "display_data"
    }
   ],
   "execution_count": 124
  },
  {
   "cell_type": "markdown",
   "metadata": {},
   "source": [
    "Our task is to predict one number, __Log1pSalary__.\n",
    "\n",
    "To do so, our model can access a number of features:\n",
    "* Free text: __`Title`__ and  __`FullDescription`__\n",
    "* Categorical: __`Category`__, __`Company`__, __`LocationNormalized`__, __`ContractType`__, and __`ContractTime`__."
   ]
  },
  {
   "cell_type": "code",
   "metadata": {
    "ExecuteTime": {
     "end_time": "2024-12-16T12:57:09.229626Z",
     "start_time": "2024-12-16T12:57:09.143725Z"
    }
   },
   "source": [
    "text_columns = [\"Title\", \"FullDescription\"]\n",
    "categorical_columns = [\"Category\", \"Company\", \"LocationNormalized\", \"ContractType\", \"ContractTime\"]\n",
    "target_column = \"Log1pSalary\"\n",
    "\n",
    "data[categorical_columns] = data[categorical_columns].fillna('NaN') # cast missing values to string \"NaN\"\n",
    "\n",
    "data.sample(3)"
   ],
   "outputs": [
    {
     "data": {
      "text/plain": [
       "              Id                                                        Title  \\\n",
       "63610   68704550                                         inventory supervisor   \n",
       "111185  69683978  senior it systems engineer fast growing it support business   \n",
       "191939  71752805                     labourers with confined space experience   \n",
       "\n",
       "                                                                                                                                                                                                                                                                                                                                                                                                                                                                                                                                                                                                                                                                                                                                                                                                                                                                                                                                                                                                                                                                                                                                                                                                                                                                                                                                                                                                                                                                                                                                                                                                                                                                                                                                                                                                                                                                                                                                                                                                                                                                                                                                                                                                                                                                                                                                                                                                                                                                                                                                                                                                                                                                                                                                                                                                                                                                                                                                                                                                                                                                                                                                                                                                                                                                                                                                                                                                                                                                                                                                                                                                                                                                                                                                                                                                                                                                                                                                                                                                                                                                                                                                                                                                                                                                                                                                                                                                                                                                                           FullDescription  \\\n",
       "63610                                                                                                                                                                                                                                                                                                                                                                                                                                                                                                                                                                                                                                                                                                                                                                                                                                                                                                                                                                                                                                                                                                                                                                                                                                                                                                                                                                                                                                                                                                                                                                                                                                                                                                                                                                                                                                                                                                                                                                                                                                                                                                                                                                                                                                                                                                                                                                                                                                          wis international is one of the world ' s leading stocktaking companies and conducts inventories throughout the uk for retail companies such as asda , debenhams , dunelm mill , republic and zara . we have exciting times ahead and due to our continued success and rapid business growth , we are looking to strengthen our field teams with the addition of new inventory supervisors to be based within the stockton area , stockton on tees , commutable from , redcar , middlesbrough , guisborough , darlington , newton aycliffe , hartlepool , sedgfield , yarm , billingham , grindon as an inventory supervisor you will thrive on delivering great results , ensuring your team completes stock takes accurately and successfully . this is an opportunity for you to become a success and to develop a long term career within wis . this is an entry level position and would be an excellent first step into management . you may have or be currently working within the retail environment as an assistant manager , floor manager , team leader , supervisor or from within a similar field with at least 1 years experience . if you have a passion for customer service and can demonstrate first class communication and strong leadership skills , combined with an eye for detail and flair we would like to hear from you . we can offer the opportunity for you to earn a salary based on an hourly rate of **** with great earnings potential , flexible hours , guaranteed annual salary of **** based on **** hours week , with the opportunity to increase to up to **** a year based on **** hours . plus full training and career development . the role will involve travel and nights away and a full clean driving license is also needed , plus you must be prepared to use your own car at peak times . applicants must have a valid passport due to travel to europe . please click apply and attached your cv . this job was originally posted as www . totaljobs . com / jobseeking / inventorysupervisor_job ****   \n",
       "111185  senior it systems engineer fast growing it support businessliverpool ( l ****) up to **** dependent on experienceoverview : this is an exciting opportunity for someone to make a significant positive difference in a fast growing and dynamic it support business . our mission is to be the uk ’ s preferred and trusted provider of it services and has grown significantly over the last few years . it currently consists of its head office in merseyside plus **** other franchised businesses around the uk , and has ambitious plans for continued growth . the head office is now looking for an experienced , ambitious and enthusiastic senior it systems engineer to join the team to help take the business forward . this key role involves a wide ranging remit but you will be primarily responsible for :**** configuring and developing the central support system for the group ( powered by the kaseya managed service system ) 2 . providing high level ( 2nd / 3rd line ) technical support to our franchisees and their technical staff3 . providing 1st line support to customers of franchisees when such services have been outsourced to head office ****. helping franchisees and their technical staff with scoping , specification and quotation of projects **** develop and rollout best practice technical processes to the groupyou will work closely with the group operations director and report directly to the managing director but will be expected to be selfdriven and be able to operate for substantial periods without close supervision . you will have excellent communication skills ( written and verbal ), a proven track record of delivering successful it support & projects , and a real enthusiasm for delivering great service . working hours : 40 hours per week ( core hours are weekdays ’ ****: 30am to ****: 30pm with 1 hour for lunch ) plus on call support ****: 00am to ****: 00pm on saturdays ( no more than 1 in 4 saturdays with additional remuneration ) plus other occasional weekend work when required . holidays will be 22 days per annum plus bank holidays / public holidayssenior systems engineer required skills : you will have exceptional knowledge of it systems and their application in an sme environment . a greater technical working knowledge of the following areas would be considered a distinct advantage :> microsoft windows server **** and later , including ad and gpo > microsoft exchange **** and later > microsoft windows small business server **** and later > google apps for business > microsoft office **** including migrations to > website hosting , with some understanding of mssql , mysql , asp , php , javascript > general server , pc and laptop troubleshooting and problemsolving > wintel hardware and software experience together with experience of peripherals and accessories , particularly in relation to fault diagnosis > advanced support and management of microsoft windows xp , vista and windows 7 > advanced support and management of microsoft office including an operational understanding of microsoft access > a working knowledge of the osi 7 layer model > working knowledge of vpn / vlan / nat / dmz / dns / dhcp with ability to practically apply to draytek , netgear and cisco hardware > a detailed working knowledge and understanding of email technologies , including pop / imap / smtp / mapi > apple mac ( desirable ) personal attributes : you will need :> practical working and real world experience to prove your credentials > to be a natural analytical and problem solving person and able to learn on the fly , with exceptional problem solving skills and capabilities > excellent organisation and multitasking skills > obsession with delivering great results underpinned by superb customer service > to be a confident communicator with an exceptional listening ability and a good telephone manner > selfmotivation > keenness to help and assist others > a willingness and enthusiasm to learn > to be ambitious and hard working > to be well presented , outgoing and friendly > enthusiasm about technology and its use > excellent academic record of achievement > to show evidence of selfdevelopment / selflearning > to display a sense of urgency at all times , and a commitment to delivering great results in a timely manner > a full , clean driving license or willingness to travel   \n",
       "191939                                                                                                                                                                                                                                                                                                                                                                                                                                                                                                                                                                                                                                                                                                                                                                                                                                                                                                                                                                                                                                                                                                                                                                                                                                                                                                                                                                                                                                                                                                                                                                                                                                                                                                                                                                                                                                                                                                                                                                                                                                                                                                                                                                                                                                                                                                                                                                                                                                                                                                                                                                                                                                                                                                                                                                                                                                                                                                                                                                                                                                                                                                                                                                                                                                                                                                                                                                                                                                                                                                                                                                                                                                                                                                                                                                                                                                                                        this vacancy is being advertised on behalf of vary recruitment who are operating as an employment business . our client is industrial waste management company and their services extend from tank and vessel cleaning , hazardous chemical waste disposal , vacuum tank services , tanker waster collections and industrial jetting services . they are looking for experienced site labourers with experience in any of the following : certificate in confined space entry high pressure jet washers if you are interested , please call joy on **** **** **** between monday and friday 9am till 5pm or email your cv to   \n",
       "\n",
       "                                  LocationRaw LocationNormalized ContractType  \\\n",
       "63610   Stockton-On-Tees Cleveland North East                 UK          NaN   \n",
       "111185                              Liverpool          Liverpool    full_time   \n",
       "191939                            Grangemouth        Grangemouth    full_time   \n",
       "\n",
       "       ContractTime                    Company                   Category  \\\n",
       "63610     permanent                      Other                Retail Jobs   \n",
       "111185          NaN  RecruitmentRevolution.com                    IT Jobs   \n",
       "191939          NaN                        NaN  Trade & Construction Jobs   \n",
       "\n",
       "                   SalaryRaw  SalaryNormalized         SourceName  Log1pSalary  \n",
       "63610   7.49 - 7.50 per hour             14390      totaljobs.com     9.574358  \n",
       "111185                 40000             40000  careerbuilder.com    10.596660  \n",
       "191939  7.90 - 7.90 per hour             15168     Jobcentre Plus     9.627009  "
      ],
      "text/html": [
       "<div>\n",
       "<style scoped>\n",
       "    .dataframe tbody tr th:only-of-type {\n",
       "        vertical-align: middle;\n",
       "    }\n",
       "\n",
       "    .dataframe tbody tr th {\n",
       "        vertical-align: top;\n",
       "    }\n",
       "\n",
       "    .dataframe thead th {\n",
       "        text-align: right;\n",
       "    }\n",
       "</style>\n",
       "<table border=\"1\" class=\"dataframe\">\n",
       "  <thead>\n",
       "    <tr style=\"text-align: right;\">\n",
       "      <th></th>\n",
       "      <th>Id</th>\n",
       "      <th>Title</th>\n",
       "      <th>FullDescription</th>\n",
       "      <th>LocationRaw</th>\n",
       "      <th>LocationNormalized</th>\n",
       "      <th>ContractType</th>\n",
       "      <th>ContractTime</th>\n",
       "      <th>Company</th>\n",
       "      <th>Category</th>\n",
       "      <th>SalaryRaw</th>\n",
       "      <th>SalaryNormalized</th>\n",
       "      <th>SourceName</th>\n",
       "      <th>Log1pSalary</th>\n",
       "    </tr>\n",
       "  </thead>\n",
       "  <tbody>\n",
       "    <tr>\n",
       "      <th>63610</th>\n",
       "      <td>68704550</td>\n",
       "      <td>inventory supervisor</td>\n",
       "      <td>wis international is one of the world ' s leading stocktaking companies and conducts inventories throughout the uk for retail companies such as asda , debenhams , dunelm mill , republic and zara . we have exciting times ahead and due to our continued success and rapid business growth , we are looking to strengthen our field teams with the addition of new inventory supervisors to be based within the stockton area , stockton on tees , commutable from , redcar , middlesbrough , guisborough , darlington , newton aycliffe , hartlepool , sedgfield , yarm , billingham , grindon as an inventory supervisor you will thrive on delivering great results , ensuring your team completes stock takes accurately and successfully . this is an opportunity for you to become a success and to develop a long term career within wis . this is an entry level position and would be an excellent first step into management . you may have or be currently working within the retail environment as an assistant manager , floor manager , team leader , supervisor or from within a similar field with at least 1 years experience . if you have a passion for customer service and can demonstrate first class communication and strong leadership skills , combined with an eye for detail and flair we would like to hear from you . we can offer the opportunity for you to earn a salary based on an hourly rate of **** with great earnings potential , flexible hours , guaranteed annual salary of **** based on **** hours week , with the opportunity to increase to up to **** a year based on **** hours . plus full training and career development . the role will involve travel and nights away and a full clean driving license is also needed , plus you must be prepared to use your own car at peak times . applicants must have a valid passport due to travel to europe . please click apply and attached your cv . this job was originally posted as www . totaljobs . com / jobseeking / inventorysupervisor_job ****</td>\n",
       "      <td>Stockton-On-Tees Cleveland North East</td>\n",
       "      <td>UK</td>\n",
       "      <td>NaN</td>\n",
       "      <td>permanent</td>\n",
       "      <td>Other</td>\n",
       "      <td>Retail Jobs</td>\n",
       "      <td>7.49 - 7.50 per hour</td>\n",
       "      <td>14390</td>\n",
       "      <td>totaljobs.com</td>\n",
       "      <td>9.574358</td>\n",
       "    </tr>\n",
       "    <tr>\n",
       "      <th>111185</th>\n",
       "      <td>69683978</td>\n",
       "      <td>senior it systems engineer fast growing it support business</td>\n",
       "      <td>senior it systems engineer fast growing it support businessliverpool ( l ****) up to **** dependent on experienceoverview : this is an exciting opportunity for someone to make a significant positive difference in a fast growing and dynamic it support business . our mission is to be the uk ’ s preferred and trusted provider of it services and has grown significantly over the last few years . it currently consists of its head office in merseyside plus **** other franchised businesses around the uk , and has ambitious plans for continued growth . the head office is now looking for an experienced , ambitious and enthusiastic senior it systems engineer to join the team to help take the business forward . this key role involves a wide ranging remit but you will be primarily responsible for :**** configuring and developing the central support system for the group ( powered by the kaseya managed service system ) 2 . providing high level ( 2nd / 3rd line ) technical support to our franchisees and their technical staff3 . providing 1st line support to customers of franchisees when such services have been outsourced to head office ****. helping franchisees and their technical staff with scoping , specification and quotation of projects **** develop and rollout best practice technical processes to the groupyou will work closely with the group operations director and report directly to the managing director but will be expected to be selfdriven and be able to operate for substantial periods without close supervision . you will have excellent communication skills ( written and verbal ), a proven track record of delivering successful it support &amp; projects , and a real enthusiasm for delivering great service . working hours : 40 hours per week ( core hours are weekdays ’ ****: 30am to ****: 30pm with 1 hour for lunch ) plus on call support ****: 00am to ****: 00pm on saturdays ( no more than 1 in 4 saturdays with additional remuneration ) plus other occasional weekend work when required . holidays will be 22 days per annum plus bank holidays / public holidayssenior systems engineer required skills : you will have exceptional knowledge of it systems and their application in an sme environment . a greater technical working knowledge of the following areas would be considered a distinct advantage :&gt; microsoft windows server **** and later , including ad and gpo &gt; microsoft exchange **** and later &gt; microsoft windows small business server **** and later &gt; google apps for business &gt; microsoft office **** including migrations to &gt; website hosting , with some understanding of mssql , mysql , asp , php , javascript &gt; general server , pc and laptop troubleshooting and problemsolving &gt; wintel hardware and software experience together with experience of peripherals and accessories , particularly in relation to fault diagnosis &gt; advanced support and management of microsoft windows xp , vista and windows 7 &gt; advanced support and management of microsoft office including an operational understanding of microsoft access &gt; a working knowledge of the osi 7 layer model &gt; working knowledge of vpn / vlan / nat / dmz / dns / dhcp with ability to practically apply to draytek , netgear and cisco hardware &gt; a detailed working knowledge and understanding of email technologies , including pop / imap / smtp / mapi &gt; apple mac ( desirable ) personal attributes : you will need :&gt; practical working and real world experience to prove your credentials &gt; to be a natural analytical and problem solving person and able to learn on the fly , with exceptional problem solving skills and capabilities &gt; excellent organisation and multitasking skills &gt; obsession with delivering great results underpinned by superb customer service &gt; to be a confident communicator with an exceptional listening ability and a good telephone manner &gt; selfmotivation &gt; keenness to help and assist others &gt; a willingness and enthusiasm to learn &gt; to be ambitious and hard working &gt; to be well presented , outgoing and friendly &gt; enthusiasm about technology and its use &gt; excellent academic record of achievement &gt; to show evidence of selfdevelopment / selflearning &gt; to display a sense of urgency at all times , and a commitment to delivering great results in a timely manner &gt; a full , clean driving license or willingness to travel</td>\n",
       "      <td>Liverpool</td>\n",
       "      <td>Liverpool</td>\n",
       "      <td>full_time</td>\n",
       "      <td>NaN</td>\n",
       "      <td>RecruitmentRevolution.com</td>\n",
       "      <td>IT Jobs</td>\n",
       "      <td>40000</td>\n",
       "      <td>40000</td>\n",
       "      <td>careerbuilder.com</td>\n",
       "      <td>10.596660</td>\n",
       "    </tr>\n",
       "    <tr>\n",
       "      <th>191939</th>\n",
       "      <td>71752805</td>\n",
       "      <td>labourers with confined space experience</td>\n",
       "      <td>this vacancy is being advertised on behalf of vary recruitment who are operating as an employment business . our client is industrial waste management company and their services extend from tank and vessel cleaning , hazardous chemical waste disposal , vacuum tank services , tanker waster collections and industrial jetting services . they are looking for experienced site labourers with experience in any of the following : certificate in confined space entry high pressure jet washers if you are interested , please call joy on **** **** **** between monday and friday 9am till 5pm or email your cv to</td>\n",
       "      <td>Grangemouth</td>\n",
       "      <td>Grangemouth</td>\n",
       "      <td>full_time</td>\n",
       "      <td>NaN</td>\n",
       "      <td>NaN</td>\n",
       "      <td>Trade &amp; Construction Jobs</td>\n",
       "      <td>7.90 - 7.90 per hour</td>\n",
       "      <td>15168</td>\n",
       "      <td>Jobcentre Plus</td>\n",
       "      <td>9.627009</td>\n",
       "    </tr>\n",
       "  </tbody>\n",
       "</table>\n",
       "</div>"
      ]
     },
     "execution_count": 125,
     "metadata": {},
     "output_type": "execute_result"
    }
   ],
   "execution_count": 125
  },
  {
   "cell_type": "markdown",
   "metadata": {},
   "source": [
    "### Preprocessing text data\n",
    "\n",
    "Just like last week, applying NLP to a problem begins from tokenization: splitting raw text into sequences of tokens (words, punctuation, etc).\n",
    "\n",
    "__Your task__ is to lowercase and tokenize all texts under `Title` and `FullDescription` columns. Store the tokenized data as a __space-separated__ string of tokens for performance reasons.\n",
    "\n",
    "It's okay to use nltk tokenizers. Assertions were designed for WordPunctTokenizer, slight deviations are okay."
   ]
  },
  {
   "cell_type": "code",
   "metadata": {
    "ExecuteTime": {
     "end_time": "2024-12-16T12:57:11.390244Z",
     "start_time": "2024-12-16T12:57:11.382779Z"
    }
   },
   "source": [
    "print(\"Raw text:\")\n",
    "print(data[\"FullDescription\"][2::100000])"
   ],
   "outputs": [
    {
     "name": "stdout",
     "output_type": "stream",
     "text": [
      "Raw text:\n",
      "2                                                                                                                                                                                                                                                                                                                                                                                                                                                                                                                                                                                                                                                                                                                mathematical modeller / simulation analyst / operational analyst basingstoke , hampshire up to **** k aae pension contribution , private medical and dental the opportunity our client is an independent consultancy firm which has an opportunity for a data analyst with 35 years experience . the role will require the successful candidate to demonstrate their ability to analyse a problem and arrive at a solution , with varying levels of data being available . essential skills thorough knowledge of excel and proven ability to utilise this to create powerful decision support models experience in modelling and simulation techniques , experience of techniques such as discrete event simulation and / or sd modelling mathematical / scientific background minimum degree qualified proven analytical and problem solving skills self starter ability to develop solid working relationships in addition to formal qualifications and experience , the successful candidate will require excellent written and verbal communication skills , be energetic , enterprising and have a determination to succeed . they will be required to build solid working relationships , both internally with colleagues and , most importantly , externally with our clients . they must be comfortable working independently to deliver against challenging client demands . the offices are located in basingstoke , hampshire , but our client work for clients worldwide . the successful candidate must therefore be prepared to undertake work at client sites for short periods of time . physics , mathematics , modelling , simulation , analytical , operational research , mathematical modelling mathematical modeller / simulation analyst / operational analyst basingstoke , hampshire **** k aae pension contribution , private medical and dental\n",
      "100002    a successful and high achieving specialist school in the london borough of brent is looking for an exceptional economics teacher for september 2013 . this post is open to outstanding nqts if you want to work in an inspiring secondary school and teach economics to students who love to learn , we would love to hear from you if you re an economics teacher ( nqt ) and you are looking for the perfect school , we may be able to help you . get in touch today to secure yourself an immediate interview economics teacher nqt post for september 2013 main pay scale inner london fantastic nqt support mixed **** secondary school in north west london brent graded outstanding overall by ofsted ks3 /****/**** outstanding . this is your chance to join a school this fantastic school . this school has great facilities including **** science labs , **** ict suites , **** art studios , library and learning resources centre , great hall with excellent stage facilities , fully equipped performing arts theatre , large playing fields and a boys and girls gym . on top of these amazing resources the school also has some of the best extra curriculum activities on offer to its students , which is something the school would love and encourages members of staff to get involved with . economics is a popular choice among students at this school and the curriculum helps students to understand how businesses operate . students will study the full range of business functions including marketing and enterprise , production , human resources , finance and the external environment . students will develop critical thinking and analytical skills , problem solving and research skills which will serve them well in the workplace . both the gcse examination course and the btec with its assignment structure will give students a broad but sound foundation in business and economics . students may choose to go on to further and higher education and develop a more indepth level of knowledge in relation to a particular area . if you re an outstanding nqt , this school can offer you everything you are looking for . this is a popular and supportive school with students who behave well , respect their teachers and do well in their exams . this school also has an excellent cpd programme . nqts joining this school can look forward to working in a supportive department and have an excellent induction year . if this is the school for you , please email a cv and covering letter to nigel at edustaff\n",
      "200002                                                                                                                                                                                                                                                                                                                                                                                                                                                                                                                                                                                                                                                                                                                                      web designer html , css , javascript , photoshop , illustrator macclesfield a creative web designer is required to oversee all graphical imaging including website design , email marketing and facebook campaigns at a established company based in macclesfield . skills html , css , javascript , photoshop , illustrator we are looking for an enthusiastic web designer with a creative flair and innovative attitude towards working life . you should be comfortable in a team environment but also able to work alone , whilst always striving to work to the highest standards possible . your main skills will lie in html / css / javascript and photoshop whilst having the creativity and raw talent required to perform at the highest level as a web designer . you will have the ability to hand code and have commercial experience of web design and building websites whilst having an in depth knowledge of the industry standards . your raw web design talent will be used to produce original designs for both new and existing websites , email marketing material and social media campaigns . the company is a very successful and are currently expanding their digital team . they have already forged a strong reputation and have a large customerbase . you will be placed in a creative environment of like minded employees which will allow your web design skills to flourish . to apply simply send your cv to john . browningsenitor . com or call john on **** **** **** to find out more information web designer html , css , javascript , photoshop , illustrator macclesfield senitor associates ltd is acting as an employment agency in relation to this vacancy . this job was originally posted as www . totaljobs . com / jobseeking / webdesignerhtmlcssjavascriptphotoshopmacclesfield_job ****\n",
      "Name: FullDescription, dtype: object\n"
     ]
    }
   ],
   "execution_count": 126
  },
  {
   "cell_type": "code",
   "metadata": {
    "ExecuteTime": {
     "end_time": "2024-12-16T12:57:32.247106Z",
     "start_time": "2024-12-16T12:57:12.996531Z"
    }
   },
   "source": [
    "import nltk\n",
    "tokenizer = nltk.tokenize.WordPunctTokenizer()\n",
    "\n",
    "# see task above\n",
    "data[\"Title\"] = data[\"Title\"].astype(str)\n",
    "data[\"FullDescription\"] = data[\"FullDescription\"].astype(str)\n",
    "\n",
    "data[\"Title\"] = [\" \".join(tokenizer.tokenize(text.lower())) for text in data[\"Title\"]]\n",
    "data[\"FullDescription\"] = [\" \".join(tokenizer.tokenize(text.lower())) for text in data[\"FullDescription\"]]"
   ],
   "outputs": [],
   "execution_count": 127
  },
  {
   "cell_type": "markdown",
   "metadata": {},
   "source": [
    "Now we can assume that our text is a space-separated list of tokens:"
   ]
  },
  {
   "cell_type": "code",
   "metadata": {
    "ExecuteTime": {
     "end_time": "2024-12-16T12:35:51.864463Z",
     "start_time": "2024-12-16T12:35:51.860015Z"
    }
   },
   "source": [
    "print(\"Tokenized:\")\n",
    "print(data[\"FullDescription\"][2::100000])\n",
    "assert data[\"FullDescription\"][2][:50] == 'mathematical modeller / simulation analyst / opera'\n",
    "assert data[\"Title\"][54321] == 'international digital account manager ( german )'"
   ],
   "outputs": [
    {
     "name": "stdout",
     "output_type": "stream",
     "text": [
      "Tokenized:\n",
      "2         mathematical modeller / simulation analyst / o...\n",
      "100002    a successful and high achieving specialist sch...\n",
      "200002    web designer html , css , javascript , photosh...\n",
      "Name: FullDescription, dtype: object\n"
     ]
    }
   ],
   "execution_count": 7
  },
  {
   "cell_type": "markdown",
   "metadata": {},
   "source": [
    "Not all words are equally useful. Some of them are typos or rare words that are only present a few times. \n",
    "\n",
    "Let's count how many times is each word present in the data so that we can build a \"white list\" of known words."
   ]
  },
  {
   "cell_type": "code",
   "metadata": {
    "ExecuteTime": {
     "end_time": "2024-12-16T12:58:13.906714Z",
     "start_time": "2024-12-16T12:57:58.033337Z"
    }
   },
   "source": [
    "from collections import Counter\n",
    "token_counts = Counter()\n",
    "\n",
    "def count_words(data_coll):\n",
    "    for text in data_coll.values:\n",
    "        for word in text.split():\n",
    "            token_counts[word] += 1\n",
    "\n",
    "count_words(data[\"FullDescription\"])\n",
    "count_words(data[\"Title\"])"
   ],
   "outputs": [],
   "execution_count": 128
  },
  {
   "cell_type": "code",
   "metadata": {
    "ExecuteTime": {
     "end_time": "2024-12-16T12:58:19.695094Z",
     "start_time": "2024-12-16T12:58:19.598536Z"
    }
   },
   "source": [
    "print(\"Total unique tokens :\", len(token_counts))\n",
    "print('\\n'.join(map(str, token_counts.most_common(n=5))))\n",
    "print('...')\n",
    "print('\\n'.join(map(str, token_counts.most_common()[-3:])))\n",
    "\n",
    "assert token_counts.most_common(1)[0][1] in  range(2600000, 2700000)\n",
    "assert len(token_counts) in range(200000, 210000)\n",
    "print('Correct!')"
   ],
   "outputs": [
    {
     "name": "stdout",
     "output_type": "stream",
     "text": [
      "Total unique tokens : 202704\n",
      "('and', 2657388)\n",
      "('.', 2523216)\n",
      "(',', 2318606)\n",
      "('the', 2080994)\n",
      "('to', 2019884)\n",
      "...\n",
      "('improvemen', 1)\n",
      "('techniciancivil', 1)\n",
      "('mlnlycke', 1)\n",
      "Correct!\n"
     ]
    }
   ],
   "execution_count": 129
  },
  {
   "cell_type": "code",
   "metadata": {
    "ExecuteTime": {
     "end_time": "2024-12-16T12:58:20.679785Z",
     "start_time": "2024-12-16T12:58:19.935618Z"
    }
   },
   "source": [
    "# Let's see how many words are there for each count\n",
    "plt.hist(list(token_counts.values()), range=(0, 10**4), bins=50, log=True)\n",
    "plt.xlabel(\"Word counts\");"
   ],
   "outputs": [
    {
     "data": {
      "text/plain": [
       "<Figure size 640x480 with 1 Axes>"
      ],
      "image/png": "[encoded data removed]"
     },
     "metadata": {},
     "output_type": "display_data"
    }
   ],
   "execution_count": 130
  },
  {
   "cell_type": "markdown",
   "metadata": {},
   "source": [
    "Now filter tokens a list of all tokens that occur at least 10 times."
   ]
  },
  {
   "cell_type": "code",
   "metadata": {
    "ExecuteTime": {
     "end_time": "2024-12-16T12:58:21.703551Z",
     "start_time": "2024-12-16T12:58:21.691279Z"
    }
   },
   "source": [
    "min_count = 10\n",
    "\n",
    "# tokens from token_counts keys that had at least min_count occurrences throughout the dataset\n",
    "tokens = [token for token, count in token_counts.items() if count > min_count]"
   ],
   "outputs": [],
   "execution_count": 131
  },
  {
   "cell_type": "code",
   "metadata": {
    "ExecuteTime": {
     "end_time": "2024-12-16T12:58:22.688639Z",
     "start_time": "2024-12-16T12:58:22.667659Z"
    }
   },
   "source": [
    "# Add a special tokens for unknown and empty words\n",
    "UNK, PAD = \"UNK\", \"PAD\"\n",
    "tokens = [UNK, PAD] + sorted(tokens)\n",
    "print(\"Vocabulary size:\", len(tokens))\n",
    "\n",
    "assert type(tokens) == list\n",
    "assert len(tokens) in range(30000, 40000)\n",
    "assert 'me' in tokens\n",
    "assert UNK in tokens\n",
    "print(\"Correct!\")"
   ],
   "outputs": [
    {
     "name": "stdout",
     "output_type": "stream",
     "text": [
      "Vocabulary size: 32456\n",
      "Correct!\n"
     ]
    }
   ],
   "execution_count": 132
  },
  {
   "cell_type": "markdown",
   "metadata": {},
   "source": [
    "Build an inverse token index: a dictionary from token(string) to it's index in `tokens` (int)"
   ]
  },
  {
   "cell_type": "code",
   "metadata": {
    "ExecuteTime": {
     "end_time": "2024-12-16T12:58:23.652221Z",
     "start_time": "2024-12-16T12:58:23.642921Z"
    }
   },
   "source": "token_to_id = {token: idx for idx, token in enumerate(tokens)}",
   "outputs": [],
   "execution_count": 133
  },
  {
   "cell_type": "code",
   "metadata": {
    "ExecuteTime": {
     "end_time": "2024-12-16T12:58:23.965031Z",
     "start_time": "2024-12-16T12:58:23.954957Z"
    }
   },
   "source": [
    "assert isinstance(token_to_id, dict)\n",
    "assert len(token_to_id) == len(tokens)\n",
    "for tok in tokens:\n",
    "    assert tokens[token_to_id[tok]] == tok\n",
    "\n",
    "print(\"Correct!\")"
   ],
   "outputs": [
    {
     "name": "stdout",
     "output_type": "stream",
     "text": [
      "Correct!\n"
     ]
    }
   ],
   "execution_count": 134
  },
  {
   "cell_type": "markdown",
   "metadata": {},
   "source": [
    "And finally, let's use the vocabulary you've built to map text lines into neural network-digestible matrices."
   ]
  },
  {
   "cell_type": "code",
   "metadata": {
    "ExecuteTime": {
     "end_time": "2024-12-16T12:58:24.820516Z",
     "start_time": "2024-12-16T12:58:24.816556Z"
    }
   },
   "source": [
    "UNK_IX, PAD_IX = map(token_to_id.get, [UNK, PAD])\n",
    "\n",
    "def as_matrix(sequences, max_len=None):\n",
    "    \"\"\" Convert a list of tokens into a matrix with padding \"\"\"\n",
    "    if isinstance(sequences[0], str):\n",
    "        sequences = list(map(str.split, sequences))\n",
    "        \n",
    "    max_len = min(max(map(len, sequences)), max_len or float('inf'))\n",
    "    \n",
    "    matrix = np.full((len(sequences), max_len), np.int32(PAD_IX))\n",
    "    for i,seq in enumerate(sequences):\n",
    "        row_ix = [token_to_id.get(word, UNK_IX) for word in seq[:max_len]]\n",
    "        matrix[i, :len(row_ix)] = row_ix\n",
    "    \n",
    "    return matrix"
   ],
   "outputs": [],
   "execution_count": 135
  },
  {
   "cell_type": "code",
   "metadata": {
    "ExecuteTime": {
     "end_time": "2024-12-16T12:58:25.589123Z",
     "start_time": "2024-12-16T12:58:25.584645Z"
    }
   },
   "source": [
    "print(\"Lines:\")\n",
    "print('\\n'.join(data[\"Title\"][::100000].values), end='\\n\\n')\n",
    "print(\"Matrix:\")\n",
    "print(as_matrix(data[\"Title\"][::100000]))"
   ],
   "outputs": [
    {
     "name": "stdout",
     "output_type": "stream",
     "text": [
      "Lines:\n",
      "engineering systems analyst\n",
      "hr assistant\n",
      "senior ec & i engineer\n",
      "\n",
      "Matrix:\n",
      "[[10273 28655  2055     1     1]\n",
      " [14296  2700     1     1     1]\n",
      " [26272  9698    14 14484 10270]]\n"
     ]
    }
   ],
   "execution_count": 136
  },
  {
   "cell_type": "markdown",
   "metadata": {},
   "source": [
    "Now let's  encode the categirical data we have.\n",
    "\n",
    "As usual, we shall use one-hot encoding for simplicity. Kudos if you implement more advanced encodings: tf-idf, pseudo-time-series, etc."
   ]
  },
  {
   "cell_type": "code",
   "metadata": {
    "ExecuteTime": {
     "end_time": "2024-12-16T12:58:31.962196Z",
     "start_time": "2024-12-16T12:58:28.127354Z"
    }
   },
   "source": [
    "from sklearn.feature_extraction import DictVectorizer\n",
    "\n",
    "# we only consider top-1k most frequent companies to minimize memory usage\n",
    "top_companies, top_counts = zip(*Counter(data['Company']).most_common(1000))\n",
    "recognized_companies = set(top_companies)\n",
    "data[\"Company\"] = data[\"Company\"].apply(lambda comp: comp if comp in recognized_companies else \"Other\")\n",
    "\n",
    "categorical_vectorizer = DictVectorizer(dtype=np.float32, sparse=False)\n",
    "categorical_vectorizer.fit(data[categorical_columns].apply(dict, axis=1))"
   ],
   "outputs": [
    {
     "data": {
      "text/plain": [
       "DictVectorizer(dtype=<class 'numpy.float32'>, sparse=False)"
      ],
      "text/html": [
       "<style>#sk-container-id-2 {\n",
       "  /* Definition of color scheme common for light and dark mode */\n",
       "  --sklearn-color-text: #000;\n",
       "  --sklearn-color-text-muted: #666;\n",
       "  --sklearn-color-line: gray;\n",
       "  /* Definition of color scheme for unfitted estimators */\n",
       "  --sklearn-color-unfitted-level-0: #fff5e6;\n",
       "  --sklearn-color-unfitted-level-1: #f6e4d2;\n",
       "  --sklearn-color-unfitted-level-2: #ffe0b3;\n",
       "  --sklearn-color-unfitted-level-3: chocolate;\n",
       "  /* Definition of color scheme for fitted estimators */\n",
       "  --sklearn-color-fitted-level-0: #f0f8ff;\n",
       "  --sklearn-color-fitted-level-1: #d4ebff;\n",
       "  --sklearn-color-fitted-level-2: #b3dbfd;\n",
       "  --sklearn-color-fitted-level-3: cornflowerblue;\n",
       "\n",
       "  /* Specific color for light theme */\n",
       "  --sklearn-color-text-on-default-background: var(--sg-text-color, var(--theme-code-foreground, var(--jp-content-font-color1, black)));\n",
       "  --sklearn-color-background: var(--sg-background-color, var(--theme-background, var(--jp-layout-color0, white)));\n",
       "  --sklearn-color-border-box: var(--sg-text-color, var(--theme-code-foreground, var(--jp-content-font-color1, black)));\n",
       "  --sklearn-color-icon: #696969;\n",
       "\n",
       "  @media (prefers-color-scheme: dark) {\n",
       "    /* Redefinition of color scheme for dark theme */\n",
       "    --sklearn-color-text-on-default-background: var(--sg-text-color, var(--theme-code-foreground, var(--jp-content-font-color1, white)));\n",
       "    --sklearn-color-background: var(--sg-background-color, var(--theme-background, var(--jp-layout-color0, #111)));\n",
       "    --sklearn-color-border-box: var(--sg-text-color, var(--theme-code-foreground, var(--jp-content-font-color1, white)));\n",
       "    --sklearn-color-icon: #878787;\n",
       "  }\n",
       "}\n",
       "\n",
       "#sk-container-id-2 {\n",
       "  color: var(--sklearn-color-text);\n",
       "}\n",
       "\n",
       "#sk-container-id-2 pre {\n",
       "  padding: 0;\n",
       "}\n",
       "\n",
       "#sk-container-id-2 input.sk-hidden--visually {\n",
       "  border: 0;\n",
       "  clip: rect(1px 1px 1px 1px);\n",
       "  clip: rect(1px, 1px, 1px, 1px);\n",
       "  height: 1px;\n",
       "  margin: -1px;\n",
       "  overflow: hidden;\n",
       "  padding: 0;\n",
       "  position: absolute;\n",
       "  width: 1px;\n",
       "}\n",
       "\n",
       "#sk-container-id-2 div.sk-dashed-wrapped {\n",
       "  border: 1px dashed var(--sklearn-color-line);\n",
       "  margin: 0 0.4em 0.5em 0.4em;\n",
       "  box-sizing: border-box;\n",
       "  padding-bottom: 0.4em;\n",
       "  background-color: var(--sklearn-color-background);\n",
       "}\n",
       "\n",
       "#sk-container-id-2 div.sk-container {\n",
       "  /* jupyter's `normalize.less` sets `[hidden] { display: none; }`\n",
       "     but bootstrap.min.css set `[hidden] { display: none !important; }`\n",
       "     so we also need the `!important` here to be able to override the\n",
       "     default hidden behavior on the sphinx rendered scikit-learn.org.\n",
       "     See: https://github.com/scikit-learn/scikit-learn/issues/21755 */\n",
       "  display: inline-block !important;\n",
       "  position: relative;\n",
       "}\n",
       "\n",
       "#sk-container-id-2 div.sk-text-repr-fallback {\n",
       "  display: none;\n",
       "}\n",
       "\n",
       "div.sk-parallel-item,\n",
       "div.sk-serial,\n",
       "div.sk-item {\n",
       "  /* draw centered vertical line to link estimators */\n",
       "  background-image: linear-gradient(var(--sklearn-color-text-on-default-background), var(--sklearn-color-text-on-default-background));\n",
       "  background-size: 2px 100%;\n",
       "  background-repeat: no-repeat;\n",
       "  background-position: center center;\n",
       "}\n",
       "\n",
       "/* Parallel-specific style estimator block */\n",
       "\n",
       "#sk-container-id-2 div.sk-parallel-item::after {\n",
       "  content: \"\";\n",
       "  width: 100%;\n",
       "  border-bottom: 2px solid var(--sklearn-color-text-on-default-background);\n",
       "  flex-grow: 1;\n",
       "}\n",
       "\n",
       "#sk-container-id-2 div.sk-parallel {\n",
       "  display: flex;\n",
       "  align-items: stretch;\n",
       "  justify-content: center;\n",
       "  background-color: var(--sklearn-color-background);\n",
       "  position: relative;\n",
       "}\n",
       "\n",
       "#sk-container-id-2 div.sk-parallel-item {\n",
       "  display: flex;\n",
       "  flex-direction: column;\n",
       "}\n",
       "\n",
       "#sk-container-id-2 div.sk-parallel-item:first-child::after {\n",
       "  align-self: flex-end;\n",
       "  width: 50%;\n",
       "}\n",
       "\n",
       "#sk-container-id-2 div.sk-parallel-item:last-child::after {\n",
       "  align-self: flex-start;\n",
       "  width: 50%;\n",
       "}\n",
       "\n",
       "#sk-container-id-2 div.sk-parallel-item:only-child::after {\n",
       "  width: 0;\n",
       "}\n",
       "\n",
       "/* Serial-specific style estimator block */\n",
       "\n",
       "#sk-container-id-2 div.sk-serial {\n",
       "  display: flex;\n",
       "  flex-direction: column;\n",
       "  align-items: center;\n",
       "  background-color: var(--sklearn-color-background);\n",
       "  padding-right: 1em;\n",
       "  padding-left: 1em;\n",
       "}\n",
       "\n",
       "\n",
       "/* Toggleable style: style used for estimator/Pipeline/ColumnTransformer box that is\n",
       "clickable and can be expanded/collapsed.\n",
       "- Pipeline and ColumnTransformer use this feature and define the default style\n",
       "- Estimators will overwrite some part of the style using the `sk-estimator` class\n",
       "*/\n",
       "\n",
       "/* Pipeline and ColumnTransformer style (default) */\n",
       "\n",
       "#sk-container-id-2 div.sk-toggleable {\n",
       "  /* Default theme specific background. It is overwritten whether we have a\n",
       "  specific estimator or a Pipeline/ColumnTransformer */\n",
       "  background-color: var(--sklearn-color-background);\n",
       "}\n",
       "\n",
       "/* Toggleable label */\n",
       "#sk-container-id-2 label.sk-toggleable__label {\n",
       "  cursor: pointer;\n",
       "  display: flex;\n",
       "  width: 100%;\n",
       "  margin-bottom: 0;\n",
       "  padding: 0.5em;\n",
       "  box-sizing: border-box;\n",
       "  text-align: center;\n",
       "  align-items: start;\n",
       "  justify-content: space-between;\n",
       "  gap: 0.5em;\n",
       "}\n",
       "\n",
       "#sk-container-id-2 label.sk-toggleable__label .caption {\n",
       "  font-size: 0.6rem;\n",
       "  font-weight: lighter;\n",
       "  color: var(--sklearn-color-text-muted);\n",
       "}\n",
       "\n",
       "#sk-container-id-2 label.sk-toggleable__label-arrow:before {\n",
       "  /* Arrow on the left of the label */\n",
       "  content: \"▸\";\n",
       "  float: left;\n",
       "  margin-right: 0.25em;\n",
       "  color: var(--sklearn-color-icon);\n",
       "}\n",
       "\n",
       "#sk-container-id-2 label.sk-toggleable__label-arrow:hover:before {\n",
       "  color: var(--sklearn-color-text);\n",
       "}\n",
       "\n",
       "/* Toggleable content - dropdown */\n",
       "\n",
       "#sk-container-id-2 div.sk-toggleable__content {\n",
       "  max-height: 0;\n",
       "  max-width: 0;\n",
       "  overflow: hidden;\n",
       "  text-align: left;\n",
       "  /* unfitted */\n",
       "  background-color: var(--sklearn-color-unfitted-level-0);\n",
       "}\n",
       "\n",
       "#sk-container-id-2 div.sk-toggleable__content.fitted {\n",
       "  /* fitted */\n",
       "  background-color: var(--sklearn-color-fitted-level-0);\n",
       "}\n",
       "\n",
       "#sk-container-id-2 div.sk-toggleable__content pre {\n",
       "  margin: 0.2em;\n",
       "  border-radius: 0.25em;\n",
       "  color: var(--sklearn-color-text);\n",
       "  /* unfitted */\n",
       "  background-color: var(--sklearn-color-unfitted-level-0);\n",
       "}\n",
       "\n",
       "#sk-container-id-2 div.sk-toggleable__content.fitted pre {\n",
       "  /* unfitted */\n",
       "  background-color: var(--sklearn-color-fitted-level-0);\n",
       "}\n",
       "\n",
       "#sk-container-id-2 input.sk-toggleable__control:checked~div.sk-toggleable__content {\n",
       "  /* Expand drop-down */\n",
       "  max-height: 200px;\n",
       "  max-width: 100%;\n",
       "  overflow: auto;\n",
       "}\n",
       "\n",
       "#sk-container-id-2 input.sk-toggleable__control:checked~label.sk-toggleable__label-arrow:before {\n",
       "  content: \"▾\";\n",
       "}\n",
       "\n",
       "/* Pipeline/ColumnTransformer-specific style */\n",
       "\n",
       "#sk-container-id-2 div.sk-label input.sk-toggleable__control:checked~label.sk-toggleable__label {\n",
       "  color: var(--sklearn-color-text);\n",
       "  background-color: var(--sklearn-color-unfitted-level-2);\n",
       "}\n",
       "\n",
       "#sk-container-id-2 div.sk-label.fitted input.sk-toggleable__control:checked~label.sk-toggleable__label {\n",
       "  background-color: var(--sklearn-color-fitted-level-2);\n",
       "}\n",
       "\n",
       "/* Estimator-specific style */\n",
       "\n",
       "/* Colorize estimator box */\n",
       "#sk-container-id-2 div.sk-estimator input.sk-toggleable__control:checked~label.sk-toggleable__label {\n",
       "  /* unfitted */\n",
       "  background-color: var(--sklearn-color-unfitted-level-2);\n",
       "}\n",
       "\n",
       "#sk-container-id-2 div.sk-estimator.fitted input.sk-toggleable__control:checked~label.sk-toggleable__label {\n",
       "  /* fitted */\n",
       "  background-color: var(--sklearn-color-fitted-level-2);\n",
       "}\n",
       "\n",
       "#sk-container-id-2 div.sk-label label.sk-toggleable__label,\n",
       "#sk-container-id-2 div.sk-label label {\n",
       "  /* The background is the default theme color */\n",
       "  color: var(--sklearn-color-text-on-default-background);\n",
       "}\n",
       "\n",
       "/* On hover, darken the color of the background */\n",
       "#sk-container-id-2 div.sk-label:hover label.sk-toggleable__label {\n",
       "  color: var(--sklearn-color-text);\n",
       "  background-color: var(--sklearn-color-unfitted-level-2);\n",
       "}\n",
       "\n",
       "/* Label box, darken color on hover, fitted */\n",
       "#sk-container-id-2 div.sk-label.fitted:hover label.sk-toggleable__label.fitted {\n",
       "  color: var(--sklearn-color-text);\n",
       "  background-color: var(--sklearn-color-fitted-level-2);\n",
       "}\n",
       "\n",
       "/* Estimator label */\n",
       "\n",
       "#sk-container-id-2 div.sk-label label {\n",
       "  font-family: monospace;\n",
       "  font-weight: bold;\n",
       "  display: inline-block;\n",
       "  line-height: 1.2em;\n",
       "}\n",
       "\n",
       "#sk-container-id-2 div.sk-label-container {\n",
       "  text-align: center;\n",
       "}\n",
       "\n",
       "/* Estimator-specific */\n",
       "#sk-container-id-2 div.sk-estimator {\n",
       "  font-family: monospace;\n",
       "  border: 1px dotted var(--sklearn-color-border-box);\n",
       "  border-radius: 0.25em;\n",
       "  box-sizing: border-box;\n",
       "  margin-bottom: 0.5em;\n",
       "  /* unfitted */\n",
       "  background-color: var(--sklearn-color-unfitted-level-0);\n",
       "}\n",
       "\n",
       "#sk-container-id-2 div.sk-estimator.fitted {\n",
       "  /* fitted */\n",
       "  background-color: var(--sklearn-color-fitted-level-0);\n",
       "}\n",
       "\n",
       "/* on hover */\n",
       "#sk-container-id-2 div.sk-estimator:hover {\n",
       "  /* unfitted */\n",
       "  background-color: var(--sklearn-color-unfitted-level-2);\n",
       "}\n",
       "\n",
       "#sk-container-id-2 div.sk-estimator.fitted:hover {\n",
       "  /* fitted */\n",
       "  background-color: var(--sklearn-color-fitted-level-2);\n",
       "}\n",
       "\n",
       "/* Specification for estimator info (e.g. \"i\" and \"?\") */\n",
       "\n",
       "/* Common style for \"i\" and \"?\" */\n",
       "\n",
       ".sk-estimator-doc-link,\n",
       "a:link.sk-estimator-doc-link,\n",
       "a:visited.sk-estimator-doc-link {\n",
       "  float: right;\n",
       "  font-size: smaller;\n",
       "  line-height: 1em;\n",
       "  font-family: monospace;\n",
       "  background-color: var(--sklearn-color-background);\n",
       "  border-radius: 1em;\n",
       "  height: 1em;\n",
       "  width: 1em;\n",
       "  text-decoration: none !important;\n",
       "  margin-left: 0.5em;\n",
       "  text-align: center;\n",
       "  /* unfitted */\n",
       "  border: var(--sklearn-color-unfitted-level-1) 1pt solid;\n",
       "  color: var(--sklearn-color-unfitted-level-1);\n",
       "}\n",
       "\n",
       ".sk-estimator-doc-link.fitted,\n",
       "a:link.sk-estimator-doc-link.fitted,\n",
       "a:visited.sk-estimator-doc-link.fitted {\n",
       "  /* fitted */\n",
       "  border: var(--sklearn-color-fitted-level-1) 1pt solid;\n",
       "  color: var(--sklearn-color-fitted-level-1);\n",
       "}\n",
       "\n",
       "/* On hover */\n",
       "div.sk-estimator:hover .sk-estimator-doc-link:hover,\n",
       ".sk-estimator-doc-link:hover,\n",
       "div.sk-label-container:hover .sk-estimator-doc-link:hover,\n",
       ".sk-estimator-doc-link:hover {\n",
       "  /* unfitted */\n",
       "  background-color: var(--sklearn-color-unfitted-level-3);\n",
       "  color: var(--sklearn-color-background);\n",
       "  text-decoration: none;\n",
       "}\n",
       "\n",
       "div.sk-estimator.fitted:hover .sk-estimator-doc-link.fitted:hover,\n",
       ".sk-estimator-doc-link.fitted:hover,\n",
       "div.sk-label-container:hover .sk-estimator-doc-link.fitted:hover,\n",
       ".sk-estimator-doc-link.fitted:hover {\n",
       "  /* fitted */\n",
       "  background-color: var(--sklearn-color-fitted-level-3);\n",
       "  color: var(--sklearn-color-background);\n",
       "  text-decoration: none;\n",
       "}\n",
       "\n",
       "/* Span, style for the box shown on hovering the info icon */\n",
       ".sk-estimator-doc-link span {\n",
       "  display: none;\n",
       "  z-index: 9999;\n",
       "  position: relative;\n",
       "  font-weight: normal;\n",
       "  right: .2ex;\n",
       "  padding: .5ex;\n",
       "  margin: .5ex;\n",
       "  width: min-content;\n",
       "  min-width: 20ex;\n",
       "  max-width: 50ex;\n",
       "  color: var(--sklearn-color-text);\n",
       "  box-shadow: 2pt 2pt 4pt #999;\n",
       "  /* unfitted */\n",
       "  background: var(--sklearn-color-unfitted-level-0);\n",
       "  border: .5pt solid var(--sklearn-color-unfitted-level-3);\n",
       "}\n",
       "\n",
       ".sk-estimator-doc-link.fitted span {\n",
       "  /* fitted */\n",
       "  background: var(--sklearn-color-fitted-level-0);\n",
       "  border: var(--sklearn-color-fitted-level-3);\n",
       "}\n",
       "\n",
       ".sk-estimator-doc-link:hover span {\n",
       "  display: block;\n",
       "}\n",
       "\n",
       "/* \"?\"-specific style due to the `<a>` HTML tag */\n",
       "\n",
       "#sk-container-id-2 a.estimator_doc_link {\n",
       "  float: right;\n",
       "  font-size: 1rem;\n",
       "  line-height: 1em;\n",
       "  font-family: monospace;\n",
       "  background-color: var(--sklearn-color-background);\n",
       "  border-radius: 1rem;\n",
       "  height: 1rem;\n",
       "  width: 1rem;\n",
       "  text-decoration: none;\n",
       "  /* unfitted */\n",
       "  color: var(--sklearn-color-unfitted-level-1);\n",
       "  border: var(--sklearn-color-unfitted-level-1) 1pt solid;\n",
       "}\n",
       "\n",
       "#sk-container-id-2 a.estimator_doc_link.fitted {\n",
       "  /* fitted */\n",
       "  border: var(--sklearn-color-fitted-level-1) 1pt solid;\n",
       "  color: var(--sklearn-color-fitted-level-1);\n",
       "}\n",
       "\n",
       "/* On hover */\n",
       "#sk-container-id-2 a.estimator_doc_link:hover {\n",
       "  /* unfitted */\n",
       "  background-color: var(--sklearn-color-unfitted-level-3);\n",
       "  color: var(--sklearn-color-background);\n",
       "  text-decoration: none;\n",
       "}\n",
       "\n",
       "#sk-container-id-2 a.estimator_doc_link.fitted:hover {\n",
       "  /* fitted */\n",
       "  background-color: var(--sklearn-color-fitted-level-3);\n",
       "}\n",
       "</style><div id=\"sk-container-id-2\" class=\"sk-top-container\"><div class=\"sk-text-repr-fallback\"><pre>DictVectorizer(dtype=&lt;class &#x27;numpy.float32&#x27;&gt;, sparse=False)</pre><b>In a Jupyter environment, please rerun this cell to show the HTML representation or trust the notebook. <br />On GitHub, the HTML representation is unable to render, please try loading this page with nbviewer.org.</b></div><div class=\"sk-container\" hidden><div class=\"sk-item\"><div class=\"sk-estimator fitted sk-toggleable\"><input class=\"sk-toggleable__control sk-hidden--visually\" id=\"sk-estimator-id-2\" type=\"checkbox\" checked><label for=\"sk-estimator-id-2\" class=\"sk-toggleable__label fitted sk-toggleable__label-arrow\"><div><div>DictVectorizer</div></div><div><a class=\"sk-estimator-doc-link fitted\" rel=\"noreferrer\" target=\"_blank\" href=\"https://scikit-learn.org/1.6/modules/generated/sklearn.feature_extraction.DictVectorizer.html\">?<span>Documentation for DictVectorizer</span></a><span class=\"sk-estimator-doc-link fitted\">i<span>Fitted</span></span></div></label><div class=\"sk-toggleable__content fitted\"><pre>DictVectorizer(dtype=&lt;class &#x27;numpy.float32&#x27;&gt;, sparse=False)</pre></div> </div></div></div></div>"
      ]
     },
     "execution_count": 137,
     "metadata": {},
     "output_type": "execute_result"
    }
   ],
   "execution_count": 137
  },
  {
   "cell_type": "markdown",
   "metadata": {},
   "source": [
    "### The deep learning part\n",
    "\n",
    "Once we've learned to tokenize the data, let's design a machine learning experiment.\n",
    "\n",
    "As before, we won't focus too much on validation, opting for a simple train-test split.\n",
    "\n",
    "__To be completely rigorous,__ we've comitted a small crime here: we used the whole data for tokenization and vocabulary building. A more strict way would be to do that part on training set only. You may want to do that and measure the magnitude of changes."
   ]
  },
  {
   "cell_type": "code",
   "metadata": {
    "ExecuteTime": {
     "end_time": "2024-12-16T12:58:32.059723Z",
     "start_time": "2024-12-16T12:58:31.963843Z"
    }
   },
   "source": [
    "from sklearn.model_selection import train_test_split\n",
    "\n",
    "data_train, data_val = train_test_split(data, test_size=0.2, random_state=42)\n",
    "data_train.index = range(len(data_train))\n",
    "data_val.index = range(len(data_val))\n",
    "\n",
    "print(\"Train size = \", len(data_train))\n",
    "print(\"Validation size = \", len(data_val))"
   ],
   "outputs": [
    {
     "name": "stdout",
     "output_type": "stream",
     "text": [
      "Train size =  195814\n",
      "Validation size =  48954\n"
     ]
    }
   ],
   "execution_count": 138
  },
  {
   "cell_type": "code",
   "metadata": {
    "ExecuteTime": {
     "end_time": "2024-12-16T12:58:32.064587Z",
     "start_time": "2024-12-16T12:58:32.060557Z"
    }
   },
   "source": [
    "def make_batch(data, max_len=None, word_dropout=0):\n",
    "    \"\"\"\n",
    "    Creates a keras-friendly dict from the batch data.\n",
    "    :param word_dropout: replaces token index with UNK_IX with this probability\n",
    "    :returns: a dict with {'title' : int64[batch, title_max_len]\n",
    "    \"\"\"\n",
    "    batch = {}\n",
    "    batch[\"Title\"] = as_matrix(data[\"Title\"].values, max_len)\n",
    "    batch[\"FullDescription\"] = as_matrix(data[\"FullDescription\"].values, max_len)\n",
    "    batch['Categorical'] = categorical_vectorizer.transform(data[categorical_columns].apply(dict, axis=1))\n",
    "    \n",
    "    if word_dropout != 0:\n",
    "        batch[\"FullDescription\"] = apply_word_dropout(batch[\"FullDescription\"], 1. - word_dropout)\n",
    "    \n",
    "    if target_column in data.columns:\n",
    "        batch[target_column] = data[target_column].values\n",
    "    \n",
    "    return batch\n",
    "\n",
    "def apply_word_dropout(matrix, keep_prop, replace_with=UNK_IX, pad_ix=PAD_IX,):\n",
    "    dropout_mask = np.random.choice(2, np.shape(matrix), p=[keep_prop, 1 - keep_prop])\n",
    "    dropout_mask &= matrix != pad_ix\n",
    "    return np.choose(dropout_mask, [matrix, np.full_like(matrix, replace_with)])"
   ],
   "outputs": [],
   "execution_count": 139
  },
  {
   "cell_type": "code",
   "metadata": {
    "ExecuteTime": {
     "end_time": "2024-12-16T12:58:32.681789Z",
     "start_time": "2024-12-16T12:58:32.675890Z"
    }
   },
   "source": [
    "make_batch(data_train[:3], max_len=10)"
   ],
   "outputs": [
    {
     "data": {
      "text/plain": [
       "{'Title': array([[26272, 28401, 31999,     1,     1,     1,     1],\n",
       "        [27772,   187, 18227, 19056, 14801, 22008,  3848],\n",
       "        [10082, 28895, 16876,    31,  8281, 27695,    61]], dtype=int32),\n",
       " 'FullDescription': array([[26272, 28401, 31999, 31307,   909, 26272, 28401, 31999, 15662,\n",
       "         31307],\n",
       "        [27772,   187, 18227, 19056, 14801, 22008,  3848, 24230,   836,\n",
       "            77],\n",
       "        [29212, 20872, 19591,  6092, 15662,  7773, 26125,   909, 28895,\n",
       "         16876]], dtype=int32),\n",
       " 'Categorical': array([[0., 0., 0., ..., 0., 0., 0.],\n",
       "        [0., 0., 0., ..., 0., 0., 0.],\n",
       "        [0., 0., 0., ..., 0., 0., 0.]], dtype=float32),\n",
       " 'Log1pSalary': array([ 9.71154 , 10.463132, 10.71444 ], dtype=float32)}"
      ]
     },
     "execution_count": 140,
     "metadata": {},
     "output_type": "execute_result"
    }
   ],
   "execution_count": 140
  },
  {
   "cell_type": "markdown",
   "metadata": {},
   "source": [
    "#### Architecture\n",
    "\n",
    "Our basic model consists of three branches:\n",
    "* Title encoder\n",
    "* Description encoder\n",
    "* Categorical features encoder\n",
    "\n",
    "We will then feed all 3 branches into one common network that predicts salary.\n",
    "\n",
    "<img src=\"https://github.com/yandexdataschool/nlp_course/raw/master/resources/w2_conv_arch.png\" width=600px>"
   ]
  },
  {
   "cell_type": "markdown",
   "metadata": {},
   "source": [
    "This clearly doesn't fit into keras' __Sequential__ interface. To build such a network, one will have to use __[Keras Functional API](https://keras.io/models/model/)__."
   ]
  },
  {
   "cell_type": "code",
   "metadata": {
    "ExecuteTime": {
     "end_time": "2024-12-16T12:58:34.802167Z",
     "start_time": "2024-12-16T12:58:34.799397Z"
    }
   },
   "source": [
    "import keras\n",
    "import keras.layers as L"
   ],
   "outputs": [],
   "execution_count": 141
  },
  {
   "cell_type": "code",
   "metadata": {
    "ExecuteTime": {
     "end_time": "2024-12-16T12:58:35.382905Z",
     "start_time": "2024-12-16T12:58:35.376443Z"
    }
   },
   "source": [
    "def build_model(n_tokens=len(tokens), n_cat_features=len(categorical_vectorizer.vocabulary_), hid_size=64):\n",
    "    \"\"\" Build a model that maps three data sources to a single linear output: predicted log1p(salary) \"\"\"\n",
    "    \n",
    "    l_title = L.Input(shape=[None], name=\"Title\")\n",
    "    l_descr = L.Input(shape=[None], name=\"FullDescription\")\n",
    "    l_categ = L.Input(shape=[n_cat_features], name=\"Categorical\")\n",
    "    \n",
    "    emb = L.Embedding(n_tokens, 16)\n",
    "    \n",
    "    descr_emb = emb(l_descr)\n",
    "    descr_conv = L.Conv1D(32, kernel_size=4, padding=\"same\", name=\"descr_conv\")(descr_emb)\n",
    "    descr_features = L.GlobalMaxPool1D()(descr_conv)\n",
    "    \n",
    "    title_emb = emb(l_title)\n",
    "    title_conv = L.Conv1D(24, kernel_size=2, padding=\"same\", name=\"title_conv\")(title_emb)\n",
    "    title_features = L.GlobalMaxPool1D()(title_conv)\n",
    "    \n",
    "    joint = L.concatenate([title_features, descr_features, l_categ])\n",
    "    \n",
    "    hid = L.Dense(hid_size)(joint)\n",
    "    \n",
    "    output_layer = L.Dense(1)(hid)\n",
    "    \n",
    "    model = keras.models.Model(inputs=[l_title, l_descr, l_categ], outputs=[output_layer])\n",
    "    model.compile('adam', 'mean_squared_error', metrics=['mean_absolute_error'])\n",
    "    return model\n",
    "    "
   ],
   "outputs": [],
   "execution_count": 142
  },
  {
   "metadata": {
    "ExecuteTime": {
     "end_time": "2024-12-16T12:58:37.289086Z",
     "start_time": "2024-12-16T12:58:35.881874Z"
    }
   },
   "cell_type": "code",
   "source": [
    "model = build_model()\n",
    "model.summary()\n",
    "\n",
    "dummy_pred = model.predict(make_batch(data_train[:100]))\n",
    "dummy_loss = model.train_on_batch(make_batch(data_train[:100]), data_train['Log1pSalary'][:100])[0]\n",
    "assert dummy_pred.shape == (100, 1)\n",
    "assert len(np.unique(dummy_pred)) > 20, \"model returns suspiciously few unique outputs. Check your initialization\"\n",
    "assert np.ndim(dummy_loss) == 0 and 0. <= dummy_loss <= 250., \"make sure you minimize MSE\""
   ],
   "outputs": [
    {
     "data": {
      "text/plain": [
       "\u001B[1mModel: \"functional_3\"\u001B[0m\n"
      ],
      "text/html": [
       "<pre style=\"white-space:pre;overflow-x:auto;line-height:normal;font-family:Menlo,'DejaVu Sans Mono',consolas,'Courier New',monospace\"><span style=\"font-weight: bold\">Model: \"functional_3\"</span>\n",
       "</pre>\n"
      ]
     },
     "metadata": {},
     "output_type": "display_data"
    },
    {
     "data": {
      "text/plain": [
       "┏━━━━━━━━━━━━━━━━━━━━━┳━━━━━━━━━━━━━━━━━━━┳━━━━━━━━━━━━┳━━━━━━━━━━━━━━━━━━━┓\n",
       "┃\u001B[1m \u001B[0m\u001B[1mLayer (type)       \u001B[0m\u001B[1m \u001B[0m┃\u001B[1m \u001B[0m\u001B[1mOutput Shape     \u001B[0m\u001B[1m \u001B[0m┃\u001B[1m \u001B[0m\u001B[1m   Param #\u001B[0m\u001B[1m \u001B[0m┃\u001B[1m \u001B[0m\u001B[1mConnected to     \u001B[0m\u001B[1m \u001B[0m┃\n",
       "┡━━━━━━━━━━━━━━━━━━━━━╇━━━━━━━━━━━━━━━━━━━╇━━━━━━━━━━━━╇━━━━━━━━━━━━━━━━━━━┩\n",
       "│ Title (\u001B[38;5;33mInputLayer\u001B[0m)  │ (\u001B[38;5;45mNone\u001B[0m, \u001B[38;5;45mNone\u001B[0m)      │          \u001B[38;5;34m0\u001B[0m │ -                 │\n",
       "├─────────────────────┼───────────────────┼────────────┼───────────────────┤\n",
       "│ FullDescription     │ (\u001B[38;5;45mNone\u001B[0m, \u001B[38;5;45mNone\u001B[0m)      │          \u001B[38;5;34m0\u001B[0m │ -                 │\n",
       "│ (\u001B[38;5;33mInputLayer\u001B[0m)        │                   │            │                   │\n",
       "├─────────────────────┼───────────────────┼────────────┼───────────────────┤\n",
       "│ embedding_3         │ (\u001B[38;5;45mNone\u001B[0m, \u001B[38;5;45mNone\u001B[0m, \u001B[38;5;34m16\u001B[0m)  │    \u001B[38;5;34m519,296\u001B[0m │ FullDescription[\u001B[38;5;34m…\u001B[0m │\n",
       "│ (\u001B[38;5;33mEmbedding\u001B[0m)         │                   │            │ Title[\u001B[38;5;34m0\u001B[0m][\u001B[38;5;34m0\u001B[0m]       │\n",
       "├─────────────────────┼───────────────────┼────────────┼───────────────────┤\n",
       "│ title_conv (\u001B[38;5;33mConv1D\u001B[0m) │ (\u001B[38;5;45mNone\u001B[0m, \u001B[38;5;45mNone\u001B[0m, \u001B[38;5;34m24\u001B[0m)  │        \u001B[38;5;34m792\u001B[0m │ embedding_3[\u001B[38;5;34m1\u001B[0m][\u001B[38;5;34m0\u001B[0m] │\n",
       "├─────────────────────┼───────────────────┼────────────┼───────────────────┤\n",
       "│ descr_conv (\u001B[38;5;33mConv1D\u001B[0m) │ (\u001B[38;5;45mNone\u001B[0m, \u001B[38;5;45mNone\u001B[0m, \u001B[38;5;34m32\u001B[0m)  │      \u001B[38;5;34m2,080\u001B[0m │ embedding_3[\u001B[38;5;34m0\u001B[0m][\u001B[38;5;34m0\u001B[0m] │\n",
       "├─────────────────────┼───────────────────┼────────────┼───────────────────┤\n",
       "│ global_max_pooling… │ (\u001B[38;5;45mNone\u001B[0m, \u001B[38;5;34m24\u001B[0m)        │          \u001B[38;5;34m0\u001B[0m │ title_conv[\u001B[38;5;34m0\u001B[0m][\u001B[38;5;34m0\u001B[0m]  │\n",
       "│ (\u001B[38;5;33mGlobalMaxPooling1…\u001B[0m │                   │            │                   │\n",
       "├─────────────────────┼───────────────────┼────────────┼───────────────────┤\n",
       "│ global_max_pooling… │ (\u001B[38;5;45mNone\u001B[0m, \u001B[38;5;34m32\u001B[0m)        │          \u001B[38;5;34m0\u001B[0m │ descr_conv[\u001B[38;5;34m0\u001B[0m][\u001B[38;5;34m0\u001B[0m]  │\n",
       "│ (\u001B[38;5;33mGlobalMaxPooling1…\u001B[0m │                   │            │                   │\n",
       "├─────────────────────┼───────────────────┼────────────┼───────────────────┤\n",
       "│ Categorical         │ (\u001B[38;5;45mNone\u001B[0m, \u001B[38;5;34m3767\u001B[0m)      │          \u001B[38;5;34m0\u001B[0m │ -                 │\n",
       "│ (\u001B[38;5;33mInputLayer\u001B[0m)        │                   │            │                   │\n",
       "├─────────────────────┼───────────────────┼────────────┼───────────────────┤\n",
       "│ concatenate_3       │ (\u001B[38;5;45mNone\u001B[0m, \u001B[38;5;34m3823\u001B[0m)      │          \u001B[38;5;34m0\u001B[0m │ global_max_pooli… │\n",
       "│ (\u001B[38;5;33mConcatenate\u001B[0m)       │                   │            │ global_max_pooli… │\n",
       "│                     │                   │            │ Categorical[\u001B[38;5;34m0\u001B[0m][\u001B[38;5;34m0\u001B[0m] │\n",
       "├─────────────────────┼───────────────────┼────────────┼───────────────────┤\n",
       "│ dense_6 (\u001B[38;5;33mDense\u001B[0m)     │ (\u001B[38;5;45mNone\u001B[0m, \u001B[38;5;34m64\u001B[0m)        │    \u001B[38;5;34m244,736\u001B[0m │ concatenate_3[\u001B[38;5;34m0\u001B[0m]… │\n",
       "├─────────────────────┼───────────────────┼────────────┼───────────────────┤\n",
       "│ dense_7 (\u001B[38;5;33mDense\u001B[0m)     │ (\u001B[38;5;45mNone\u001B[0m, \u001B[38;5;34m1\u001B[0m)         │         \u001B[38;5;34m65\u001B[0m │ dense_6[\u001B[38;5;34m0\u001B[0m][\u001B[38;5;34m0\u001B[0m]     │\n",
       "└─────────────────────┴───────────────────┴────────────┴───────────────────┘\n"
      ],
      "text/html": [
       "<pre style=\"white-space:pre;overflow-x:auto;line-height:normal;font-family:Menlo,'DejaVu Sans Mono',consolas,'Courier New',monospace\">┏━━━━━━━━━━━━━━━━━━━━━┳━━━━━━━━━━━━━━━━━━━┳━━━━━━━━━━━━┳━━━━━━━━━━━━━━━━━━━┓\n",
       "┃<span style=\"font-weight: bold\"> Layer (type)        </span>┃<span style=\"font-weight: bold\"> Output Shape      </span>┃<span style=\"font-weight: bold\">    Param # </span>┃<span style=\"font-weight: bold\"> Connected to      </span>┃\n",
       "┡━━━━━━━━━━━━━━━━━━━━━╇━━━━━━━━━━━━━━━━━━━╇━━━━━━━━━━━━╇━━━━━━━━━━━━━━━━━━━┩\n",
       "│ Title (<span style=\"color: #0087ff; text-decoration-color: #0087ff\">InputLayer</span>)  │ (<span style=\"color: #00d7ff; text-decoration-color: #00d7ff\">None</span>, <span style=\"color: #00d7ff; text-decoration-color: #00d7ff\">None</span>)      │          <span style=\"color: #00af00; text-decoration-color: #00af00\">0</span> │ -                 │\n",
       "├─────────────────────┼───────────────────┼────────────┼───────────────────┤\n",
       "│ FullDescription     │ (<span style=\"color: #00d7ff; text-decoration-color: #00d7ff\">None</span>, <span style=\"color: #00d7ff; text-decoration-color: #00d7ff\">None</span>)      │          <span style=\"color: #00af00; text-decoration-color: #00af00\">0</span> │ -                 │\n",
       "│ (<span style=\"color: #0087ff; text-decoration-color: #0087ff\">InputLayer</span>)        │                   │            │                   │\n",
       "├─────────────────────┼───────────────────┼────────────┼───────────────────┤\n",
       "│ embedding_3         │ (<span style=\"color: #00d7ff; text-decoration-color: #00d7ff\">None</span>, <span style=\"color: #00d7ff; text-decoration-color: #00d7ff\">None</span>, <span style=\"color: #00af00; text-decoration-color: #00af00\">16</span>)  │    <span style=\"color: #00af00; text-decoration-color: #00af00\">519,296</span> │ FullDescription[<span style=\"color: #00af00; text-decoration-color: #00af00\">…</span> │\n",
       "│ (<span style=\"color: #0087ff; text-decoration-color: #0087ff\">Embedding</span>)         │                   │            │ Title[<span style=\"color: #00af00; text-decoration-color: #00af00\">0</span>][<span style=\"color: #00af00; text-decoration-color: #00af00\">0</span>]       │\n",
       "├─────────────────────┼───────────────────┼────────────┼───────────────────┤\n",
       "│ title_conv (<span style=\"color: #0087ff; text-decoration-color: #0087ff\">Conv1D</span>) │ (<span style=\"color: #00d7ff; text-decoration-color: #00d7ff\">None</span>, <span style=\"color: #00d7ff; text-decoration-color: #00d7ff\">None</span>, <span style=\"color: #00af00; text-decoration-color: #00af00\">24</span>)  │        <span style=\"color: #00af00; text-decoration-color: #00af00\">792</span> │ embedding_3[<span style=\"color: #00af00; text-decoration-color: #00af00\">1</span>][<span style=\"color: #00af00; text-decoration-color: #00af00\">0</span>] │\n",
       "├─────────────────────┼───────────────────┼────────────┼───────────────────┤\n",
       "│ descr_conv (<span style=\"color: #0087ff; text-decoration-color: #0087ff\">Conv1D</span>) │ (<span style=\"color: #00d7ff; text-decoration-color: #00d7ff\">None</span>, <span style=\"color: #00d7ff; text-decoration-color: #00d7ff\">None</span>, <span style=\"color: #00af00; text-decoration-color: #00af00\">32</span>)  │      <span style=\"color: #00af00; text-decoration-color: #00af00\">2,080</span> │ embedding_3[<span style=\"color: #00af00; text-decoration-color: #00af00\">0</span>][<span style=\"color: #00af00; text-decoration-color: #00af00\">0</span>] │\n",
       "├─────────────────────┼───────────────────┼────────────┼───────────────────┤\n",
       "│ global_max_pooling… │ (<span style=\"color: #00d7ff; text-decoration-color: #00d7ff\">None</span>, <span style=\"color: #00af00; text-decoration-color: #00af00\">24</span>)        │          <span style=\"color: #00af00; text-decoration-color: #00af00\">0</span> │ title_conv[<span style=\"color: #00af00; text-decoration-color: #00af00\">0</span>][<span style=\"color: #00af00; text-decoration-color: #00af00\">0</span>]  │\n",
       "│ (<span style=\"color: #0087ff; text-decoration-color: #0087ff\">GlobalMaxPooling1…</span> │                   │            │                   │\n",
       "├─────────────────────┼───────────────────┼────────────┼───────────────────┤\n",
       "│ global_max_pooling… │ (<span style=\"color: #00d7ff; text-decoration-color: #00d7ff\">None</span>, <span style=\"color: #00af00; text-decoration-color: #00af00\">32</span>)        │          <span style=\"color: #00af00; text-decoration-color: #00af00\">0</span> │ descr_conv[<span style=\"color: #00af00; text-decoration-color: #00af00\">0</span>][<span style=\"color: #00af00; text-decoration-color: #00af00\">0</span>]  │\n",
       "│ (<span style=\"color: #0087ff; text-decoration-color: #0087ff\">GlobalMaxPooling1…</span> │                   │            │                   │\n",
       "├─────────────────────┼───────────────────┼────────────┼───────────────────┤\n",
       "│ Categorical         │ (<span style=\"color: #00d7ff; text-decoration-color: #00d7ff\">None</span>, <span style=\"color: #00af00; text-decoration-color: #00af00\">3767</span>)      │          <span style=\"color: #00af00; text-decoration-color: #00af00\">0</span> │ -                 │\n",
       "│ (<span style=\"color: #0087ff; text-decoration-color: #0087ff\">InputLayer</span>)        │                   │            │                   │\n",
       "├─────────────────────┼───────────────────┼────────────┼───────────────────┤\n",
       "│ concatenate_3       │ (<span style=\"color: #00d7ff; text-decoration-color: #00d7ff\">None</span>, <span style=\"color: #00af00; text-decoration-color: #00af00\">3823</span>)      │          <span style=\"color: #00af00; text-decoration-color: #00af00\">0</span> │ global_max_pooli… │\n",
       "│ (<span style=\"color: #0087ff; text-decoration-color: #0087ff\">Concatenate</span>)       │                   │            │ global_max_pooli… │\n",
       "│                     │                   │            │ Categorical[<span style=\"color: #00af00; text-decoration-color: #00af00\">0</span>][<span style=\"color: #00af00; text-decoration-color: #00af00\">0</span>] │\n",
       "├─────────────────────┼───────────────────┼────────────┼───────────────────┤\n",
       "│ dense_6 (<span style=\"color: #0087ff; text-decoration-color: #0087ff\">Dense</span>)     │ (<span style=\"color: #00d7ff; text-decoration-color: #00d7ff\">None</span>, <span style=\"color: #00af00; text-decoration-color: #00af00\">64</span>)        │    <span style=\"color: #00af00; text-decoration-color: #00af00\">244,736</span> │ concatenate_3[<span style=\"color: #00af00; text-decoration-color: #00af00\">0</span>]… │\n",
       "├─────────────────────┼───────────────────┼────────────┼───────────────────┤\n",
       "│ dense_7 (<span style=\"color: #0087ff; text-decoration-color: #0087ff\">Dense</span>)     │ (<span style=\"color: #00d7ff; text-decoration-color: #00d7ff\">None</span>, <span style=\"color: #00af00; text-decoration-color: #00af00\">1</span>)         │         <span style=\"color: #00af00; text-decoration-color: #00af00\">65</span> │ dense_6[<span style=\"color: #00af00; text-decoration-color: #00af00\">0</span>][<span style=\"color: #00af00; text-decoration-color: #00af00\">0</span>]     │\n",
       "└─────────────────────┴───────────────────┴────────────┴───────────────────┘\n",
       "</pre>\n"
      ]
     },
     "metadata": {},
     "output_type": "display_data"
    },
    {
     "data": {
      "text/plain": [
       "\u001B[1m Total params: \u001B[0m\u001B[38;5;34m766,969\u001B[0m (2.93 MB)\n"
      ],
      "text/html": [
       "<pre style=\"white-space:pre;overflow-x:auto;line-height:normal;font-family:Menlo,'DejaVu Sans Mono',consolas,'Courier New',monospace\"><span style=\"font-weight: bold\"> Total params: </span><span style=\"color: #00af00; text-decoration-color: #00af00\">766,969</span> (2.93 MB)\n",
       "</pre>\n"
      ]
     },
     "metadata": {},
     "output_type": "display_data"
    },
    {
     "data": {
      "text/plain": [
       "\u001B[1m Trainable params: \u001B[0m\u001B[38;5;34m766,969\u001B[0m (2.93 MB)\n"
      ],
      "text/html": [
       "<pre style=\"white-space:pre;overflow-x:auto;line-height:normal;font-family:Menlo,'DejaVu Sans Mono',consolas,'Courier New',monospace\"><span style=\"font-weight: bold\"> Trainable params: </span><span style=\"color: #00af00; text-decoration-color: #00af00\">766,969</span> (2.93 MB)\n",
       "</pre>\n"
      ]
     },
     "metadata": {},
     "output_type": "display_data"
    },
    {
     "data": {
      "text/plain": [
       "\u001B[1m Non-trainable params: \u001B[0m\u001B[38;5;34m0\u001B[0m (0.00 B)\n"
      ],
      "text/html": [
       "<pre style=\"white-space:pre;overflow-x:auto;line-height:normal;font-family:Menlo,'DejaVu Sans Mono',consolas,'Courier New',monospace\"><span style=\"font-weight: bold\"> Non-trainable params: </span><span style=\"color: #00af00; text-decoration-color: #00af00\">0</span> (0.00 B)\n",
       "</pre>\n"
      ]
     },
     "metadata": {},
     "output_type": "display_data"
    },
    {
     "name": "stdout",
     "output_type": "stream",
     "text": [
      "\u001B[1m4/4\u001B[0m \u001B[32m━━━━━━━━━━━━━━━━━━━━\u001B[0m\u001B[37m\u001B[0m \u001B[1m0s\u001B[0m 34ms/step\n"
     ]
    }
   ],
   "execution_count": 143
  },
  {
   "metadata": {},
   "cell_type": "code",
   "source": [
    "print(\"Data length:\", len(tokens))\n",
    "print(\"N categorical features:\", len(categorical_vectorizer.vocabulary_))"
   ],
   "outputs": [
    {
     "name": "stdout",
     "output_type": "stream",
     "text": [
      "Data length: 32456\n",
      "N categorical features: 3767\n"
     ]
    }
   ],
   "execution_count": 144
  },
  {
   "cell_type": "markdown",
   "metadata": {},
   "source": [
    "#### Training and evaluation\n",
    "\n",
    "As usual, we gonna feed our monster with random minibatches of data. \n",
    "\n",
    "As we train, we want to monitor not only loss function, which is computed in log-space, but also the actual error measured in dollars."
   ]
  },
  {
   "cell_type": "code",
   "metadata": {
    "ExecuteTime": {
     "end_time": "2024-12-16T12:58:39.085073Z",
     "start_time": "2024-12-16T12:58:39.081330Z"
    }
   },
   "source": [
    "def iterate_minibatches(data, batch_size=256, shuffle=True, cycle=False, **kwargs):\n",
    "    \"\"\" iterates minibatches of data in random order \"\"\"\n",
    "    while True:\n",
    "        indices = np.arange(len(data))\n",
    "        if shuffle:\n",
    "            indices = np.random.permutation(indices)\n",
    "\n",
    "        for start in range(0, len(indices), batch_size):\n",
    "            batch = make_batch(data.iloc[indices[start : start + batch_size]], **kwargs)\n",
    "            target = batch.pop(target_column)\n",
    "            yield batch, target\n",
    "        \n",
    "        if not cycle: break"
   ],
   "outputs": [],
   "execution_count": 145
  },
  {
   "cell_type": "markdown",
   "metadata": {},
   "source": [
    "### Model training\n",
    "\n",
    "We can now fit our model the usual minibatch way. The interesting part is that we train on an infinite stream of minibatches, produced by `iterate_minibatches` function."
   ]
  },
  {
   "cell_type": "code",
   "metadata": {
    "ExecuteTime": {
     "end_time": "2024-12-16T13:00:49.814647Z",
     "start_time": "2024-12-16T12:58:41.066172Z"
    }
   },
   "source": [
    "batch_size = 256\n",
    "epochs = 10            # definitely too small\n",
    "steps_per_epoch = 100  # for full pass over data: (len(data_train) - 1) // batch_size + 1\n",
    "\n",
    "model = build_model()\n",
    "\n",
    "model.fit(iterate_minibatches(data_train, batch_size, cycle=True, word_dropout=0.05), \n",
    "                    epochs=epochs, steps_per_epoch=steps_per_epoch,\n",
    "                    \n",
    "                    validation_data=iterate_minibatches(data_val, batch_size, cycle=True),\n",
    "                    validation_steps=data_val.shape[0] // batch_size\n",
    "                   )"
   ],
   "outputs": [
    {
     "name": "stdout",
     "output_type": "stream",
     "text": [
      "Epoch 1/10\n",
      "\u001B[1m100/100\u001B[0m \u001B[32m━━━━━━━━━━━━━━━━━━━━\u001B[0m\u001B[37m\u001B[0m \u001B[1m15s\u001B[0m 134ms/step - loss: 39.7156 - mean_absolute_error: 4.8626 - val_loss: 0.3448 - val_mean_absolute_error: 0.4542\n",
      "Epoch 2/10\n",
      "\u001B[1m100/100\u001B[0m \u001B[32m━━━━━━━━━━━━━━━━━━━━\u001B[0m\u001B[37m\u001B[0m \u001B[1m12s\u001B[0m 122ms/step - loss: 0.2643 - mean_absolute_error: 0.3987 - val_loss: 0.3029 - val_mean_absolute_error: 0.4254\n",
      "Epoch 3/10\n",
      "\u001B[1m100/100\u001B[0m \u001B[32m━━━━━━━━━━━━━━━━━━━━\u001B[0m\u001B[37m\u001B[0m \u001B[1m12s\u001B[0m 122ms/step - loss: 0.1980 - mean_absolute_error: 0.3364 - val_loss: 0.2274 - val_mean_absolute_error: 0.3608\n",
      "Epoch 4/10\n",
      "\u001B[1m100/100\u001B[0m \u001B[32m━━━━━━━━━━━━━━━━━━━━\u001B[0m\u001B[37m\u001B[0m \u001B[1m13s\u001B[0m 131ms/step - loss: 0.1676 - mean_absolute_error: 0.3030 - val_loss: 0.2270 - val_mean_absolute_error: 0.3654\n",
      "Epoch 5/10\n",
      "\u001B[1m100/100\u001B[0m \u001B[32m━━━━━━━━━━━━━━━━━━━━\u001B[0m\u001B[37m\u001B[0m \u001B[1m13s\u001B[0m 127ms/step - loss: 0.1429 - mean_absolute_error: 0.2818 - val_loss: 0.1899 - val_mean_absolute_error: 0.3300\n",
      "Epoch 6/10\n",
      "\u001B[1m100/100\u001B[0m \u001B[32m━━━━━━━━━━━━━━━━━━━━\u001B[0m\u001B[37m\u001B[0m \u001B[1m13s\u001B[0m 132ms/step - loss: 0.1378 - mean_absolute_error: 0.2754 - val_loss: 0.1703 - val_mean_absolute_error: 0.3119\n",
      "Epoch 7/10\n",
      "\u001B[1m100/100\u001B[0m \u001B[32m━━━━━━━━━━━━━━━━━━━━\u001B[0m\u001B[37m\u001B[0m \u001B[1m13s\u001B[0m 128ms/step - loss: 0.1269 - mean_absolute_error: 0.2629 - val_loss: 0.1750 - val_mean_absolute_error: 0.3209\n",
      "Epoch 8/10\n",
      "\u001B[1m100/100\u001B[0m \u001B[32m━━━━━━━━━━━━━━━━━━━━\u001B[0m\u001B[37m\u001B[0m \u001B[1m13s\u001B[0m 127ms/step - loss: 0.1150 - mean_absolute_error: 0.2523 - val_loss: 0.1512 - val_mean_absolute_error: 0.2955\n",
      "Epoch 9/10\n",
      "\u001B[1m100/100\u001B[0m \u001B[32m━━━━━━━━━━━━━━━━━━━━\u001B[0m\u001B[37m\u001B[0m \u001B[1m12s\u001B[0m 124ms/step - loss: 0.1064 - mean_absolute_error: 0.2415 - val_loss: 0.1383 - val_mean_absolute_error: 0.2809\n",
      "Epoch 10/10\n",
      "\u001B[1m100/100\u001B[0m \u001B[32m━━━━━━━━━━━━━━━━━━━━\u001B[0m\u001B[37m\u001B[0m \u001B[1m13s\u001B[0m 130ms/step - loss: 0.1021 - mean_absolute_error: 0.2363 - val_loss: 0.1275 - val_mean_absolute_error: 0.2693\n"
     ]
    },
    {
     "data": {
      "text/plain": [
       "<keras.src.callbacks.history.History at 0x7f18924b8bd0>"
      ]
     },
     "execution_count": 146,
     "metadata": {},
     "output_type": "execute_result"
    }
   ],
   "execution_count": 146
  },
  {
   "cell_type": "code",
   "metadata": {
    "ExecuteTime": {
     "end_time": "2024-12-16T13:03:45.600688Z",
     "start_time": "2024-12-16T13:00:57.761569Z"
    }
   },
   "source": [
    "from tqdm import tqdm\n",
    "\n",
    "\n",
    "def print_metrics(model: keras.models.Model, data, batch_size=batch_size, name=\"\", **kw):\n",
    "    squared_error = abs_error = num_samples = 0.0\n",
    "    for batch_x, batch_y in tqdm(iterate_minibatches(data, batch_size=batch_size, shuffle=False, **kw)):\n",
    "        batch_pred = model.predict(batch_x, verbose=0)[:, 0]\n",
    "        squared_error += np.sum(np.square(batch_pred - batch_y))\n",
    "        abs_error += np.sum(np.abs(batch_pred - batch_y))\n",
    "        num_samples += len(batch_y)\n",
    "    print(\"%s results:\" % (name or \"\"))\n",
    "    print(\"Mean square error: %.5f\" % (squared_error / num_samples))\n",
    "    print(\"Mean absolute error: %.5f\" % (abs_error / num_samples))\n",
    "    return squared_error, abs_error\n",
    "    \n",
    "print_metrics(model, data_train, name='Train')\n",
    "print_metrics(model, data_val, name='Val');"
   ],
   "outputs": [
    {
     "name": "stderr",
     "output_type": "stream",
     "text": [
      "765it [02:06,  6.06it/s]\n"
     ]
    },
    {
     "name": "stdout",
     "output_type": "stream",
     "text": [
      "Train results:\n",
      "Mean square error: 0.12295\n",
      "Mean absolute error: 0.26333\n"
     ]
    },
    {
     "name": "stderr",
     "output_type": "stream",
     "text": [
      "192it [00:41,  4.61it/s]"
     ]
    },
    {
     "name": "stdout",
     "output_type": "stream",
     "text": [
      "Val results:\n",
      "Mean square error: 0.12740\n",
      "Mean absolute error: 0.26939\n"
     ]
    },
    {
     "name": "stderr",
     "output_type": "stream",
     "text": [
      "\n"
     ]
    }
   ],
   "execution_count": 147
  },
  {
   "cell_type": "markdown",
   "metadata": {},
   "source": [
    "### Bonus part: explaining model predictions\n",
    "\n",
    "It's usually a good idea to understand how your model works before you let it make actual decisions. It's simple for linear models: just see which words learned positive or negative weights. However, its much harder for neural networks that learn complex nonlinear dependencies.\n",
    "\n",
    "There are, however, some ways to look inside the black box:\n",
    "* Seeing how model responds to input perturbations\n",
    "* Finding inputs that maximize/minimize activation of some chosen neurons (_read more [on distill.pub](https://distill.pub/2018/building-blocks/)_)\n",
    "* Building local linear approximations to your neural network: [article](https://arxiv.org/abs/1602.04938), [eli5 library](https://github.com/TeamHG-Memex/eli5/tree/master/eli5/formatters)\n",
    "\n",
    "Today we gonna try the first method just because it's the simplest one."
   ]
  },
  {
   "cell_type": "code",
   "metadata": {
    "ExecuteTime": {
     "end_time": "2024-12-16T12:39:56.009223Z",
     "start_time": "2024-12-16T12:39:56.004069Z"
    }
   },
   "source": [
    "def explain(model, sample, col_name='Title'):\n",
    "    \"\"\" Computes the effect each word had on model predictions \"\"\"\n",
    "    sample = dict(sample)\n",
    "    sample_col_tokens = [tokens[token_to_id.get(tok, 0)] for tok in sample[col_name].split()]\n",
    "    data_drop_one_token = pd.DataFrame([sample] * (len(sample_col_tokens) + 1))\n",
    "\n",
    "    for drop_i in range(len(sample_col_tokens)):\n",
    "        data_drop_one_token.loc[drop_i, col_name] = ' '.join(UNK if i == drop_i else tok\n",
    "                                                   for i, tok in enumerate(sample_col_tokens)) \n",
    "\n",
    "    *predictions_drop_one_token, baseline_pred = model.predict(make_batch(data_drop_one_token), verbose=0)[:, 0]\n",
    "    diffs = baseline_pred - predictions_drop_one_token\n",
    "    return list(zip(sample_col_tokens, diffs))"
   ],
   "outputs": [],
   "execution_count": 29
  },
  {
   "cell_type": "code",
   "metadata": {
    "ExecuteTime": {
     "end_time": "2024-12-16T12:39:56.280539Z",
     "start_time": "2024-12-16T12:39:56.274674Z"
    }
   },
   "source": [
    "from IPython.display import HTML, display_html\n",
    "\n",
    "def draw_html(tokens_and_weights, cmap=plt.get_cmap(\"bwr\"), display=True,\n",
    "              token_template=\"\"\"<span style=\"background-color: {color_hex}\">{token}</span>\"\"\",\n",
    "              font_style=\"font-size:14px;\"\n",
    "             ):\n",
    "    \n",
    "    def get_color_hex(weight):\n",
    "        rgba = cmap(1. / (1 + np.exp(weight)), bytes=True)\n",
    "        return '#%02X%02X%02X' % rgba[:3]\n",
    "    \n",
    "    tokens_html = [\n",
    "        token_template.format(token=token, color_hex=get_color_hex(weight))\n",
    "        for token, weight in tokens_and_weights\n",
    "    ]\n",
    "    \n",
    "    \n",
    "    raw_html = \"\"\"<p style=\"{}\">{}</p>\"\"\".format(font_style, ' '.join(tokens_html))\n",
    "    if display:\n",
    "        display_html(HTML(raw_html))\n",
    "        \n",
    "    return raw_html\n",
    "    "
   ],
   "outputs": [],
   "execution_count": 30
  },
  {
   "metadata": {
    "ExecuteTime": {
     "end_time": "2024-12-16T12:39:56.669690Z",
     "start_time": "2024-12-16T12:39:56.664132Z"
    }
   },
   "cell_type": "code",
   "source": [
    "tokens_and_weights = [\n",
    "    (\"test\", -10),\n",
    "    (\"title\", 10),\n",
    "    (\"word\", 0)\n",
    "]\n",
    "draw_html([(tok, weight * 5) for tok, weight in tokens_and_weights], font_style='font-size:20px;');"
   ],
   "outputs": [
    {
     "data": {
      "text/html": [
       "<p style=\"font-size:20px;\"><span style=\"background-color: #FF0000\">test</span> <span style=\"background-color: #0000FF\">title</span> <span style=\"background-color: #FFFEFE\">word</span></p>"
      ]
     },
     "metadata": {},
     "output_type": "display_data"
    }
   ],
   "execution_count": 31
  },
  {
   "metadata": {
    "ExecuteTime": {
     "end_time": "2024-12-16T12:39:57.162361Z",
     "start_time": "2024-12-16T12:39:57.158989Z"
    }
   },
   "cell_type": "code",
   "source": [
    "def explain_test_sample(data_sample):\n",
    "    tokens_and_weights = explain(model, data_sample, \"Title\")\n",
    "    draw_html([(tok, weight * 5) for tok, weight in tokens_and_weights], font_style='font-size:20px;')\n",
    "    \n",
    "    tokens_and_weights = explain(model, data_sample, \"FullDescription\")\n",
    "    draw_html([(tok, weight * 10) for tok, weight in tokens_and_weights])"
   ],
   "outputs": [],
   "execution_count": 32
  },
  {
   "metadata": {
    "ExecuteTime": {
     "end_time": "2024-12-16T12:39:57.906559Z",
     "start_time": "2024-12-16T12:39:57.602047Z"
    }
   },
   "cell_type": "code",
   "source": [
    "test_sample = data.loc[0].copy()\n",
    "\n",
    "test_sample[\"Title\"] = \"senior python developer\"\n",
    "test_sample[\"FullDescription\"] = \"highly skilled python developer with 5 years of experience\"\n",
    "explain_test_sample(test_sample)"
   ],
   "outputs": [
    {
     "data": {
      "text/html": [
       "<p style=\"font-size:20px;\"><span style=\"background-color: #7171FF\">senior</span> <span style=\"background-color: #D3D3FF\">python</span> <span style=\"background-color: #FF9696\">developer</span></p>"
      ]
     },
     "metadata": {},
     "output_type": "display_data"
    },
    {
     "data": {
      "text/html": [
       "<p style=\"font-size:14px;\"><span style=\"background-color: #FF5959\">highly</span> <span style=\"background-color: #FF2E2E\">skilled</span> <span style=\"background-color: #FF1C1C\">python</span> <span style=\"background-color: #FF3838\">developer</span> <span style=\"background-color: #D2D2FF\">with</span> <span style=\"background-color: #FF1919\">5</span> <span style=\"background-color: #FFE2E2\">years</span> <span style=\"background-color: #9090FF\">of</span> <span style=\"background-color: #FF7070\">experience</span></p>"
      ]
     },
     "metadata": {},
     "output_type": "display_data"
    }
   ],
   "execution_count": 33
  },
  {
   "metadata": {
    "ExecuteTime": {
     "end_time": "2024-12-16T12:40:09.321205Z",
     "start_time": "2024-12-16T12:40:09.125365Z"
    }
   },
   "cell_type": "code",
   "source": [
    "test_sample[\"Title\"] = \"trainee python intern / part time\"\n",
    "test_sample[\"FullDescription\"] = \"low skilled python enthusiast\"\n",
    "explain_test_sample(test_sample)"
   ],
   "outputs": [
    {
     "data": {
      "text/html": [
       "<p style=\"font-size:20px;\"><span style=\"background-color: #FFD0D0\">trainee</span> <span style=\"background-color: #F2F2FF\">python</span> <span style=\"background-color: #FFC0C0\">intern</span> <span style=\"background-color: #2828FF\">/</span> <span style=\"background-color: #D6D6FF\">part</span> <span style=\"background-color: #FFBCBC\">time</span></p>"
      ]
     },
     "metadata": {},
     "output_type": "display_data"
    },
    {
     "data": {
      "text/html": [
       "<p style=\"font-size:14px;\"><span style=\"background-color: #FF2020\">low</span> <span style=\"background-color: #FF2626\">skilled</span> <span style=\"background-color: #FF0C0C\">python</span> <span style=\"background-color: #FF0C0C\">enthusiast</span></p>"
      ]
     },
     "metadata": {},
     "output_type": "display_data"
    }
   ],
   "execution_count": 35
  },
  {
   "metadata": {
    "ExecuteTime": {
     "end_time": "2024-12-16T12:40:10.778349Z",
     "start_time": "2024-12-16T12:40:10.524568Z"
    }
   },
   "cell_type": "code",
   "source": [
    "test_sample[\"Title\"] = \"head of python development\"\n",
    "test_sample[\"FullDescription\"] = \"manager of python developers\"\n",
    "explain_test_sample(test_sample)"
   ],
   "outputs": [
    {
     "data": {
      "text/html": [
       "<p style=\"font-size:20px;\"><span style=\"background-color: #5E5EFF\">head</span> <span style=\"background-color: #5050FF\">of</span> <span style=\"background-color: #FFDEDE\">python</span> <span style=\"background-color: #FF5959\">development</span></p>"
      ]
     },
     "metadata": {},
     "output_type": "display_data"
    },
    {
     "data": {
      "text/html": [
       "<p style=\"font-size:14px;\"><span style=\"background-color: #FFB2B2\">manager</span> <span style=\"background-color: #FFDEDE\">of</span> <span style=\"background-color: #FF1818\">python</span> <span style=\"background-color: #FF1616\">developers</span></p>"
      ]
     },
     "metadata": {},
     "output_type": "display_data"
    }
   ],
   "execution_count": 36
  },
  {
   "metadata": {
    "ExecuteTime": {
     "end_time": "2024-12-16T12:40:11.699873Z",
     "start_time": "2024-12-16T12:40:11.541101Z"
    }
   },
   "cell_type": "code",
   "source": [
    "test_sample[\"Title\"] = \"cleaning assistant\"\n",
    "test_sample[\"FullDescription\"] = \"simple job for students cleaning assistant\"\n",
    "explain_test_sample(test_sample)"
   ],
   "outputs": [
    {
     "data": {
      "text/html": [
       "<p style=\"font-size:20px;\"><span style=\"background-color: #FFF8F8\">cleaning</span> <span style=\"background-color: #FF2020\">assistant</span></p>"
      ]
     },
     "metadata": {},
     "output_type": "display_data"
    },
    {
     "data": {
      "text/html": [
       "<p style=\"font-size:14px;\"><span style=\"background-color: #FF4040\">simple</span> <span style=\"background-color: #FF9A9A\">job</span> <span style=\"background-color: #FF5E5E\">for</span> <span style=\"background-color: #FF3636\">students</span> <span style=\"background-color: #FF6868\">cleaning</span> <span style=\"background-color: #FF6060\">assistant</span></p>"
      ]
     },
     "metadata": {},
     "output_type": "display_data"
    }
   ],
   "execution_count": 37
  },
  {
   "metadata": {
    "ExecuteTime": {
     "end_time": "2024-12-16T12:40:12.495468Z",
     "start_time": "2024-12-16T12:40:12.323791Z"
    }
   },
   "cell_type": "code",
   "source": [
    "test_sample[\"Title\"] = \"accounts assistant\"\n",
    "test_sample[\"FullDescription\"] = \"assistant in the accounts department / finance / accounts assistant\"\n",
    "explain_test_sample(test_sample)"
   ],
   "outputs": [
    {
     "data": {
      "text/html": [
       "<p style=\"font-size:20px;\"><span style=\"background-color: #D2D2FF\">accounts</span> <span style=\"background-color: #FF2929\">assistant</span></p>"
      ]
     },
     "metadata": {},
     "output_type": "display_data"
    },
    {
     "data": {
      "text/html": [
       "<p style=\"font-size:14px;\"><span style=\"background-color: #FF6868\">assistant</span> <span style=\"background-color: #B0B0FF\">in</span> <span style=\"background-color: #0000FF\">the</span> <span style=\"background-color: #FF8686\">accounts</span> <span style=\"background-color: #FFECEC\">department</span> <span style=\"background-color: #EAEAFF\">/</span> <span style=\"background-color: #D3D3FF\">finance</span> <span style=\"background-color: #FFF8F8\">/</span> <span style=\"background-color: #E6E6FF\">accounts</span> <span style=\"background-color: #FFB6B6\">assistant</span></p>"
      ]
     },
     "metadata": {},
     "output_type": "display_data"
    }
   ],
   "execution_count": 38
  },
  {
   "cell_type": "code",
   "metadata": {
    "ExecuteTime": {
     "end_time": "2024-12-16T12:40:13.951069Z",
     "start_time": "2024-12-16T12:40:13.630721Z"
    }
   },
   "source": [
    "i = 36605\n",
    "tokens_and_weights = explain(model, data.loc[i], \"Title\")\n",
    "draw_html([(tok, weight * 5) for tok, weight in tokens_and_weights], font_style='font-size:20px;');\n",
    "\n",
    "tokens_and_weights = explain(model, data.loc[i], \"FullDescription\")\n",
    "draw_html([(tok, weight * 10) for tok, weight in tokens_and_weights]);"
   ],
   "outputs": [
    {
     "data": {
      "text/html": [
       "<p style=\"font-size:20px;\"><span style=\"background-color: #FAFAFF\">sales</span> <span style=\"background-color: #FFFCFC\">specialist</span> <span style=\"background-color: #FF9292\">iv</span> <span style=\"background-color: #FFA0A0\">access</span> <span style=\"background-color: #CECEFF\">and</span> <span style=\"background-color: #FFD6D6\">infusion</span></p>"
      ]
     },
     "metadata": {},
     "output_type": "display_data"
    },
    {
     "data": {
      "text/html": [
       "<p style=\"font-size:14px;\"><span style=\"background-color: #FFFEFE\">sales</span> <span style=\"background-color: #FFFEFE\">representative</span> <span style=\"background-color: #FFFEFE\">medical</span> <span style=\"background-color: #FFFEFE\">sales</span> <span style=\"background-color: #FFFEFE\">iv</span> <span style=\"background-color: #FFFEFE\">access</span> <span style=\"background-color: #FFFEFE\">and</span> <span style=\"background-color: #FFFEFE\">infusion</span> <span style=\"background-color: #FFFEFE\">an</span> <span style=\"background-color: #FFFEFE\">opportunity</span> <span style=\"background-color: #FFFEFE\">to</span> <span style=\"background-color: #FFFEFE\">work</span> <span style=\"background-color: #FFDADA\">for</span> <span style=\"background-color: #FFFEFE\">the</span> <span style=\"background-color: #FFFEFE\">industry</span> <span style=\"background-color: #FFDEDE\">leading</span> <span style=\"background-color: #FFFEFE\">manufacturer</span> <span style=\"background-color: #FFFEFE\">of</span> <span style=\"background-color: #FFFEFE\">iv</span> <span style=\"background-color: #FFFEFE\">access</span> <span style=\"background-color: #FFFEFE\">and</span> <span style=\"background-color: #FFFEFE\">infusion</span> <span style=\"background-color: #FFFEFE\">solutions</span> <span style=\"background-color: #FCFCFF\">.</span> <span style=\"background-color: #FFEAEA\">formally</span> <span style=\"background-color: #FFF2F2\">recognised</span> <span style=\"background-color: #FFC2C2\">as</span> <span style=\"background-color: #FCFCFF\">the</span> <span style=\"background-color: #FEFEFF\">number</span> <span style=\"background-color: #FFFEFE\">****</span> <span style=\"background-color: #FFFEFE\">company</span> <span style=\"background-color: #FFFEFE\">in</span> <span style=\"background-color: #FFF0F0\">this</span> <span style=\"background-color: #FFFEFE\">market</span> <span style=\"background-color: #FFF8F8\">space</span> <span style=\"background-color: #FFFEFE\">,</span> <span style=\"background-color: #FFFEFE\">our</span> <span style=\"background-color: #FFFEFE\">client</span> <span style=\"background-color: #FFFEFE\">are</span> <span style=\"background-color: #FFFEFE\">an</span> <span style=\"background-color: #FFFEFE\">ethical</span> <span style=\"background-color: #FFFEFE\">and</span> <span style=\"background-color: #FFFEFE\">dynamic</span> <span style=\"background-color: #FFFEFE\">organisation</span> <span style=\"background-color: #FFFEFE\">absolutely</span> <span style=\"background-color: #FFFCFC\">committed</span> <span style=\"background-color: #FFE4E4\">to</span> <span style=\"background-color: #FFFEFE\">the</span> <span style=\"background-color: #FFFEFE\">advancement</span> <span style=\"background-color: #FFFEFE\">of</span> <span style=\"background-color: #FFFEFE\">innovative</span> <span style=\"background-color: #FFFEFE\">technologies</span> <span style=\"background-color: #FFFEFE\">.</span> <span style=\"background-color: #FFFEFE\">job</span> <span style=\"background-color: #FFFEFE\">title</span> <span style=\"background-color: #FFFEFE\">:</span> <span style=\"background-color: #FFFEFE\">sales</span> <span style=\"background-color: #FFFEFE\">specialist</span> <span style=\"background-color: #FFFEFE\">iv</span> <span style=\"background-color: #FFFEFE\">access</span> <span style=\"background-color: #FFFEFE\">and</span> <span style=\"background-color: #FFFEFE\">infusion</span> <span style=\"background-color: #FFFEFE\">selling</span> <span style=\"background-color: #FFFEFE\">:</span> <span style=\"background-color: #FFFEFE\">medication</span> <span style=\"background-color: #FFFEFE\">delivery</span> <span style=\"background-color: #FFFEFE\">solutions</span> <span style=\"background-color: #FFFEFE\">selling</span> <span style=\"background-color: #FFFEFE\">to</span> <span style=\"background-color: #FEFEFF\">:</span> <span style=\"background-color: #FFE6E6\">iv</span> <span style=\"background-color: #FCFCFF\">teams</span> <span style=\"background-color: #E8E8FF\">,</span> <span style=\"background-color: #FFEEEE\">infection</span> <span style=\"background-color: #FFFEFE\">control</span> <span style=\"background-color: #DEDEFF\">,</span> <span style=\"background-color: #FFFEFE\">lead</span> <span style=\"background-color: #FFFAFA\">intensive</span> <span style=\"background-color: #FFFAFA\">care</span> <span style=\"background-color: #FFFCFC\">nurse</span> <span style=\"background-color: #FFEAEA\">specialists</span> <span style=\"background-color: #FFFEFE\">,</span> <span style=\"background-color: #FFFEFE\">ward</span> <span style=\"background-color: #FFFEFE\">managers</span> <span style=\"background-color: #FFFEFE\">territory</span> <span style=\"background-color: #FFFEFE\">:</span> <span style=\"background-color: #FFFEFE\">east</span> <span style=\"background-color: #FFFEFE\">midlands</span> <span style=\"background-color: #FFFEFE\">location</span> <span style=\"background-color: #FFFEFE\">:</span> <span style=\"background-color: #FFFEFE\">east</span> <span style=\"background-color: #FFFEFE\">midlands</span> <span style=\"background-color: #FFFEFE\">package</span> <span style=\"background-color: #FFFEFE\">:</span> <span style=\"background-color: #FFFEFE\">basic</span> <span style=\"background-color: #FFFEFE\">:</span> <span style=\"background-color: #FFFEFE\">****</span> <span style=\"background-color: #D8D8FF\">k</span> <span style=\"background-color: #FFECEC\">****</span> <span style=\"background-color: #8E8EFF\">k</span> <span style=\"background-color: #8E8EFF\">,</span> <span style=\"background-color: #FFFEFE\">uncapped</span> <span style=\"background-color: #FFD8D8\">bonus</span> <span style=\"background-color: #FFFEFE\">in</span> <span style=\"background-color: #FFFEFE\">addition</span> <span style=\"background-color: #FFFEFE\">,</span> <span style=\"background-color: #FFFEFE\">full</span> <span style=\"background-color: #FFFEFE\">corporate</span> <span style=\"background-color: #FFFEFE\">benefits</span> <span style=\"background-color: #FFFEFE\">company</span> <span style=\"background-color: #FFFEFE\">information</span> <span style=\"background-color: #FFFEFE\">hugely</span> <span style=\"background-color: #FFFEFE\">ethical</span> <span style=\"background-color: #FFFEFE\">and</span> <span style=\"background-color: #FFFEFE\">professional</span> <span style=\"background-color: #FFFEFE\">global</span> <span style=\"background-color: #FFFEFE\">organisation</span> <span style=\"background-color: #FFFEFE\">extremely</span> <span style=\"background-color: #FFFEFE\">well</span> <span style=\"background-color: #FFFEFE\">established</span> <span style=\"background-color: #FEFEFF\">in</span> <span style=\"background-color: #A2A2FF\">the</span> <span style=\"background-color: #FFDEDE\">uk</span> <span style=\"background-color: #A2A2FF\">the</span> <span style=\"background-color: #FFFEFE\">market</span> <span style=\"background-color: #FFFEFE\">leader</span> <span style=\"background-color: #FFFEFE\">across</span> <span style=\"background-color: #FFFEFE\">all</span> <span style=\"background-color: #FFFEFE\">of</span> <span style=\"background-color: #FFFEFE\">their</span> <span style=\"background-color: #FFFEFE\">core</span> <span style=\"background-color: #FFFEFE\">business</span> <span style=\"background-color: #FFFEFE\">areas</span> <span style=\"background-color: #FFFEFE\">focus</span> <span style=\"background-color: #FFFEFE\">on</span> <span style=\"background-color: #FFFEFE\">providing</span> <span style=\"background-color: #FFFEFE\">cutting</span> <span style=\"background-color: #FFFEFE\">edge</span> <span style=\"background-color: #FFFEFE\">solutions</span> <span style=\"background-color: #FFFEFE\">along</span> <span style=\"background-color: #FFFEFE\">with</span> <span style=\"background-color: #FFFEFE\">outstanding</span> <span style=\"background-color: #FFFEFE\">service</span> <span style=\"background-color: #FFFEFE\">and</span> <span style=\"background-color: #FFB8B8\">support</span> <span style=\"background-color: #F3F3FF\">a</span> <span style=\"background-color: #F3F3FF\">business</span> <span style=\"background-color: #F3F3FF\">that</span> <span style=\"background-color: #FFFCFC\">retain</span> <span style=\"background-color: #FFFEFE\">talented</span> <span style=\"background-color: #FFFEFE\">personnel</span> <span style=\"background-color: #FFF0F0\">by</span> <span style=\"background-color: #FFE0E0\">offering</span> <span style=\"background-color: #FFFEFE\">a</span> <span style=\"background-color: #FFFEFE\">strong</span> <span style=\"background-color: #FFFEFE\">platform</span> <span style=\"background-color: #FFFEFE\">for</span> <span style=\"background-color: #FFFEFE\">career</span> <span style=\"background-color: #FFFEFE\">development</span> <span style=\"background-color: #FFFEFE\">sales</span> <span style=\"background-color: #FFFEFE\">specialist</span> <span style=\"background-color: #FFFEFE\">iv</span> <span style=\"background-color: #FFFEFE\">access</span> <span style=\"background-color: #FFFEFE\">and</span> <span style=\"background-color: #FFF8F8\">infusion</span> <span style=\"background-color: #FFFEFE\">you</span> <span style=\"background-color: #FFFEFE\">must</span> <span style=\"background-color: #FFFEFE\">have</span> <span style=\"background-color: #FCFCFF\">/</span> <span style=\"background-color: #FFEAEA\">be</span> <span style=\"background-color: #E3E3FF\">the</span> <span style=\"background-color: #FFE6E6\">following</span> <span style=\"background-color: #FFFAFA\">at</span> <span style=\"background-color: #FFFEFE\">least</span> <span style=\"background-color: #FFFEFE\">2</span> <span style=\"background-color: #FFFEFE\">years</span> <span style=\"background-color: #FFFEFE\">medical</span> <span style=\"background-color: #FFFEFE\">device</span> <span style=\"background-color: #FFFEFE\">sales</span> <span style=\"background-color: #F3F3FF\">experience</span> <span style=\"background-color: #F3F3FF\">.</span> <span style=\"background-color: #FAFAFF\">candidates</span> <span style=\"background-color: #F3F3FF\">who</span> <span style=\"background-color: #FFFEFE\">have</span> <span style=\"background-color: #FFFEFE\">sold</span> <span style=\"background-color: #FFFEFE\">disposables</span> <span style=\"background-color: #FFFEFE\">/</span> <span style=\"background-color: #FFFEFE\">consumables</span> <span style=\"background-color: #FFFEFE\">or</span> <span style=\"background-color: #FFFEFE\">similar</span> <span style=\"background-color: #FFFEFE\">into</span> <span style=\"background-color: #FFFEFE\">hospitals</span> <span style=\"background-color: #FFFEFE\">would</span> <span style=\"background-color: #F2F2FF\">be</span> <span style=\"background-color: #F2F2FF\">of</span> <span style=\"background-color: #F2F2FF\">particular</span> <span style=\"background-color: #FFF8F8\">interest</span> <span style=\"background-color: #EAEAFF\">.</span> <span style=\"background-color: #FCFCFF\">candidates</span> <span style=\"background-color: #EAEAFF\">must</span> <span style=\"background-color: #EAEAFF\">have</span> <span style=\"background-color: #FFFEFE\">sold</span> <span style=\"background-color: #FFFEFE\">into</span> <span style=\"background-color: #FFFEFE\">hospitals</span> <span style=\"background-color: #FFFEFE\">demonstrable</span> <span style=\"background-color: #FFFEFE\">performance</span> <span style=\"background-color: #FFFEFE\">and</span> <span style=\"background-color: #FFFEFE\">achievements</span> <span style=\"background-color: #FFF6F6\">so</span> <span style=\"background-color: #FFFAFA\">far</span> <span style=\"background-color: #FFF8F8\">personable</span> <span style=\"background-color: #FFFEFE\">,</span> <span style=\"background-color: #FFFEFE\">adaptable</span> <span style=\"background-color: #FFFEFE\">and</span> <span style=\"background-color: #FFFEFE\">willing</span> <span style=\"background-color: #FFFEFE\">to</span> <span style=\"background-color: #FFFEFE\">learn</span> <span style=\"background-color: #FFFEFE\">keen</span> <span style=\"background-color: #FFFEFE\">and</span> <span style=\"background-color: #FCFCFF\">eager</span> <span style=\"background-color: #FFC3C3\">to</span> <span style=\"background-color: #FFDADA\">be</span> <span style=\"background-color: #C6C6FF\">a</span> <span style=\"background-color: #EAEAFF\">success</span> <span style=\"background-color: #FFFCFC\">candidates</span> <span style=\"background-color: #E3E3FF\">must</span> <span style=\"background-color: #FFD3D3\">have</span> <span style=\"background-color: #FFFEFE\">a</span> <span style=\"background-color: #FFFEFE\">degree</span> <span style=\"background-color: #FFFEFE\">or</span> <span style=\"background-color: #FFFEFE\">at</span> <span style=\"background-color: #FFFEFE\">least</span> <span style=\"background-color: #FFFEFE\">be</span> <span style=\"background-color: #FFFEFE\">able</span> <span style=\"background-color: #FFE4E4\">to</span> <span style=\"background-color: #FFCCCC\">show</span> <span style=\"background-color: #FFFEFE\">a</span> <span style=\"background-color: #FFFEFE\">strong</span> <span style=\"background-color: #FFFCFC\">ability</span> <span style=\"background-color: #FFFEFE\">to</span> <span style=\"background-color: #FFFEFE\">learn</span> <span style=\"background-color: #FFFEFE\">role</span> <span style=\"background-color: #FFFAFA\">information</span> <span style=\"background-color: #FFD8D8\">managing</span> <span style=\"background-color: #FFFEFE\">the</span> <span style=\"background-color: #FFFEFE\">east</span> <span style=\"background-color: #FFF6F6\">midlands</span> <span style=\"background-color: #FFFEFE\">region</span> <span style=\"background-color: #FFFEFE\">selling</span> <span style=\"background-color: #FFD6D6\">across</span> <span style=\"background-color: #FFFEFE\">the</span> <span style=\"background-color: #FFFEFE\">company</span> <span style=\"background-color: #FFFCFC\">'</span> <span style=\"background-color: #FFFEFE\">s</span> <span style=\"background-color: #FFFEFE\">range</span> <span style=\"background-color: #FFFEFE\">of</span> <span style=\"background-color: #FFFEFE\">iv</span> <span style=\"background-color: #FFFEFE\">and</span> <span style=\"background-color: #FFFEFE\">infusion</span> <span style=\"background-color: #FFFEFE\">solutions</span> <span style=\"background-color: #FFFEFE\">portfolio</span> <span style=\"background-color: #FFFEFE\">selling</span> <span style=\"background-color: #FFFEFE\">into</span> <span style=\"background-color: #FFFEFE\">lead</span> <span style=\"background-color: #FFFEFE\">intensive</span> <span style=\"background-color: #FFFAFA\">care</span> <span style=\"background-color: #FFFCFC\">nurse</span> <span style=\"background-color: #FFEAEA\">specialists</span> <span style=\"background-color: #FFFCFC\">,</span> <span style=\"background-color: #FFF6F6\">ward</span> <span style=\"background-color: #FFE8E8\">managers</span> <span style=\"background-color: #FFFCFC\">,</span> <span style=\"background-color: #FFDADA\">iv</span> <span style=\"background-color: #FFECEC\">teams</span> <span style=\"background-color: #FFFEFE\">,</span> <span style=\"background-color: #FFFEFE\">infection</span> <span style=\"background-color: #FFFEFE\">control</span> <span style=\"background-color: #FFFEFE\">teams</span> <span style=\"background-color: #FFFEFE\">,</span> <span style=\"background-color: #FFFEFE\">procurement</span> <span style=\"background-color: #FFFEFE\">sales</span> <span style=\"background-color: #FFFEFE\">specialist</span> <span style=\"background-color: #FFFEFE\">iv</span> <span style=\"background-color: #FFFEFE\">access</span> <span style=\"background-color: #FFFEFE\">and</span> <span style=\"background-color: #FFFEFE\">infusion</span> <span style=\"background-color: #FFFEFE\">candidates</span> <span style=\"background-color: #FFFEFE\">must</span> <span style=\"background-color: #EEEEFF\">be</span> <span style=\"background-color: #EEEEFF\">eligible</span> <span style=\"background-color: #EEEEFF\">to</span> <span style=\"background-color: #FFF2F2\">work</span> <span style=\"background-color: #FFFEFE\">and</span> <span style=\"background-color: #FFFEFE\">live</span> <span style=\"background-color: #FAFAFF\">in</span> <span style=\"background-color: #7676FF\">the</span> <span style=\"background-color: #E0E0FF\">uk</span> <span style=\"background-color: #6666FF\">.</span> <span style=\"background-color: #E6E6FF\">please</span> <span style=\"background-color: #E8E8FF\">contact</span> <span style=\"background-color: #FCFCFF\">allan</span> <span style=\"background-color: #FFFEFE\">waller</span> <span style=\"background-color: #FFFEFE\">on</span> <span style=\"background-color: #FFFEFE\">****</span> <span style=\"background-color: #FFFEFE\">****</span> <span style=\"background-color: #FFFEFE\">****</span> <span style=\"background-color: #FFFEFE\">or</span> <span style=\"background-color: #FFFEFE\">please</span> <span style=\"background-color: #FFE4E4\">hit</span> <span style=\"background-color: #DCDCFF\">the</span> <span style=\"background-color: #E3E3FF\">apply</span> <span style=\"background-color: #FFE2E2\">button</span> <span style=\"background-color: #C8C8FF\">.</span> <span style=\"background-color: #FAFAFF\">this</span> <span style=\"background-color: #FFE8E8\">job</span> <span style=\"background-color: #FFE8E8\">was</span> <span style=\"background-color: #FFFEFE\">originally</span> <span style=\"background-color: #FFFEFE\">posted</span> <span style=\"background-color: #FFFEFE\">as</span> <span style=\"background-color: #FFFEFE\">www</span> <span style=\"background-color: #FAFAFF\">.</span> <span style=\"background-color: #FCFCFF\">salestarget</span> <span style=\"background-color: #E2E2FF\">.</span> <span style=\"background-color: #F3F3FF\">co</span> <span style=\"background-color: #D2D2FF\">.</span> <span style=\"background-color: #F6F6FF\">uk</span> <span style=\"background-color: #F2F2FF\">/</span> <span style=\"background-color: #DEDEFF\">jobseeking</span> <span style=\"background-color: #FFFEFE\">/</span> <span style=\"background-color: #FFFEFE\">UNK</span> <span style=\"background-color: #FFFEFE\">****</span></p>"
      ]
     },
     "metadata": {},
     "output_type": "display_data"
    }
   ],
   "execution_count": 39
  },
  {
   "cell_type": "code",
   "metadata": {
    "ExecuteTime": {
     "end_time": "2024-12-16T12:40:15.047379Z",
     "start_time": "2024-12-16T12:40:14.848176Z"
    }
   },
   "source": [
    "i = 12077\n",
    "tokens_and_weights = explain(model, data.loc[i], \"Title\")\n",
    "draw_html([(tok, weight * 5) for tok, weight in tokens_and_weights], font_style='font-size:20px;');\n",
    "\n",
    "tokens_and_weights = explain(model, data.loc[i], \"FullDescription\")\n",
    "draw_html([(tok, weight * 10) for tok, weight in tokens_and_weights]);"
   ],
   "outputs": [
    {
     "data": {
      "text/html": [
       "<p style=\"font-size:20px;\"><span style=\"background-color: #FFBEBE\">cleaning</span> <span style=\"background-color: #FF1818\">operative</span></p>"
      ]
     },
     "metadata": {},
     "output_type": "display_data"
    },
    {
     "data": {
      "text/html": [
       "<p style=\"font-size:14px;\"><span style=\"background-color: #FFF2F2\">12</span> <span style=\"background-color: #F2F2FF\">.</span> <span style=\"background-color: #FFE6E6\">5</span> <span style=\"background-color: #FFE8E8\">hours</span> <span style=\"background-color: #FFFAFA\">per</span> <span style=\"background-color: #FFFEFE\">week</span> <span style=\"background-color: #FFFEFE\">monday</span> <span style=\"background-color: #FFFEFE\">friday</span> <span style=\"background-color: #FFFEFE\">9am</span> <span style=\"background-color: #FFE2E2\">11</span> <span style=\"background-color: #BABAFF\">.</span> <span style=\"background-color: #FFECEC\">30am</span> <span style=\"background-color: #FFF6F6\">duties</span> <span style=\"background-color: #AAAAFF\">to</span> <span style=\"background-color: #E6E6FF\">include</span> <span style=\"background-color: #FFBABA\">sweeping</span> <span style=\"background-color: #CACAFF\">,</span> <span style=\"background-color: #FFAAAA\">mopping</span> <span style=\"background-color: #E0E0FF\">,</span> <span style=\"background-color: #FFA3A3\">vacuuming</span> <span style=\"background-color: #DEDEFF\">,</span> <span style=\"background-color: #CCCCFF\">buffing</span> <span style=\"background-color: #C8C8FF\">,</span> <span style=\"background-color: #FFFEFE\">cleaning</span> <span style=\"background-color: #FCFCFF\">staff</span> <span style=\"background-color: #FFFEFE\">toilets</span> <span style=\"background-color: #FCFCFF\">and</span> <span style=\"background-color: #FCFCFF\">rest</span> <span style=\"background-color: #FFF6F6\">room</span> <span style=\"background-color: #B6B6FF\">.</span> <span style=\"background-color: #FFB2B2\">must</span> <span style=\"background-color: #D3D3FF\">be</span> <span style=\"background-color: #FFF8F8\">able</span> <span style=\"background-color: #FFFEFE\">to</span> <span style=\"background-color: #FFE4E4\">read</span> <span style=\"background-color: #FFF4F4\">as</span> <span style=\"background-color: #FFF2F2\">they</span> <span style=\"background-color: #FEFEFF\">will</span> <span style=\"background-color: #ECECFF\">be</span> <span style=\"background-color: #FFDCDC\">using</span> <span style=\"background-color: #FFFEFE\">UNK</span> <span style=\"background-color: #FFFEFE\">which</span> <span style=\"background-color: #FFFEFE\">need</span> <span style=\"background-color: #FFFEFE\">UNK</span> <span style=\"background-color: #FFFEFE\">as</span> <span style=\"background-color: #F8F8FF\">per</span> <span style=\"background-color: #FFE8E8\">instructions</span> <span style=\"background-color: #FFC6C6\">on</span> <span style=\"background-color: #3434FF\">the</span> <span style=\"background-color: #FFC3C3\">containers</span> <span style=\"background-color: #4E4EFF\">.</span> <span style=\"background-color: #FF9E9E\">sucessfull</span> <span style=\"background-color: #FFD3D3\">applicants</span> <span style=\"background-color: #FFECEC\">will</span> <span style=\"background-color: #FFFEFE\">be</span> <span style=\"background-color: #FFE8E8\">trained</span> <span style=\"background-color: #FFFEFE\">on</span> <span style=\"background-color: #FFE6E6\">all</span> <span style=\"background-color: #FFFEFE\">electrical</span> <span style=\"background-color: #FFFEFE\">appliances</span> <span style=\"background-color: #FFFEFE\">and</span> <span style=\"background-color: #FFFEFE\">UNK</span> <span style=\"background-color: #FFE4E4\">of</span> <span style=\"background-color: #FFFEFE\">cleaning</span> <span style=\"background-color: #FFE4E4\">materials</span> <span style=\"background-color: #FFFEFE\">.</span></p>"
      ]
     },
     "metadata": {},
     "output_type": "display_data"
    }
   ],
   "execution_count": 40
  },
  {
   "cell_type": "code",
   "metadata": {
    "ExecuteTime": {
     "end_time": "2024-12-16T12:52:02.787837Z",
     "start_time": "2024-12-16T12:52:02.392493Z"
    }
   },
   "source": [
    "i = np.random.randint(len(data))\n",
    "print(\"Index:\", i)\n",
    "print(\"Salary (gbp):\", np.expm1(model.predict(make_batch(data.iloc[i: i+1]))[0, 0]))\n",
    "tokens_and_weights = explain(model, data.loc[i], \"Title\")\n",
    "draw_html([(tok, weight * 5) for tok, weight in tokens_and_weights], font_style='font-size:20px;')\n",
    "\n",
    "tokens_and_weights = explain(model, data.loc[i], \"FullDescription\")\n",
    "draw_html([(tok, weight * 10) for tok, weight in tokens_and_weights]);"
   ],
   "outputs": [
    {
     "name": "stdout",
     "output_type": "stream",
     "text": [
      "Index: 220214\n",
      "\u001B[1m1/1\u001B[0m \u001B[32m━━━━━━━━━━━━━━━━━━━━\u001B[0m\u001B[37m\u001B[0m \u001B[1m0s\u001B[0m 40ms/step\n",
      "Salary (gbp): 13401.17\n"
     ]
    },
    {
     "data": {
      "text/html": [
       "<p style=\"font-size:20px;\"><span style=\"background-color: #E2E2FF\">sql</span> <span style=\"background-color: #E2E2FF\">server</span> <span style=\"background-color: #FFFAFA\">bi</span> <span style=\"background-color: #FFFAFA\">analyst</span> <span style=\"background-color: #A0A0FF\">developer</span> <span style=\"background-color: #9696FF\">,</span> <span style=\"background-color: #D2D2FF\">ssis</span> <span style=\"background-color: #B2B2FF\">,</span> <span style=\"background-color: #F2F2FF\">ssrs</span> <span style=\"background-color: #E0E0FF\">/</span> <span style=\"background-color: #ECECFF\">reports</span> <span style=\"background-color: #FFFEFE\">insurance</span></p>"
      ]
     },
     "metadata": {},
     "output_type": "display_data"
    },
    {
     "data": {
      "text/html": [
       "<p style=\"font-size:14px;\"><span style=\"background-color: #FEFEFF\">sql</span> <span style=\"background-color: #FEFEFF\">server</span> <span style=\"background-color: #FEFEFF\">bi</span> <span style=\"background-color: #FEFEFF\">analyst</span> <span style=\"background-color: #FFF2F2\">developer</span> <span style=\"background-color: #FEFEFF\">,</span> <span style=\"background-color: #FEFEFF\">ssis</span> <span style=\"background-color: #FEFEFF\">,</span> <span style=\"background-color: #FEFEFF\">ssrs</span> <span style=\"background-color: #FEFEFF\">/</span> <span style=\"background-color: #FFFEFE\">reports</span> <span style=\"background-color: #FFFEFE\">insurance</span> <span style=\"background-color: #FEFEFF\">,</span> <span style=\"background-color: #FEFEFF\">london</span> <span style=\"background-color: #FEFEFF\">****</span> <span style=\"background-color: #FEFEFF\">k</span> <span style=\"background-color: #FEFEFF\">****</span> <span style=\"background-color: #FEFEFF\">k</span> <span style=\"background-color: #FEFEFF\">bonus</span> <span style=\"background-color: #FEFEFF\">sql</span> <span style=\"background-color: #FEFEFF\">server</span> <span style=\"background-color: #FEFEFF\">analyst</span> <span style=\"background-color: #FEFEFF\">developer</span> <span style=\"background-color: #FEFEFF\">(</span> <span style=\"background-color: #FFF2F2\">bi</span> <span style=\"background-color: #FEFEFF\">,</span> <span style=\"background-color: #FFFEFE\">ssis</span> <span style=\"background-color: #FEFEFF\">,</span> <span style=\"background-color: #FEFEFF\">ssrs</span> <span style=\"background-color: #FEFEFF\">/</span> <span style=\"background-color: #FFFEFE\">reports</span> <span style=\"background-color: #FFFEFE\">)</span> <span style=\"background-color: #FEFEFF\">is</span> <span style=\"background-color: #FEFEFF\">needed</span> <span style=\"background-color: #FAFAFF\">for</span> <span style=\"background-color: #FFDEDE\">one</span> <span style=\"background-color: #FFECEC\">of</span> <span style=\"background-color: #F3F3FF\">the</span> <span style=\"background-color: #FEFEFF\">world</span> <span style=\"background-color: #FFF6F6\">'</span> <span style=\"background-color: #FEFEFF\">s</span> <span style=\"background-color: #FEFEFF\">leading</span> <span style=\"background-color: #FEFEFF\">insurance</span> <span style=\"background-color: #D2D2FF\">companies</span> <span style=\"background-color: #D2D2FF\">,</span> <span style=\"background-color: #FFECEC\">based</span> <span style=\"background-color: #E3E3FF\">in</span> <span style=\"background-color: #FEFEFF\">the</span> <span style=\"background-color: #FEFEFF\">prestigious</span> <span style=\"background-color: #FEFEFF\">lloyds</span> <span style=\"background-color: #FEFEFF\">of</span> <span style=\"background-color: #FEFEFF\">london</span> <span style=\"background-color: #FEFEFF\">insurance</span> <span style=\"background-color: #FFFEFE\">building</span> <span style=\"background-color: #FFF6F6\">in</span> <span style=\"background-color: #FEFEFF\">the</span> <span style=\"background-color: #FEFEFF\">city</span> <span style=\"background-color: #E3E3FF\">of</span> <span style=\"background-color: #FAFAFF\">london</span> <span style=\"background-color: #E3E3FF\">.</span> <span style=\"background-color: #FAFAFF\">working</span> <span style=\"background-color: #FFF8F8\">in</span> <span style=\"background-color: #FFFEFE\">an</span> <span style=\"background-color: #FFFEFE\">experienced</span> <span style=\"background-color: #FEFEFF\">development</span> <span style=\"background-color: #FFE6E6\">team</span> <span style=\"background-color: #FEFEFF\">you</span> <span style=\"background-color: #FEFEFF\">will</span> <span style=\"background-color: #FEFEFF\">be</span> <span style=\"background-color: #FEFEFF\">developing</span> <span style=\"background-color: #FEFEFF\">reports</span> <span style=\"background-color: #FEFEFF\">(</span> <span style=\"background-color: #FEFEFF\">ssrs</span> <span style=\"background-color: #FEFEFF\">)</span> <span style=\"background-color: #FEFEFF\">using</span> <span style=\"background-color: #FEFEFF\">bi</span> <span style=\"background-color: #F8F8FF\">,</span> <span style=\"background-color: #FCFCFF\">sql</span> <span style=\"background-color: #FFF2F2\">server</span> <span style=\"background-color: #F8F8FF\">,</span> <span style=\"background-color: #FFF2F2\">ssis</span> <span style=\"background-color: #FCFCFF\">,</span> <span style=\"background-color: #FFF6F6\">ssas</span> <span style=\"background-color: #FCFCFF\">,</span> <span style=\"background-color: #FEFEFF\">olap</span> <span style=\"background-color: #FEFEFF\">cube</span> <span style=\"background-color: #FEFEFF\">,</span> <span style=\"background-color: #FFFAFA\">etl</span> <span style=\"background-color: #FEFEFF\">,</span> <span style=\"background-color: #FEFEFF\">access</span> <span style=\"background-color: #FEFEFF\">and</span> <span style=\"background-color: #FEFEFF\">other</span> <span style=\"background-color: #FEFEFF\">reporting</span> <span style=\"background-color: #FEFEFF\">tools</span> <span style=\"background-color: #FFFEFE\">.</span> <span style=\"background-color: #FFFEFE\">this</span> <span style=\"background-color: #FEFEFF\">company</span> <span style=\"background-color: #FEFEFF\">are</span> <span style=\"background-color: #FEFEFF\">soon</span> <span style=\"background-color: #FEFEFF\">to</span> <span style=\"background-color: #FEFEFF\">be</span> <span style=\"background-color: #FEFEFF\">migrating</span> <span style=\"background-color: #FEFEFF\">onto</span> <span style=\"background-color: #FEFEFF\">sql</span> <span style=\"background-color: #FEFEFF\">server</span> <span style=\"background-color: #FEFEFF\">2012</span> <span style=\"background-color: #FEFEFF\">,</span> <span style=\"background-color: #FEFEFF\">in</span> <span style=\"background-color: #FFE6E6\">which</span> <span style=\"background-color: #FEFEFF\">you</span> <span style=\"background-color: #FEFEFF\">will</span> <span style=\"background-color: #FEFEFF\">be</span> <span style=\"background-color: #FEFEFF\">trained</span> <span style=\"background-color: #FFFAFA\">on</span> <span style=\"background-color: #FEFEFF\">and</span> <span style=\"background-color: #FEFEFF\">using</span> <span style=\"background-color: #F8F8FF\">.</span> <span style=\"background-color: #FAFAFF\">this</span> <span style=\"background-color: #FFEEEE\">is</span> <span style=\"background-color: #FAFAFF\">an</span> <span style=\"background-color: #FEFEFF\">excellent</span> <span style=\"background-color: #FFBEBE\">opportunity</span> <span style=\"background-color: #FFCCCC\">for</span> <span style=\"background-color: #CECEFF\">a</span> <span style=\"background-color: #E2E2FF\">sql</span> <span style=\"background-color: #FFF8F8\">server</span> <span style=\"background-color: #FFE2E2\">bi</span> <span style=\"background-color: #FFFEFE\">analyst</span> <span style=\"background-color: #FFFAFA\">developer</span> <span style=\"background-color: #FAFAFF\">(</span> <span style=\"background-color: #FAFAFF\">ssis</span> <span style=\"background-color: #FAFAFF\">,</span> <span style=\"background-color: #FAFAFF\">ssrs</span> <span style=\"background-color: #FEFEFF\">/</span> <span style=\"background-color: #FEFEFF\">reports</span> <span style=\"background-color: #FEFEFF\">)</span> <span style=\"background-color: #FFF8F8\">to</span> <span style=\"background-color: #FFDADA\">join</span> <span style=\"background-color: #DEDEFF\">a</span> <span style=\"background-color: #ECECFF\">company</span> <span style=\"background-color: #FEFEFF\">that</span> <span style=\"background-color: #FFFAFA\">offers</span> <span style=\"background-color: #FEFEFF\">excellent</span> <span style=\"background-color: #FEFEFF\">career</span> <span style=\"background-color: #FFF0F0\">prospects</span> <span style=\"background-color: #FFDCDC\">and</span> <span style=\"background-color: #FEFEFF\">the</span> <span style=\"background-color: #FEFEFF\">opportunities</span> <span style=\"background-color: #FEFEFF\">for</span> <span style=\"background-color: #FEFEFF\">professional</span> <span style=\"background-color: #FEFEFF\">certifications</span> <span style=\"background-color: #ACACFF\">and</span> <span style=\"background-color: #F6F6FF\">training</span> <span style=\"background-color: #ACACFF\">.</span> <span style=\"background-color: #A3A3FF\">you</span> <span style=\"background-color: #FFF2F2\">roles</span> <span style=\"background-color: #FEFEFF\">and</span> <span style=\"background-color: #FEFEFF\">responsibilities</span> <span style=\"background-color: #FFFEFE\">within</span> <span style=\"background-color: #FFFEFE\">this</span> <span style=\"background-color: #FEFEFF\">company</span> <span style=\"background-color: #FEFEFF\">will</span> <span style=\"background-color: #FEFEFF\">progress</span> <span style=\"background-color: #FEFEFF\">onto</span> <span style=\"background-color: #FEFEFF\">various</span> <span style=\"background-color: #FEFEFF\">different</span> <span style=\"background-color: #FEFEFF\">tasks</span> <span style=\"background-color: #FCFCFF\">and</span> <span style=\"background-color: #D8D8FF\">you</span> <span style=\"background-color: #D8D8FF\">will</span> <span style=\"background-color: #D8D8FF\">be</span> <span style=\"background-color: #FEFEFF\">heavily</span> <span style=\"background-color: #FFFEFE\">involved</span> <span style=\"background-color: #F2F2FF\">in</span> <span style=\"background-color: #F8F8FF\">projects</span> <span style=\"background-color: #DEDEFF\">.</span> <span style=\"background-color: #F6F6FF\">sql</span> <span style=\"background-color: #ECECFF\">server</span> <span style=\"background-color: #FEFEFF\">bi</span> <span style=\"background-color: #FEFEFF\">analyst</span> <span style=\"background-color: #FFF2F2\">developer</span> <span style=\"background-color: #FEFEFF\">,</span> <span style=\"background-color: #FEFEFF\">ssis</span> <span style=\"background-color: #FEFEFF\">,</span> <span style=\"background-color: #FEFEFF\">ssrs</span> <span style=\"background-color: #FEFEFF\">/</span> <span style=\"background-color: #FEFEFF\">reports</span> <span style=\"background-color: #FEFEFF\">skills</span> <span style=\"background-color: #FEFEFF\">in</span> <span style=\"background-color: #FEFEFF\">sql</span> <span style=\"background-color: #FFFEFE\">server</span> <span style=\"background-color: #FFFEFE\">(</span> <span style=\"background-color: #FEFEFF\">queries</span> <span style=\"background-color: #FEFEFF\">etc</span> <span style=\"background-color: #FEFEFF\">.)</span> <span style=\"background-color: #FEFEFF\">must</span> <span style=\"background-color: #FEFEFF\">have</span> <span style=\"background-color: #FEFEFF\">exposure</span> <span style=\"background-color: #FEFEFF\">to</span> <span style=\"background-color: #FEFEFF\">reporting</span> <span style=\"background-color: #FEFEFF\">tools</span> <span style=\"background-color: #FEFEFF\">must</span> <span style=\"background-color: #FEFEFF\">have</span> <span style=\"background-color: #FEFEFF\">ssis</span> <span style=\"background-color: #FEFEFF\">experience</span> <span style=\"background-color: #FEFEFF\">must</span> <span style=\"background-color: #FEFEFF\">have</span> <span style=\"background-color: #FEFEFF\">etl</span> <span style=\"background-color: #FEFEFF\">,</span> <span style=\"background-color: #FFF8F8\">data</span> <span style=\"background-color: #FFF2F2\">warehousing</span> <span style=\"background-color: #FEFEFF\">,</span> <span style=\"background-color: #FFFCFC\">ssas</span> <span style=\"background-color: #FEFEFF\">,</span> <span style=\"background-color: #FEFEFF\">olap</span> <span style=\"background-color: #FEFEFF\">beneficial</span> <span style=\"background-color: #FEFEFF\">ssrs</span> <span style=\"background-color: #FEFEFF\">or</span> <span style=\"background-color: #FEFEFF\">other</span> <span style=\"background-color: #FEFEFF\">reporting</span> <span style=\"background-color: #FEFEFF\">tools</span> <span style=\"background-color: #FEFEFF\">e</span> <span style=\"background-color: #FFFEFE\">.</span> <span style=\"background-color: #FFFEFE\">g</span> <span style=\"background-color: #FEFEFF\">.</span> <span style=\"background-color: #FEFEFF\">crystal</span> <span style=\"background-color: #FEFEFF\">reports</span> <span style=\"background-color: #FEFEFF\">beneficial</span> <span style=\"background-color: #FEFEFF\">please</span> <span style=\"background-color: #FEFEFF\">apply</span> <span style=\"background-color: #FEFEFF\">for</span> <span style=\"background-color: #FEFEFF\">more</span> <span style=\"background-color: #FEFEFF\">information</span> <span style=\"background-color: #FEFEFF\">or</span> <span style=\"background-color: #FEFEFF\">call</span> <span style=\"background-color: #FEFEFF\">dan</span> <span style=\"background-color: #FEFEFF\">brown</span> <span style=\"background-color: #FEFEFF\">at</span> <span style=\"background-color: #FEFEFF\">harrington</span> <span style=\"background-color: #FEFEFF\">starr</span> <span style=\"background-color: #FEFEFF\">recruitment</span> <span style=\"background-color: #FEFEFF\">.</span> <span style=\"background-color: #FEFEFF\">sql</span> <span style=\"background-color: #FFF4F4\">server</span> <span style=\"background-color: #FEFEFF\">,</span> <span style=\"background-color: #FEFEFF\">bi</span> <span style=\"background-color: #FEFEFF\">analyst</span> <span style=\"background-color: #ECECFF\">,</span> <span style=\"background-color: #F0F0FF\">reports</span> <span style=\"background-color: #ECECFF\">developer</span> <span style=\"background-color: #E6E6FF\">,</span> <span style=\"background-color: #FCFCFF\">etl</span> <span style=\"background-color: #E3E3FF\">,</span> <span style=\"background-color: #FFFEFE\">ssrs</span> <span style=\"background-color: #F8F8FF\">,</span> <span style=\"background-color: #F8F8FF\">ssis</span> <span style=\"background-color: #FEFEFF\">,</span> <span style=\"background-color: #FFF8F8\">data</span> <span style=\"background-color: #FEFEFF\">warehousing</span> <span style=\"background-color: #FEFEFF\">,</span> <span style=\"background-color: #FEFEFF\">olap</span> <span style=\"background-color: #FEFEFF\">cube</span> <span style=\"background-color: #FEFEFF\">,</span> <span style=\"background-color: #FEFEFF\">crystal</span> <span style=\"background-color: #FEFEFF\">reports</span> <span style=\"background-color: #FEFEFF\">sql</span> <span style=\"background-color: #FEFEFF\">server</span> <span style=\"background-color: #FEFEFF\">bi</span> <span style=\"background-color: #FEFEFF\">analyst</span> <span style=\"background-color: #FFF2F2\">developer</span> <span style=\"background-color: #FEFEFF\">,</span> <span style=\"background-color: #FEFEFF\">ssis</span> <span style=\"background-color: #FEFEFF\">,</span> <span style=\"background-color: #FEFEFF\">ssrs</span> <span style=\"background-color: #FEFEFF\">/</span> <span style=\"background-color: #FFFEFE\">reports</span> <span style=\"background-color: #FFFEFE\">insurance</span> <span style=\"background-color: #FEFEFF\">,</span> <span style=\"background-color: #FEFEFF\">london</span> <span style=\"background-color: #FEFEFF\">****</span> <span style=\"background-color: #FEFEFF\">k</span> <span style=\"background-color: #FEFEFF\">****</span> <span style=\"background-color: #FEFEFF\">k</span> <span style=\"background-color: #FEFEFF\">bonus</span> <span style=\"background-color: #FEFEFF\">this</span> <span style=\"background-color: #FEFEFF\">job</span> <span style=\"background-color: #FFFEFE\">was</span> <span style=\"background-color: #BABAFF\">originally</span> <span style=\"background-color: #BCBCFF\">posted</span> <span style=\"background-color: #C3C3FF\">as</span> <span style=\"background-color: #AAAAFF\">www</span> <span style=\"background-color: #BCBCFF\">.</span> <span style=\"background-color: #BCBCFF\">cwjobs</span> <span style=\"background-color: #B2B2FF\">.</span> <span style=\"background-color: #FEFEFF\">co</span> <span style=\"background-color: #D8D8FF\">.</span> <span style=\"background-color: #FFEEEE\">uk</span> <span style=\"background-color: #F8F8FF\">/</span> <span style=\"background-color: #EAEAFF\">jobseeking</span> <span style=\"background-color: #FEFEFF\">/</span> <span style=\"background-color: #FFFEFE\">UNK</span> <span style=\"background-color: #FFFEFE\">****</span></p>"
      ]
     },
     "metadata": {},
     "output_type": "display_data"
    }
   ],
   "execution_count": 118
  },
  {
   "cell_type": "markdown",
   "metadata": {},
   "source": [
    "__Terrible start-up idea #1962:__ make a tool that automaticaly rephrases your job description (or CV) to meet salary expectations :)"
   ]
  },
  {
   "metadata": {},
   "cell_type": "code",
   "outputs": [],
   "execution_count": null,
   "source": ""
  }
 ],
 "metadata": {
  "kernelspec": {
   "display_name": "Python 3",
   "language": "python",
   "name": "python3"
  },
  "language_info": {
   "codemirror_mode": {
    "name": "ipython",
    "version": 3
   },
   "file_extension": ".py",
   "mimetype": "text/x-python",
   "name": "python",
   "nbconvert_exporter": "python",
   "pygments_lexer": "ipython3",
   "version": "3.8.1"
  }
 },
 "nbformat": 4,
 "nbformat_minor": 2
}
