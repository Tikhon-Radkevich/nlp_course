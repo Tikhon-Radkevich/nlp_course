{
 "cells": [
  {
   "cell_type": "markdown",
   "metadata": {},
   "source": [
    "# Large scale text analysis with deep learning (3 points)\n",
    "\n",
    "Today we're gonna apply the newly learned tools for the task of predicting job salary.\n",
    "\n",
    "<img src=\"https://storage.googleapis.com/kaggle-competitions/kaggle/3342/media/salary%20prediction%20engine%20v2.png\" width=400px>\n",
    "\n",
    "_Special thanks to [Oleg Vasilev](https://github.com/Omrigan/) for the core assignment idea._"
   ]
  },
  {
   "cell_type": "code",
   "metadata": {
    "ExecuteTime": {
     "end_time": "2024-12-16T10:44:18.436549Z",
     "start_time": "2024-12-16T10:44:17.861717Z"
    }
   },
   "source": [
    "import numpy as np\n",
    "import pandas as pd\n",
    "import matplotlib.pyplot as plt\n",
    "%matplotlib inline"
   ],
   "outputs": [],
   "execution_count": 1
  },
  {
   "cell_type": "markdown",
   "metadata": {},
   "source": [
    "### About the challenge\n",
    "For starters, let's download and unpack the data from [here](https://www.dropbox.com/s/5msc5ix7ndyba10/Train_rev1.csv.tar.gz?dl=0). \n",
    "\n",
    "You can also get it from [yadisk url](https://yadi.sk/d/vVEOWPFY3NruT7) the competition [page](https://www.kaggle.com/c/job-salary-prediction/data) (pick `Train_rev1.*`)."
   ]
  },
  {
   "cell_type": "code",
   "metadata": {
    "ExecuteTime": {
     "end_time": "2024-12-16T10:57:55.518871Z",
     "start_time": "2024-12-16T10:57:49.003740Z"
    }
   },
   "source": [
    "# !curl -L https://www.dropbox.com/s/5msc5ix7ndyba10/Train_rev1.csv.tar.gz?dl=1 -o Train_rev1.csv.tar.gz\n",
    "# !tar -xvzf ./Train_rev1.csv.tar.gz\n",
    "# data = pd.read_csv(\"./Train_rev1.csv\", index_col=None)\n",
    "\n",
    "data = pd.read_csv(\"./Train_rev1.zip\", compression='zip', index_col=None)\n",
    "data.shape"
   ],
   "outputs": [
    {
     "data": {
      "text/plain": [
       "(244768, 12)"
      ]
     },
     "execution_count": 29,
     "metadata": {},
     "output_type": "execute_result"
    }
   ],
   "execution_count": 29
  },
  {
   "cell_type": "markdown",
   "metadata": {},
   "source": [
    "One problem with salary prediction is that it's oddly distributed: there are many people who are paid standard salaries and a few that get tons o money. The distribution is fat-tailed on the right side, which is inconvenient for MSE minimization.\n",
    "\n",
    "There are several techniques to combat this: using a different loss function, predicting log-target instead of raw target or even replacing targets with their percentiles among all salaries in the training set. We gonna use logarithm for now.\n",
    "\n",
    "_You can read more [in the official description](https://www.kaggle.com/c/job-salary-prediction#description)._"
   ]
  },
  {
   "cell_type": "code",
   "metadata": {
    "ExecuteTime": {
     "end_time": "2024-12-16T10:57:57.848504Z",
     "start_time": "2024-12-16T10:57:57.555325Z"
    }
   },
   "source": [
    "data['Log1pSalary'] = np.log1p(data['SalaryNormalized']).astype('float32')\n",
    "\n",
    "plt.figure(figsize=(8, 4))\n",
    "plt.subplot(1, 2, 1)\n",
    "plt.hist(data[\"SalaryNormalized\"], bins=20)\n",
    "\n",
    "plt.subplot(1, 2, 2)\n",
    "plt.hist(data['Log1pSalary'], bins=20);"
   ],
   "outputs": [
    {
     "data": {
      "text/plain": [
       "<Figure size 800x400 with 2 Axes>"
      ],
      "image/png": "[encoded data removed]"
     },
     "metadata": {},
     "output_type": "display_data"
    }
   ],
   "execution_count": 30
  },
  {
   "cell_type": "markdown",
   "metadata": {},
   "source": [
    "Our task is to predict one number, __Log1pSalary__.\n",
    "\n",
    "To do so, our model can access a number of features:\n",
    "* Free text: __`Title`__ and  __`FullDescription`__\n",
    "* Categorical: __`Category`__, __`Company`__, __`LocationNormalized`__, __`ContractType`__, and __`ContractTime`__."
   ]
  },
  {
   "cell_type": "code",
   "metadata": {
    "ExecuteTime": {
     "end_time": "2024-12-16T10:57:58.561347Z",
     "start_time": "2024-12-16T10:57:58.465463Z"
    }
   },
   "source": [
    "text_columns = [\"Title\", \"FullDescription\"]\n",
    "categorical_columns = [\"Category\", \"Company\", \"LocationNormalized\", \"ContractType\", \"ContractTime\"]\n",
    "target_column = \"Log1pSalary\"\n",
    "\n",
    "data[categorical_columns] = data[categorical_columns].fillna('NaN') # cast missing values to string \"NaN\"\n",
    "\n",
    "data.sample(3)"
   ],
   "outputs": [
    {
     "data": {
      "text/plain": [
       "              Id                                              Title  \\\n",
       "120250  69894999  Helpdesk Support Specialist  Windows, Server, ...   \n",
       "140293  70575327                              Specialist Loan Sales   \n",
       "238042  72608163                                Telesales Executive   \n",
       "\n",
       "                                          FullDescription  \\\n",
       "120250  Helpdesk Support Specialist  Windows, Server, ...   \n",
       "140293  Specialist Loan Sales South Manchester *******...   \n",
       "238042  Telesales Executive in London ??s West End ?? ...   \n",
       "\n",
       "                     LocationRaw LocationNormalized ContractType ContractTime  \\\n",
       "120250  Nottingham East Midlands         Nottingham          NaN    permanent   \n",
       "140293                Manchester         Manchester          NaN          NaN   \n",
       "238042   City of London - London           The City    full_time    permanent   \n",
       "\n",
       "                               Company    Category                SalaryRaw  \\\n",
       "120250                             NaN     IT Jobs                    25000   \n",
       "140293  Time Recruitment Solutions Ltd  Sales Jobs  17000 per annum + 21000   \n",
       "238042                     London4Jobs  Sales Jobs              10000-26000   \n",
       "\n",
       "        SalaryNormalized         SourceName  Log1pSalary  \n",
       "120250             25000   technojobs.co.uk    10.126671  \n",
       "140293             19000           MyUkJobs     9.852247  \n",
       "238042             18000  london4jobs.co.uk     9.798182  "
      ],
      "text/html": [
       "<div>\n",
       "<style scoped>\n",
       "    .dataframe tbody tr th:only-of-type {\n",
       "        vertical-align: middle;\n",
       "    }\n",
       "\n",
       "    .dataframe tbody tr th {\n",
       "        vertical-align: top;\n",
       "    }\n",
       "\n",
       "    .dataframe thead th {\n",
       "        text-align: right;\n",
       "    }\n",
       "</style>\n",
       "<table border=\"1\" class=\"dataframe\">\n",
       "  <thead>\n",
       "    <tr style=\"text-align: right;\">\n",
       "      <th></th>\n",
       "      <th>Id</th>\n",
       "      <th>Title</th>\n",
       "      <th>FullDescription</th>\n",
       "      <th>LocationRaw</th>\n",
       "      <th>LocationNormalized</th>\n",
       "      <th>ContractType</th>\n",
       "      <th>ContractTime</th>\n",
       "      <th>Company</th>\n",
       "      <th>Category</th>\n",
       "      <th>SalaryRaw</th>\n",
       "      <th>SalaryNormalized</th>\n",
       "      <th>SourceName</th>\n",
       "      <th>Log1pSalary</th>\n",
       "    </tr>\n",
       "  </thead>\n",
       "  <tbody>\n",
       "    <tr>\n",
       "      <th>120250</th>\n",
       "      <td>69894999</td>\n",
       "      <td>Helpdesk Support Specialist  Windows, Server, ...</td>\n",
       "      <td>Helpdesk Support Specialist  Windows, Server, ...</td>\n",
       "      <td>Nottingham East Midlands</td>\n",
       "      <td>Nottingham</td>\n",
       "      <td>NaN</td>\n",
       "      <td>permanent</td>\n",
       "      <td>NaN</td>\n",
       "      <td>IT Jobs</td>\n",
       "      <td>25000</td>\n",
       "      <td>25000</td>\n",
       "      <td>technojobs.co.uk</td>\n",
       "      <td>10.126671</td>\n",
       "    </tr>\n",
       "    <tr>\n",
       "      <th>140293</th>\n",
       "      <td>70575327</td>\n",
       "      <td>Specialist Loan Sales</td>\n",
       "      <td>Specialist Loan Sales South Manchester *******...</td>\n",
       "      <td>Manchester</td>\n",
       "      <td>Manchester</td>\n",
       "      <td>NaN</td>\n",
       "      <td>NaN</td>\n",
       "      <td>Time Recruitment Solutions Ltd</td>\n",
       "      <td>Sales Jobs</td>\n",
       "      <td>17000 per annum + 21000</td>\n",
       "      <td>19000</td>\n",
       "      <td>MyUkJobs</td>\n",
       "      <td>9.852247</td>\n",
       "    </tr>\n",
       "    <tr>\n",
       "      <th>238042</th>\n",
       "      <td>72608163</td>\n",
       "      <td>Telesales Executive</td>\n",
       "      <td>Telesales Executive in London ??s West End ?? ...</td>\n",
       "      <td>City of London - London</td>\n",
       "      <td>The City</td>\n",
       "      <td>full_time</td>\n",
       "      <td>permanent</td>\n",
       "      <td>London4Jobs</td>\n",
       "      <td>Sales Jobs</td>\n",
       "      <td>10000-26000</td>\n",
       "      <td>18000</td>\n",
       "      <td>london4jobs.co.uk</td>\n",
       "      <td>9.798182</td>\n",
       "    </tr>\n",
       "  </tbody>\n",
       "</table>\n",
       "</div>"
      ]
     },
     "execution_count": 31,
     "metadata": {},
     "output_type": "execute_result"
    }
   ],
   "execution_count": 31
  },
  {
   "cell_type": "markdown",
   "metadata": {},
   "source": [
    "### Preprocessing text data\n",
    "\n",
    "Just like last week, applying NLP to a problem begins from tokenization: splitting raw text into sequences of tokens (words, punctuation, etc).\n",
    "\n",
    "__Your task__ is to lowercase and tokenize all texts under `Title` and `FullDescription` columns. Store the tokenized data as a __space-separated__ string of tokens for performance reasons.\n",
    "\n",
    "It's okay to use nltk tokenizers. Assertions were designed for WordPunctTokenizer, slight deviations are okay."
   ]
  },
  {
   "cell_type": "code",
   "metadata": {
    "ExecuteTime": {
     "end_time": "2024-12-16T10:57:59.527334Z",
     "start_time": "2024-12-16T10:57:59.523814Z"
    }
   },
   "source": [
    "print(\"Raw text:\")\n",
    "print(data[\"FullDescription\"][2::100000])"
   ],
   "outputs": [
    {
     "name": "stdout",
     "output_type": "stream",
     "text": [
      "Raw text:\n",
      "2         Mathematical Modeller / Simulation Analyst / O...\n",
      "100002    A successful and high achieving specialist sch...\n",
      "200002    Web Designer  HTML, CSS, JavaScript, Photoshop...\n",
      "Name: FullDescription, dtype: object\n"
     ]
    }
   ],
   "execution_count": 32
  },
  {
   "cell_type": "code",
   "metadata": {
    "ExecuteTime": {
     "end_time": "2024-12-16T10:58:23.006538Z",
     "start_time": "2024-12-16T10:58:00.348821Z"
    }
   },
   "source": [
    "import nltk\n",
    "tokenizer = nltk.tokenize.WordPunctTokenizer()\n",
    "\n",
    "# see task above\n",
    "data[\"Title\"] = data[\"Title\"].astype(str)\n",
    "data[\"FullDescription\"] = data[\"FullDescription\"].astype(str)\n",
    "\n",
    "data[\"Title\"] = [\" \".join(tokenizer.tokenize(text.lower())) for text in data[\"Title\"]]\n",
    "data[\"FullDescription\"] = [\" \".join(tokenizer.tokenize(text.lower())) for text in data[\"FullDescription\"]]"
   ],
   "outputs": [],
   "execution_count": 33
  },
  {
   "cell_type": "markdown",
   "metadata": {},
   "source": [
    "Now we can assume that our text is a space-separated list of tokens:"
   ]
  },
  {
   "cell_type": "code",
   "metadata": {
    "ExecuteTime": {
     "end_time": "2024-12-16T10:58:23.012229Z",
     "start_time": "2024-12-16T10:58:23.008033Z"
    }
   },
   "source": [
    "print(\"Tokenized:\")\n",
    "print(data[\"FullDescription\"][2::100000])\n",
    "assert data[\"FullDescription\"][2][:50] == 'mathematical modeller / simulation analyst / opera'\n",
    "assert data[\"Title\"][54321] == 'international digital account manager ( german )'"
   ],
   "outputs": [
    {
     "name": "stdout",
     "output_type": "stream",
     "text": [
      "Tokenized:\n",
      "2         mathematical modeller / simulation analyst / o...\n",
      "100002    a successful and high achieving specialist sch...\n",
      "200002    web designer html , css , javascript , photosh...\n",
      "Name: FullDescription, dtype: object\n"
     ]
    }
   ],
   "execution_count": 34
  },
  {
   "cell_type": "markdown",
   "metadata": {},
   "source": [
    "Not all words are equally useful. Some of them are typos or rare words that are only present a few times. \n",
    "\n",
    "Let's count how many times is each word present in the data so that we can build a \"white list\" of known words."
   ]
  },
  {
   "cell_type": "code",
   "metadata": {
    "ExecuteTime": {
     "end_time": "2024-12-16T10:58:35.131817Z",
     "start_time": "2024-12-16T10:58:23.013484Z"
    }
   },
   "source": [
    "from collections import Counter\n",
    "\n",
    "def count_words_in_columns(columns):\n",
    "    counts = Counter()\n",
    "    for column in columns:\n",
    "        counts.update(word for text in data[column] for word in text.split())\n",
    "    return counts\n",
    "\n",
    "token_counts = count_words_in_columns([\"FullDescription\", \"Title\"])"
   ],
   "outputs": [],
   "execution_count": 35
  },
  {
   "cell_type": "code",
   "metadata": {
    "ExecuteTime": {
     "end_time": "2024-12-16T10:58:35.230612Z",
     "start_time": "2024-12-16T10:58:35.133815Z"
    }
   },
   "source": [
    "print(\"Total unique tokens :\", len(token_counts))\n",
    "print('\\n'.join(map(str, token_counts.most_common(n=5))))\n",
    "print('...')\n",
    "print('\\n'.join(map(str, token_counts.most_common()[-3:])))\n",
    "\n",
    "assert token_counts.most_common(1)[0][1] in  range(2600000, 2700000)\n",
    "assert len(token_counts) in range(200000, 210000)\n",
    "print('Correct!')"
   ],
   "outputs": [
    {
     "name": "stdout",
     "output_type": "stream",
     "text": [
      "Total unique tokens : 202704\n",
      "('and', 2657388)\n",
      "('.', 2523216)\n",
      "(',', 2318606)\n",
      "('the', 2080994)\n",
      "('to', 2019884)\n",
      "...\n",
      "('improvemen', 1)\n",
      "('techniciancivil', 1)\n",
      "('mlnlycke', 1)\n",
      "Correct!\n"
     ]
    }
   ],
   "execution_count": 36
  },
  {
   "cell_type": "code",
   "metadata": {
    "ExecuteTime": {
     "end_time": "2024-12-16T10:58:36.193300Z",
     "start_time": "2024-12-16T10:58:35.231663Z"
    }
   },
   "source": [
    "# Let's see how many words are there for each count\n",
    "plt.hist(list(token_counts.values()), range=(0, 10**4), bins=50, log=True)\n",
    "plt.xlabel(\"Word counts\");"
   ],
   "outputs": [
    {
     "data": {
      "text/plain": [
       "<Figure size 640x480 with 1 Axes>"
      ],
      "image/png": "[encoded data removed]"
     },
     "metadata": {},
     "output_type": "display_data"
    }
   ],
   "execution_count": 37
  },
  {
   "cell_type": "markdown",
   "metadata": {},
   "source": [
    "Now filter tokens a list of all tokens that occur at least 10 times."
   ]
  },
  {
   "cell_type": "code",
   "metadata": {
    "ExecuteTime": {
     "end_time": "2024-12-16T10:59:33.346065Z",
     "start_time": "2024-12-16T10:59:33.335193Z"
    }
   },
   "source": [
    "min_count = 10\n",
    "\n",
    "# tokens from token_counts keys that had at least min_count occurrences throughout the dataset\n",
    "tokens = [token for token, count in token_counts.items() if count > min_count]"
   ],
   "outputs": [],
   "execution_count": 50
  },
  {
   "cell_type": "code",
   "metadata": {
    "ExecuteTime": {
     "end_time": "2024-12-16T10:59:33.863280Z",
     "start_time": "2024-12-16T10:59:33.843964Z"
    }
   },
   "source": [
    "# Add a special tokens for unknown and empty words\n",
    "UNK, PAD = \"UNK\", \"PAD\"\n",
    "tokens = [UNK, PAD] + sorted(tokens)\n",
    "print(\"Vocabulary size:\", len(tokens))\n",
    "\n",
    "assert type(tokens) == list\n",
    "assert len(tokens) in range(30000, 40000)\n",
    "assert 'me' in tokens\n",
    "assert UNK in tokens\n",
    "print(\"Correct!\")"
   ],
   "outputs": [
    {
     "name": "stdout",
     "output_type": "stream",
     "text": [
      "Vocabulary size: 32456\n",
      "Correct!\n"
     ]
    }
   ],
   "execution_count": 51
  },
  {
   "cell_type": "markdown",
   "metadata": {},
   "source": [
    "Build an inverse token index: a dictionary from token(string) to it's index in `tokens` (int)"
   ]
  },
  {
   "cell_type": "code",
   "metadata": {
    "ExecuteTime": {
     "end_time": "2024-12-16T10:59:34.663302Z",
     "start_time": "2024-12-16T10:59:34.654285Z"
    }
   },
   "source": "token_to_id = {token: idx for idx, token in enumerate(tokens)}",
   "outputs": [],
   "execution_count": 52
  },
  {
   "cell_type": "code",
   "metadata": {
    "ExecuteTime": {
     "end_time": "2024-12-16T10:59:35.072763Z",
     "start_time": "2024-12-16T10:59:35.058857Z"
    }
   },
   "source": [
    "assert isinstance(token_to_id, dict)\n",
    "assert len(token_to_id) == len(tokens)\n",
    "for tok in tokens:\n",
    "    assert tokens[token_to_id[tok]] == tok\n",
    "\n",
    "print(\"Correct!\")"
   ],
   "outputs": [
    {
     "name": "stdout",
     "output_type": "stream",
     "text": [
      "Correct!\n"
     ]
    }
   ],
   "execution_count": 53
  },
  {
   "cell_type": "markdown",
   "metadata": {},
   "source": [
    "And finally, let's use the vocabulary you've built to map text lines into neural network-digestible matrices."
   ]
  },
  {
   "cell_type": "code",
   "metadata": {
    "ExecuteTime": {
     "end_time": "2024-12-16T10:59:35.859595Z",
     "start_time": "2024-12-16T10:59:35.855273Z"
    }
   },
   "source": [
    "UNK_IX, PAD_IX = map(token_to_id.get, [UNK, PAD])\n",
    "\n",
    "def as_matrix(sequences, max_len=None):\n",
    "    \"\"\" Convert a list of tokens into a matrix with padding \"\"\"\n",
    "    if isinstance(sequences[0], str):\n",
    "        sequences = list(map(str.split, sequences))\n",
    "        \n",
    "    max_len = min(max(map(len, sequences)), max_len or float('inf'))\n",
    "    \n",
    "    matrix = np.full((len(sequences), max_len), np.int32(PAD_IX))\n",
    "    for i,seq in enumerate(sequences):\n",
    "        row_ix = [token_to_id.get(word, UNK_IX) for word in seq[:max_len]]\n",
    "        matrix[i, :len(row_ix)] = row_ix\n",
    "    \n",
    "    return matrix"
   ],
   "outputs": [],
   "execution_count": 54
  },
  {
   "cell_type": "code",
   "metadata": {
    "ExecuteTime": {
     "end_time": "2024-12-16T10:59:36.303643Z",
     "start_time": "2024-12-16T10:59:36.296170Z"
    }
   },
   "source": [
    "print(\"Lines:\")\n",
    "print('\\n'.join(data[\"Title\"][::100000].values), end='\\n\\n')\n",
    "print(\"Matrix:\")\n",
    "print(as_matrix(data[\"Title\"][::100000]))"
   ],
   "outputs": [
    {
     "name": "stdout",
     "output_type": "stream",
     "text": [
      "Lines:\n",
      "engineering systems analyst\n",
      "hr assistant\n",
      "senior ec & i engineer\n",
      "\n",
      "Matrix:\n",
      "[[10273 28655  2055     1     1]\n",
      " [14296  2700     1     1     1]\n",
      " [26272  9698    14 14484 10270]]\n"
     ]
    }
   ],
   "execution_count": 55
  },
  {
   "cell_type": "markdown",
   "metadata": {},
   "source": [
    "Now let's  encode the categirical data we have.\n",
    "\n",
    "As usual, we shall use one-hot encoding for simplicity. Kudos if you implement more advanced encodings: tf-idf, pseudo-time-series, etc."
   ]
  },
  {
   "cell_type": "code",
   "metadata": {
    "ExecuteTime": {
     "end_time": "2024-12-16T10:59:40.999625Z",
     "start_time": "2024-12-16T10:59:37.133169Z"
    }
   },
   "source": [
    "from sklearn.feature_extraction import DictVectorizer\n",
    "\n",
    "# we only consider top-1k most frequent companies to minimize memory usage\n",
    "top_companies, top_counts = zip(*Counter(data['Company']).most_common(1000))\n",
    "recognized_companies = set(top_companies)\n",
    "data[\"Company\"] = data[\"Company\"].apply(lambda comp: comp if comp in recognized_companies else \"Other\")\n",
    "\n",
    "categorical_vectorizer = DictVectorizer(dtype=np.float32, sparse=False)\n",
    "categorical_vectorizer.fit(data[categorical_columns].apply(dict, axis=1))"
   ],
   "outputs": [
    {
     "data": {
      "text/plain": [
       "DictVectorizer(dtype=<class 'numpy.float32'>, sparse=False)"
      ],
      "text/html": [
       "<style>#sk-container-id-3 {\n",
       "  /* Definition of color scheme common for light and dark mode */\n",
       "  --sklearn-color-text: #000;\n",
       "  --sklearn-color-text-muted: #666;\n",
       "  --sklearn-color-line: gray;\n",
       "  /* Definition of color scheme for unfitted estimators */\n",
       "  --sklearn-color-unfitted-level-0: #fff5e6;\n",
       "  --sklearn-color-unfitted-level-1: #f6e4d2;\n",
       "  --sklearn-color-unfitted-level-2: #ffe0b3;\n",
       "  --sklearn-color-unfitted-level-3: chocolate;\n",
       "  /* Definition of color scheme for fitted estimators */\n",
       "  --sklearn-color-fitted-level-0: #f0f8ff;\n",
       "  --sklearn-color-fitted-level-1: #d4ebff;\n",
       "  --sklearn-color-fitted-level-2: #b3dbfd;\n",
       "  --sklearn-color-fitted-level-3: cornflowerblue;\n",
       "\n",
       "  /* Specific color for light theme */\n",
       "  --sklearn-color-text-on-default-background: var(--sg-text-color, var(--theme-code-foreground, var(--jp-content-font-color1, black)));\n",
       "  --sklearn-color-background: var(--sg-background-color, var(--theme-background, var(--jp-layout-color0, white)));\n",
       "  --sklearn-color-border-box: var(--sg-text-color, var(--theme-code-foreground, var(--jp-content-font-color1, black)));\n",
       "  --sklearn-color-icon: #696969;\n",
       "\n",
       "  @media (prefers-color-scheme: dark) {\n",
       "    /* Redefinition of color scheme for dark theme */\n",
       "    --sklearn-color-text-on-default-background: var(--sg-text-color, var(--theme-code-foreground, var(--jp-content-font-color1, white)));\n",
       "    --sklearn-color-background: var(--sg-background-color, var(--theme-background, var(--jp-layout-color0, #111)));\n",
       "    --sklearn-color-border-box: var(--sg-text-color, var(--theme-code-foreground, var(--jp-content-font-color1, white)));\n",
       "    --sklearn-color-icon: #878787;\n",
       "  }\n",
       "}\n",
       "\n",
       "#sk-container-id-3 {\n",
       "  color: var(--sklearn-color-text);\n",
       "}\n",
       "\n",
       "#sk-container-id-3 pre {\n",
       "  padding: 0;\n",
       "}\n",
       "\n",
       "#sk-container-id-3 input.sk-hidden--visually {\n",
       "  border: 0;\n",
       "  clip: rect(1px 1px 1px 1px);\n",
       "  clip: rect(1px, 1px, 1px, 1px);\n",
       "  height: 1px;\n",
       "  margin: -1px;\n",
       "  overflow: hidden;\n",
       "  padding: 0;\n",
       "  position: absolute;\n",
       "  width: 1px;\n",
       "}\n",
       "\n",
       "#sk-container-id-3 div.sk-dashed-wrapped {\n",
       "  border: 1px dashed var(--sklearn-color-line);\n",
       "  margin: 0 0.4em 0.5em 0.4em;\n",
       "  box-sizing: border-box;\n",
       "  padding-bottom: 0.4em;\n",
       "  background-color: var(--sklearn-color-background);\n",
       "}\n",
       "\n",
       "#sk-container-id-3 div.sk-container {\n",
       "  /* jupyter's `normalize.less` sets `[hidden] { display: none; }`\n",
       "     but bootstrap.min.css set `[hidden] { display: none !important; }`\n",
       "     so we also need the `!important` here to be able to override the\n",
       "     default hidden behavior on the sphinx rendered scikit-learn.org.\n",
       "     See: https://github.com/scikit-learn/scikit-learn/issues/21755 */\n",
       "  display: inline-block !important;\n",
       "  position: relative;\n",
       "}\n",
       "\n",
       "#sk-container-id-3 div.sk-text-repr-fallback {\n",
       "  display: none;\n",
       "}\n",
       "\n",
       "div.sk-parallel-item,\n",
       "div.sk-serial,\n",
       "div.sk-item {\n",
       "  /* draw centered vertical line to link estimators */\n",
       "  background-image: linear-gradient(var(--sklearn-color-text-on-default-background), var(--sklearn-color-text-on-default-background));\n",
       "  background-size: 2px 100%;\n",
       "  background-repeat: no-repeat;\n",
       "  background-position: center center;\n",
       "}\n",
       "\n",
       "/* Parallel-specific style estimator block */\n",
       "\n",
       "#sk-container-id-3 div.sk-parallel-item::after {\n",
       "  content: \"\";\n",
       "  width: 100%;\n",
       "  border-bottom: 2px solid var(--sklearn-color-text-on-default-background);\n",
       "  flex-grow: 1;\n",
       "}\n",
       "\n",
       "#sk-container-id-3 div.sk-parallel {\n",
       "  display: flex;\n",
       "  align-items: stretch;\n",
       "  justify-content: center;\n",
       "  background-color: var(--sklearn-color-background);\n",
       "  position: relative;\n",
       "}\n",
       "\n",
       "#sk-container-id-3 div.sk-parallel-item {\n",
       "  display: flex;\n",
       "  flex-direction: column;\n",
       "}\n",
       "\n",
       "#sk-container-id-3 div.sk-parallel-item:first-child::after {\n",
       "  align-self: flex-end;\n",
       "  width: 50%;\n",
       "}\n",
       "\n",
       "#sk-container-id-3 div.sk-parallel-item:last-child::after {\n",
       "  align-self: flex-start;\n",
       "  width: 50%;\n",
       "}\n",
       "\n",
       "#sk-container-id-3 div.sk-parallel-item:only-child::after {\n",
       "  width: 0;\n",
       "}\n",
       "\n",
       "/* Serial-specific style estimator block */\n",
       "\n",
       "#sk-container-id-3 div.sk-serial {\n",
       "  display: flex;\n",
       "  flex-direction: column;\n",
       "  align-items: center;\n",
       "  background-color: var(--sklearn-color-background);\n",
       "  padding-right: 1em;\n",
       "  padding-left: 1em;\n",
       "}\n",
       "\n",
       "\n",
       "/* Toggleable style: style used for estimator/Pipeline/ColumnTransformer box that is\n",
       "clickable and can be expanded/collapsed.\n",
       "- Pipeline and ColumnTransformer use this feature and define the default style\n",
       "- Estimators will overwrite some part of the style using the `sk-estimator` class\n",
       "*/\n",
       "\n",
       "/* Pipeline and ColumnTransformer style (default) */\n",
       "\n",
       "#sk-container-id-3 div.sk-toggleable {\n",
       "  /* Default theme specific background. It is overwritten whether we have a\n",
       "  specific estimator or a Pipeline/ColumnTransformer */\n",
       "  background-color: var(--sklearn-color-background);\n",
       "}\n",
       "\n",
       "/* Toggleable label */\n",
       "#sk-container-id-3 label.sk-toggleable__label {\n",
       "  cursor: pointer;\n",
       "  display: flex;\n",
       "  width: 100%;\n",
       "  margin-bottom: 0;\n",
       "  padding: 0.5em;\n",
       "  box-sizing: border-box;\n",
       "  text-align: center;\n",
       "  align-items: start;\n",
       "  justify-content: space-between;\n",
       "  gap: 0.5em;\n",
       "}\n",
       "\n",
       "#sk-container-id-3 label.sk-toggleable__label .caption {\n",
       "  font-size: 0.6rem;\n",
       "  font-weight: lighter;\n",
       "  color: var(--sklearn-color-text-muted);\n",
       "}\n",
       "\n",
       "#sk-container-id-3 label.sk-toggleable__label-arrow:before {\n",
       "  /* Arrow on the left of the label */\n",
       "  content: \"▸\";\n",
       "  float: left;\n",
       "  margin-right: 0.25em;\n",
       "  color: var(--sklearn-color-icon);\n",
       "}\n",
       "\n",
       "#sk-container-id-3 label.sk-toggleable__label-arrow:hover:before {\n",
       "  color: var(--sklearn-color-text);\n",
       "}\n",
       "\n",
       "/* Toggleable content - dropdown */\n",
       "\n",
       "#sk-container-id-3 div.sk-toggleable__content {\n",
       "  max-height: 0;\n",
       "  max-width: 0;\n",
       "  overflow: hidden;\n",
       "  text-align: left;\n",
       "  /* unfitted */\n",
       "  background-color: var(--sklearn-color-unfitted-level-0);\n",
       "}\n",
       "\n",
       "#sk-container-id-3 div.sk-toggleable__content.fitted {\n",
       "  /* fitted */\n",
       "  background-color: var(--sklearn-color-fitted-level-0);\n",
       "}\n",
       "\n",
       "#sk-container-id-3 div.sk-toggleable__content pre {\n",
       "  margin: 0.2em;\n",
       "  border-radius: 0.25em;\n",
       "  color: var(--sklearn-color-text);\n",
       "  /* unfitted */\n",
       "  background-color: var(--sklearn-color-unfitted-level-0);\n",
       "}\n",
       "\n",
       "#sk-container-id-3 div.sk-toggleable__content.fitted pre {\n",
       "  /* unfitted */\n",
       "  background-color: var(--sklearn-color-fitted-level-0);\n",
       "}\n",
       "\n",
       "#sk-container-id-3 input.sk-toggleable__control:checked~div.sk-toggleable__content {\n",
       "  /* Expand drop-down */\n",
       "  max-height: 200px;\n",
       "  max-width: 100%;\n",
       "  overflow: auto;\n",
       "}\n",
       "\n",
       "#sk-container-id-3 input.sk-toggleable__control:checked~label.sk-toggleable__label-arrow:before {\n",
       "  content: \"▾\";\n",
       "}\n",
       "\n",
       "/* Pipeline/ColumnTransformer-specific style */\n",
       "\n",
       "#sk-container-id-3 div.sk-label input.sk-toggleable__control:checked~label.sk-toggleable__label {\n",
       "  color: var(--sklearn-color-text);\n",
       "  background-color: var(--sklearn-color-unfitted-level-2);\n",
       "}\n",
       "\n",
       "#sk-container-id-3 div.sk-label.fitted input.sk-toggleable__control:checked~label.sk-toggleable__label {\n",
       "  background-color: var(--sklearn-color-fitted-level-2);\n",
       "}\n",
       "\n",
       "/* Estimator-specific style */\n",
       "\n",
       "/* Colorize estimator box */\n",
       "#sk-container-id-3 div.sk-estimator input.sk-toggleable__control:checked~label.sk-toggleable__label {\n",
       "  /* unfitted */\n",
       "  background-color: var(--sklearn-color-unfitted-level-2);\n",
       "}\n",
       "\n",
       "#sk-container-id-3 div.sk-estimator.fitted input.sk-toggleable__control:checked~label.sk-toggleable__label {\n",
       "  /* fitted */\n",
       "  background-color: var(--sklearn-color-fitted-level-2);\n",
       "}\n",
       "\n",
       "#sk-container-id-3 div.sk-label label.sk-toggleable__label,\n",
       "#sk-container-id-3 div.sk-label label {\n",
       "  /* The background is the default theme color */\n",
       "  color: var(--sklearn-color-text-on-default-background);\n",
       "}\n",
       "\n",
       "/* On hover, darken the color of the background */\n",
       "#sk-container-id-3 div.sk-label:hover label.sk-toggleable__label {\n",
       "  color: var(--sklearn-color-text);\n",
       "  background-color: var(--sklearn-color-unfitted-level-2);\n",
       "}\n",
       "\n",
       "/* Label box, darken color on hover, fitted */\n",
       "#sk-container-id-3 div.sk-label.fitted:hover label.sk-toggleable__label.fitted {\n",
       "  color: var(--sklearn-color-text);\n",
       "  background-color: var(--sklearn-color-fitted-level-2);\n",
       "}\n",
       "\n",
       "/* Estimator label */\n",
       "\n",
       "#sk-container-id-3 div.sk-label label {\n",
       "  font-family: monospace;\n",
       "  font-weight: bold;\n",
       "  display: inline-block;\n",
       "  line-height: 1.2em;\n",
       "}\n",
       "\n",
       "#sk-container-id-3 div.sk-label-container {\n",
       "  text-align: center;\n",
       "}\n",
       "\n",
       "/* Estimator-specific */\n",
       "#sk-container-id-3 div.sk-estimator {\n",
       "  font-family: monospace;\n",
       "  border: 1px dotted var(--sklearn-color-border-box);\n",
       "  border-radius: 0.25em;\n",
       "  box-sizing: border-box;\n",
       "  margin-bottom: 0.5em;\n",
       "  /* unfitted */\n",
       "  background-color: var(--sklearn-color-unfitted-level-0);\n",
       "}\n",
       "\n",
       "#sk-container-id-3 div.sk-estimator.fitted {\n",
       "  /* fitted */\n",
       "  background-color: var(--sklearn-color-fitted-level-0);\n",
       "}\n",
       "\n",
       "/* on hover */\n",
       "#sk-container-id-3 div.sk-estimator:hover {\n",
       "  /* unfitted */\n",
       "  background-color: var(--sklearn-color-unfitted-level-2);\n",
       "}\n",
       "\n",
       "#sk-container-id-3 div.sk-estimator.fitted:hover {\n",
       "  /* fitted */\n",
       "  background-color: var(--sklearn-color-fitted-level-2);\n",
       "}\n",
       "\n",
       "/* Specification for estimator info (e.g. \"i\" and \"?\") */\n",
       "\n",
       "/* Common style for \"i\" and \"?\" */\n",
       "\n",
       ".sk-estimator-doc-link,\n",
       "a:link.sk-estimator-doc-link,\n",
       "a:visited.sk-estimator-doc-link {\n",
       "  float: right;\n",
       "  font-size: smaller;\n",
       "  line-height: 1em;\n",
       "  font-family: monospace;\n",
       "  background-color: var(--sklearn-color-background);\n",
       "  border-radius: 1em;\n",
       "  height: 1em;\n",
       "  width: 1em;\n",
       "  text-decoration: none !important;\n",
       "  margin-left: 0.5em;\n",
       "  text-align: center;\n",
       "  /* unfitted */\n",
       "  border: var(--sklearn-color-unfitted-level-1) 1pt solid;\n",
       "  color: var(--sklearn-color-unfitted-level-1);\n",
       "}\n",
       "\n",
       ".sk-estimator-doc-link.fitted,\n",
       "a:link.sk-estimator-doc-link.fitted,\n",
       "a:visited.sk-estimator-doc-link.fitted {\n",
       "  /* fitted */\n",
       "  border: var(--sklearn-color-fitted-level-1) 1pt solid;\n",
       "  color: var(--sklearn-color-fitted-level-1);\n",
       "}\n",
       "\n",
       "/* On hover */\n",
       "div.sk-estimator:hover .sk-estimator-doc-link:hover,\n",
       ".sk-estimator-doc-link:hover,\n",
       "div.sk-label-container:hover .sk-estimator-doc-link:hover,\n",
       ".sk-estimator-doc-link:hover {\n",
       "  /* unfitted */\n",
       "  background-color: var(--sklearn-color-unfitted-level-3);\n",
       "  color: var(--sklearn-color-background);\n",
       "  text-decoration: none;\n",
       "}\n",
       "\n",
       "div.sk-estimator.fitted:hover .sk-estimator-doc-link.fitted:hover,\n",
       ".sk-estimator-doc-link.fitted:hover,\n",
       "div.sk-label-container:hover .sk-estimator-doc-link.fitted:hover,\n",
       ".sk-estimator-doc-link.fitted:hover {\n",
       "  /* fitted */\n",
       "  background-color: var(--sklearn-color-fitted-level-3);\n",
       "  color: var(--sklearn-color-background);\n",
       "  text-decoration: none;\n",
       "}\n",
       "\n",
       "/* Span, style for the box shown on hovering the info icon */\n",
       ".sk-estimator-doc-link span {\n",
       "  display: none;\n",
       "  z-index: 9999;\n",
       "  position: relative;\n",
       "  font-weight: normal;\n",
       "  right: .2ex;\n",
       "  padding: .5ex;\n",
       "  margin: .5ex;\n",
       "  width: min-content;\n",
       "  min-width: 20ex;\n",
       "  max-width: 50ex;\n",
       "  color: var(--sklearn-color-text);\n",
       "  box-shadow: 2pt 2pt 4pt #999;\n",
       "  /* unfitted */\n",
       "  background: var(--sklearn-color-unfitted-level-0);\n",
       "  border: .5pt solid var(--sklearn-color-unfitted-level-3);\n",
       "}\n",
       "\n",
       ".sk-estimator-doc-link.fitted span {\n",
       "  /* fitted */\n",
       "  background: var(--sklearn-color-fitted-level-0);\n",
       "  border: var(--sklearn-color-fitted-level-3);\n",
       "}\n",
       "\n",
       ".sk-estimator-doc-link:hover span {\n",
       "  display: block;\n",
       "}\n",
       "\n",
       "/* \"?\"-specific style due to the `<a>` HTML tag */\n",
       "\n",
       "#sk-container-id-3 a.estimator_doc_link {\n",
       "  float: right;\n",
       "  font-size: 1rem;\n",
       "  line-height: 1em;\n",
       "  font-family: monospace;\n",
       "  background-color: var(--sklearn-color-background);\n",
       "  border-radius: 1rem;\n",
       "  height: 1rem;\n",
       "  width: 1rem;\n",
       "  text-decoration: none;\n",
       "  /* unfitted */\n",
       "  color: var(--sklearn-color-unfitted-level-1);\n",
       "  border: var(--sklearn-color-unfitted-level-1) 1pt solid;\n",
       "}\n",
       "\n",
       "#sk-container-id-3 a.estimator_doc_link.fitted {\n",
       "  /* fitted */\n",
       "  border: var(--sklearn-color-fitted-level-1) 1pt solid;\n",
       "  color: var(--sklearn-color-fitted-level-1);\n",
       "}\n",
       "\n",
       "/* On hover */\n",
       "#sk-container-id-3 a.estimator_doc_link:hover {\n",
       "  /* unfitted */\n",
       "  background-color: var(--sklearn-color-unfitted-level-3);\n",
       "  color: var(--sklearn-color-background);\n",
       "  text-decoration: none;\n",
       "}\n",
       "\n",
       "#sk-container-id-3 a.estimator_doc_link.fitted:hover {\n",
       "  /* fitted */\n",
       "  background-color: var(--sklearn-color-fitted-level-3);\n",
       "}\n",
       "</style><div id=\"sk-container-id-3\" class=\"sk-top-container\"><div class=\"sk-text-repr-fallback\"><pre>DictVectorizer(dtype=&lt;class &#x27;numpy.float32&#x27;&gt;, sparse=False)</pre><b>In a Jupyter environment, please rerun this cell to show the HTML representation or trust the notebook. <br />On GitHub, the HTML representation is unable to render, please try loading this page with nbviewer.org.</b></div><div class=\"sk-container\" hidden><div class=\"sk-item\"><div class=\"sk-estimator fitted sk-toggleable\"><input class=\"sk-toggleable__control sk-hidden--visually\" id=\"sk-estimator-id-3\" type=\"checkbox\" checked><label for=\"sk-estimator-id-3\" class=\"sk-toggleable__label fitted sk-toggleable__label-arrow\"><div><div>DictVectorizer</div></div><div><a class=\"sk-estimator-doc-link fitted\" rel=\"noreferrer\" target=\"_blank\" href=\"https://scikit-learn.org/1.6/modules/generated/sklearn.feature_extraction.DictVectorizer.html\">?<span>Documentation for DictVectorizer</span></a><span class=\"sk-estimator-doc-link fitted\">i<span>Fitted</span></span></div></label><div class=\"sk-toggleable__content fitted\"><pre>DictVectorizer(dtype=&lt;class &#x27;numpy.float32&#x27;&gt;, sparse=False)</pre></div> </div></div></div></div>"
      ]
     },
     "execution_count": 56,
     "metadata": {},
     "output_type": "execute_result"
    }
   ],
   "execution_count": 56
  },
  {
   "cell_type": "markdown",
   "metadata": {},
   "source": [
    "### The deep learning part\n",
    "\n",
    "Once we've learned to tokenize the data, let's design a machine learning experiment.\n",
    "\n",
    "As before, we won't focus too much on validation, opting for a simple train-test split.\n",
    "\n",
    "__To be completely rigorous,__ we've comitted a small crime here: we used the whole data for tokenization and vocabulary building. A more strict way would be to do that part on training set only. You may want to do that and measure the magnitude of changes."
   ]
  },
  {
   "cell_type": "code",
   "metadata": {
    "ExecuteTime": {
     "end_time": "2024-12-16T10:59:41.117170Z",
     "start_time": "2024-12-16T10:59:41.003005Z"
    }
   },
   "source": [
    "from sklearn.model_selection import train_test_split\n",
    "\n",
    "data_train, data_val = train_test_split(data, test_size=0.2, random_state=42)\n",
    "data_train.index = range(len(data_train))\n",
    "data_val.index = range(len(data_val))\n",
    "\n",
    "print(\"Train size = \", len(data_train))\n",
    "print(\"Validation size = \", len(data_val))"
   ],
   "outputs": [
    {
     "name": "stdout",
     "output_type": "stream",
     "text": [
      "Train size =  195814\n",
      "Validation size =  48954\n"
     ]
    }
   ],
   "execution_count": 57
  },
  {
   "cell_type": "code",
   "metadata": {
    "ExecuteTime": {
     "end_time": "2024-12-16T10:59:41.123977Z",
     "start_time": "2024-12-16T10:59:41.118426Z"
    }
   },
   "source": [
    "def make_batch(data, max_len=None, word_dropout=0):\n",
    "    \"\"\"\n",
    "    Creates a keras-friendly dict from the batch data.\n",
    "    :param word_dropout: replaces token index with UNK_IX with this probability\n",
    "    :returns: a dict with {'title' : int64[batch, title_max_len]\n",
    "    \"\"\"\n",
    "    batch = {}\n",
    "    batch[\"Title\"] = as_matrix(data[\"Title\"].values, max_len)\n",
    "    batch[\"FullDescription\"] = as_matrix(data[\"FullDescription\"].values, max_len)\n",
    "    batch['Categorical'] = categorical_vectorizer.transform(data[categorical_columns].apply(dict, axis=1))\n",
    "    \n",
    "    if word_dropout != 0:\n",
    "        batch[\"FullDescription\"] = apply_word_dropout(batch[\"FullDescription\"], 1. - word_dropout)\n",
    "    \n",
    "    if target_column in data.columns:\n",
    "        batch[target_column] = data[target_column].values\n",
    "    \n",
    "    return batch\n",
    "\n",
    "def apply_word_dropout(matrix, keep_prop, replace_with=UNK_IX, pad_ix=PAD_IX,):\n",
    "    dropout_mask = np.random.choice(2, np.shape(matrix), p=[keep_prop, 1 - keep_prop])\n",
    "    dropout_mask &= matrix != pad_ix\n",
    "    return np.choose(dropout_mask, [matrix, np.full_like(matrix, replace_with)])"
   ],
   "outputs": [],
   "execution_count": 58
  },
  {
   "cell_type": "code",
   "metadata": {
    "ExecuteTime": {
     "end_time": "2024-12-16T10:59:41.134757Z",
     "start_time": "2024-12-16T10:59:41.125661Z"
    }
   },
   "source": [
    "make_batch(data_train[:3], max_len=10)"
   ],
   "outputs": [
    {
     "data": {
      "text/plain": [
       "{'Title': array([[26272, 28401, 31999,     1,     1,     1,     1],\n",
       "        [27772,   187, 18227, 19056, 14801, 22008,  3848],\n",
       "        [10082, 28895, 16876,    31,  8281, 27695,    61]], dtype=int32),\n",
       " 'FullDescription': array([[26272, 28401, 31999, 31307,   909, 26272, 28401, 31999, 15662,\n",
       "         31307],\n",
       "        [27772,   187, 18227, 19056, 14801, 22008,  3848, 24230,   836,\n",
       "            77],\n",
       "        [29212, 20872, 19591,  6092, 15662,  7773, 26125,   909, 28895,\n",
       "         16876]], dtype=int32),\n",
       " 'Categorical': array([[0., 0., 0., ..., 0., 0., 0.],\n",
       "        [0., 0., 0., ..., 0., 0., 0.],\n",
       "        [0., 0., 0., ..., 0., 0., 0.]], dtype=float32),\n",
       " 'Log1pSalary': array([ 9.71154 , 10.463132, 10.71444 ], dtype=float32)}"
      ]
     },
     "execution_count": 59,
     "metadata": {},
     "output_type": "execute_result"
    }
   ],
   "execution_count": 59
  },
  {
   "cell_type": "markdown",
   "metadata": {},
   "source": [
    "#### Architecture\n",
    "\n",
    "Our basic model consists of three branches:\n",
    "* Title encoder\n",
    "* Description encoder\n",
    "* Categorical features encoder\n",
    "\n",
    "We will then feed all 3 branches into one common network that predicts salary.\n",
    "\n",
    "<img src=\"https://github.com/yandexdataschool/nlp_course/raw/master/resources/w2_conv_arch.png\" width=600px>"
   ]
  },
  {
   "cell_type": "markdown",
   "metadata": {},
   "source": [
    "This clearly doesn't fit into keras' __Sequential__ interface. To build such a network, one will have to use __[Keras Functional API](https://keras.io/models/model/)__."
   ]
  },
  {
   "cell_type": "code",
   "metadata": {
    "ExecuteTime": {
     "end_time": "2024-12-16T11:11:12.261331Z",
     "start_time": "2024-12-16T11:11:12.257856Z"
    }
   },
   "source": [
    "import keras\n",
    "import keras.layers as L"
   ],
   "outputs": [],
   "execution_count": 79
  },
  {
   "cell_type": "code",
   "metadata": {
    "ExecuteTime": {
     "end_time": "2024-12-16T11:22:37.321384Z",
     "start_time": "2024-12-16T11:22:37.312067Z"
    }
   },
   "source": [
    "def build_model(n_tokens=len(tokens), n_cat_features=len(categorical_vectorizer.vocabulary_), hid_size=64):\n",
    "    \"\"\" Build a model that maps three data sources to a single linear output: predicted log1p(salary) \"\"\"\n",
    "    \n",
    "    l_title = L.Input(shape=[None], name=\"Title\")\n",
    "    l_descr = L.Input(shape=[None], name=\"FullDescription\")\n",
    "    l_categ = L.Input(shape=[n_cat_features], name=\"Categorical\")\n",
    "    \n",
    "    emb = L.Embedding(n_tokens, 16)\n",
    "    \n",
    "    descr_emb = emb(l_descr)\n",
    "    descr_conv = L.Conv1D(32, kernel_size=4, padding=\"same\", name=\"descr_conv\")(descr_emb)\n",
    "    descr_features = L.GlobalMaxPool1D()(descr_conv)\n",
    "    \n",
    "    title_emb = emb(l_title)\n",
    "    title_conv = L.Conv1D(24, kernel_size=2, padding=\"same\", name=\"title_conv\")(title_emb)\n",
    "    title_features = L.GlobalMaxPool1D()(title_conv)\n",
    "    \n",
    "    joint = L.concatenate([title_features, descr_features, l_categ])\n",
    "    \n",
    "    hid = L.Dense(hid_size)(joint)\n",
    "    \n",
    "    output_layer = L.Dense(1)(hid)\n",
    "    \n",
    "    model = keras.models.Model(inputs=[l_title, l_descr, l_categ], outputs=[output_layer])\n",
    "    model.compile('adam', 'mean_squared_error', metrics=['mean_absolute_error'])\n",
    "    return model\n",
    "    "
   ],
   "outputs": [],
   "execution_count": 87
  },
  {
   "metadata": {
    "ExecuteTime": {
     "end_time": "2024-12-16T11:22:39.405035Z",
     "start_time": "2024-12-16T11:22:37.777037Z"
    }
   },
   "cell_type": "code",
   "source": [
    "model = build_model()\n",
    "model.summary()\n",
    "\n",
    "dummy_pred = model.predict(make_batch(data_train[:100]))\n",
    "dummy_loss = model.train_on_batch(make_batch(data_train[:100]), data_train['Log1pSalary'][:100])[0]\n",
    "assert dummy_pred.shape == (100, 1)\n",
    "assert len(np.unique(dummy_pred)) > 20, \"model returns suspiciously few unique outputs. Check your initialization\"\n",
    "assert np.ndim(dummy_loss) == 0 and 0. <= dummy_loss <= 250., \"make sure you minimize MSE\""
   ],
   "outputs": [
    {
     "data": {
      "text/plain": [
       "\u001B[1mModel: \"functional_10\"\u001B[0m\n"
      ],
      "text/html": [
       "<pre style=\"white-space:pre;overflow-x:auto;line-height:normal;font-family:Menlo,'DejaVu Sans Mono',consolas,'Courier New',monospace\"><span style=\"font-weight: bold\">Model: \"functional_10\"</span>\n",
       "</pre>\n"
      ]
     },
     "metadata": {},
     "output_type": "display_data"
    },
    {
     "data": {
      "text/plain": [
       "┏━━━━━━━━━━━━━━━━━━━━━┳━━━━━━━━━━━━━━━━━━━┳━━━━━━━━━━━━┳━━━━━━━━━━━━━━━━━━━┓\n",
       "┃\u001B[1m \u001B[0m\u001B[1mLayer (type)       \u001B[0m\u001B[1m \u001B[0m┃\u001B[1m \u001B[0m\u001B[1mOutput Shape     \u001B[0m\u001B[1m \u001B[0m┃\u001B[1m \u001B[0m\u001B[1m   Param #\u001B[0m\u001B[1m \u001B[0m┃\u001B[1m \u001B[0m\u001B[1mConnected to     \u001B[0m\u001B[1m \u001B[0m┃\n",
       "┡━━━━━━━━━━━━━━━━━━━━━╇━━━━━━━━━━━━━━━━━━━╇━━━━━━━━━━━━╇━━━━━━━━━━━━━━━━━━━┩\n",
       "│ Title (\u001B[38;5;33mInputLayer\u001B[0m)  │ (\u001B[38;5;45mNone\u001B[0m, \u001B[38;5;45mNone\u001B[0m)      │          \u001B[38;5;34m0\u001B[0m │ -                 │\n",
       "├─────────────────────┼───────────────────┼────────────┼───────────────────┤\n",
       "│ FullDescription     │ (\u001B[38;5;45mNone\u001B[0m, \u001B[38;5;45mNone\u001B[0m)      │          \u001B[38;5;34m0\u001B[0m │ -                 │\n",
       "│ (\u001B[38;5;33mInputLayer\u001B[0m)        │                   │            │                   │\n",
       "├─────────────────────┼───────────────────┼────────────┼───────────────────┤\n",
       "│ embedding_11        │ (\u001B[38;5;45mNone\u001B[0m, \u001B[38;5;45mNone\u001B[0m, \u001B[38;5;34m16\u001B[0m)  │    \u001B[38;5;34m519,296\u001B[0m │ FullDescription[\u001B[38;5;34m…\u001B[0m │\n",
       "│ (\u001B[38;5;33mEmbedding\u001B[0m)         │                   │            │ Title[\u001B[38;5;34m0\u001B[0m][\u001B[38;5;34m0\u001B[0m]       │\n",
       "├─────────────────────┼───────────────────┼────────────┼───────────────────┤\n",
       "│ title_conv (\u001B[38;5;33mConv1D\u001B[0m) │ (\u001B[38;5;45mNone\u001B[0m, \u001B[38;5;45mNone\u001B[0m, \u001B[38;5;34m24\u001B[0m)  │        \u001B[38;5;34m792\u001B[0m │ embedding_11[\u001B[38;5;34m1\u001B[0m][\u001B[38;5;34m…\u001B[0m │\n",
       "├─────────────────────┼───────────────────┼────────────┼───────────────────┤\n",
       "│ descr_conv (\u001B[38;5;33mConv1D\u001B[0m) │ (\u001B[38;5;45mNone\u001B[0m, \u001B[38;5;45mNone\u001B[0m, \u001B[38;5;34m32\u001B[0m)  │      \u001B[38;5;34m2,080\u001B[0m │ embedding_11[\u001B[38;5;34m0\u001B[0m][\u001B[38;5;34m…\u001B[0m │\n",
       "├─────────────────────┼───────────────────┼────────────┼───────────────────┤\n",
       "│ global_max_pooling… │ (\u001B[38;5;45mNone\u001B[0m, \u001B[38;5;34m24\u001B[0m)        │          \u001B[38;5;34m0\u001B[0m │ title_conv[\u001B[38;5;34m0\u001B[0m][\u001B[38;5;34m0\u001B[0m]  │\n",
       "│ (\u001B[38;5;33mGlobalMaxPooling1…\u001B[0m │                   │            │                   │\n",
       "├─────────────────────┼───────────────────┼────────────┼───────────────────┤\n",
       "│ global_max_pooling… │ (\u001B[38;5;45mNone\u001B[0m, \u001B[38;5;34m32\u001B[0m)        │          \u001B[38;5;34m0\u001B[0m │ descr_conv[\u001B[38;5;34m0\u001B[0m][\u001B[38;5;34m0\u001B[0m]  │\n",
       "│ (\u001B[38;5;33mGlobalMaxPooling1…\u001B[0m │                   │            │                   │\n",
       "├─────────────────────┼───────────────────┼────────────┼───────────────────┤\n",
       "│ Categorical         │ (\u001B[38;5;45mNone\u001B[0m, \u001B[38;5;34m3767\u001B[0m)      │          \u001B[38;5;34m0\u001B[0m │ -                 │\n",
       "│ (\u001B[38;5;33mInputLayer\u001B[0m)        │                   │            │                   │\n",
       "├─────────────────────┼───────────────────┼────────────┼───────────────────┤\n",
       "│ concatenate_11      │ (\u001B[38;5;45mNone\u001B[0m, \u001B[38;5;34m3823\u001B[0m)      │          \u001B[38;5;34m0\u001B[0m │ global_max_pooli… │\n",
       "│ (\u001B[38;5;33mConcatenate\u001B[0m)       │                   │            │ global_max_pooli… │\n",
       "│                     │                   │            │ Categorical[\u001B[38;5;34m0\u001B[0m][\u001B[38;5;34m0\u001B[0m] │\n",
       "├─────────────────────┼───────────────────┼────────────┼───────────────────┤\n",
       "│ dense_21 (\u001B[38;5;33mDense\u001B[0m)    │ (\u001B[38;5;45mNone\u001B[0m, \u001B[38;5;34m64\u001B[0m)        │    \u001B[38;5;34m244,736\u001B[0m │ concatenate_11[\u001B[38;5;34m0\u001B[0m… │\n",
       "├─────────────────────┼───────────────────┼────────────┼───────────────────┤\n",
       "│ dense_22 (\u001B[38;5;33mDense\u001B[0m)    │ (\u001B[38;5;45mNone\u001B[0m, \u001B[38;5;34m1\u001B[0m)         │         \u001B[38;5;34m65\u001B[0m │ dense_21[\u001B[38;5;34m0\u001B[0m][\u001B[38;5;34m0\u001B[0m]    │\n",
       "└─────────────────────┴───────────────────┴────────────┴───────────────────┘\n"
      ],
      "text/html": [
       "<pre style=\"white-space:pre;overflow-x:auto;line-height:normal;font-family:Menlo,'DejaVu Sans Mono',consolas,'Courier New',monospace\">┏━━━━━━━━━━━━━━━━━━━━━┳━━━━━━━━━━━━━━━━━━━┳━━━━━━━━━━━━┳━━━━━━━━━━━━━━━━━━━┓\n",
       "┃<span style=\"font-weight: bold\"> Layer (type)        </span>┃<span style=\"font-weight: bold\"> Output Shape      </span>┃<span style=\"font-weight: bold\">    Param # </span>┃<span style=\"font-weight: bold\"> Connected to      </span>┃\n",
       "┡━━━━━━━━━━━━━━━━━━━━━╇━━━━━━━━━━━━━━━━━━━╇━━━━━━━━━━━━╇━━━━━━━━━━━━━━━━━━━┩\n",
       "│ Title (<span style=\"color: #0087ff; text-decoration-color: #0087ff\">InputLayer</span>)  │ (<span style=\"color: #00d7ff; text-decoration-color: #00d7ff\">None</span>, <span style=\"color: #00d7ff; text-decoration-color: #00d7ff\">None</span>)      │          <span style=\"color: #00af00; text-decoration-color: #00af00\">0</span> │ -                 │\n",
       "├─────────────────────┼───────────────────┼────────────┼───────────────────┤\n",
       "│ FullDescription     │ (<span style=\"color: #00d7ff; text-decoration-color: #00d7ff\">None</span>, <span style=\"color: #00d7ff; text-decoration-color: #00d7ff\">None</span>)      │          <span style=\"color: #00af00; text-decoration-color: #00af00\">0</span> │ -                 │\n",
       "│ (<span style=\"color: #0087ff; text-decoration-color: #0087ff\">InputLayer</span>)        │                   │            │                   │\n",
       "├─────────────────────┼───────────────────┼────────────┼───────────────────┤\n",
       "│ embedding_11        │ (<span style=\"color: #00d7ff; text-decoration-color: #00d7ff\">None</span>, <span style=\"color: #00d7ff; text-decoration-color: #00d7ff\">None</span>, <span style=\"color: #00af00; text-decoration-color: #00af00\">16</span>)  │    <span style=\"color: #00af00; text-decoration-color: #00af00\">519,296</span> │ FullDescription[<span style=\"color: #00af00; text-decoration-color: #00af00\">…</span> │\n",
       "│ (<span style=\"color: #0087ff; text-decoration-color: #0087ff\">Embedding</span>)         │                   │            │ Title[<span style=\"color: #00af00; text-decoration-color: #00af00\">0</span>][<span style=\"color: #00af00; text-decoration-color: #00af00\">0</span>]       │\n",
       "├─────────────────────┼───────────────────┼────────────┼───────────────────┤\n",
       "│ title_conv (<span style=\"color: #0087ff; text-decoration-color: #0087ff\">Conv1D</span>) │ (<span style=\"color: #00d7ff; text-decoration-color: #00d7ff\">None</span>, <span style=\"color: #00d7ff; text-decoration-color: #00d7ff\">None</span>, <span style=\"color: #00af00; text-decoration-color: #00af00\">24</span>)  │        <span style=\"color: #00af00; text-decoration-color: #00af00\">792</span> │ embedding_11[<span style=\"color: #00af00; text-decoration-color: #00af00\">1</span>][<span style=\"color: #00af00; text-decoration-color: #00af00\">…</span> │\n",
       "├─────────────────────┼───────────────────┼────────────┼───────────────────┤\n",
       "│ descr_conv (<span style=\"color: #0087ff; text-decoration-color: #0087ff\">Conv1D</span>) │ (<span style=\"color: #00d7ff; text-decoration-color: #00d7ff\">None</span>, <span style=\"color: #00d7ff; text-decoration-color: #00d7ff\">None</span>, <span style=\"color: #00af00; text-decoration-color: #00af00\">32</span>)  │      <span style=\"color: #00af00; text-decoration-color: #00af00\">2,080</span> │ embedding_11[<span style=\"color: #00af00; text-decoration-color: #00af00\">0</span>][<span style=\"color: #00af00; text-decoration-color: #00af00\">…</span> │\n",
       "├─────────────────────┼───────────────────┼────────────┼───────────────────┤\n",
       "│ global_max_pooling… │ (<span style=\"color: #00d7ff; text-decoration-color: #00d7ff\">None</span>, <span style=\"color: #00af00; text-decoration-color: #00af00\">24</span>)        │          <span style=\"color: #00af00; text-decoration-color: #00af00\">0</span> │ title_conv[<span style=\"color: #00af00; text-decoration-color: #00af00\">0</span>][<span style=\"color: #00af00; text-decoration-color: #00af00\">0</span>]  │\n",
       "│ (<span style=\"color: #0087ff; text-decoration-color: #0087ff\">GlobalMaxPooling1…</span> │                   │            │                   │\n",
       "├─────────────────────┼───────────────────┼────────────┼───────────────────┤\n",
       "│ global_max_pooling… │ (<span style=\"color: #00d7ff; text-decoration-color: #00d7ff\">None</span>, <span style=\"color: #00af00; text-decoration-color: #00af00\">32</span>)        │          <span style=\"color: #00af00; text-decoration-color: #00af00\">0</span> │ descr_conv[<span style=\"color: #00af00; text-decoration-color: #00af00\">0</span>][<span style=\"color: #00af00; text-decoration-color: #00af00\">0</span>]  │\n",
       "│ (<span style=\"color: #0087ff; text-decoration-color: #0087ff\">GlobalMaxPooling1…</span> │                   │            │                   │\n",
       "├─────────────────────┼───────────────────┼────────────┼───────────────────┤\n",
       "│ Categorical         │ (<span style=\"color: #00d7ff; text-decoration-color: #00d7ff\">None</span>, <span style=\"color: #00af00; text-decoration-color: #00af00\">3767</span>)      │          <span style=\"color: #00af00; text-decoration-color: #00af00\">0</span> │ -                 │\n",
       "│ (<span style=\"color: #0087ff; text-decoration-color: #0087ff\">InputLayer</span>)        │                   │            │                   │\n",
       "├─────────────────────┼───────────────────┼────────────┼───────────────────┤\n",
       "│ concatenate_11      │ (<span style=\"color: #00d7ff; text-decoration-color: #00d7ff\">None</span>, <span style=\"color: #00af00; text-decoration-color: #00af00\">3823</span>)      │          <span style=\"color: #00af00; text-decoration-color: #00af00\">0</span> │ global_max_pooli… │\n",
       "│ (<span style=\"color: #0087ff; text-decoration-color: #0087ff\">Concatenate</span>)       │                   │            │ global_max_pooli… │\n",
       "│                     │                   │            │ Categorical[<span style=\"color: #00af00; text-decoration-color: #00af00\">0</span>][<span style=\"color: #00af00; text-decoration-color: #00af00\">0</span>] │\n",
       "├─────────────────────┼───────────────────┼────────────┼───────────────────┤\n",
       "│ dense_21 (<span style=\"color: #0087ff; text-decoration-color: #0087ff\">Dense</span>)    │ (<span style=\"color: #00d7ff; text-decoration-color: #00d7ff\">None</span>, <span style=\"color: #00af00; text-decoration-color: #00af00\">64</span>)        │    <span style=\"color: #00af00; text-decoration-color: #00af00\">244,736</span> │ concatenate_11[<span style=\"color: #00af00; text-decoration-color: #00af00\">0</span>… │\n",
       "├─────────────────────┼───────────────────┼────────────┼───────────────────┤\n",
       "│ dense_22 (<span style=\"color: #0087ff; text-decoration-color: #0087ff\">Dense</span>)    │ (<span style=\"color: #00d7ff; text-decoration-color: #00d7ff\">None</span>, <span style=\"color: #00af00; text-decoration-color: #00af00\">1</span>)         │         <span style=\"color: #00af00; text-decoration-color: #00af00\">65</span> │ dense_21[<span style=\"color: #00af00; text-decoration-color: #00af00\">0</span>][<span style=\"color: #00af00; text-decoration-color: #00af00\">0</span>]    │\n",
       "└─────────────────────┴───────────────────┴────────────┴───────────────────┘\n",
       "</pre>\n"
      ]
     },
     "metadata": {},
     "output_type": "display_data"
    },
    {
     "data": {
      "text/plain": [
       "\u001B[1m Total params: \u001B[0m\u001B[38;5;34m766,969\u001B[0m (2.93 MB)\n"
      ],
      "text/html": [
       "<pre style=\"white-space:pre;overflow-x:auto;line-height:normal;font-family:Menlo,'DejaVu Sans Mono',consolas,'Courier New',monospace\"><span style=\"font-weight: bold\"> Total params: </span><span style=\"color: #00af00; text-decoration-color: #00af00\">766,969</span> (2.93 MB)\n",
       "</pre>\n"
      ]
     },
     "metadata": {},
     "output_type": "display_data"
    },
    {
     "data": {
      "text/plain": [
       "\u001B[1m Trainable params: \u001B[0m\u001B[38;5;34m766,969\u001B[0m (2.93 MB)\n"
      ],
      "text/html": [
       "<pre style=\"white-space:pre;overflow-x:auto;line-height:normal;font-family:Menlo,'DejaVu Sans Mono',consolas,'Courier New',monospace\"><span style=\"font-weight: bold\"> Trainable params: </span><span style=\"color: #00af00; text-decoration-color: #00af00\">766,969</span> (2.93 MB)\n",
       "</pre>\n"
      ]
     },
     "metadata": {},
     "output_type": "display_data"
    },
    {
     "data": {
      "text/plain": [
       "\u001B[1m Non-trainable params: \u001B[0m\u001B[38;5;34m0\u001B[0m (0.00 B)\n"
      ],
      "text/html": [
       "<pre style=\"white-space:pre;overflow-x:auto;line-height:normal;font-family:Menlo,'DejaVu Sans Mono',consolas,'Courier New',monospace\"><span style=\"font-weight: bold\"> Non-trainable params: </span><span style=\"color: #00af00; text-decoration-color: #00af00\">0</span> (0.00 B)\n",
       "</pre>\n"
      ]
     },
     "metadata": {},
     "output_type": "display_data"
    },
    {
     "name": "stdout",
     "output_type": "stream",
     "text": [
      "\u001B[1m4/4\u001B[0m \u001B[32m━━━━━━━━━━━━━━━━━━━━\u001B[0m\u001B[37m\u001B[0m \u001B[1m0s\u001B[0m 37ms/step\n"
     ]
    }
   ],
   "execution_count": 88
  },
  {
   "metadata": {
    "ExecuteTime": {
     "end_time": "2024-12-16T11:22:39.883915Z",
     "start_time": "2024-12-16T11:22:39.880898Z"
    }
   },
   "cell_type": "code",
   "source": [
    "print(\"Data length:\", len(tokens))\n",
    "print(\"N categorical features:\", len(categorical_vectorizer.vocabulary_))"
   ],
   "outputs": [
    {
     "name": "stdout",
     "output_type": "stream",
     "text": [
      "Data length: 32456\n",
      "N categorical features: 3767\n"
     ]
    }
   ],
   "execution_count": 89
  },
  {
   "cell_type": "markdown",
   "metadata": {},
   "source": [
    "#### Training and evaluation\n",
    "\n",
    "As usual, we gonna feed our monster with random minibatches of data. \n",
    "\n",
    "As we train, we want to monitor not only loss function, which is computed in log-space, but also the actual error measured in dollars."
   ]
  },
  {
   "cell_type": "code",
   "metadata": {
    "ExecuteTime": {
     "end_time": "2024-12-16T11:22:41.336407Z",
     "start_time": "2024-12-16T11:22:41.332504Z"
    }
   },
   "source": [
    "def iterate_minibatches(data, batch_size=256, shuffle=True, cycle=False, **kwargs):\n",
    "    \"\"\" iterates minibatches of data in random order \"\"\"\n",
    "    while True:\n",
    "        indices = np.arange(len(data))\n",
    "        if shuffle:\n",
    "            indices = np.random.permutation(indices)\n",
    "\n",
    "        for start in range(0, len(indices), batch_size):\n",
    "            batch = make_batch(data.iloc[indices[start : start + batch_size]], **kwargs)\n",
    "            target = batch.pop(target_column)\n",
    "            yield batch, target\n",
    "        \n",
    "        if not cycle: break"
   ],
   "outputs": [],
   "execution_count": 90
  },
  {
   "cell_type": "markdown",
   "metadata": {},
   "source": [
    "### Model training\n",
    "\n",
    "We can now fit our model the usual minibatch way. The interesting part is that we train on an infinite stream of minibatches, produced by `iterate_minibatches` function."
   ]
  },
  {
   "cell_type": "code",
   "metadata": {
    "ExecuteTime": {
     "end_time": "2024-12-16T11:24:50.050554Z",
     "start_time": "2024-12-16T11:22:42.626001Z"
    }
   },
   "source": [
    "batch_size = 256\n",
    "epochs = 10            # definitely too small\n",
    "steps_per_epoch = 100  # for full pass over data: (len(data_train) - 1) // batch_size + 1\n",
    "\n",
    "model = build_model()\n",
    "\n",
    "model.fit(iterate_minibatches(data_train, batch_size, cycle=True, word_dropout=0.05), \n",
    "                    epochs=epochs, steps_per_epoch=steps_per_epoch,\n",
    "                    \n",
    "                    validation_data=iterate_minibatches(data_val, batch_size, cycle=True),\n",
    "                    validation_steps=data_val.shape[0] // batch_size\n",
    "                   )"
   ],
   "outputs": [
    {
     "name": "stdout",
     "output_type": "stream",
     "text": [
      "Epoch 1/10\n",
      "\u001B[1m100/100\u001B[0m \u001B[32m━━━━━━━━━━━━━━━━━━━━\u001B[0m\u001B[37m\u001B[0m \u001B[1m15s\u001B[0m 133ms/step - loss: 38.7124 - mean_absolute_error: 4.7770 - val_loss: 0.4839 - val_mean_absolute_error: 0.5470\n",
      "Epoch 2/10\n",
      "\u001B[1m100/100\u001B[0m \u001B[32m━━━━━━━━━━━━━━━━━━━━\u001B[0m\u001B[37m\u001B[0m \u001B[1m13s\u001B[0m 132ms/step - loss: 0.2719 - mean_absolute_error: 0.3922 - val_loss: 0.3350 - val_mean_absolute_error: 0.4467\n",
      "Epoch 3/10\n",
      "\u001B[1m100/100\u001B[0m \u001B[32m━━━━━━━━━━━━━━━━━━━━\u001B[0m\u001B[37m\u001B[0m \u001B[1m12s\u001B[0m 122ms/step - loss: 0.1951 - mean_absolute_error: 0.3318 - val_loss: 0.2130 - val_mean_absolute_error: 0.3454\n",
      "Epoch 4/10\n",
      "\u001B[1m100/100\u001B[0m \u001B[32m━━━━━━━━━━━━━━━━━━━━\u001B[0m\u001B[37m\u001B[0m \u001B[1m12s\u001B[0m 125ms/step - loss: 0.1674 - mean_absolute_error: 0.3003 - val_loss: 0.1902 - val_mean_absolute_error: 0.3275\n",
      "Epoch 5/10\n",
      "\u001B[1m100/100\u001B[0m \u001B[32m━━━━━━━━━━━━━━━━━━━━\u001B[0m\u001B[37m\u001B[0m \u001B[1m14s\u001B[0m 140ms/step - loss: 0.1366 - mean_absolute_error: 0.2741 - val_loss: 0.1697 - val_mean_absolute_error: 0.3076\n",
      "Epoch 6/10\n",
      "\u001B[1m100/100\u001B[0m \u001B[32m━━━━━━━━━━━━━━━━━━━━\u001B[0m\u001B[37m\u001B[0m \u001B[1m12s\u001B[0m 120ms/step - loss: 0.1293 - mean_absolute_error: 0.2651 - val_loss: 0.1518 - val_mean_absolute_error: 0.2916\n",
      "Epoch 7/10\n",
      "\u001B[1m100/100\u001B[0m \u001B[32m━━━━━━━━━━━━━━━━━━━━\u001B[0m\u001B[37m\u001B[0m \u001B[1m12s\u001B[0m 120ms/step - loss: 0.1232 - mean_absolute_error: 0.2578 - val_loss: 0.1273 - val_mean_absolute_error: 0.2639\n",
      "Epoch 8/10\n",
      "\u001B[1m100/100\u001B[0m \u001B[32m━━━━━━━━━━━━━━━━━━━━\u001B[0m\u001B[37m\u001B[0m \u001B[1m12s\u001B[0m 120ms/step - loss: 0.1103 - mean_absolute_error: 0.2450 - val_loss: 0.1208 - val_mean_absolute_error: 0.2569\n",
      "Epoch 9/10\n",
      "\u001B[1m100/100\u001B[0m \u001B[32m━━━━━━━━━━━━━━━━━━━━\u001B[0m\u001B[37m\u001B[0m \u001B[1m12s\u001B[0m 124ms/step - loss: 0.1045 - mean_absolute_error: 0.2389 - val_loss: 0.1229 - val_mean_absolute_error: 0.2624\n",
      "Epoch 10/10\n",
      "\u001B[1m100/100\u001B[0m \u001B[32m━━━━━━━━━━━━━━━━━━━━\u001B[0m\u001B[37m\u001B[0m \u001B[1m12s\u001B[0m 122ms/step - loss: 0.0963 - mean_absolute_error: 0.2307 - val_loss: 0.1138 - val_mean_absolute_error: 0.2512\n"
     ]
    },
    {
     "data": {
      "text/plain": [
       "<keras.src.callbacks.history.History at 0x71192abd4c10>"
      ]
     },
     "execution_count": 91,
     "metadata": {},
     "output_type": "execute_result"
    }
   ],
   "execution_count": 91
  },
  {
   "cell_type": "code",
   "metadata": {
    "ExecuteTime": {
     "end_time": "2024-12-16T10:56:43.279176Z",
     "start_time": "2024-12-16T10:53:54.105382Z"
    }
   },
   "source": [
    "from tqdm import tqdm\n",
    "\n",
    "\n",
    "def print_metrics(model: keras.models.Model, data, batch_size=batch_size, name=\"\", **kw):\n",
    "    squared_error = abs_error = num_samples = 0.0\n",
    "    for batch_x, batch_y in tqdm(iterate_minibatches(data, batch_size=batch_size, shuffle=False, **kw)):\n",
    "        batch_pred = model.predict(batch_x, verbose=0)[:, 0]\n",
    "        squared_error += np.sum(np.square(batch_pred - batch_y))\n",
    "        abs_error += np.sum(np.abs(batch_pred - batch_y))\n",
    "        num_samples += len(batch_y)\n",
    "    print(\"%s results:\" % (name or \"\"))\n",
    "    print(\"Mean square error: %.5f\" % (squared_error / num_samples))\n",
    "    print(\"Mean absolute error: %.5f\" % (abs_error / num_samples))\n",
    "    return squared_error, abs_error\n",
    "    \n",
    "print_metrics(model, data_train, name='Train')\n",
    "print_metrics(model, data_val, name='Val');"
   ],
   "outputs": [
    {
     "name": "stderr",
     "output_type": "stream",
     "text": [
      "765it [02:07,  6.00it/s]\n"
     ]
    },
    {
     "name": "stdout",
     "output_type": "stream",
     "text": [
      "Train results:\n",
      "Mean square error: 0.10881\n",
      "Mean absolute error: 0.24774\n"
     ]
    },
    {
     "name": "stderr",
     "output_type": "stream",
     "text": [
      "192it [00:41,  4.60it/s]"
     ]
    },
    {
     "name": "stdout",
     "output_type": "stream",
     "text": [
      "Val results:\n",
      "Mean square error: 0.11302\n",
      "Mean absolute error: 0.25361\n"
     ]
    },
    {
     "name": "stderr",
     "output_type": "stream",
     "text": [
      "\n"
     ]
    }
   ],
   "execution_count": 27
  },
  {
   "cell_type": "markdown",
   "metadata": {},
   "source": [
    "### Bonus part: explaining model predictions\n",
    "\n",
    "It's usually a good idea to understand how your model works before you let it make actual decisions. It's simple for linear models: just see which words learned positive or negative weights. However, its much harder for neural networks that learn complex nonlinear dependencies.\n",
    "\n",
    "There are, however, some ways to look inside the black box:\n",
    "* Seeing how model responds to input perturbations\n",
    "* Finding inputs that maximize/minimize activation of some chosen neurons (_read more [on distill.pub](https://distill.pub/2018/building-blocks/)_)\n",
    "* Building local linear approximations to your neural network: [article](https://arxiv.org/abs/1602.04938), [eli5 library](https://github.com/TeamHG-Memex/eli5/tree/master/eli5/formatters)\n",
    "\n",
    "Today we gonna try the first method just because it's the simplest one."
   ]
  },
  {
   "cell_type": "code",
   "metadata": {
    "ExecuteTime": {
     "end_time": "2024-12-16T11:41:14.443403Z",
     "start_time": "2024-12-16T11:41:14.439333Z"
    }
   },
   "source": [
    "def explain(model, sample, col_name='Title'):\n",
    "    \"\"\" Computes the effect each word had on model predictions \"\"\"\n",
    "    sample = dict(sample)\n",
    "    sample_col_tokens = [tokens[token_to_id.get(tok, 0)] for tok in sample[col_name].split()]\n",
    "    data_drop_one_token = pd.DataFrame([sample] * (len(sample_col_tokens) + 1))\n",
    "\n",
    "    for drop_i in range(len(sample_col_tokens)):\n",
    "        data_drop_one_token.loc[drop_i, col_name] = ' '.join(UNK if i == drop_i else tok\n",
    "                                                   for i, tok in enumerate(sample_col_tokens)) \n",
    "\n",
    "    *predictions_drop_one_token, baseline_pred = model.predict(make_batch(data_drop_one_token), verbose=0)[:, 0]\n",
    "    diffs = baseline_pred - predictions_drop_one_token\n",
    "    return list(zip(sample_col_tokens, diffs))"
   ],
   "outputs": [],
   "execution_count": 102
  },
  {
   "cell_type": "code",
   "metadata": {
    "ExecuteTime": {
     "end_time": "2024-12-16T11:41:14.747271Z",
     "start_time": "2024-12-16T11:41:14.741322Z"
    }
   },
   "source": [
    "from IPython.display import HTML, display_html\n",
    "\n",
    "def draw_html(tokens_and_weights, cmap=plt.get_cmap(\"bwr\"), display=True,\n",
    "              token_template=\"\"\"<span style=\"background-color: {color_hex}\">{token}</span>\"\"\",\n",
    "              font_style=\"font-size:14px;\"\n",
    "             ):\n",
    "    \n",
    "    def get_color_hex(weight):\n",
    "        rgba = cmap(1. / (1 + np.exp(weight)), bytes=True)\n",
    "        return '#%02X%02X%02X' % rgba[:3]\n",
    "    \n",
    "    tokens_html = [\n",
    "        token_template.format(token=token, color_hex=get_color_hex(weight))\n",
    "        for token, weight in tokens_and_weights\n",
    "    ]\n",
    "    \n",
    "    \n",
    "    raw_html = \"\"\"<p style=\"{}\">{}</p>\"\"\".format(font_style, ' '.join(tokens_html))\n",
    "    if display:\n",
    "        display_html(HTML(raw_html))\n",
    "        \n",
    "    return raw_html\n",
    "    "
   ],
   "outputs": [],
   "execution_count": 103
  },
  {
   "metadata": {
    "ExecuteTime": {
     "end_time": "2024-12-16T11:44:24.802306Z",
     "start_time": "2024-12-16T11:44:24.798082Z"
    }
   },
   "cell_type": "code",
   "source": [
    "tokens_and_weights = [\n",
    "    (\"test\", -10),\n",
    "    (\"title\", 10),\n",
    "    (\"word\", 0)\n",
    "]\n",
    "draw_html([(tok, weight * 5) for tok, weight in tokens_and_weights], font_style='font-size:20px;');"
   ],
   "outputs": [
    {
     "data": {
      "text/html": [
       "<p style=\"font-size:20px;\"><span style=\"background-color: #FF0000\">test</span> <span style=\"background-color: #0000FF\">title</span> <span style=\"background-color: #FFFEFE\">word</span></p>"
      ]
     },
     "metadata": {},
     "output_type": "display_data"
    }
   ],
   "execution_count": 123
  },
  {
   "metadata": {
    "ExecuteTime": {
     "end_time": "2024-12-16T11:41:15.610210Z",
     "start_time": "2024-12-16T11:41:15.606439Z"
    }
   },
   "cell_type": "code",
   "source": [
    "def explain_test_sample(data_sample):\n",
    "    tokens_and_weights = explain(model, data_sample, \"Title\")\n",
    "    draw_html([(tok, weight * 5) for tok, weight in tokens_and_weights], font_style='font-size:20px;')\n",
    "    \n",
    "    tokens_and_weights = explain(model, data_sample, \"FullDescription\")\n",
    "    draw_html([(tok, weight * 10) for tok, weight in tokens_and_weights])"
   ],
   "outputs": [],
   "execution_count": 105
  },
  {
   "metadata": {
    "ExecuteTime": {
     "end_time": "2024-12-16T11:41:16.227206Z",
     "start_time": "2024-12-16T11:41:16.022294Z"
    }
   },
   "cell_type": "code",
   "source": [
    "test_sample = data.loc[0].copy()\n",
    "\n",
    "test_sample[\"Title\"] = \"senior python developer\"\n",
    "test_sample[\"FullDescription\"] = \"highly skilled python developer with 5 years of experience\"\n",
    "explain_test_sample(test_sample)"
   ],
   "outputs": [
    {
     "data": {
      "text/html": [
       "<p style=\"font-size:20px;\"><span style=\"background-color: #FFB8B8\">senior</span> <span style=\"background-color: #FF1111\">python</span> <span style=\"background-color: #FF1E1E\">developer</span></p>"
      ]
     },
     "metadata": {},
     "output_type": "display_data"
    },
    {
     "data": {
      "text/html": [
       "<p style=\"font-size:14px;\"><span style=\"background-color: #FF0000\">highly</span> <span style=\"background-color: #FF0000\">skilled</span> <span style=\"background-color: #FF0000\">python</span> <span style=\"background-color: #FF0000\">developer</span> <span style=\"background-color: #FF0000\">with</span> <span style=\"background-color: #FF0000\">5</span> <span style=\"background-color: #FF0000\">years</span> <span style=\"background-color: #FF0000\">of</span> <span style=\"background-color: #FF0000\">experience</span></p>"
      ]
     },
     "metadata": {},
     "output_type": "display_data"
    }
   ],
   "execution_count": 106
  },
  {
   "metadata": {
    "ExecuteTime": {
     "end_time": "2024-12-16T11:41:28.130386Z",
     "start_time": "2024-12-16T11:41:27.880085Z"
    }
   },
   "cell_type": "code",
   "source": [
    "test_sample[\"Title\"] = \"trainee python intern / part time\"\n",
    "test_sample[\"FullDescription\"] = \"low skilled python enthusiast\"\n",
    "explain_test_sample(test_sample)"
   ],
   "outputs": [
    {
     "data": {
      "text/html": [
       "<p style=\"font-size:20px;\"><span style=\"background-color: #FF7070\">trainee</span> <span style=\"background-color: #FF4949\">python</span> <span style=\"background-color: #FF2020\">intern</span> <span style=\"background-color: #FF8282\">/</span> <span style=\"background-color: #FF3030\">part</span> <span style=\"background-color: #FF2121\">time</span></p>"
      ]
     },
     "metadata": {},
     "output_type": "display_data"
    },
    {
     "data": {
      "text/html": [
       "<p style=\"font-size:14px;\"><span style=\"background-color: #FF0000\">low</span> <span style=\"background-color: #FF0000\">skilled</span> <span style=\"background-color: #FF0000\">python</span> <span style=\"background-color: #FF0000\">enthusiast</span></p>"
      ]
     },
     "metadata": {},
     "output_type": "display_data"
    }
   ],
   "execution_count": 107
  },
  {
   "metadata": {
    "ExecuteTime": {
     "end_time": "2024-12-16T11:41:38.844073Z",
     "start_time": "2024-12-16T11:41:38.654787Z"
    }
   },
   "cell_type": "code",
   "source": [
    "test_sample[\"Title\"] = \"head of python development\"\n",
    "test_sample[\"FullDescription\"] = \"manager of python developers\"\n",
    "explain_test_sample(test_sample)"
   ],
   "outputs": [
    {
     "data": {
      "text/html": [
       "<p style=\"font-size:20px;\"><span style=\"background-color: #8383FF\">head</span> <span style=\"background-color: #FF5C5C\">of</span> <span style=\"background-color: #FF2626\">python</span> <span style=\"background-color: #FF0E0E\">development</span></p>"
      ]
     },
     "metadata": {},
     "output_type": "display_data"
    },
    {
     "data": {
      "text/html": [
       "<p style=\"font-size:14px;\"><span style=\"background-color: #FF0000\">manager</span> <span style=\"background-color: #FF0000\">of</span> <span style=\"background-color: #FF0000\">python</span> <span style=\"background-color: #FF0000\">developers</span></p>"
      ]
     },
     "metadata": {},
     "output_type": "display_data"
    }
   ],
   "execution_count": 108
  },
  {
   "metadata": {
    "ExecuteTime": {
     "end_time": "2024-12-16T11:54:14.016438Z",
     "start_time": "2024-12-16T11:54:13.841059Z"
    }
   },
   "cell_type": "code",
   "source": [
    "test_sample[\"Title\"] = \"cleaning assistant\"\n",
    "test_sample[\"FullDescription\"] = \"simple job for students cleaning assistant\"\n",
    "explain_test_sample(test_sample)"
   ],
   "outputs": [
    {
     "data": {
      "text/html": [
       "<p style=\"font-size:20px;\"><span style=\"background-color: #FF5656\">cleaning</span> <span style=\"background-color: #FF0000\">assistant</span></p>"
      ]
     },
     "metadata": {},
     "output_type": "display_data"
    },
    {
     "data": {
      "text/html": [
       "<p style=\"font-size:14px;\"><span style=\"background-color: #FF0000\">simple</span> <span style=\"background-color: #FF0000\">job</span> <span style=\"background-color: #FF0000\">for</span> <span style=\"background-color: #FF0000\">students</span> <span style=\"background-color: #FF0000\">cleaning</span> <span style=\"background-color: #FF0000\">assistant</span></p>"
      ]
     },
     "metadata": {},
     "output_type": "display_data"
    }
   ],
   "execution_count": 124
  },
  {
   "metadata": {
    "ExecuteTime": {
     "end_time": "2024-12-16T11:43:42.442796Z",
     "start_time": "2024-12-16T11:43:42.250354Z"
    }
   },
   "cell_type": "code",
   "source": [
    "test_sample[\"Title\"] = \"accounts assistant\"\n",
    "test_sample[\"FullDescription\"] = \"assistant in the accounts department / finance / accounts assistant\"\n",
    "explain_test_sample(test_sample)"
   ],
   "outputs": [
    {
     "data": {
      "text/html": [
       "<p style=\"font-size:20px;\"><span style=\"background-color: #FF5858\">accounts</span> <span style=\"background-color: #FF0000\">assistant</span></p>"
      ]
     },
     "metadata": {},
     "output_type": "display_data"
    },
    {
     "data": {
      "text/html": [
       "<p style=\"font-size:14px;\"><span style=\"background-color: #FF0404\">assistant</span> <span style=\"background-color: #FF0C0C\">in</span> <span style=\"background-color: #FF2424\">the</span> <span style=\"background-color: #FF0000\">accounts</span> <span style=\"background-color: #FF0000\">department</span> <span style=\"background-color: #FF0000\">/</span> <span style=\"background-color: #FF0000\">finance</span> <span style=\"background-color: #FF0000\">/</span> <span style=\"background-color: #FF0000\">accounts</span> <span style=\"background-color: #FF0000\">assistant</span></p>"
      ]
     },
     "metadata": {},
     "output_type": "display_data"
    }
   ],
   "execution_count": 112
  },
  {
   "cell_type": "code",
   "metadata": {
    "ExecuteTime": {
     "end_time": "2024-12-16T11:43:44.844975Z",
     "start_time": "2024-12-16T11:43:44.538555Z"
    }
   },
   "source": [
    "i = 36605\n",
    "tokens_and_weights = explain(model, data.loc[i], \"Title\")\n",
    "draw_html([(tok, weight * 5) for tok, weight in tokens_and_weights], font_style='font-size:20px;');\n",
    "\n",
    "tokens_and_weights = explain(model, data.loc[i], \"FullDescription\")\n",
    "draw_html([(tok, weight * 10) for tok, weight in tokens_and_weights]);"
   ],
   "outputs": [
    {
     "data": {
      "text/html": [
       "<p style=\"font-size:20px;\"><span style=\"background-color: #FF2E2E\">sales</span> <span style=\"background-color: #FF1919\">specialist</span> <span style=\"background-color: #FF0E0E\">iv</span> <span style=\"background-color: #FF1010\">access</span> <span style=\"background-color: #FF1414\">and</span> <span style=\"background-color: #FF1111\">infusion</span></p>"
      ]
     },
     "metadata": {},
     "output_type": "display_data"
    },
    {
     "data": {
      "text/html": [
       "<p style=\"font-size:14px;\"><span style=\"background-color: #FFFEFE\">sales</span> <span style=\"background-color: #FFD6D6\">representative</span> <span style=\"background-color: #FFE4E4\">medical</span> <span style=\"background-color: #FFE4E4\">sales</span> <span style=\"background-color: #FFCCCC\">iv</span> <span style=\"background-color: #FF9898\">access</span> <span style=\"background-color: #FFE6E6\">and</span> <span style=\"background-color: #FFAEAE\">infusion</span> <span style=\"background-color: #FF8383\">an</span> <span style=\"background-color: #FF9E9E\">opportunity</span> <span style=\"background-color: #FFD3D3\">to</span> <span style=\"background-color: #FFB3B3\">work</span> <span style=\"background-color: #FFE2E2\">for</span> <span style=\"background-color: #FFAEAE\">the</span> <span style=\"background-color: #FF9292\">industry</span> <span style=\"background-color: #FFC8C8\">leading</span> <span style=\"background-color: #FF9393\">manufacturer</span> <span style=\"background-color: #FFFCFC\">of</span> <span style=\"background-color: #FF7676\">iv</span> <span style=\"background-color: #FF7878\">access</span> <span style=\"background-color: #FFE6E6\">and</span> <span style=\"background-color: #FFA3A3\">infusion</span> <span style=\"background-color: #FFDCDC\">solutions</span> <span style=\"background-color: #FFC0C0\">.</span> <span style=\"background-color: #FFB6B6\">formally</span> <span style=\"background-color: #FFD0D0\">recognised</span> <span style=\"background-color: #FFC2C2\">as</span> <span style=\"background-color: #FFDEDE\">the</span> <span style=\"background-color: #FFB6B6\">number</span> <span style=\"background-color: #FFBEBE\">****</span> <span style=\"background-color: #FFC0C0\">company</span> <span style=\"background-color: #FFCCCC\">in</span> <span style=\"background-color: #FFD2D2\">this</span> <span style=\"background-color: #FF5454\">market</span> <span style=\"background-color: #FF2020\">space</span> <span style=\"background-color: #FFF2F2\">,</span> <span style=\"background-color: #FF1E1E\">our</span> <span style=\"background-color: #FF3131\">client</span> <span style=\"background-color: #FFCACA\">are</span> <span style=\"background-color: #FFD8D8\">an</span> <span style=\"background-color: #FF7171\">ethical</span> <span style=\"background-color: #FFEEEE\">and</span> <span style=\"background-color: #FFD3D3\">dynamic</span> <span style=\"background-color: #FFFEFE\">organisation</span> <span style=\"background-color: #FF8282\">absolutely</span> <span style=\"background-color: #FFDCDC\">committed</span> <span style=\"background-color: #FFD3D3\">to</span> <span style=\"background-color: #FFACAC\">the</span> <span style=\"background-color: #FF6E6E\">advancement</span> <span style=\"background-color: #FFFCFC\">of</span> <span style=\"background-color: #FF9898\">innovative</span> <span style=\"background-color: #FFD2D2\">technologies</span> <span style=\"background-color: #FFF4F4\">.</span> <span style=\"background-color: #FFF8F8\">job</span> <span style=\"background-color: #FFD6D6\">title</span> <span style=\"background-color: #FFFEFE\">:</span> <span style=\"background-color: #FFD0D0\">sales</span> <span style=\"background-color: #FFF0F0\">specialist</span> <span style=\"background-color: #FFC6C6\">iv</span> <span style=\"background-color: #FF9393\">access</span> <span style=\"background-color: #FFE8E8\">and</span> <span style=\"background-color: #FFCACA\">infusion</span> <span style=\"background-color: #FFF0F0\">selling</span> <span style=\"background-color: #FFFEFE\">:</span> <span style=\"background-color: #FFDEDE\">medication</span> <span style=\"background-color: #FFE6E6\">delivery</span> <span style=\"background-color: #FF8080\">solutions</span> <span style=\"background-color: #FFCCCC\">selling</span> <span style=\"background-color: #FFF4F4\">to</span> <span style=\"background-color: #FF9090\">:</span> <span style=\"background-color: #FF5656\">iv</span> <span style=\"background-color: #FF2C2C\">teams</span> <span style=\"background-color: #FFB3B3\">,</span> <span style=\"background-color: #FF2626\">infection</span> <span style=\"background-color: #FF0909\">control</span> <span style=\"background-color: #FFFEFE\">,</span> <span style=\"background-color: #FF2E2E\">lead</span> <span style=\"background-color: #FF5C5C\">intensive</span> <span style=\"background-color: #FF9E9E\">care</span> <span style=\"background-color: #FF6E6E\">nurse</span> <span style=\"background-color: #FF1C1C\">specialists</span> <span style=\"background-color: #FFEEEE\">,</span> <span style=\"background-color: #FF2828\">ward</span> <span style=\"background-color: #FF5151\">managers</span> <span style=\"background-color: #FFE6E6\">territory</span> <span style=\"background-color: #FFFEFE\">:</span> <span style=\"background-color: #FFC0C0\">east</span> <span style=\"background-color: #FFEEEE\">midlands</span> <span style=\"background-color: #FFEEEE\">location</span> <span style=\"background-color: #FFFCFC\">:</span> <span style=\"background-color: #FFDCDC\">east</span> <span style=\"background-color: #FFE8E8\">midlands</span> <span style=\"background-color: #FFF2F2\">package</span> <span style=\"background-color: #FFB3B3\">:</span> <span style=\"background-color: #FFE4E4\">basic</span> <span style=\"background-color: #FFBCBC\">:</span> <span style=\"background-color: #FFE2E2\">****</span> <span style=\"background-color: #FF8383\">k</span> <span style=\"background-color: #FF5959\">****</span> <span style=\"background-color: #FF3C3C\">k</span> <span style=\"background-color: #FAFAFF\">,</span> <span style=\"background-color: #FF2E2E\">uncapped</span> <span style=\"background-color: #FF6464\">bonus</span> <span style=\"background-color: #FFA3A3\">in</span> <span style=\"background-color: #FF3434\">addition</span> <span style=\"background-color: #F8F8FF\">,</span> <span style=\"background-color: #FF3838\">full</span> <span style=\"background-color: #FF6969\">corporate</span> <span style=\"background-color: #FFFEFE\">benefits</span> <span style=\"background-color: #FFF6F6\">company</span> <span style=\"background-color: #FFFEFE\">information</span> <span style=\"background-color: #FFC8C8\">hugely</span> <span style=\"background-color: #FF9090\">ethical</span> <span style=\"background-color: #FFF4F4\">and</span> <span style=\"background-color: #FFB8B8\">professional</span> <span style=\"background-color: #FFFCFC\">global</span> <span style=\"background-color: #FFC3C3\">organisation</span> <span style=\"background-color: #FFFEFE\">extremely</span> <span style=\"background-color: #FFC8C8\">well</span> <span style=\"background-color: #FFB0B0\">established</span> <span style=\"background-color: #FFB8B8\">in</span> <span style=\"background-color: #FFF2F2\">the</span> <span style=\"background-color: #FF8C8C\">uk</span> <span style=\"background-color: #FFC8C8\">the</span> <span style=\"background-color: #FFAAAA\">market</span> <span style=\"background-color: #FFEAEA\">leader</span> <span style=\"background-color: #FF9898\">across</span> <span style=\"background-color: #FFB3B3\">all</span> <span style=\"background-color: #FEFEFF\">of</span> <span style=\"background-color: #FFCCCC\">their</span> <span style=\"background-color: #FFF0F0\">core</span> <span style=\"background-color: #FFF0F0\">business</span> <span style=\"background-color: #FFF6F6\">areas</span> <span style=\"background-color: #FFFEFE\">focus</span> <span style=\"background-color: #FFECEC\">on</span> <span style=\"background-color: #FFE4E4\">providing</span> <span style=\"background-color: #FFFAFA\">cutting</span> <span style=\"background-color: #FFF2F2\">edge</span> <span style=\"background-color: #FFCCCC\">solutions</span> <span style=\"background-color: #FFE4E4\">along</span> <span style=\"background-color: #FFF2F2\">with</span> <span style=\"background-color: #FFCACA\">outstanding</span> <span style=\"background-color: #FF6464\">service</span> <span style=\"background-color: #FFCACA\">and</span> <span style=\"background-color: #FFB0B0\">support</span> <span style=\"background-color: #CCCCFF\">a</span> <span style=\"background-color: #FFE8E8\">business</span> <span style=\"background-color: #FFB6B6\">that</span> <span style=\"background-color: #FFEEEE\">retain</span> <span style=\"background-color: #FFFCFC\">talented</span> <span style=\"background-color: #FFE4E4\">personnel</span> <span style=\"background-color: #FFCECE\">by</span> <span style=\"background-color: #FFC0C0\">offering</span> <span style=\"background-color: #FFFAFA\">a</span> <span style=\"background-color: #FFF8F8\">strong</span> <span style=\"background-color: #FFB2B2\">platform</span> <span style=\"background-color: #FFE6E6\">for</span> <span style=\"background-color: #FFD3D3\">career</span> <span style=\"background-color: #FFE8E8\">development</span> <span style=\"background-color: #FFF2F2\">sales</span> <span style=\"background-color: #FFFCFC\">specialist</span> <span style=\"background-color: #FFC6C6\">iv</span> <span style=\"background-color: #FF9393\">access</span> <span style=\"background-color: #FFE0E0\">and</span> <span style=\"background-color: #FFF0F0\">infusion</span> <span style=\"background-color: #FFB0B0\">you</span> <span style=\"background-color: #FFCECE\">must</span> <span style=\"background-color: #FF7878\">have</span> <span style=\"background-color: #FFB3B3\">/</span> <span style=\"background-color: #FF7979\">be</span> <span style=\"background-color: #FFB6B6\">the</span> <span style=\"background-color: #FFD0D0\">following</span> <span style=\"background-color: #FFDADA\">at</span> <span style=\"background-color: #FFFEFE\">least</span> <span style=\"background-color: #FFF0F0\">2</span> <span style=\"background-color: #FFF0F0\">years</span> <span style=\"background-color: #FFC6C6\">medical</span> <span style=\"background-color: #FFB2B2\">device</span> <span style=\"background-color: #FFAEAE\">sales</span> <span style=\"background-color: #FFF6F6\">experience</span> <span style=\"background-color: #FFD6D6\">.</span> <span style=\"background-color: #FFAEAE\">candidates</span> <span style=\"background-color: #FFC6C6\">who</span> <span style=\"background-color: #FFE6E6\">have</span> <span style=\"background-color: #FF9090\">sold</span> <span style=\"background-color: #FF6666\">disposables</span> <span style=\"background-color: #FFFEFE\">/</span> <span style=\"background-color: #FFEEEE\">consumables</span> <span style=\"background-color: #FFD8D8\">or</span> <span style=\"background-color: #FFFAFA\">similar</span> <span style=\"background-color: #FFF2F2\">into</span> <span style=\"background-color: #FFE4E4\">hospitals</span> <span style=\"background-color: #FFA8A8\">would</span> <span style=\"background-color: #FF9A9A\">be</span> <span style=\"background-color: #FFDEDE\">of</span> <span style=\"background-color: #FF6969\">particular</span> <span style=\"background-color: #FFCECE\">interest</span> <span style=\"background-color: #FFECEC\">.</span> <span style=\"background-color: #FF9E9E\">candidates</span> <span style=\"background-color: #FFE2E2\">must</span> <span style=\"background-color: #FFEEEE\">have</span> <span style=\"background-color: #FFE2E2\">sold</span> <span style=\"background-color: #FFF6F6\">into</span> <span style=\"background-color: #FFFEFE\">hospitals</span> <span style=\"background-color: #FFA0A0\">demonstrable</span> <span style=\"background-color: #FF7E7E\">performance</span> <span style=\"background-color: #FFF6F6\">and</span> <span style=\"background-color: #FFCCCC\">achievements</span> <span style=\"background-color: #FFBCBC\">so</span> <span style=\"background-color: #FF6464\">far</span> <span style=\"background-color: #FF2020\">personable</span> <span style=\"background-color: #FFBCBC\">,</span> <span style=\"background-color: #FF0909\">adaptable</span> <span style=\"background-color: #FF2929\">and</span> <span style=\"background-color: #FF8888\">willing</span> <span style=\"background-color: #FFF6F6\">to</span> <span style=\"background-color: #FF8C8C\">learn</span> <span style=\"background-color: #FF9898\">keen</span> <span style=\"background-color: #FF9393\">and</span> <span style=\"background-color: #FF8C8C\">eager</span> <span style=\"background-color: #FFCECE\">to</span> <span style=\"background-color: #FFB8B8\">be</span> <span style=\"background-color: #FFF6F6\">a</span> <span style=\"background-color: #FFA6A6\">success</span> <span style=\"background-color: #FFA0A0\">candidates</span> <span style=\"background-color: #FFD3D3\">must</span> <span style=\"background-color: #FFBCBC\">have</span> <span style=\"background-color: #FFFEFE\">a</span> <span style=\"background-color: #FFC2C2\">degree</span> <span style=\"background-color: #FFAEAE\">or</span> <span style=\"background-color: #FFFAFA\">at</span> <span style=\"background-color: #FFC8C8\">least</span> <span style=\"background-color: #FF6666\">be</span> <span style=\"background-color: #FFB0B0\">able</span> <span style=\"background-color: #FFC3C3\">to</span> <span style=\"background-color: #FFB6B6\">show</span> <span style=\"background-color: #FFBEBE\">a</span> <span style=\"background-color: #FF7979\">strong</span> <span style=\"background-color: #FF7878\">ability</span> <span style=\"background-color: #F6F6FF\">to</span> <span style=\"background-color: #FFB2B2\">learn</span> <span style=\"background-color: #FFECEC\">role</span> <span style=\"background-color: #FFE4E4\">information</span> <span style=\"background-color: #FFC3C3\">managing</span> <span style=\"background-color: #FFF6F6\">the</span> <span style=\"background-color: #FFCCCC\">east</span> <span style=\"background-color: #FFF0F0\">midlands</span> <span style=\"background-color: #FFBABA\">region</span> <span style=\"background-color: #FFECEC\">selling</span> <span style=\"background-color: #FFDCDC\">across</span> <span style=\"background-color: #FFFEFE\">the</span> <span style=\"background-color: #FFDADA\">company</span> <span style=\"background-color: #FFDEDE\">'</span> <span style=\"background-color: #FFBABA\">s</span> <span style=\"background-color: #FF8A8A\">range</span> <span style=\"background-color: #FFC2C2\">of</span> <span style=\"background-color: #FF4646\">iv</span> <span style=\"background-color: #FFE6E6\">and</span> <span style=\"background-color: #FFC0C0\">infusion</span> <span style=\"background-color: #FFF0F0\">solutions</span> <span style=\"background-color: #FFC2C2\">portfolio</span> <span style=\"background-color: #FFC6C6\">selling</span> <span style=\"background-color: #FFE6E6\">into</span> <span style=\"background-color: #FFF0F0\">lead</span> <span style=\"background-color: #FFD2D2\">intensive</span> <span style=\"background-color: #FFA3A3\">care</span> <span style=\"background-color: #FF6E6E\">nurse</span> <span style=\"background-color: #FF1C1C\">specialists</span> <span style=\"background-color: #FF9C9C\">,</span> <span style=\"background-color: #FF2020\">ward</span> <span style=\"background-color: #FF1111\">managers</span> <span style=\"background-color: #FF9C9C\">,</span> <span style=\"background-color: #FF2424\">iv</span> <span style=\"background-color: #FF0E0E\">teams</span> <span style=\"background-color: #FFF0F0\">,</span> <span style=\"background-color: #FF1919\">infection</span> <span style=\"background-color: #FF1E1E\">control</span> <span style=\"background-color: #FF2C2C\">teams</span> <span style=\"background-color: #FFE0E0\">,</span> <span style=\"background-color: #FF2424\">procurement</span> <span style=\"background-color: #FF5858\">sales</span> <span style=\"background-color: #FFFCFC\">specialist</span> <span style=\"background-color: #FFC3C3\">iv</span> <span style=\"background-color: #FF9090\">access</span> <span style=\"background-color: #FFF8F8\">and</span> <span style=\"background-color: #FFF4F4\">infusion</span> <span style=\"background-color: #FFC8C8\">candidates</span> <span style=\"background-color: #FFC3C3\">must</span> <span style=\"background-color: #FF5454\">be</span> <span style=\"background-color: #FF9C9C\">eligible</span> <span style=\"background-color: #FFBABA\">to</span> <span style=\"background-color: #FF6868\">work</span> <span style=\"background-color: #FFC6C6\">and</span> <span style=\"background-color: #FFBCBC\">live</span> <span style=\"background-color: #FFE8E8\">in</span> <span style=\"background-color: #EEEEFF\">the</span> <span style=\"background-color: #FFF8F8\">uk</span> <span style=\"background-color: #FFD2D2\">.</span> <span style=\"background-color: #FFC8C8\">please</span> <span style=\"background-color: #FFDCDC\">contact</span> <span style=\"background-color: #FFFEFE\">allan</span> <span style=\"background-color: #FFF2F2\">waller</span> <span style=\"background-color: #FFE0E0\">on</span> <span style=\"background-color: #FFF6F6\">****</span> <span style=\"background-color: #FFCACA\">****</span> <span style=\"background-color: #FFDCDC\">****</span> <span style=\"background-color: #FFCCCC\">or</span> <span style=\"background-color: #FFB0B0\">please</span> <span style=\"background-color: #FFD8D8\">hit</span> <span style=\"background-color: #FFF4F4\">the</span> <span style=\"background-color: #FFACAC\">apply</span> <span style=\"background-color: #FFE4E4\">button</span> <span style=\"background-color: #FFF8F8\">.</span> <span style=\"background-color: #FFD6D6\">this</span> <span style=\"background-color: #FFC6C6\">job</span> <span style=\"background-color: #FFC2C2\">was</span> <span style=\"background-color: #FFF2F2\">originally</span> <span style=\"background-color: #FFF8F8\">posted</span> <span style=\"background-color: #FFF4F4\">as</span> <span style=\"background-color: #FFD2D2\">www</span> <span style=\"background-color: #FFF6F6\">.</span> <span style=\"background-color: #FFA6A6\">salestarget</span> <span style=\"background-color: #FFCCCC\">.</span> <span style=\"background-color: #FFAAAA\">co</span> <span style=\"background-color: #FF7E7E\">.</span> <span style=\"background-color: #FF6C6C\">uk</span> <span style=\"background-color: #FF5454\">/</span> <span style=\"background-color: #FF0E0E\">jobseeking</span> <span style=\"background-color: #FF8080\">/</span> <span style=\"background-color: #FFFEFE\">UNK</span> <span style=\"background-color: #FF7E7E\">****</span></p>"
      ]
     },
     "metadata": {},
     "output_type": "display_data"
    }
   ],
   "execution_count": 113
  },
  {
   "cell_type": "code",
   "metadata": {
    "ExecuteTime": {
     "end_time": "2024-12-16T11:43:46.126591Z",
     "start_time": "2024-12-16T11:43:45.907833Z"
    }
   },
   "source": [
    "i = 12077\n",
    "tokens_and_weights = explain(model, data.loc[i], \"Title\")\n",
    "draw_html([(tok, weight * 5) for tok, weight in tokens_and_weights], font_style='font-size:20px;');\n",
    "\n",
    "tokens_and_weights = explain(model, data.loc[i], \"FullDescription\")\n",
    "draw_html([(tok, weight * 10) for tok, weight in tokens_and_weights]);"
   ],
   "outputs": [
    {
     "data": {
      "text/html": [
       "<p style=\"font-size:20px;\"><span style=\"background-color: #FF3939\">cleaning</span> <span style=\"background-color: #FF0000\">operative</span></p>"
      ]
     },
     "metadata": {},
     "output_type": "display_data"
    },
    {
     "data": {
      "text/html": [
       "<p style=\"font-size:14px;\"><span style=\"background-color: #FFF6F6\">12</span> <span style=\"background-color: #FFF4F4\">.</span> <span style=\"background-color: #FFC2C2\">5</span> <span style=\"background-color: #FFE0E0\">hours</span> <span style=\"background-color: #FFE4E4\">per</span> <span style=\"background-color: #FFE8E8\">week</span> <span style=\"background-color: #FFF0F0\">monday</span> <span style=\"background-color: #FFECEC\">friday</span> <span style=\"background-color: #FFF0F0\">9am</span> <span style=\"background-color: #FFE2E2\">11</span> <span style=\"background-color: #FFB2B2\">.</span> <span style=\"background-color: #FF8282\">30am</span> <span style=\"background-color: #FFB8B8\">duties</span> <span style=\"background-color: #FFCACA\">to</span> <span style=\"background-color: #FF3636\">include</span> <span style=\"background-color: #FF1818\">sweeping</span> <span style=\"background-color: #FF7E7E\">,</span> <span style=\"background-color: #FF1818\">mopping</span> <span style=\"background-color: #FF2929\">,</span> <span style=\"background-color: #FF0909\">vacuuming</span> <span style=\"background-color: #FF3838\">,</span> <span style=\"background-color: #FF0808\">buffing</span> <span style=\"background-color: #FFBCBC\">,</span> <span style=\"background-color: #FF3939\">cleaning</span> <span style=\"background-color: #FFB0B0\">staff</span> <span style=\"background-color: #FFBABA\">toilets</span> <span style=\"background-color: #FFD6D6\">and</span> <span style=\"background-color: #FFECEC\">rest</span> <span style=\"background-color: #FFA2A2\">room</span> <span style=\"background-color: #FFEEEE\">.</span> <span style=\"background-color: #FF8686\">must</span> <span style=\"background-color: #FF4949\">be</span> <span style=\"background-color: #FFA6A6\">able</span> <span style=\"background-color: #7979FF\">to</span> <span style=\"background-color: #FFD3D3\">read</span> <span style=\"background-color: #FFC2C2\">as</span> <span style=\"background-color: #FFCACA\">they</span> <span style=\"background-color: #FFD3D3\">will</span> <span style=\"background-color: #FF4444\">be</span> <span style=\"background-color: #FFA3A3\">using</span> <span style=\"background-color: #FFFEFE\">UNK</span> <span style=\"background-color: #FF2424\">which</span> <span style=\"background-color: #FF6060\">need</span> <span style=\"background-color: #FFFEFE\">UNK</span> <span style=\"background-color: #FFCECE\">as</span> <span style=\"background-color: #FF5E5E\">per</span> <span style=\"background-color: #FFBEBE\">instructions</span> <span style=\"background-color: #FFE4E4\">on</span> <span style=\"background-color: #DCDCFF\">the</span> <span style=\"background-color: #FFDADA\">containers</span> <span style=\"background-color: #FFBCBC\">.</span> <span style=\"background-color: #FFC8C8\">sucessfull</span> <span style=\"background-color: #FFDCDC\">applicants</span> <span style=\"background-color: #FFD2D2\">will</span> <span style=\"background-color: #FFCCCC\">be</span> <span style=\"background-color: #FFD0D0\">trained</span> <span style=\"background-color: #FFF8F8\">on</span> <span style=\"background-color: #FFCECE\">all</span> <span style=\"background-color: #FFD6D6\">electrical</span> <span style=\"background-color: #FF1C1C\">appliances</span> <span style=\"background-color: #FF8C8C\">and</span> <span style=\"background-color: #FFFEFE\">UNK</span> <span style=\"background-color: #FFD2D2\">of</span> <span style=\"background-color: #FF6E6E\">cleaning</span> <span style=\"background-color: #FF9C9C\">materials</span> <span style=\"background-color: #FFFEFE\">.</span></p>"
      ]
     },
     "metadata": {},
     "output_type": "display_data"
    }
   ],
   "execution_count": 114
  },
  {
   "cell_type": "code",
   "metadata": {
    "ExecuteTime": {
     "end_time": "2024-12-16T11:43:59.648200Z",
     "start_time": "2024-12-16T11:43:59.283965Z"
    }
   },
   "source": [
    "i = np.random.randint(len(data))\n",
    "print(\"Index:\", i)\n",
    "print(\"Salary (gbp):\", np.expm1(model.predict(make_batch(data.iloc[i: i+1]))[0, 0]))\n",
    "\n",
    "tokens_and_weights = explain(model, data.loc[i], \"Title\")\n",
    "draw_html([(tok, weight * 5) for tok, weight in tokens_and_weights], font_style='font-size:20px;');\n",
    "\n",
    "tokens_and_weights = explain(model, data.loc[i], \"FullDescription\")\n",
    "draw_html([(tok, weight * 10) for tok, weight in tokens_and_weights]);"
   ],
   "outputs": [
    {
     "name": "stdout",
     "output_type": "stream",
     "text": [
      "Index: 116688\n",
      "\u001B[1m1/1\u001B[0m \u001B[32m━━━━━━━━━━━━━━━━━━━━\u001B[0m\u001B[37m\u001B[0m \u001B[1m0s\u001B[0m 43ms/step\n",
      "Salary (gbp): 237.76245\n"
     ]
    },
    {
     "data": {
      "text/html": [
       "<p style=\"font-size:20px;\"><span style=\"background-color: #FF1616\">recruitment</span> <span style=\"background-color: #FF0606\">consultant</span></p>"
      ]
     },
     "metadata": {},
     "output_type": "display_data"
    },
    {
     "data": {
      "text/html": [
       "<p style=\"font-size:14px;\"><span style=\"background-color: #FF5151\">a</span> <span style=\"background-color: #FF2C2C\">global</span> <span style=\"background-color: #FF1C1C\">engineering</span> <span style=\"background-color: #FF2121\">recruitment</span> <span style=\"background-color: #FF3030\">company</span> <span style=\"background-color: #FF4040\">are</span> <span style=\"background-color: #FF7171\">looking</span> <span style=\"background-color: #FF4646\">for</span> <span style=\"background-color: #FF3131\">****</span> <span style=\"background-color: #FF1C1C\">recruitment</span> <span style=\"background-color: #FF2424\">consultants</span> <span style=\"background-color: #FF5151\">to</span> <span style=\"background-color: #FF3E3E\">join</span> <span style=\"background-color: #FF5E5E\">their</span> <span style=\"background-color: #FF4040\">team</span> <span style=\"background-color: #FF5050\">based</span> <span style=\"background-color: #FF3939\">in</span> <span style=\"background-color: #FF3939\">manchester</span> <span style=\"background-color: #FF2828\">.</span> <span style=\"background-color: #FF3939\">the</span> <span style=\"background-color: #FF2929\">successful</span> <span style=\"background-color: #FF2C2C\">candidate</span> <span style=\"background-color: #FF3030\">will</span> <span style=\"background-color: #FF2121\">inherit</span> <span style=\"background-color: #FF3838\">a</span> <span style=\"background-color: #FF0909\">warm</span> <span style=\"background-color: #FF3C3C\">desk</span> <span style=\"background-color: #FF3030\">with</span> <span style=\"background-color: #FF5151\">an</span> <span style=\"background-color: #FF3030\">existing</span> <span style=\"background-color: #FF1414\">candidate</span> <span style=\"background-color: #FF4040\">and</span> <span style=\"background-color: #FF2828\">client</span> <span style=\"background-color: #FF1E1E\">base</span> <span style=\"background-color: #FF3434\">.</span> <span style=\"background-color: #FF2626\">this</span> <span style=\"background-color: #FF2828\">is</span> <span style=\"background-color: #FF4949\">a</span> <span style=\"background-color: #FF1414\">busy</span> <span style=\"background-color: #FF2E2E\">desk</span> <span style=\"background-color: #FF3939\">which</span> <span style=\"background-color: #FF3C3C\">has</span> <span style=\"background-color: #FF3C3C\">historically</span> <span style=\"background-color: #FF4444\">been</span> <span style=\"background-color: #FF5050\">very</span> <span style=\"background-color: #FF3838\">successful</span> <span style=\"background-color: #FF2020\">so</span> <span style=\"background-color: #FF3636\">the</span> <span style=\"background-color: #FF2121\">role</span> <span style=\"background-color: #FF3939\">will</span> <span style=\"background-color: #FF1818\">involve</span> <span style=\"background-color: #FF1E1E\">elements</span> <span style=\"background-color: #FF4848\">of</span> <span style=\"background-color: #FF2E2E\">both</span> <span style=\"background-color: #FF2929\">account</span> <span style=\"background-color: #FF1E1E\">management</span> <span style=\"background-color: #FF4141\">and</span> <span style=\"background-color: #FF2121\">new</span> <span style=\"background-color: #FF2929\">business</span> <span style=\"background-color: #FF3939\">development</span> <span style=\"background-color: #FF3030\">.</span> <span style=\"background-color: #FF1818\">previous</span> <span style=\"background-color: #FF1010\">experience</span> <span style=\"background-color: #FF2020\">of</span> <span style=\"background-color: #FF1616\">working</span> <span style=\"background-color: #FF2020\">within</span> <span style=\"background-color: #FF2020\">the</span> <span style=\"background-color: #FF0C0C\">engineering</span> <span style=\"background-color: #FF2020\">/</span> <span style=\"background-color: #FF1C1C\">oil</span> <span style=\"background-color: #FF3434\">gas</span> <span style=\"background-color: #FF4141\">sector</span> <span style=\"background-color: #FF6161\">would</span> <span style=\"background-color: #FF3E3E\">be</span> <span style=\"background-color: #FF3434\">hugely</span> <span style=\"background-color: #FF3030\">advantageous</span> <span style=\"background-color: #FF2C2C\">.</span> <span style=\"background-color: #FF1414\">drive</span> <span style=\"background-color: #FF1818\">to</span> <span style=\"background-color: #FF1818\">achieve</span> <span style=\"background-color: #FF5656\">to</span> <span style=\"background-color: #FF2121\">achieve</span> <span style=\"background-color: #FF1111\">all</span> <span style=\"background-color: #FF0101\">annual</span> <span style=\"background-color: #FF1E1E\">,</span> <span style=\"background-color: #FF0000\">quarterly</span> <span style=\"background-color: #FF1010\">,</span> <span style=\"background-color: #FF0000\">monthly</span> <span style=\"background-color: #FF0C0C\">and</span> <span style=\"background-color: #FF3030\">weekly</span> <span style=\"background-color: #FF3838\">financial</span> <span style=\"background-color: #FF4444\">targets</span> <span style=\"background-color: #FF4949\">laid</span> <span style=\"background-color: #FF3131\">out</span> <span style=\"background-color: #FF3434\">by</span> <span style=\"background-color: #FF3C3C\">the</span> <span style=\"background-color: #FF2424\">business</span> <span style=\"background-color: #FF2929\">understand</span> <span style=\"background-color: #FF2626\">that</span> <span style=\"background-color: #FF4040\">the</span> <span style=\"background-color: #FF3131\">role</span> <span style=\"background-color: #FF3636\">is</span> <span style=\"background-color: #FF4040\">fast</span> <span style=\"background-color: #FF1616\">paced</span> <span style=\"background-color: #FF6464\">and</span> <span style=\"background-color: #FF2929\">target</span> <span style=\"background-color: #FF2C2C\">driven</span> <span style=\"background-color: #FF3636\">understand</span> <span style=\"background-color: #FF2020\">the</span> <span style=\"background-color: #FF1414\">company</span> <span style=\"background-color: #FF4646\">to</span> <span style=\"background-color: #FF1818\">be</span> <span style=\"background-color: #FF2929\">able</span> <span style=\"background-color: #FF3636\">to</span> <span style=\"background-color: #FF3E3E\">optimise</span> <span style=\"background-color: #FF2121\">all</span> <span style=\"background-color: #FF2626\">opportunities</span> <span style=\"background-color: #FF2E2E\">to</span> <span style=\"background-color: #FF2424\">sell</span> <span style=\"background-color: #FF5151\">the</span> <span style=\"background-color: #FF3131\">services</span> <span style=\"background-color: #FF3636\">structure</span> <span style=\"background-color: #FF1111\">daily</span> <span style=\"background-color: #FF5454\">and</span> <span style=\"background-color: #FF1414\">weekly</span> <span style=\"background-color: #FF1E1E\">activities</span> <span style=\"background-color: #FF4C4C\">to</span> <span style=\"background-color: #FF2828\">ensure</span> <span style=\"background-color: #FF3131\">targets</span> <span style=\"background-color: #FF4646\">are</span> <span style=\"background-color: #FF6C6C\">met</span> <span style=\"background-color: #FF5050\">or</span> <span style=\"background-color: #FF3E3E\">exceeded</span> <span style=\"background-color: #FF4949\">gain</span> <span style=\"background-color: #FF4949\">commitment</span> <span style=\"background-color: #FF4444\">from</span> <span style=\"background-color: #FF4646\">clients</span> <span style=\"background-color: #FF3C3C\">through</span> <span style=\"background-color: #FF4646\">regular</span> <span style=\"background-color: #FF3636\">sales</span> <span style=\"background-color: #FF1E1E\">calls</span> <span style=\"background-color: #FF3E3E\">and</span> <span style=\"background-color: #FF2929\">visits</span> <span style=\"background-color: #FF4646\">ensure</span> <span style=\"background-color: #FF3434\">that</span> <span style=\"background-color: #FF3939\">high</span> <span style=\"background-color: #FF1919\">levels</span> <span style=\"background-color: #FF5959\">of</span> <span style=\"background-color: #FF1010\">customer</span> <span style=\"background-color: #FF0404\">service</span> <span style=\"background-color: #FF1919\">(</span> <span style=\"background-color: #FF4949\">to</span> <span style=\"background-color: #FF2828\">both</span> <span style=\"background-color: #FF1E1E\">clients</span> <span style=\"background-color: #FF5454\">and</span> <span style=\"background-color: #FF1C1C\">candidates</span> <span style=\"background-color: #FF2929\">)</span> <span style=\"background-color: #FF3C3C\">are</span> <span style=\"background-color: #FF4E4E\">achieved</span> <span style=\"background-color: #FF4E4E\">at</span> <span style=\"background-color: #FF4E4E\">all</span> <span style=\"background-color: #FF3E3E\">times</span> <span style=\"background-color: #FF4848\">relationship</span> <span style=\"background-color: #FF2E2E\">building</span> <span style=\"background-color: #FF1616\">establish</span> <span style=\"background-color: #FF3C3C\">and</span> <span style=\"background-color: #FF2626\">maintain</span> <span style=\"background-color: #FF2E2E\">a</span> <span style=\"background-color: #FF1E1E\">professional</span> <span style=\"background-color: #FF2626\">working</span> <span style=\"background-color: #FF3030\">relationship</span> <span style=\"background-color: #FF4C4C\">with</span> <span style=\"background-color: #FF4444\">all</span> <span style=\"background-color: #FF1919\">clients</span> <span style=\"background-color: #FF4040\">and</span> <span style=\"background-color: #FF1818\">candidates</span> <span style=\"background-color: #FF4646\">.</span> <span style=\"background-color: #FF2E2E\">maintain</span> <span style=\"background-color: #FF2424\">high</span> <span style=\"background-color: #FF1919\">level</span> <span style=\"background-color: #FF5959\">of</span> <span style=\"background-color: #FF3030\">customer</span> <span style=\"background-color: #FF4646\">service</span> <span style=\"background-color: #FF3636\">at</span> <span style=\"background-color: #FF4E4E\">all</span> <span style=\"background-color: #FF2E2E\">times</span> <span style=\"background-color: #FF4848\">develop</span> <span style=\"background-color: #FF3030\">a</span> <span style=\"background-color: #FF1111\">detailed</span> <span style=\"background-color: #FF0C0C\">knowledge</span> <span style=\"background-color: #FF2020\">of</span> <span style=\"background-color: #FF2424\">the</span> <span style=\"background-color: #FF0808\">nature</span> <span style=\"background-color: #FF2828\">and</span> <span style=\"background-color: #FF0E0E\">culture</span> <span style=\"background-color: #FF4040\">of</span> <span style=\"background-color: #FF3434\">all</span> <span style=\"background-color: #FF4949\">clients</span> <span style=\"background-color: #FF4040\">businesses</span> <span style=\"background-color: #FF3838\">work</span> <span style=\"background-color: #FF5454\">closely</span> <span style=\"background-color: #FF2020\">with</span> <span style=\"background-color: #FF2626\">colleagues</span> <span style=\"background-color: #FF3C3C\">to</span> <span style=\"background-color: #FF1E1E\">achieve</span> <span style=\"background-color: #FF2E2E\">the</span> <span style=\"background-color: #FF0606\">objectives</span> <span style=\"background-color: #FF2424\">/</span> <span style=\"background-color: #FF0606\">targets</span> <span style=\"background-color: #FF2020\">of</span> <span style=\"background-color: #FF3434\">the</span> <span style=\"background-color: #FF2626\">branch</span> <span style=\"background-color: #FF3434\">maintain</span> <span style=\"background-color: #FF2828\">regular</span> <span style=\"background-color: #FF5656\">contact</span> <span style=\"background-color: #FF3131\">with</span> <span style=\"background-color: #FF3030\">candidates</span> <span style=\"background-color: #FF6060\">to</span> <span style=\"background-color: #FF4444\">continually</span> <span style=\"background-color: #FF3434\">assess</span> <span style=\"background-color: #FF0E0E\">their</span> <span style=\"background-color: #FF0404\">needs</span> <span style=\"background-color: #FF4141\">,</span> <span style=\"background-color: #FF0000\">establish</span> <span style=\"background-color: #FF0101\">their</span> <span style=\"background-color: #FF0404\">availability</span> <span style=\"background-color: #FF4444\">,</span> <span style=\"background-color: #FF0101\">give</span> <span style=\"background-color: #FF0C0C\">feedback</span> <span style=\"background-color: #FF5050\">on</span> <span style=\"background-color: #FF2121\">their</span> <span style=\"background-color: #FF2121\">performance</span> <span style=\"background-color: #FF4C4C\">and</span> <span style=\"background-color: #FF2C2C\">actively</span> <span style=\"background-color: #FF3838\">seek</span> <span style=\"background-color: #FF4444\">suitable</span> <span style=\"background-color: #FF5656\">work</span> <span style=\"background-color: #FF2828\">for</span> <span style=\"background-color: #FF1414\">them</span> <span style=\"background-color: #FF3030\">to</span> <span style=\"background-color: #FF3C3C\">ensure</span> <span style=\"background-color: #FF5C5C\">a</span> <span style=\"background-color: #FF1818\">quality</span> <span style=\"background-color: #FF2929\">service</span> <span style=\"background-color: #FF3434\">is</span> <span style=\"background-color: #FF2C2C\">provided</span> <span style=\"background-color: #FF1C1C\">establish</span> <span style=\"background-color: #FF4949\">and</span> <span style=\"background-color: #FF2828\">maintain</span> <span style=\"background-color: #FF2626\">good</span> <span style=\"background-color: #FF5C5C\">relationships</span> <span style=\"background-color: #FF5656\">with</span> <span style=\"background-color: #FF6464\">clients</span> <span style=\"background-color: #FF5858\">through</span> <span style=\"background-color: #FF2929\">regular</span> <span style=\"background-color: #FF0E0E\">telephone</span> <span style=\"background-color: #FF0404\">contact</span> <span style=\"background-color: #FF4E4E\">,</span> <span style=\"background-color: #FF0000\">visits</span> <span style=\"background-color: #FF1616\">and</span> <span style=\"background-color: #FF4646\">reviewing</span> <span style=\"background-color: #FF1414\">our</span> <span style=\"background-color: #FF1C1C\">service</span> <span style=\"background-color: #FF2424\">to</span> <span style=\"background-color: #FF3939\">ensure</span> <span style=\"background-color: #FF5C5C\">a</span> <span style=\"background-color: #FF1818\">quality</span> <span style=\"background-color: #FF2828\">service</span> <span style=\"background-color: #FF3131\">is</span> <span style=\"background-color: #FF4848\">provided</span> <span style=\"background-color: #FF4141\">at</span> <span style=\"background-color: #FF5C5C\">all</span> <span style=\"background-color: #FF3E3E\">times</span> <span style=\"background-color: #FF5151\">please</span> <span style=\"background-color: #FF4040\">submit</span> <span style=\"background-color: #FF3838\">your</span> <span style=\"background-color: #FF4C4C\">cv</span> <span style=\"background-color: #FF3838\">if</span> <span style=\"background-color: #FF4E4E\">this</span> <span style=\"background-color: #FF2828\">sounds</span> <span style=\"background-color: #FF2424\">like</span> <span style=\"background-color: #FF3030\">the</span> <span style=\"background-color: #FF4040\">role</span> <span style=\"background-color: #FF3636\">for</span> <span style=\"background-color: #FF3C3C\">you</span> <span style=\"background-color: #FF4040\">.</span> <span style=\"background-color: #FF3838\">hyphen</span> <span style=\"background-color: #FF3030\">limited</span> <span style=\"background-color: #FF5959\">is</span> <span style=\"background-color: #FF3C3C\">acting</span> <span style=\"background-color: #FF3434\">as</span> <span style=\"background-color: #FF2424\">an</span> <span style=\"background-color: #FF4040\">employment</span> <span style=\"background-color: #FF2020\">agency</span> <span style=\"background-color: #FF1616\">in</span> <span style=\"background-color: #FF3C3C\">relation</span> <span style=\"background-color: #FF3939\">to</span> <span style=\"background-color: #FF3434\">this</span> <span style=\"background-color: #FF3939\">vacancy</span> <span style=\"background-color: #FF7878\">.</span></p>"
      ]
     },
     "metadata": {},
     "output_type": "display_data"
    }
   ],
   "execution_count": 120
  },
  {
   "cell_type": "markdown",
   "metadata": {},
   "source": [
    "__Terrible start-up idea #1962:__ make a tool that automaticaly rephrases your job description (or CV) to meet salary expectations :)"
   ]
  }
 ],
 "metadata": {
  "kernelspec": {
   "display_name": "Python 3",
   "language": "python",
   "name": "python3"
  },
  "language_info": {
   "codemirror_mode": {
    "name": "ipython",
    "version": 3
   },
   "file_extension": ".py",
   "mimetype": "text/x-python",
   "name": "python",
   "nbconvert_exporter": "python",
   "pygments_lexer": "ipython3",
   "version": "3.8.1"
  }
 },
 "nbformat": 4,
 "nbformat_minor": 2
}
